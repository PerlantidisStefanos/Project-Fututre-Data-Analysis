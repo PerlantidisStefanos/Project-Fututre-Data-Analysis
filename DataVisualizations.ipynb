{
  "nbformat": 4,
  "nbformat_minor": 0,
  "metadata": {
    "colab": {
      "name": "DataVisualizations.ipynb",
      "provenance": [],
      "collapsed_sections": []
    },
    "kernelspec": {
      "name": "python3",
      "display_name": "Python 3"
    }
  },
  "cells": [
    {
      "cell_type": "markdown",
      "metadata": {
        "id": "hmLgAZbt5HJr",
        "colab_type": "text"
      },
      "source": [
        "#Some plots on the original data"
      ]
    },
    {
      "cell_type": "code",
      "metadata": {
        "id": "R3-zBxGKQZdZ",
        "colab_type": "code",
        "colab": {}
      },
      "source": [
        "import pandas as pd\n",
        "import numpy as np\n",
        "import matplotlib.pyplot as plt\n",
        "import seaborn as sns\n",
        "import matplotlib.pyplot as plt"
      ],
      "execution_count": 0,
      "outputs": []
    },
    {
      "cell_type": "code",
      "metadata": {
        "id": "1K4tlKJ4RY8b",
        "colab_type": "code",
        "colab": {}
      },
      "source": [
        "dev = pd.read_csv('devices.csv')\n",
        "notif = pd.read_csv('notifications.csv')\n",
        "users = pd.read_csv('users.csv')"
      ],
      "execution_count": 0,
      "outputs": []
    },
    {
      "cell_type": "markdown",
      "metadata": {
        "id": "dM8-k2cPY6a5",
        "colab_type": "text"
      },
      "source": [
        "# Devices [ ]"
      ]
    },
    {
      "cell_type": "code",
      "metadata": {
        "id": "7MomAZ1yRpV4",
        "colab_type": "code",
        "colab": {
          "base_uri": "https://localhost:8080/",
          "height": 204
        },
        "outputId": "2372fae9-c6c5-4925-a248-184e61dd0631"
      },
      "source": [
        "dev.sample(5)"
      ],
      "execution_count": 353,
      "outputs": [
        {
          "output_type": "execute_result",
          "data": {
            "text/html": [
              "<div>\n",
              "<style scoped>\n",
              "    .dataframe tbody tr th:only-of-type {\n",
              "        vertical-align: middle;\n",
              "    }\n",
              "\n",
              "    .dataframe tbody tr th {\n",
              "        vertical-align: top;\n",
              "    }\n",
              "\n",
              "    .dataframe thead th {\n",
              "        text-align: right;\n",
              "    }\n",
              "</style>\n",
              "<table border=\"1\" class=\"dataframe\">\n",
              "  <thead>\n",
              "    <tr style=\"text-align: right;\">\n",
              "      <th></th>\n",
              "      <th>brand</th>\n",
              "      <th>user_id</th>\n",
              "    </tr>\n",
              "  </thead>\n",
              "  <tbody>\n",
              "    <tr>\n",
              "      <th>12405</th>\n",
              "      <td>Android</td>\n",
              "      <td>user_12405</td>\n",
              "    </tr>\n",
              "    <tr>\n",
              "      <th>6679</th>\n",
              "      <td>Apple</td>\n",
              "      <td>user_6679</td>\n",
              "    </tr>\n",
              "    <tr>\n",
              "      <th>5140</th>\n",
              "      <td>Android</td>\n",
              "      <td>user_5140</td>\n",
              "    </tr>\n",
              "    <tr>\n",
              "      <th>11541</th>\n",
              "      <td>Android</td>\n",
              "      <td>user_11541</td>\n",
              "    </tr>\n",
              "    <tr>\n",
              "      <th>5732</th>\n",
              "      <td>Apple</td>\n",
              "      <td>user_5732</td>\n",
              "    </tr>\n",
              "  </tbody>\n",
              "</table>\n",
              "</div>"
            ],
            "text/plain": [
              "         brand     user_id\n",
              "12405  Android  user_12405\n",
              "6679     Apple   user_6679\n",
              "5140   Android   user_5140\n",
              "11541  Android  user_11541\n",
              "5732     Apple   user_5732"
            ]
          },
          "metadata": {
            "tags": []
          },
          "execution_count": 353
        }
      ]
    },
    {
      "cell_type": "code",
      "metadata": {
        "id": "u1RwS5DAVbJ_",
        "colab_type": "code",
        "colab": {
          "base_uri": "https://localhost:8080/",
          "height": 34
        },
        "outputId": "b7893ce6-8869-47cc-f48c-6debe6204fdc"
      },
      "source": [
        "brand_counts = dev['brand'].value_counts().to_dict()\n",
        "print (brand_counts)"
      ],
      "execution_count": 354,
      "outputs": [
        {
          "output_type": "stream",
          "text": [
            "{'Android': 7800, 'Apple': 7712, 'Unknown': 32}\n"
          ],
          "name": "stdout"
        }
      ]
    },
    {
      "cell_type": "code",
      "metadata": {
        "id": "fIZgnNcVR0w4",
        "colab_type": "code",
        "colab": {
          "base_uri": "https://localhost:8080/",
          "height": 466
        },
        "outputId": "97c8aa32-6974-4fa4-cff0-f9be8cb34eec"
      },
      "source": [
        "# Data to plot\n",
        "labels = 'Android', 'Apple', 'Unknown'\n",
        "sizes = [brand_counts[\"Android\"], brand_counts[\"Apple\"], brand_counts[\"Unknown\"]]\n",
        "colors = ['green', 'silver', 'gold']\n",
        "explode = (0.01, 0.01, 0.01)  \n",
        "\n",
        "# Plot\n",
        "plt.subplots(figsize=(8,8))\n",
        "plt.pie(sizes, explode=explode, labels=labels, colors=colors,\n",
        "autopct='%1.1f%%', shadow=True, startangle=45)\n",
        "\n",
        "plt.axis('equal')\n",
        "plt.show()"
      ],
      "execution_count": 355,
      "outputs": [
        {
          "output_type": "display_data",
          "data": {
            "image/png": "[encoded data removed]",
            "text/plain": [
              "<Figure size 576x576 with 1 Axes>"
            ]
          },
          "metadata": {
            "tags": []
          }
        }
      ]
    },
    {
      "cell_type": "markdown",
      "metadata": {
        "id": "THQE3UYxZK0j",
        "colab_type": "text"
      },
      "source": [
        "#Notifications [ ]"
      ]
    },
    {
      "cell_type": "code",
      "metadata": {
        "id": "LQ5fKgqBVK21",
        "colab_type": "code",
        "colab": {
          "base_uri": "https://localhost:8080/",
          "height": 204
        },
        "outputId": "066f29ed-3f72-41d5-dfcd-f1a582ff1f28"
      },
      "source": [
        "notif.sample(5)"
      ],
      "execution_count": 356,
      "outputs": [
        {
          "output_type": "execute_result",
          "data": {
            "text/html": [
              "<div>\n",
              "<style scoped>\n",
              "    .dataframe tbody tr th:only-of-type {\n",
              "        vertical-align: middle;\n",
              "    }\n",
              "\n",
              "    .dataframe tbody tr th {\n",
              "        vertical-align: top;\n",
              "    }\n",
              "\n",
              "    .dataframe thead th {\n",
              "        text-align: right;\n",
              "    }\n",
              "</style>\n",
              "<table border=\"1\" class=\"dataframe\">\n",
              "  <thead>\n",
              "    <tr style=\"text-align: right;\">\n",
              "      <th></th>\n",
              "      <th>reason</th>\n",
              "      <th>channel</th>\n",
              "      <th>status</th>\n",
              "      <th>user_id</th>\n",
              "      <th>created_date</th>\n",
              "    </tr>\n",
              "  </thead>\n",
              "  <tbody>\n",
              "    <tr>\n",
              "      <th>37376</th>\n",
              "      <td>JOINING_ANNIVERSARY</td>\n",
              "      <td>PUSH</td>\n",
              "      <td>SENT</td>\n",
              "      <td>user_5788</td>\n",
              "      <td>2019-01-13 15:53:55.712388</td>\n",
              "    </tr>\n",
              "    <tr>\n",
              "      <th>61992</th>\n",
              "      <td>NO_INITIAL_CARD_ORDER</td>\n",
              "      <td>EMAIL</td>\n",
              "      <td>FAILED</td>\n",
              "      <td>user_2115</td>\n",
              "      <td>2018-12-03 23:08:20.642899</td>\n",
              "    </tr>\n",
              "    <tr>\n",
              "      <th>87093</th>\n",
              "      <td>NO_INITIAL_CARD_USE</td>\n",
              "      <td>EMAIL</td>\n",
              "      <td>SENT</td>\n",
              "      <td>user_4123</td>\n",
              "      <td>2019-02-08 06:59:21.033085</td>\n",
              "    </tr>\n",
              "    <tr>\n",
              "      <th>48837</th>\n",
              "      <td>PROMO</td>\n",
              "      <td>EMAIL</td>\n",
              "      <td>SENT</td>\n",
              "      <td>user_4290</td>\n",
              "      <td>2019-02-19 09:35:03.074352</td>\n",
              "    </tr>\n",
              "    <tr>\n",
              "      <th>53282</th>\n",
              "      <td>NO_INITIAL_CARD_USE</td>\n",
              "      <td>EMAIL</td>\n",
              "      <td>SENT</td>\n",
              "      <td>user_10279</td>\n",
              "      <td>2018-03-23 19:09:30.330572</td>\n",
              "    </tr>\n",
              "  </tbody>\n",
              "</table>\n",
              "</div>"
            ],
            "text/plain": [
              "                      reason channel  ...     user_id                created_date\n",
              "37376    JOINING_ANNIVERSARY    PUSH  ...   user_5788  2019-01-13 15:53:55.712388\n",
              "61992  NO_INITIAL_CARD_ORDER   EMAIL  ...   user_2115  2018-12-03 23:08:20.642899\n",
              "87093    NO_INITIAL_CARD_USE   EMAIL  ...   user_4123  2019-02-08 06:59:21.033085\n",
              "48837                  PROMO   EMAIL  ...   user_4290  2019-02-19 09:35:03.074352\n",
              "53282    NO_INITIAL_CARD_USE   EMAIL  ...  user_10279  2018-03-23 19:09:30.330572\n",
              "\n",
              "[5 rows x 5 columns]"
            ]
          },
          "metadata": {
            "tags": []
          },
          "execution_count": 356
        }
      ]
    },
    {
      "cell_type": "code",
      "metadata": {
        "id": "_ny-iMHRZSXa",
        "colab_type": "code",
        "outputId": "72830f7b-d410-4a3b-a946-ca0149ffbe9e",
        "colab": {
          "base_uri": "https://localhost:8080/",
          "height": 54
        }
      },
      "source": [
        "reason_counts = notif['reason'].value_counts().to_dict()\n",
        "print (reason_counts)"
      ],
      "execution_count": 357,
      "outputs": [
        {
          "output_type": "stream",
          "text": [
            "{'REENGAGEMENT_ACTIVE_FUNDS': 28832, 'PROMO': 18987, 'NO_INITIAL_CARD_ORDER': 9071, 'NO_INITIAL_CARD_USE': 9035, 'INVEST_IN_GOLD': 6649, 'LOST_CARD_ORDER': 4941, 'PROMO_CARD_ORDER': 4358, 'JOINING_ANNIVERSARY': 3334, 'MADE_MONEY_REQUEST_NOT_SPLIT_BILL': 2851, 'ONBOARDING_TIPS_ACTIVATED_USERS': 2423, 'ENGAGEMENT_SPLIT_BILL_RESTAURANT': 1834, 'BLACK_FRIDAY': 1681, 'METAL_RESERVE_PLAN': 950, 'SILVER_ENGAGEMENT_INACTIVE_CARD': 896, 'WELCOME_BACK': 779, 'BLUE_TUESDAY': 555, 'SILVER_ENGAGEMENT_FEES_SAVED': 528}\n"
          ],
          "name": "stdout"
        }
      ]
    },
    {
      "cell_type": "code",
      "metadata": {
        "id": "MhvXLNRGn7Uw",
        "colab_type": "code",
        "outputId": "3231d250-0b71-4d76-c1f8-50783de9f851",
        "colab": {
          "base_uri": "https://localhost:8080/",
          "height": 306
        }
      },
      "source": [
        "pd.value_counts(notif['reason']).keys()\n",
        "for x in reason_counts:\n",
        "  print(reason_counts[x])"
      ],
      "execution_count": 358,
      "outputs": [
        {
          "output_type": "stream",
          "text": [
            "28832\n",
            "18987\n",
            "9071\n",
            "9035\n",
            "6649\n",
            "4941\n",
            "4358\n",
            "3334\n",
            "2851\n",
            "2423\n",
            "1834\n",
            "1681\n",
            "950\n",
            "896\n",
            "779\n",
            "555\n",
            "528\n"
          ],
          "name": "stdout"
        }
      ]
    },
    {
      "cell_type": "code",
      "metadata": {
        "id": "_Cxcdl6r4fsM",
        "colab_type": "code",
        "colab": {
          "base_uri": "https://localhost:8080/",
          "height": 517
        },
        "outputId": "67394bd0-9e9f-413b-dfb9-bc8d64bc805a"
      },
      "source": [
        "categories = ['REENGAGEMENT_ACTIVE_FUNDS', 'PROMO', 'NO_INITIAL_CARD_ORDER', 'NO_INITIAL_CARD_USE', 'INVEST_IN_GOLD', 'LOST_CARD_ORDER', 'PROMO_CARD_ORDER', 'JOINING_ANNIVERSARY', 'MADE_MONEY_REQUEST_NOT_SPLIT_BILL', 'ONBOARDING_TIPS_ACTIVATED_USERS', 'ENGAGEMENT_SPLIT_BILL_RESTAURANT', 'BLACK_FRIDAY', 'METAL_RESERVE_PLAN', 'SILVER_ENGAGEMENT_INACTIVE_CARD', 'WELCOME_BACK', 'BLUE_TUESDAY', 'SILVER_ENGAGEMENT_FEES_SAVED']\n",
        "performance = [28832, 18987, 9071, 9035, 6649, 4941, 4358, 3334, 2851, 2423, 1834, 1681, 950, 896, 779, 555, 528]\n",
        "plt.subplots(figsize=(13,5))\n",
        "plt.xticks(rotation='vertical')\n",
        "plt.bar(categories, performance)\n",
        "plt.show()"
      ],
      "execution_count": 359,
      "outputs": [
        {
          "output_type": "display_data",
          "data": {
            "image/png": "[encoded data removed]",
            "text/plain": [
              "<Figure size 936x360 with 1 Axes>"
            ]
          },
          "metadata": {
            "tags": [],
            "needs_background": "light"
          }
        }
      ]
    },
    {
      "cell_type": "code",
      "metadata": {
        "id": "C2otOScXZkR1",
        "colab_type": "code",
        "colab": {
          "base_uri": "https://localhost:8080/",
          "height": 34
        },
        "outputId": "165899dd-c288-4a79-f95d-0ff1b91f4cd9"
      },
      "source": [
        "channel_counts = notif['channel'].value_counts().to_dict()\n",
        "print (channel_counts)"
      ],
      "execution_count": 360,
      "outputs": [
        {
          "output_type": "stream",
          "text": [
            "{'EMAIL': 49149, 'PUSH': 46244, 'SMS': 2311}\n"
          ],
          "name": "stdout"
        }
      ]
    },
    {
      "cell_type": "code",
      "metadata": {
        "id": "irVNC4IobZga",
        "colab_type": "code",
        "colab": {
          "base_uri": "https://localhost:8080/",
          "height": 466
        },
        "outputId": "e4efa6e9-5a36-4290-982b-c79f8fa8fcf6"
      },
      "source": [
        "# Data to plot\n",
        "labels = 'EMAIL', 'PUSH', 'SMS'\n",
        "sizes = [channel_counts[\"EMAIL\"], channel_counts[\"PUSH\"], channel_counts[\"SMS\"]]\n",
        "colors = ['green', 'silver', 'gold']\n",
        "explode = (0.01, 0.01, 0.01)  \n",
        "\n",
        "# Plot\n",
        "plt.subplots(figsize=(8,8))\n",
        "plt.pie(sizes, explode=explode, labels=labels, colors=colors,\n",
        "autopct='%1.1f%%', shadow=True, startangle=45)\n",
        "\n",
        "plt.axis('equal')\n",
        "plt.show()"
      ],
      "execution_count": 361,
      "outputs": [
        {
          "output_type": "display_data",
          "data": {
            "image/png": "[encoded data removed]",
            "text/plain": [
              "<Figure size 576x576 with 1 Axes>"
            ]
          },
          "metadata": {
            "tags": []
          }
        }
      ]
    },
    {
      "cell_type": "code",
      "metadata": {
        "id": "9fcNcbH3Z408",
        "colab_type": "code",
        "colab": {
          "base_uri": "https://localhost:8080/",
          "height": 34
        },
        "outputId": "933933c2-987f-4149-e05c-cd013b3fb80a"
      },
      "source": [
        "status_counts = notif['status'].value_counts().to_dict()\n",
        "print (status_counts)"
      ],
      "execution_count": 362,
      "outputs": [
        {
          "output_type": "stream",
          "text": [
            "{'SENT': 71693, 'FAILED': 26011}\n"
          ],
          "name": "stdout"
        }
      ]
    },
    {
      "cell_type": "code",
      "metadata": {
        "id": "lYB0r9-rZ78W",
        "colab_type": "code",
        "colab": {
          "base_uri": "https://localhost:8080/",
          "height": 265
        },
        "outputId": "3c887463-04e5-4412-e695-7c9a6fe8c140"
      },
      "source": [
        "objects = ('SENT', 'FAILED')\n",
        "performance = [status_counts[\"SENT\"], status_counts[\"FAILED\"]]\n",
        "plt.bar(objects, performance,)\n",
        "plt.show()"
      ],
      "execution_count": 363,
      "outputs": [
        {
          "output_type": "display_data",
          "data": {
            "image/png": "[encoded data removed]",
            "text/plain": [
              "<Figure size 432x288 with 1 Axes>"
            ]
          },
          "metadata": {
            "tags": [],
            "needs_background": "light"
          }
        }
      ]
    },
    {
      "cell_type": "markdown",
      "metadata": {
        "id": "Dg8nG-eb49hA",
        "colab_type": "text"
      },
      "source": [
        "#Users[ ]"
      ]
    },
    {
      "cell_type": "code",
      "metadata": {
        "id": "8hSta6cF5DBi",
        "colab_type": "code",
        "colab": {
          "base_uri": "https://localhost:8080/",
          "height": 549
        },
        "outputId": "e3da99f8-acd6-40c3-c9a6-d54ee2de0e88"
      },
      "source": [
        "users.sample(10)"
      ],
      "execution_count": 364,
      "outputs": [
        {
          "output_type": "execute_result",
          "data": {
            "text/html": [
              "<div>\n",
              "<style scoped>\n",
              "    .dataframe tbody tr th:only-of-type {\n",
              "        vertical-align: middle;\n",
              "    }\n",
              "\n",
              "    .dataframe tbody tr th {\n",
              "        vertical-align: top;\n",
              "    }\n",
              "\n",
              "    .dataframe thead th {\n",
              "        text-align: right;\n",
              "    }\n",
              "</style>\n",
              "<table border=\"1\" class=\"dataframe\">\n",
              "  <thead>\n",
              "    <tr style=\"text-align: right;\">\n",
              "      <th></th>\n",
              "      <th>user_id</th>\n",
              "      <th>birth_year</th>\n",
              "      <th>country</th>\n",
              "      <th>city</th>\n",
              "      <th>created_date</th>\n",
              "      <th>user_settings_crypto_unlocked</th>\n",
              "      <th>plan</th>\n",
              "      <th>attributes_notifications_marketing_push</th>\n",
              "      <th>attributes_notifications_marketing_email</th>\n",
              "      <th>num_contacts</th>\n",
              "      <th>num_referrals</th>\n",
              "      <th>num_successful_referrals</th>\n",
              "    </tr>\n",
              "  </thead>\n",
              "  <tbody>\n",
              "    <tr>\n",
              "      <th>11582</th>\n",
              "      <td>user_11582</td>\n",
              "      <td>1987</td>\n",
              "      <td>GB</td>\n",
              "      <td>London</td>\n",
              "      <td>2018-08-15 16:40:15.363426</td>\n",
              "      <td>1</td>\n",
              "      <td>SILVER</td>\n",
              "      <td>1.0</td>\n",
              "      <td>1.0</td>\n",
              "      <td>20</td>\n",
              "      <td>0</td>\n",
              "      <td>0</td>\n",
              "    </tr>\n",
              "    <tr>\n",
              "      <th>7432</th>\n",
              "      <td>user_7432</td>\n",
              "      <td>1958</td>\n",
              "      <td>ES</td>\n",
              "      <td>La pineda</td>\n",
              "      <td>2018-08-31 23:42:36.676787</td>\n",
              "      <td>0</td>\n",
              "      <td>STANDARD</td>\n",
              "      <td>1.0</td>\n",
              "      <td>1.0</td>\n",
              "      <td>0</td>\n",
              "      <td>0</td>\n",
              "      <td>0</td>\n",
              "    </tr>\n",
              "    <tr>\n",
              "      <th>1566</th>\n",
              "      <td>user_1566</td>\n",
              "      <td>1996</td>\n",
              "      <td>PL</td>\n",
              "      <td>Skórzec</td>\n",
              "      <td>2018-12-01 20:34:52.254413</td>\n",
              "      <td>1</td>\n",
              "      <td>STANDARD</td>\n",
              "      <td>1.0</td>\n",
              "      <td>1.0</td>\n",
              "      <td>9</td>\n",
              "      <td>0</td>\n",
              "      <td>0</td>\n",
              "    </tr>\n",
              "    <tr>\n",
              "      <th>10970</th>\n",
              "      <td>user_10970</td>\n",
              "      <td>1979</td>\n",
              "      <td>LT</td>\n",
              "      <td>Kaunas</td>\n",
              "      <td>2018-03-08 10:07:40.988612</td>\n",
              "      <td>0</td>\n",
              "      <td>STANDARD</td>\n",
              "      <td>NaN</td>\n",
              "      <td>NaN</td>\n",
              "      <td>0</td>\n",
              "      <td>0</td>\n",
              "      <td>0</td>\n",
              "    </tr>\n",
              "    <tr>\n",
              "      <th>326</th>\n",
              "      <td>user_326</td>\n",
              "      <td>1992</td>\n",
              "      <td>FR</td>\n",
              "      <td>Paris</td>\n",
              "      <td>2018-03-01 09:31:09.493994</td>\n",
              "      <td>0</td>\n",
              "      <td>STANDARD</td>\n",
              "      <td>1.0</td>\n",
              "      <td>1.0</td>\n",
              "      <td>0</td>\n",
              "      <td>0</td>\n",
              "      <td>0</td>\n",
              "    </tr>\n",
              "    <tr>\n",
              "      <th>6047</th>\n",
              "      <td>user_6047</td>\n",
              "      <td>1984</td>\n",
              "      <td>GB</td>\n",
              "      <td>Blackwood</td>\n",
              "      <td>2018-03-11 20:39:06.574656</td>\n",
              "      <td>0</td>\n",
              "      <td>STANDARD</td>\n",
              "      <td>NaN</td>\n",
              "      <td>NaN</td>\n",
              "      <td>0</td>\n",
              "      <td>0</td>\n",
              "      <td>0</td>\n",
              "    </tr>\n",
              "    <tr>\n",
              "      <th>7539</th>\n",
              "      <td>user_7539</td>\n",
              "      <td>1975</td>\n",
              "      <td>ES</td>\n",
              "      <td>Madrid</td>\n",
              "      <td>2018-08-03 12:32:34.826979</td>\n",
              "      <td>0</td>\n",
              "      <td>STANDARD</td>\n",
              "      <td>NaN</td>\n",
              "      <td>NaN</td>\n",
              "      <td>11</td>\n",
              "      <td>0</td>\n",
              "      <td>0</td>\n",
              "    </tr>\n",
              "    <tr>\n",
              "      <th>13529</th>\n",
              "      <td>user_13529</td>\n",
              "      <td>1988</td>\n",
              "      <td>PL</td>\n",
              "      <td>Warszawa</td>\n",
              "      <td>2018-03-05 01:52:04.390923</td>\n",
              "      <td>0</td>\n",
              "      <td>STANDARD</td>\n",
              "      <td>1.0</td>\n",
              "      <td>1.0</td>\n",
              "      <td>65</td>\n",
              "      <td>0</td>\n",
              "      <td>0</td>\n",
              "    </tr>\n",
              "    <tr>\n",
              "      <th>1638</th>\n",
              "      <td>user_1638</td>\n",
              "      <td>1973</td>\n",
              "      <td>PL</td>\n",
              "      <td>Sieraków</td>\n",
              "      <td>2018-12-03 11:09:55.245303</td>\n",
              "      <td>0</td>\n",
              "      <td>STANDARD</td>\n",
              "      <td>NaN</td>\n",
              "      <td>NaN</td>\n",
              "      <td>2</td>\n",
              "      <td>0</td>\n",
              "      <td>0</td>\n",
              "    </tr>\n",
              "    <tr>\n",
              "      <th>12693</th>\n",
              "      <td>user_12693</td>\n",
              "      <td>1969</td>\n",
              "      <td>PL</td>\n",
              "      <td>Warszawa</td>\n",
              "      <td>2018-05-05 22:56:40.732405</td>\n",
              "      <td>0</td>\n",
              "      <td>STANDARD</td>\n",
              "      <td>NaN</td>\n",
              "      <td>NaN</td>\n",
              "      <td>9</td>\n",
              "      <td>0</td>\n",
              "      <td>0</td>\n",
              "    </tr>\n",
              "  </tbody>\n",
              "</table>\n",
              "</div>"
            ],
            "text/plain": [
              "          user_id  birth_year  ... num_referrals num_successful_referrals\n",
              "11582  user_11582        1987  ...             0                        0\n",
              "7432    user_7432        1958  ...             0                        0\n",
              "1566    user_1566        1996  ...             0                        0\n",
              "10970  user_10970        1979  ...             0                        0\n",
              "326      user_326        1992  ...             0                        0\n",
              "6047    user_6047        1984  ...             0                        0\n",
              "7539    user_7539        1975  ...             0                        0\n",
              "13529  user_13529        1988  ...             0                        0\n",
              "1638    user_1638        1973  ...             0                        0\n",
              "12693  user_12693        1969  ...             0                        0\n",
              "\n",
              "[10 rows x 12 columns]"
            ]
          },
          "metadata": {
            "tags": []
          },
          "execution_count": 364
        }
      ]
    },
    {
      "cell_type": "code",
      "metadata": {
        "id": "rvHEGZfh5-jR",
        "colab_type": "code",
        "colab": {
          "base_uri": "https://localhost:8080/",
          "height": 255
        },
        "outputId": "8a51a403-2a97-4cab-fb0a-d6b5293b68f7"
      },
      "source": [
        "df = pd.DataFrame(users['birth_year'].value_counts())\n",
        "y = df.sort_index()\n",
        "print(y)"
      ],
      "execution_count": 365,
      "outputs": [
        {
          "output_type": "stream",
          "text": [
            "      birth_year\n",
            "1929           1\n",
            "1930           1\n",
            "1934           3\n",
            "1935           1\n",
            "1937           3\n",
            "...          ...\n",
            "1997         423\n",
            "1998         316\n",
            "1999         277\n",
            "2000         188\n",
            "2001           9\n",
            "\n",
            "[69 rows x 1 columns]\n"
          ],
          "name": "stdout"
        }
      ]
    },
    {
      "cell_type": "code",
      "metadata": {
        "id": "GgavphtP5_Wz",
        "colab_type": "code",
        "colab": {
          "base_uri": "https://localhost:8080/",
          "height": 85
        },
        "outputId": "3484164a-8667-487e-e86b-a1624ed5ab73"
      },
      "source": [
        "y = y.to_numpy().T\n",
        "print(y)"
      ],
      "execution_count": 366,
      "outputs": [
        {
          "output_type": "stream",
          "text": [
            "[[  1   1   3   1   3   1   2   3   6   4   9  10  11  14  23  21  24  37\n",
            "   28  36  36  57  51  52  58  76  87  85 118 100 107 124 155 127 161 174\n",
            "  178 193 193 218 224 244 267 270 298 310 340 357 369 442 469 479 546 613\n",
            "  645 680 689 670 668 748 679 627 599 510 423 316 277 188   9]]\n"
          ],
          "name": "stdout"
        }
      ]
    },
    {
      "cell_type": "code",
      "metadata": {
        "id": "mvy-WhbFeSne",
        "colab_type": "code",
        "colab": {}
      },
      "source": [
        ""
      ],
      "execution_count": 0,
      "outputs": []
    },
    {
      "cell_type": "code",
      "metadata": {
        "id": "uIwFyiAgd9DR",
        "colab_type": "code",
        "colab": {
          "base_uri": "https://localhost:8080/",
          "height": 54
        },
        "outputId": "2c3f8eaa-60d2-494d-e73b-73855e4badd3"
      },
      "source": [
        "categories =[1992, 1989, 1988, 1993, 1990, 1991, 1987, 1994, 1986, 1995, 1985,\n",
        "            1996, 1984, 1983, 1982, 1997, 1981, 1980, 1979, 1998, 1978, 1977,\n",
        "            1999, 1976, 1975, 1974, 1973, 1972, 1971, 1970, 2000, 1969, 1968,\n",
        "            1967, 1965, 1966, 1964, 1961, 1963, 1962, 1959, 1960, 1958, 1957,\n",
        "            1954, 1956, 1955, 1950, 1953, 1952, 1951, 1949, 1947, 1948, 1946,\n",
        "            1945, 1944, 1943, 2001, 1941, 1942, 1937, 1940, 1934, 1939, 1929,\n",
        "            1930, 1938, 1935]\n",
        "for i in range(0,len(categories)):\n",
        "  categories[i] = 2020 - categories[i] \n",
        "categories.sort(reverse = True)\n",
        "print (categories)"
      ],
      "execution_count": 386,
      "outputs": [
        {
          "output_type": "stream",
          "text": [
            "[91, 90, 86, 85, 83, 82, 81, 80, 79, 78, 77, 76, 75, 74, 73, 72, 71, 70, 69, 68, 67, 66, 65, 64, 63, 62, 61, 60, 59, 58, 57, 56, 55, 54, 53, 52, 51, 50, 49, 48, 47, 46, 45, 44, 43, 42, 41, 40, 39, 38, 37, 36, 35, 34, 33, 32, 31, 30, 29, 28, 27, 26, 25, 24, 23, 22, 21, 20, 19]\n"
          ],
          "name": "stdout"
        }
      ]
    },
    {
      "cell_type": "code",
      "metadata": {
        "id": "sahKN_AM6WpA",
        "colab_type": "code",
        "colab": {
          "base_uri": "https://localhost:8080/",
          "height": 322
        },
        "outputId": "a87e7e4b-8338-464e-fa75-1d17f4ab7a36"
      },
      "source": [
        "performance = [  1,   1,   3,   1,   3,   1,   2,   3,   6,   4,   9,  10,  11,  14,  23,  21,  24,  37,\n",
        "   28,  36,  36,  57,  51,  52,  58,  76,  87,  85, 118, 100, 107, 124, 155, 127, 161, 174,\n",
        "  178, 193, 193, 218, 224, 244, 267, 270, 298, 310, 340, 357, 369, 442, 469, 479, 546, 613,\n",
        "  645, 680, 689, 670, 668, 748, 679, 627, 599, 510, 423, 316, 277, 188,   9]\n",
        "plt.subplots(figsize=(18,5))\n",
        "plt.xticks(rotation='vertical')\n",
        "plt.bar(categories, performance)\n",
        "plt.show()"
      ],
      "execution_count": 387,
      "outputs": [
        {
          "output_type": "display_data",
          "data": {
            "image/png": "[encoded data removed]",
            "text/plain": [
              "<Figure size 1296x360 with 1 Axes>"
            ]
          },
          "metadata": {
            "tags": [],
            "needs_background": "light"
          }
        }
      ]
    },
    {
      "cell_type": "code",
      "metadata": {
        "id": "hWusJkzWgSee",
        "colab_type": "code",
        "colab": {
          "base_uri": "https://localhost:8080/",
          "height": 309
        },
        "outputId": "8347299f-a0eb-41b1-c8af-b6ee903fb157"
      },
      "source": [
        "users3 = users.copy()\n",
        "users3['birth_year'] = 2020 - users3['birth_year']\n",
        "users3.sample(5)\n"
      ],
      "execution_count": 372,
      "outputs": [
        {
          "output_type": "execute_result",
          "data": {
            "text/html": [
              "<div>\n",
              "<style scoped>\n",
              "    .dataframe tbody tr th:only-of-type {\n",
              "        vertical-align: middle;\n",
              "    }\n",
              "\n",
              "    .dataframe tbody tr th {\n",
              "        vertical-align: top;\n",
              "    }\n",
              "\n",
              "    .dataframe thead th {\n",
              "        text-align: right;\n",
              "    }\n",
              "</style>\n",
              "<table border=\"1\" class=\"dataframe\">\n",
              "  <thead>\n",
              "    <tr style=\"text-align: right;\">\n",
              "      <th></th>\n",
              "      <th>user_id</th>\n",
              "      <th>birth_year</th>\n",
              "      <th>country</th>\n",
              "      <th>city</th>\n",
              "      <th>created_date</th>\n",
              "      <th>user_settings_crypto_unlocked</th>\n",
              "      <th>plan</th>\n",
              "      <th>attributes_notifications_marketing_push</th>\n",
              "      <th>attributes_notifications_marketing_email</th>\n",
              "      <th>num_contacts</th>\n",
              "      <th>num_referrals</th>\n",
              "      <th>num_successful_referrals</th>\n",
              "    </tr>\n",
              "  </thead>\n",
              "  <tbody>\n",
              "    <tr>\n",
              "      <th>9851</th>\n",
              "      <td>user_9851</td>\n",
              "      <td>33</td>\n",
              "      <td>GB</td>\n",
              "      <td>Glasgow</td>\n",
              "      <td>2018-08-21 21:51:06.880965</td>\n",
              "      <td>0</td>\n",
              "      <td>SILVER</td>\n",
              "      <td>0.0</td>\n",
              "      <td>0.0</td>\n",
              "      <td>0</td>\n",
              "      <td>0</td>\n",
              "      <td>0</td>\n",
              "    </tr>\n",
              "    <tr>\n",
              "      <th>10059</th>\n",
              "      <td>user_10059</td>\n",
              "      <td>40</td>\n",
              "      <td>GB</td>\n",
              "      <td>London</td>\n",
              "      <td>2018-09-15 07:48:42.566011</td>\n",
              "      <td>0</td>\n",
              "      <td>STANDARD</td>\n",
              "      <td>1.0</td>\n",
              "      <td>1.0</td>\n",
              "      <td>0</td>\n",
              "      <td>0</td>\n",
              "      <td>0</td>\n",
              "    </tr>\n",
              "    <tr>\n",
              "      <th>14984</th>\n",
              "      <td>user_14984</td>\n",
              "      <td>27</td>\n",
              "      <td>PL</td>\n",
              "      <td>Żórawina</td>\n",
              "      <td>2018-05-12 07:12:18.293114</td>\n",
              "      <td>0</td>\n",
              "      <td>STANDARD</td>\n",
              "      <td>1.0</td>\n",
              "      <td>1.0</td>\n",
              "      <td>4</td>\n",
              "      <td>0</td>\n",
              "      <td>0</td>\n",
              "    </tr>\n",
              "    <tr>\n",
              "      <th>12434</th>\n",
              "      <td>user_12434</td>\n",
              "      <td>26</td>\n",
              "      <td>SI</td>\n",
              "      <td>Maribor</td>\n",
              "      <td>2018-12-20 02:30:09.995282</td>\n",
              "      <td>0</td>\n",
              "      <td>STANDARD</td>\n",
              "      <td>NaN</td>\n",
              "      <td>NaN</td>\n",
              "      <td>16</td>\n",
              "      <td>0</td>\n",
              "      <td>0</td>\n",
              "    </tr>\n",
              "    <tr>\n",
              "      <th>8584</th>\n",
              "      <td>user_8584</td>\n",
              "      <td>37</td>\n",
              "      <td>GB</td>\n",
              "      <td>Dorchester</td>\n",
              "      <td>2018-08-17 15:05:59.198641</td>\n",
              "      <td>0</td>\n",
              "      <td>STANDARD</td>\n",
              "      <td>1.0</td>\n",
              "      <td>1.0</td>\n",
              "      <td>37</td>\n",
              "      <td>0</td>\n",
              "      <td>0</td>\n",
              "    </tr>\n",
              "  </tbody>\n",
              "</table>\n",
              "</div>"
            ],
            "text/plain": [
              "          user_id  birth_year  ... num_referrals num_successful_referrals\n",
              "9851    user_9851          33  ...             0                        0\n",
              "10059  user_10059          40  ...             0                        0\n",
              "14984  user_14984          27  ...             0                        0\n",
              "12434  user_12434          26  ...             0                        0\n",
              "8584    user_8584          37  ...             0                        0\n",
              "\n",
              "[5 rows x 12 columns]"
            ]
          },
          "metadata": {
            "tags": []
          },
          "execution_count": 372
        }
      ]
    },
    {
      "cell_type": "code",
      "metadata": {
        "id": "9B4WSjPdnQ1C",
        "colab_type": "code",
        "colab": {
          "base_uri": "https://localhost:8080/",
          "height": 503
        },
        "outputId": "b5131bb2-3e7e-41d7-fab7-694e0d2b16a3"
      },
      "source": [
        "plt.subplots(figsize=(18,8))\n",
        "sns.barplot(x='country', y='birth_year', hue='plan', data=users3)\n",
        "plt.xticks(rotation='vertical')\n",
        "plt.show()"
      ],
      "execution_count": 373,
      "outputs": [
        {
          "output_type": "display_data",
          "data": {
            "image/png": "[encoded data removed]",
            "text/plain": [
              "<Figure size 1296x576 with 1 Axes>"
            ]
          },
          "metadata": {
            "tags": [],
            "needs_background": "light"
          }
        }
      ]
    }
  ]
}