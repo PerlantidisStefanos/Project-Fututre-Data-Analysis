{
  "nbformat": 4,
  "nbformat_minor": 0,
  "metadata": {
    "colab": {
      "name": "Users_first_sample.ipynb",
      "provenance": [],
      "collapsed_sections": [
        "2NK2EKmiDcsA"
      ]
    },
    "kernelspec": {
      "name": "python3",
      "display_name": "Python 3"
    }
  },
  "cells": [
    {
      "cell_type": "code",
      "metadata": {
        "id": "gUcXv0RpmeBA",
        "colab_type": "code",
        "colab": {}
      },
      "source": [
        "import pandas as pd\n",
        "import numpy as np\n",
        "import matplotlib.pyplot as plt\n",
        "import seaborn as sns"
      ],
      "execution_count": 0,
      "outputs": []
    },
    {
      "cell_type": "code",
      "metadata": {
        "id": "OlQChLaJmznk",
        "colab_type": "code",
        "colab": {}
      },
      "source": [
        "dev= pd.read_csv('devices.csv')\n",
        "tr1= pd.read_csv('transactions_1.csv')\n",
        "tr2= pd.read_csv('transactions_2.csv')\n",
        "tr3= pd.read_csv('transactions_3.csv')\n",
        "users = pd.read_csv('users.csv')\n",
        "notif = pd.read_csv('notifications.csv')\n",
        "trans= pd.concat([tr1, tr2, tr3])#all transactions in one dataframe"
      ],
      "execution_count": 0,
      "outputs": []
    },
    {
      "cell_type": "markdown",
      "metadata": {
        "id": "AtlGOtX516_7",
        "colab_type": "text"
      },
      "source": [
        "#users table"
      ]
    },
    {
      "cell_type": "code",
      "metadata": {
        "id": "S-N_IWGZm3O4",
        "colab_type": "code",
        "colab": {}
      },
      "source": [
        "users['brands']=dev['brand']#h sthlh brands apo ta devices is added to users table\n",
        "#ginontai ta unknown stoixeia tyxaia Android, Apple\n",
        "import random\n",
        "def change_unknown_device(brand):\n",
        "  if  brand== 'Unknown':\n",
        "    return random.sample(['Android', 'Apple'], 1)[0]\n",
        "  else:\n",
        "    return brand\n",
        "users['brands']=users['brands'].apply(change_unknown_device)\n"
      ],
      "execution_count": 0,
      "outputs": []
    },
    {
      "cell_type": "code",
      "metadata": {
        "id": "A_SESz-bnml0",
        "colab_type": "code",
        "colab": {}
      },
      "source": [
        "users['age']=2019 - users['birth_year']#sthlh age anti gia birth_year"
      ],
      "execution_count": 0,
      "outputs": []
    },
    {
      "cell_type": "code",
      "metadata": {
        "id": "CriuvYYZnx9J",
        "colab_type": "code",
        "colab": {}
      },
      "source": [
        "users['plan']=users['plan'].apply(lambda x: 'PAID' if x!=\"STANDARD\" else x)#h sthlh pairnei pleon standard h paid stoixeia"
      ],
      "execution_count": 0,
      "outputs": []
    },
    {
      "cell_type": "code",
      "metadata": {
        "id": "ty8l1G-l0uo0",
        "colab_type": "code",
        "colab": {}
      },
      "source": [
        "users['month']=pd.DatetimeIndex(users['created_date']).month\n",
        "users['year']=pd.DatetimeIndex(users['created_date']).year\n",
        "users['duration']=users.apply(lambda x: 18-x['month'] if x['year']==2018 else 6-x['month'], axis=1)"
      ],
      "execution_count": 0,
      "outputs": []
    },
    {
      "cell_type": "markdown",
      "metadata": {
        "id": "DzWmDvim2AFh",
        "colab_type": "text"
      },
      "source": [
        "#transactions table\n",
        "-------------------"
      ]
    },
    {
      "cell_type": "code",
      "metadata": {
        "id": "QBtpFLjc1KXD",
        "colab_type": "code",
        "colab": {}
      },
      "source": [
        "trans=trans[trans['transactions_state']=='COMPLETED']#kratame mono ta completed transactions"
      ],
      "execution_count": 0,
      "outputs": []
    },
    {
      "cell_type": "code",
      "metadata": {
        "id": "RH8zWu3x1KSL",
        "colab_type": "code",
        "colab": {}
      },
      "source": [
        "number_of_trans=pd.DataFrame(trans.user_id.value_counts())#amount of transactions per user\n",
        "number_of_trans.rename(columns={'user_id':'total_amount_of_transactions'},inplace=True)\n",
        "users=pd.merge(users , number_of_trans, how='left', left_on='user_id', right_index=True)#h sthlg amount_of_transactions is joined sto users"
      ],
      "execution_count": 0,
      "outputs": []
    },
    {
      "cell_type": "code",
      "metadata": {
        "id": "lo53NR0T6aU4",
        "colab_type": "code",
        "colab": {}
      },
      "source": [
        "trans_out=trans[trans['direction']=='OUTBOUND']\n",
        "trans_in=trans[trans['direction']=='INBOUND']"
      ],
      "execution_count": 0,
      "outputs": []
    },
    {
      "cell_type": "code",
      "metadata": {
        "id": "v6FDRoax6aYG",
        "colab_type": "code",
        "colab": {}
      },
      "source": [
        "usd_per_user_out = pd.pivot_table(data=trans_out,aggfunc=['count','min','max','mean','sum'], index='user_id',  values='amount_usd')\n",
        "usd_per_user_out.columns=['amount_of_transactions_out', 'min_usd_out', 'max_usd_out', 'mean_usd_out', 'sum_usd_out']\n",
        "users=pd.merge(users , usd_per_user_out, how='left', left_on='user_id', right_index=True)"
      ],
      "execution_count": 0,
      "outputs": []
    },
    {
      "cell_type": "code",
      "metadata": {
        "id": "cny5PMZU6adl",
        "colab_type": "code",
        "colab": {}
      },
      "source": [
        "usd_per_user_in = pd.pivot_table(data=trans_in,aggfunc=['count','min','max','mean','sum'], index='user_id',  values='amount_usd')\n",
        "usd_per_user_in.columns=['amount_of_transactions_in', 'min_usd_in', 'max_usd_in', 'mean_usd_in', 'sum_usd_in']\n",
        "users=pd.merge(users , usd_per_user_in, how='left', left_on='user_id', right_index=True)"
      ],
      "execution_count": 0,
      "outputs": []
    },
    {
      "cell_type": "code",
      "metadata": {
        "id": "cCU7gq2c-oUu",
        "colab_type": "code",
        "outputId": "5f5e7148-fffb-4130-88bc-15a40facff06",
        "colab": {
          "base_uri": "https://localhost:8080/",
          "height": 216
        }
      },
      "source": [
        "#pd.crosstab(trans.transactions_type, trans.ea_merchant_country)"
      ],
      "execution_count": 131,
      "outputs": [
        {
          "output_type": "execute_result",
          "data": {
            "text/html": [
              "<div>\n",
              "<style scoped>\n",
              "    .dataframe tbody tr th:only-of-type {\n",
              "        vertical-align: middle;\n",
              "    }\n",
              "\n",
              "    .dataframe tbody tr th {\n",
              "        vertical-align: top;\n",
              "    }\n",
              "\n",
              "    .dataframe thead th {\n",
              "        text-align: right;\n",
              "    }\n",
              "</style>\n",
              "<table border=\"1\" class=\"dataframe\">\n",
              "  <thead>\n",
              "    <tr style=\"text-align: right;\">\n",
              "      <th>ea_merchant_country</th>\n",
              "      <th>ABW</th>\n",
              "      <th>AGB</th>\n",
              "      <th>AGO</th>\n",
              "      <th>AIA</th>\n",
              "      <th>ALB</th>\n",
              "      <th>AND</th>\n",
              "      <th>APT</th>\n",
              "      <th>ARE</th>\n",
              "      <th>ARG</th>\n",
              "      <th>ARM</th>\n",
              "      <th>ATG</th>\n",
              "      <th>AUS</th>\n",
              "      <th>AUT</th>\n",
              "      <th>AZE</th>\n",
              "      <th>BEL</th>\n",
              "      <th>BEN</th>\n",
              "      <th>BFA</th>\n",
              "      <th>BGD</th>\n",
              "      <th>BGR</th>\n",
              "      <th>BHR</th>\n",
              "      <th>BHS</th>\n",
              "      <th>BIH</th>\n",
              "      <th>BLR</th>\n",
              "      <th>BLZ</th>\n",
              "      <th>BMU</th>\n",
              "      <th>BOL</th>\n",
              "      <th>BRA</th>\n",
              "      <th>BRB</th>\n",
              "      <th>BRN</th>\n",
              "      <th>BWA</th>\n",
              "      <th>CAN</th>\n",
              "      <th>CHE</th>\n",
              "      <th>CHL</th>\n",
              "      <th>CHN</th>\n",
              "      <th>CIV</th>\n",
              "      <th>CMR</th>\n",
              "      <th>COK</th>\n",
              "      <th>COL</th>\n",
              "      <th>CPV</th>\n",
              "      <th>CRI</th>\n",
              "      <th>...</th>\n",
              "      <th>RWA</th>\n",
              "      <th>SAU</th>\n",
              "      <th>SEN</th>\n",
              "      <th>SGB</th>\n",
              "      <th>SGP</th>\n",
              "      <th>SLV</th>\n",
              "      <th>SMR</th>\n",
              "      <th>SRB</th>\n",
              "      <th>SUR</th>\n",
              "      <th>SVK</th>\n",
              "      <th>SVN</th>\n",
              "      <th>SWE</th>\n",
              "      <th>SWZ</th>\n",
              "      <th>SXM</th>\n",
              "      <th>SYC</th>\n",
              "      <th>TCA</th>\n",
              "      <th>TCD</th>\n",
              "      <th>THA</th>\n",
              "      <th>TKM</th>\n",
              "      <th>TTO</th>\n",
              "      <th>TUN</th>\n",
              "      <th>TUR</th>\n",
              "      <th>TWN</th>\n",
              "      <th>TZA</th>\n",
              "      <th>UGA</th>\n",
              "      <th>UKR</th>\n",
              "      <th>URY</th>\n",
              "      <th>USA</th>\n",
              "      <th>UZB</th>\n",
              "      <th>VAT</th>\n",
              "      <th>VCT</th>\n",
              "      <th>VEN</th>\n",
              "      <th>VGB</th>\n",
              "      <th>VIR</th>\n",
              "      <th>VNM</th>\n",
              "      <th>VUT</th>\n",
              "      <th>ZAF</th>\n",
              "      <th>ZAR</th>\n",
              "      <th>ZMB</th>\n",
              "      <th>ZWE</th>\n",
              "    </tr>\n",
              "    <tr>\n",
              "      <th>transactions_type</th>\n",
              "      <th></th>\n",
              "      <th></th>\n",
              "      <th></th>\n",
              "      <th></th>\n",
              "      <th></th>\n",
              "      <th></th>\n",
              "      <th></th>\n",
              "      <th></th>\n",
              "      <th></th>\n",
              "      <th></th>\n",
              "      <th></th>\n",
              "      <th></th>\n",
              "      <th></th>\n",
              "      <th></th>\n",
              "      <th></th>\n",
              "      <th></th>\n",
              "      <th></th>\n",
              "      <th></th>\n",
              "      <th></th>\n",
              "      <th></th>\n",
              "      <th></th>\n",
              "      <th></th>\n",
              "      <th></th>\n",
              "      <th></th>\n",
              "      <th></th>\n",
              "      <th></th>\n",
              "      <th></th>\n",
              "      <th></th>\n",
              "      <th></th>\n",
              "      <th></th>\n",
              "      <th></th>\n",
              "      <th></th>\n",
              "      <th></th>\n",
              "      <th></th>\n",
              "      <th></th>\n",
              "      <th></th>\n",
              "      <th></th>\n",
              "      <th></th>\n",
              "      <th></th>\n",
              "      <th></th>\n",
              "      <th></th>\n",
              "      <th></th>\n",
              "      <th></th>\n",
              "      <th></th>\n",
              "      <th></th>\n",
              "      <th></th>\n",
              "      <th></th>\n",
              "      <th></th>\n",
              "      <th></th>\n",
              "      <th></th>\n",
              "      <th></th>\n",
              "      <th></th>\n",
              "      <th></th>\n",
              "      <th></th>\n",
              "      <th></th>\n",
              "      <th></th>\n",
              "      <th></th>\n",
              "      <th></th>\n",
              "      <th></th>\n",
              "      <th></th>\n",
              "      <th></th>\n",
              "      <th></th>\n",
              "      <th></th>\n",
              "      <th></th>\n",
              "      <th></th>\n",
              "      <th></th>\n",
              "      <th></th>\n",
              "      <th></th>\n",
              "      <th></th>\n",
              "      <th></th>\n",
              "      <th></th>\n",
              "      <th></th>\n",
              "      <th></th>\n",
              "      <th></th>\n",
              "      <th></th>\n",
              "      <th></th>\n",
              "      <th></th>\n",
              "      <th></th>\n",
              "      <th></th>\n",
              "      <th></th>\n",
              "      <th></th>\n",
              "    </tr>\n",
              "  </thead>\n",
              "  <tbody>\n",
              "    <tr>\n",
              "      <th>ATM</th>\n",
              "      <td>0</td>\n",
              "      <td>4</td>\n",
              "      <td>0</td>\n",
              "      <td>0</td>\n",
              "      <td>39</td>\n",
              "      <td>25</td>\n",
              "      <td>0</td>\n",
              "      <td>303</td>\n",
              "      <td>234</td>\n",
              "      <td>35</td>\n",
              "      <td>8</td>\n",
              "      <td>535</td>\n",
              "      <td>415</td>\n",
              "      <td>18</td>\n",
              "      <td>381</td>\n",
              "      <td>5</td>\n",
              "      <td>8</td>\n",
              "      <td>4</td>\n",
              "      <td>422</td>\n",
              "      <td>5</td>\n",
              "      <td>11</td>\n",
              "      <td>60</td>\n",
              "      <td>22</td>\n",
              "      <td>24</td>\n",
              "      <td>8</td>\n",
              "      <td>153</td>\n",
              "      <td>282</td>\n",
              "      <td>47</td>\n",
              "      <td>2</td>\n",
              "      <td>36</td>\n",
              "      <td>342</td>\n",
              "      <td>443</td>\n",
              "      <td>91</td>\n",
              "      <td>267</td>\n",
              "      <td>44</td>\n",
              "      <td>72</td>\n",
              "      <td>3</td>\n",
              "      <td>524</td>\n",
              "      <td>10</td>\n",
              "      <td>132</td>\n",
              "      <td>...</td>\n",
              "      <td>0</td>\n",
              "      <td>71</td>\n",
              "      <td>57</td>\n",
              "      <td>0</td>\n",
              "      <td>326</td>\n",
              "      <td>0</td>\n",
              "      <td>2</td>\n",
              "      <td>102</td>\n",
              "      <td>2</td>\n",
              "      <td>240</td>\n",
              "      <td>146</td>\n",
              "      <td>168</td>\n",
              "      <td>0</td>\n",
              "      <td>8</td>\n",
              "      <td>11</td>\n",
              "      <td>0</td>\n",
              "      <td>6</td>\n",
              "      <td>1428</td>\n",
              "      <td>0</td>\n",
              "      <td>5</td>\n",
              "      <td>196</td>\n",
              "      <td>733</td>\n",
              "      <td>88</td>\n",
              "      <td>22</td>\n",
              "      <td>96</td>\n",
              "      <td>256</td>\n",
              "      <td>12</td>\n",
              "      <td>1674</td>\n",
              "      <td>8</td>\n",
              "      <td>0</td>\n",
              "      <td>1</td>\n",
              "      <td>0</td>\n",
              "      <td>0</td>\n",
              "      <td>0</td>\n",
              "      <td>873</td>\n",
              "      <td>1</td>\n",
              "      <td>208</td>\n",
              "      <td>2</td>\n",
              "      <td>4</td>\n",
              "      <td>0</td>\n",
              "    </tr>\n",
              "    <tr>\n",
              "      <th>CARD_PAYMENT</th>\n",
              "      <td>2</td>\n",
              "      <td>0</td>\n",
              "      <td>2</td>\n",
              "      <td>5</td>\n",
              "      <td>35</td>\n",
              "      <td>436</td>\n",
              "      <td>2</td>\n",
              "      <td>4370</td>\n",
              "      <td>1775</td>\n",
              "      <td>48</td>\n",
              "      <td>100</td>\n",
              "      <td>16782</td>\n",
              "      <td>5715</td>\n",
              "      <td>30</td>\n",
              "      <td>6276</td>\n",
              "      <td>4</td>\n",
              "      <td>0</td>\n",
              "      <td>3</td>\n",
              "      <td>1774</td>\n",
              "      <td>104</td>\n",
              "      <td>91</td>\n",
              "      <td>112</td>\n",
              "      <td>438</td>\n",
              "      <td>16</td>\n",
              "      <td>101</td>\n",
              "      <td>120</td>\n",
              "      <td>3307</td>\n",
              "      <td>169</td>\n",
              "      <td>6</td>\n",
              "      <td>26</td>\n",
              "      <td>8320</td>\n",
              "      <td>11623</td>\n",
              "      <td>1069</td>\n",
              "      <td>518</td>\n",
              "      <td>48</td>\n",
              "      <td>0</td>\n",
              "      <td>19</td>\n",
              "      <td>1365</td>\n",
              "      <td>45</td>\n",
              "      <td>638</td>\n",
              "      <td>...</td>\n",
              "      <td>1</td>\n",
              "      <td>185</td>\n",
              "      <td>75</td>\n",
              "      <td>1</td>\n",
              "      <td>3881</td>\n",
              "      <td>20</td>\n",
              "      <td>4</td>\n",
              "      <td>452</td>\n",
              "      <td>2</td>\n",
              "      <td>3394</td>\n",
              "      <td>2280</td>\n",
              "      <td>11572</td>\n",
              "      <td>3</td>\n",
              "      <td>16</td>\n",
              "      <td>48</td>\n",
              "      <td>9</td>\n",
              "      <td>3</td>\n",
              "      <td>2835</td>\n",
              "      <td>1</td>\n",
              "      <td>62</td>\n",
              "      <td>169</td>\n",
              "      <td>4139</td>\n",
              "      <td>333</td>\n",
              "      <td>43</td>\n",
              "      <td>68</td>\n",
              "      <td>1892</td>\n",
              "      <td>204</td>\n",
              "      <td>55139</td>\n",
              "      <td>8</td>\n",
              "      <td>71</td>\n",
              "      <td>3</td>\n",
              "      <td>140</td>\n",
              "      <td>16</td>\n",
              "      <td>5</td>\n",
              "      <td>1826</td>\n",
              "      <td>11</td>\n",
              "      <td>4092</td>\n",
              "      <td>2</td>\n",
              "      <td>17</td>\n",
              "      <td>37</td>\n",
              "    </tr>\n",
              "    <tr>\n",
              "      <th>CARD_REFUND</th>\n",
              "      <td>0</td>\n",
              "      <td>0</td>\n",
              "      <td>0</td>\n",
              "      <td>0</td>\n",
              "      <td>0</td>\n",
              "      <td>0</td>\n",
              "      <td>0</td>\n",
              "      <td>14</td>\n",
              "      <td>67</td>\n",
              "      <td>0</td>\n",
              "      <td>0</td>\n",
              "      <td>120</td>\n",
              "      <td>8</td>\n",
              "      <td>1</td>\n",
              "      <td>25</td>\n",
              "      <td>0</td>\n",
              "      <td>2</td>\n",
              "      <td>0</td>\n",
              "      <td>3</td>\n",
              "      <td>0</td>\n",
              "      <td>0</td>\n",
              "      <td>0</td>\n",
              "      <td>6</td>\n",
              "      <td>0</td>\n",
              "      <td>0</td>\n",
              "      <td>1</td>\n",
              "      <td>19</td>\n",
              "      <td>0</td>\n",
              "      <td>0</td>\n",
              "      <td>0</td>\n",
              "      <td>59</td>\n",
              "      <td>55</td>\n",
              "      <td>2</td>\n",
              "      <td>25</td>\n",
              "      <td>0</td>\n",
              "      <td>0</td>\n",
              "      <td>0</td>\n",
              "      <td>1</td>\n",
              "      <td>1</td>\n",
              "      <td>3</td>\n",
              "      <td>...</td>\n",
              "      <td>0</td>\n",
              "      <td>1</td>\n",
              "      <td>0</td>\n",
              "      <td>0</td>\n",
              "      <td>25</td>\n",
              "      <td>0</td>\n",
              "      <td>0</td>\n",
              "      <td>0</td>\n",
              "      <td>0</td>\n",
              "      <td>7</td>\n",
              "      <td>1</td>\n",
              "      <td>58</td>\n",
              "      <td>0</td>\n",
              "      <td>0</td>\n",
              "      <td>0</td>\n",
              "      <td>0</td>\n",
              "      <td>0</td>\n",
              "      <td>18</td>\n",
              "      <td>0</td>\n",
              "      <td>0</td>\n",
              "      <td>3</td>\n",
              "      <td>5</td>\n",
              "      <td>1</td>\n",
              "      <td>0</td>\n",
              "      <td>0</td>\n",
              "      <td>9</td>\n",
              "      <td>65</td>\n",
              "      <td>502</td>\n",
              "      <td>0</td>\n",
              "      <td>0</td>\n",
              "      <td>0</td>\n",
              "      <td>0</td>\n",
              "      <td>0</td>\n",
              "      <td>0</td>\n",
              "      <td>12</td>\n",
              "      <td>0</td>\n",
              "      <td>9</td>\n",
              "      <td>0</td>\n",
              "      <td>0</td>\n",
              "      <td>0</td>\n",
              "    </tr>\n",
              "  </tbody>\n",
              "</table>\n",
              "<p>3 rows × 189 columns</p>\n",
              "</div>"
            ],
            "text/plain": [
              "ea_merchant_country  ABW  AGB  AGO  AIA  ALB  ...  VUT   ZAF  ZAR  ZMB  ZWE\n",
              "transactions_type                             ...                          \n",
              "ATM                    0    4    0    0   39  ...    1   208    2    4    0\n",
              "CARD_PAYMENT           2    0    2    5   35  ...   11  4092    2   17   37\n",
              "CARD_REFUND            0    0    0    0    0  ...    0     9    0    0    0\n",
              "\n",
              "[3 rows x 189 columns]"
            ]
          },
          "metadata": {
            "tags": []
          },
          "execution_count": 131
        }
      ]
    },
    {
      "cell_type": "code",
      "metadata": {
        "id": "uDUsNidd_TWH",
        "colab_type": "code",
        "outputId": "f596721d-c21d-4cc5-d5e3-5a15e0b51ebb",
        "colab": {
          "base_uri": "https://localhost:8080/",
          "height": 166
        }
      },
      "source": [
        "#pd.crosstab(trans.transactions_type, trans.ea_cardholderpresence)"
      ],
      "execution_count": 132,
      "outputs": [
        {
          "output_type": "execute_result",
          "data": {
            "text/html": [
              "<div>\n",
              "<style scoped>\n",
              "    .dataframe tbody tr th:only-of-type {\n",
              "        vertical-align: middle;\n",
              "    }\n",
              "\n",
              "    .dataframe tbody tr th {\n",
              "        vertical-align: top;\n",
              "    }\n",
              "\n",
              "    .dataframe thead th {\n",
              "        text-align: right;\n",
              "    }\n",
              "</style>\n",
              "<table border=\"1\" class=\"dataframe\">\n",
              "  <thead>\n",
              "    <tr style=\"text-align: right;\">\n",
              "      <th>ea_cardholderpresence</th>\n",
              "      <th>FALSE</th>\n",
              "      <th>TRUE</th>\n",
              "      <th>UNKNOWN</th>\n",
              "    </tr>\n",
              "    <tr>\n",
              "      <th>transactions_type</th>\n",
              "      <th></th>\n",
              "      <th></th>\n",
              "      <th></th>\n",
              "    </tr>\n",
              "  </thead>\n",
              "  <tbody>\n",
              "    <tr>\n",
              "      <th>ATM</th>\n",
              "      <td>61512</td>\n",
              "      <td>0</td>\n",
              "      <td>2</td>\n",
              "    </tr>\n",
              "    <tr>\n",
              "      <th>CARD_PAYMENT</th>\n",
              "      <td>847184</td>\n",
              "      <td>150467</td>\n",
              "      <td>1761</td>\n",
              "    </tr>\n",
              "    <tr>\n",
              "      <th>CARD_REFUND</th>\n",
              "      <td>29</td>\n",
              "      <td>0</td>\n",
              "      <td>2</td>\n",
              "    </tr>\n",
              "  </tbody>\n",
              "</table>\n",
              "</div>"
            ],
            "text/plain": [
              "ea_cardholderpresence   FALSE    TRUE  UNKNOWN\n",
              "transactions_type                             \n",
              "ATM                     61512       0        2\n",
              "CARD_PAYMENT           847184  150467     1761\n",
              "CARD_REFUND                29       0        2"
            ]
          },
          "metadata": {
            "tags": []
          },
          "execution_count": 132
        }
      ]
    },
    {
      "cell_type": "code",
      "metadata": {
        "id": "HZ97SKf8A_xI",
        "colab_type": "code",
        "colab": {}
      },
      "source": [
        "trans_transactions_type_out = pd.crosstab(trans_out['user_id'], columns=trans_out['transactions_type'])\n",
        "trans_transactions_type_in = pd.crosstab(trans_in['user_id'], columns=trans_in['transactions_type'])\n",
        "trans_transactions_type_out.columns=['count_type_atm', 'count_type_card_payment','count_type_exchange','count_type_fee', 'count_type_tax', 'count_type_transfer_out']\n",
        "trans_transactions_type_in.columns=['count_type_card_refund', 'count_type_cashback','count_type_refund','count_type_topup','count_type_transfer_in']"
      ],
      "execution_count": 0,
      "outputs": []
    },
    {
      "cell_type": "code",
      "metadata": {
        "id": "6J6tlPHDDbNA",
        "colab_type": "code",
        "colab": {}
      },
      "source": [
        "users=pd.merge(users , trans_transactions_type_out, how='left', left_on='user_id', right_index=True)"
      ],
      "execution_count": 0,
      "outputs": []
    },
    {
      "cell_type": "code",
      "metadata": {
        "id": "ESdDbEKHCSCu",
        "colab_type": "code",
        "colab": {}
      },
      "source": [
        "users=pd.merge(users , trans_transactions_type_in, how='left', left_on='user_id', right_index=True)"
      ],
      "execution_count": 0,
      "outputs": []
    },
    {
      "cell_type": "code",
      "metadata": {
        "id": "KDX8aZB-GXzb",
        "colab_type": "code",
        "colab": {}
      },
      "source": [
        "#trans['month']=pd.DatetimeIndex(trans['created_date']).month#created month and year as columns\n",
        "#trans['year']=pd.DatetimeIndex(trans['created_date']).year\n"
      ],
      "execution_count": 0,
      "outputs": []
    },
    {
      "cell_type": "code",
      "metadata": {
        "id": "oRzgvQesIdKj",
        "colab_type": "code",
        "colab": {}
      },
      "source": [
        "trans_sorted=trans.sort_values(['created_date'],ascending=False)#trans is sorted, duplicates user_id entries are removed and remain only latest transactions \n",
        "lasttrans = trans_sorted.drop_duplicates('user_id').sort_index()\n",
        "lasttrans=lasttrans[['user_id','created_date']]"
      ],
      "execution_count": 0,
      "outputs": []
    },
    {
      "cell_type": "code",
      "metadata": {
        "id": "YddysZCuIwWW",
        "colab_type": "code",
        "colab": {}
      },
      "source": [
        "lasttrans['month']=pd.DatetimeIndex(lasttrans['created_date']).month\n",
        "lasttrans['year']=pd.DatetimeIndex(lasttrans['created_date']).year\n",
        "lasttrans['months_from_last_transaction']=lasttrans.apply(lambda x: 17-x['month'] if x['year']==2018 else 5-x['month'], axis=1)"
      ],
      "execution_count": 0,
      "outputs": []
    },
    {
      "cell_type": "code",
      "metadata": {
        "id": "bEXa4iuCK7Mm",
        "colab_type": "code",
        "colab": {}
      },
      "source": [
        "users=pd.merge(users , lasttrans, how='left', left_on='user_id', right_on='user_id')"
      ],
      "execution_count": 0,
      "outputs": []
    },
    {
      "cell_type": "code",
      "metadata": {
        "id": "ZSdmbGTKLcTB",
        "colab_type": "code",
        "colab": {}
      },
      "source": [
        "trans_sorted=trans.sort_values(['created_date'],ascending=True)#trans is sorted, duplicates user_id entries are removed and remain only latest transactions \n",
        "lasttrans = trans_sorted.drop_duplicates('user_id').sort_index()\n",
        "lasttrans=lasttrans[['user_id','created_date']]"
      ],
      "execution_count": 0,
      "outputs": []
    },
    {
      "cell_type": "code",
      "metadata": {
        "id": "zNt_ttCrMq7o",
        "colab_type": "code",
        "colab": {}
      },
      "source": [
        "lasttrans['month']=pd.DatetimeIndex(lasttrans['created_date']).month\n",
        "lasttrans['year']=pd.DatetimeIndex(lasttrans['created_date']).year\n",
        "lasttrans['months_from_first_transaction']=lasttrans.apply(lambda x: 18-x['month'] if x['year']==2018 else 6-x['month'], axis=1)"
      ],
      "execution_count": 0,
      "outputs": []
    },
    {
      "cell_type": "code",
      "metadata": {
        "id": "KdL6UDuDNAcG",
        "colab_type": "code",
        "colab": {}
      },
      "source": [
        "users=pd.merge(users , lasttrans, how='left', left_on='user_id', right_on='user_id')"
      ],
      "execution_count": 0,
      "outputs": []
    },
    {
      "cell_type": "code",
      "metadata": {
        "id": "QkuYiRlONULR",
        "colab_type": "code",
        "colab": {}
      },
      "source": [
        "users['transactions_frequency']=users['total_amount_of_transactions']/(users['months_from_first_transaction']-users['months_from_last_transaction'])"
      ],
      "execution_count": 0,
      "outputs": []
    },
    {
      "cell_type": "markdown",
      "metadata": {
        "id": "9AWCqrVPa8GU",
        "colab_type": "text"
      },
      "source": [
        "#Notifications\n",
        "________________________________________________________\n"
      ]
    },
    {
      "cell_type": "code",
      "metadata": {
        "id": "ZqRNx5YCbiN7",
        "colab_type": "code",
        "colab": {}
      },
      "source": [
        "notif_sent=notif[notif['status']=='SENT']\n"
      ],
      "execution_count": 0,
      "outputs": []
    },
    {
      "cell_type": "code",
      "metadata": {
        "id": "GsHE0AJZOrtx",
        "colab_type": "code",
        "colab": {}
      },
      "source": [
        "amount_notif_sent=pd.crosstab(notif_sent['user_id'], columns=[notif_sent['channel'],notif_sent['reason']])\n",
        "amount_notif_sent.columns=['_'.join(col).lower() for col in amount_notif_sent.columns.values]"
      ],
      "execution_count": 0,
      "outputs": []
    },
    {
      "cell_type": "code",
      "metadata": {
        "id": "1OD9pGGKdltu",
        "colab_type": "code",
        "colab": {}
      },
      "source": [
        "users=pd.merge(users, amount_notif_sent, how='left', left_on='user_id', right_index=True)\n"
      ],
      "execution_count": 0,
      "outputs": []
    },
    {
      "cell_type": "markdown",
      "metadata": {
        "id": "2NK2EKmiDcsA",
        "colab_type": "text"
      },
      "source": [
        "###notifications table analysis under process"
      ]
    },
    {
      "cell_type": "code",
      "metadata": {
        "id": "ta5rT6ikVVjV",
        "colab_type": "code",
        "colab": {}
      },
      "source": [
        "#pd.crosstab(notif['reason'], columns=notif['status'])"
      ],
      "execution_count": 0,
      "outputs": []
    },
    {
      "cell_type": "code",
      "metadata": {
        "id": "5p3fqQl7PmFJ",
        "colab_type": "code",
        "colab": {}
      },
      "source": [
        "#pd.crosstab(notif['user_id'], columns=[notif['channel'], notif['status'], notif['reason']]).head(5)"
      ],
      "execution_count": 0,
      "outputs": []
    },
    {
      "cell_type": "code",
      "metadata": {
        "id": "n8nFZ6iYQZiI",
        "colab_type": "code",
        "colab": {}
      },
      "source": [
        "#notif[notif['user_id']=='user_5734'].sort_values('created_date')#Z"
      ],
      "execution_count": 0,
      "outputs": []
    },
    {
      "cell_type": "code",
      "metadata": {
        "id": "TOVYUQYMSYDk",
        "colab_type": "code",
        "colab": {}
      },
      "source": [
        "#users[users['user_id']=='user_12544']"
      ],
      "execution_count": 0,
      "outputs": []
    },
    {
      "cell_type": "code",
      "metadata": {
        "id": "kuRtFgOTYGV3",
        "colab_type": "code",
        "colab": {}
      },
      "source": [
        "#=pd.crosstab(notif['user_id'], columns= notif['reason'])\n",
        "#tepm2.sample(5)"
      ],
      "execution_count": 0,
      "outputs": []
    },
    {
      "cell_type": "code",
      "metadata": {
        "id": "Ratn6xrtSpNK",
        "colab_type": "code",
        "colab": {}
      },
      "source": [
        "#=pd.merge(users, tepm2, left_on='user_id', right_index=True )"
      ],
      "execution_count": 0,
      "outputs": []
    },
    {
      "cell_type": "code",
      "metadata": {
        "id": "tA2MXu6aYfFU",
        "colab_type": "code",
        "colab": {}
      },
      "source": [
        "#=temp[['plan','BLACK_FRIDAY','BLUE_TUESDAY','ENGAGEMENT_SPLIT_BILL_RESTAURANT','ENGAGEMENT_SPLIT_BILL_RESTAURANT','INVEST_IN_GOLD','JOINING_ANNIVERSARY','LOST_CARD_ORDER','MADE_MONEY_REQUEST_NOT_SPLIT_BILL','METAL_RESERVE_PLAN','NO_INITIAL_CARD_ORDER','NO_INITIAL_CARD_USE','ONBOARDING_TIPS_ACTIVATED_USERS','PROMO','PROMO_CARD_ORDER','REENGAGEMENT_ACTIVE_FUNDS','SILVER_ENGAGEMENT_FEES_SAVED','SILVER_ENGAGEMENT_INACTIVE_CARD','WELCOME_BACK']]"
      ],
      "execution_count": 0,
      "outputs": []
    },
    {
      "cell_type": "code",
      "metadata": {
        "id": "ei6TiyNYYq72",
        "colab_type": "code",
        "colab": {}
      },
      "source": [
        "#temp[temp['plan']=='PAID'].sample(50)"
      ],
      "execution_count": 0,
      "outputs": []
    },
    {
      "cell_type": "code",
      "metadata": {
        "id": "vfWWEV7PZuyw",
        "colab_type": "code",
        "colab": {}
      },
      "source": [
        ""
      ],
      "execution_count": 0,
      "outputs": []
    },
    {
      "cell_type": "markdown",
      "metadata": {
        "id": "GClFsA0ODpWm",
        "colab_type": "text"
      },
      "source": [
        "#Dropping and encoding users table"
      ]
    },
    {
      "cell_type": "code",
      "metadata": {
        "id": "QKnB-_evDv5T",
        "colab_type": "code",
        "colab": {}
      },
      "source": [
        "#dropping columns we don't need\n",
        "data=users.drop(columns=['user_id','birth_year','city','created_date_x','attributes_notifications_marketing_push','attributes_notifications_marketing_email','year_x','num_referrals','num_successful_referrals','month_x','created_date_y','month_y','year_y','created_date','month','year'])"
      ],
      "execution_count": 0,
      "outputs": []
    },
    {
      "cell_type": "code",
      "metadata": {
        "id": "03jrhab6OjM2",
        "colab_type": "code",
        "colab": {}
      },
      "source": [
        "data.isnull().sum()# ta nan tha ginoyn 0, afoy einai eite counts eite sum klp,kai \n",
        "datatest=data.fillna(0)#dhmioyrgeitai o datatest gia xrhsh se modela"
      ],
      "execution_count": 0,
      "outputs": []
    },
    {
      "cell_type": "code",
      "metadata": {
        "id": "G42ElKbEafjn",
        "colab_type": "code",
        "colab": {}
      },
      "source": [
        "#column plan  encoding sto dataset\n",
        "plan_dict = {'STANDARD': 0, 'PAID': 1}\n",
        "datatest['plan'] = datatest.plan.map(plan_dict)\n",
        "\n"
      ],
      "execution_count": 0,
      "outputs": []
    },
    {
      "cell_type": "code",
      "metadata": {
        "id": "3AQIhbT0uGIC",
        "colab_type": "code",
        "colab": {}
      },
      "source": [
        "#column brands encoding sto dataset\n",
        "datatest=pd.get_dummies(datatest)"
      ],
      "execution_count": 0,
      "outputs": []
    },
    {
      "cell_type": "code",
      "metadata": {
        "id": "bPII3HfG2XYC",
        "colab_type": "code",
        "colab": {}
      },
      "source": [
        "datatest.drop('country', axis=1, inplace=True)\n",
        "#gia thn wra petaw ta countries mexri na doyme pws ua ta xeiristoume"
      ],
      "execution_count": 0,
      "outputs": []
    },
    {
      "cell_type": "code",
      "metadata": {
        "id": "ct2tAst32yHs",
        "colab_type": "code",
        "colab": {}
      },
      "source": [
        "#dhmioyrgoyntai oi pinakes pou exw anevasei\n",
        "#datatest.to_csv('data_for_testing.csv',index=False, sep=';')\n",
        "#data.to_csv('data_from_users.csv',index=False, sep=';')\n",
        "#users.to_csv('users_featured.csv',index=False, sep=';')"
      ],
      "execution_count": 0,
      "outputs": []
    },
    {
      "cell_type": "code",
      "metadata": {
        "id": "OSKRTTdh2yD6",
        "colab_type": "code",
        "colab": {}
      },
      "source": [
        ""
      ],
      "execution_count": 0,
      "outputs": []
    },
    {
      "cell_type": "code",
      "metadata": {
        "id": "-W0pcCF02x9_",
        "colab_type": "code",
        "colab": {}
      },
      "source": [
        ""
      ],
      "execution_count": 0,
      "outputs": []
    },
    {
      "cell_type": "code",
      "metadata": {
        "id": "SaHBLsXd2x5M",
        "colab_type": "code",
        "colab": {}
      },
      "source": [
        ""
      ],
      "execution_count": 0,
      "outputs": []
    },
    {
      "cell_type": "code",
      "metadata": {
        "id": "0-VfLZxqhETk",
        "colab_type": "code",
        "colab": {}
      },
      "source": [
        "#dhmioyrgia X, y pinakwn gia na etoimasia toy train_test_split\n",
        "#X = us_1_en.drop(columns=['plan']).values\n",
        "#X_columns = us_1_en.drop(columns=['plan']).columns\n",
        "#y = us_1_en['plan'].values"
      ],
      "execution_count": 0,
      "outputs": []
    }
  ]
}