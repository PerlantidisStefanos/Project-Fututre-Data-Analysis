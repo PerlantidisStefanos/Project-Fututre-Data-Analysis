{
 "cells": [
  {
   "cell_type": "code",
   "execution_count": 156,
   "metadata": {
    "colab": {},
    "colab_type": "code",
    "id": "gUcXv0RpmeBA"
   },
   "outputs": [],
   "source": [
    "import pandas as pd\n",
    "import numpy as np\n",
    "import matplotlib.pyplot as plt\n",
    "import seaborn as sns"
   ]
  },
  {
   "cell_type": "code",
   "execution_count": 157,
   "metadata": {
    "colab": {},
    "colab_type": "code",
    "id": "OlQChLaJmznk"
   },
   "outputs": [],
   "source": [
    "dev= pd.read_csv('devices.csv')\n",
    "tr1= pd.read_csv('transactions_1.csv')\n",
    "tr2= pd.read_csv('transactions_2.csv')\n",
    "tr3= pd.read_csv('transactions_3.csv')\n",
    "users = pd.read_csv('users.csv')\n",
    "notif = pd.read_csv('notifications.csv')\n",
    "trans= pd.concat([tr1, tr2, tr3])#all transactions in one dataframe"
   ]
  },
  {
   "cell_type": "markdown",
   "metadata": {
    "colab_type": "text",
    "id": "AtlGOtX516_7"
   },
   "source": [
    "#users table"
   ]
  },
  {
   "cell_type": "code",
   "execution_count": 158,
   "metadata": {
    "colab": {},
    "colab_type": "code",
    "id": "S-N_IWGZm3O4"
   },
   "outputs": [],
   "source": [
    "users['brands']=dev['brand']#h sthlh brands apo ta devices is added to users table\n",
    "#ginontai ta unknown stoixeia tyxaia Android, Apple\n",
    "import random\n",
    "def change_unknown_device(brand):\n",
    "  if  brand== 'Unknown':\n",
    "    return random.sample(['Android', 'Apple'], 1)[0]\n",
    "  else:\n",
    "    return brand\n",
    "users['brands']=users['brands'].apply(change_unknown_device)\n"
   ]
  },
  {
   "cell_type": "code",
   "execution_count": 159,
   "metadata": {
    "colab": {},
    "colab_type": "code",
    "id": "A_SESz-bnml0"
   },
   "outputs": [],
   "source": [
    "users['age']=2019 - users['birth_year']#sthlh age anti gia birth_year"
   ]
  },
  {
   "cell_type": "code",
   "execution_count": 160,
   "metadata": {
    "colab": {},
    "colab_type": "code",
    "id": "CriuvYYZnx9J"
   },
   "outputs": [],
   "source": [
    "users['plan']=users['plan'].apply(lambda x: 'PAID' if x!=\"STANDARD\" else x)#h sthlh pairnei pleon standard h paid stoixeia"
   ]
  },
  {
   "cell_type": "code",
   "execution_count": 161,
   "metadata": {},
   "outputs": [],
   "source": [
    "#handling dates in days\n",
    "users.created_date=pd.to_datetime(users.created_date)\n",
    "#users['today']=np.datetime64('2019-06-01')\n",
    "users['account_duration'] = (np.datetime64('2019-06-01') - users['created_date']).dt.days"
   ]
  },
  {
   "cell_type": "code",
   "execution_count": 162,
   "metadata": {
    "colab": {},
    "colab_type": "code",
    "id": "ty8l1G-l0uo0"
   },
   "outputs": [],
   "source": [
    "#users['month']=pd.DatetimeIndex(users['created_date']).month\n",
    "#users['year']=pd.DatetimeIndex(users['created_date']).year\n",
    "#users['duration']=users.apply(lambda x: 18-x['month'] if x['year']==2018 else 6-x['month'], axis=1)"
   ]
  },
  {
   "cell_type": "markdown",
   "metadata": {
    "colab_type": "text",
    "id": "DzWmDvim2AFh"
   },
   "source": [
    "#transactions table\n",
    "-------------------"
   ]
  },
  {
   "cell_type": "code",
   "execution_count": 163,
   "metadata": {},
   "outputs": [],
   "source": [
    "amount_of_completed_trans=trans[trans['transactions_state']=='COMPLETED'].groupby(['user_id'])['transactions_state'].count()\n",
    "amount_of_not_completed_trans=trans[trans['transactions_state']!='COMPLETED'].groupby(['user_id'])['transactions_state'].count()"
   ]
  },
  {
   "cell_type": "code",
   "execution_count": 164,
   "metadata": {},
   "outputs": [],
   "source": [
    "compl_not_compl_analogy=amount_of_completed_trans/amount_of_not_completed_trans"
   ]
  },
  {
   "cell_type": "code",
   "execution_count": 165,
   "metadata": {},
   "outputs": [],
   "source": [
    "users=pd.merge(users , compl_not_compl_analogy, how='left', left_on='user_id', right_index=True)"
   ]
  },
  {
   "cell_type": "code",
   "execution_count": 166,
   "metadata": {},
   "outputs": [
    {
     "name": "stderr",
     "output_type": "stream",
     "text": [
      "c:\\users\\thrash\\appdata\\local\\programs\\python\\python37\\lib\\site-packages\\ipykernel_launcher.py:4: SettingWithCopyWarning: \n",
      "A value is trying to be set on a copy of a slice from a DataFrame\n",
      "\n",
      "See the caveats in the documentation: https://pandas.pydata.org/pandas-docs/stable/user_guide/indexing.html#returning-a-view-versus-a-copy\n",
      "  after removing the cwd from sys.path.\n",
      "c:\\users\\thrash\\appdata\\local\\programs\\python\\python37\\lib\\site-packages\\ipykernel_launcher.py:5: SettingWithCopyWarning: \n",
      "A value is trying to be set on a copy of a slice from a DataFrame.\n",
      "Try using .loc[row_indexer,col_indexer] = value instead\n",
      "\n",
      "See the caveats in the documentation: https://pandas.pydata.org/pandas-docs/stable/user_guide/indexing.html#returning-a-view-versus-a-copy\n",
      "  \"\"\"\n",
      "c:\\users\\thrash\\appdata\\local\\programs\\python\\python37\\lib\\site-packages\\ipykernel_launcher.py:6: SettingWithCopyWarning: \n",
      "A value is trying to be set on a copy of a slice from a DataFrame.\n",
      "Try using .loc[row_indexer,col_indexer] = value instead\n",
      "\n",
      "See the caveats in the documentation: https://pandas.pydata.org/pandas-docs/stable/user_guide/indexing.html#returning-a-view-versus-a-copy\n",
      "  \n",
      "c:\\users\\thrash\\appdata\\local\\programs\\python\\python37\\lib\\site-packages\\pandas\\core\\frame.py:3997: SettingWithCopyWarning: \n",
      "A value is trying to be set on a copy of a slice from a DataFrame\n",
      "\n",
      "See the caveats in the documentation: https://pandas.pydata.org/pandas-docs/stable/user_guide/indexing.html#returning-a-view-versus-a-copy\n",
      "  errors=errors,\n"
     ]
    }
   ],
   "source": [
    "#tempo table me hmeromhnies twn transaction \n",
    "#Oi hmeromhnies ypologizontai se meres apo thn 1/6\n",
    "tempo=trans[['user_id','created_date']]\n",
    "tempo.sort_values(['user_id','created_date'],inplace=True)\n",
    "tempo['created_date']=pd.to_datetime(tempo['created_date'])\n",
    "tempo['days_from_transaction']=(np.datetime64('2019-06-01') - tempo['created_date']).dt.days\n",
    "tempo.drop(columns=['created_date'], inplace=True)\n"
   ]
  },
  {
   "cell_type": "code",
   "execution_count": 167,
   "metadata": {},
   "outputs": [],
   "source": [
    "#uni table exei tis unique dates poy exei kanei ka8e user transaction\n",
    "uni = tempo.drop_duplicates([\"user_id\",\"days_from_transaction\"])\n"
   ]
  },
  {
   "cell_type": "code",
   "execution_count": 168,
   "metadata": {},
   "outputs": [],
   "source": [
    "#ypologizontai o mean tvn diaforwn kathe transaction, kai h max diafora transaction gia kathe user\n",
    "mean_period_within_trans=uni.groupby(['user_id']).agg(mean_period_within_transactions=('days_from_transaction', lambda x: x.diff(periods=-1).mean()))\n",
    "max_period_within_trans=uni.groupby(['user_id']).agg(max_period_within_transactions=('days_from_transaction', lambda x: x.diff(periods=-1).max()))\n",
    "       "
   ]
  },
  {
   "cell_type": "code",
   "execution_count": 169,
   "metadata": {},
   "outputs": [],
   "source": [
    "users=pd.merge(users , mean_period_within_trans, how='left', left_on='user_id', right_index=True)"
   ]
  },
  {
   "cell_type": "code",
   "execution_count": 170,
   "metadata": {},
   "outputs": [],
   "source": [
    "users=pd.merge(users , max_period_within_trans, how='left', left_on='user_id', right_index=True)"
   ]
  },
  {
   "cell_type": "code",
   "execution_count": 171,
   "metadata": {},
   "outputs": [],
   "source": [
    "#ypologizetai poses unique dates exei kanei transactions kathe user\n",
    "unique_days_of_trans=tempo.groupby(['user_id']).agg(unique_days_of_transactions=('days_from_transaction', 'nunique'))"
   ]
  },
  {
   "cell_type": "code",
   "execution_count": 172,
   "metadata": {},
   "outputs": [],
   "source": [
    "users=pd.merge(users , unique_days_of_trans, how='left', left_on='user_id', right_index=True)"
   ]
  },
  {
   "cell_type": "code",
   "execution_count": 173,
   "metadata": {},
   "outputs": [],
   "source": [
    "#ypolofizetai to std, var twn dates of transactions gia ka8e user\n",
    "std_var_trans=tempo.groupby('user_id').agg(std_of_transactions=('days_from_transaction','std'),var_of_transactions=('days_from_transaction','var'))\n"
   ]
  },
  {
   "cell_type": "code",
   "execution_count": 174,
   "metadata": {},
   "outputs": [],
   "source": [
    "users=pd.merge(users , std_var_trans, how='left', left_on='user_id', right_index=True)"
   ]
  },
  {
   "cell_type": "code",
   "execution_count": 175,
   "metadata": {},
   "outputs": [],
   "source": [
    "trans=trans[trans['transactions_state']=='COMPLETED']#kratame mono ta completed transactions"
   ]
  },
  {
   "cell_type": "code",
   "execution_count": 176,
   "metadata": {
    "colab": {},
    "colab_type": "code",
    "id": "RH8zWu3x1KSL"
   },
   "outputs": [],
   "source": [
    "#number_of_trans=pd.DataFrame(trans.user_id.value_counts())#amount of transactions per user\n",
    "#number_of_trans.rename(columns={'user_id':'total_amount_of_transactions'},inplace=True)\n",
    "#users=pd.merge(users , number_of_trans, how='left', left_on='user_id', right_index=True)#h sthlg amount_of_transactions is joined sto users"
   ]
  },
  {
   "cell_type": "code",
   "execution_count": 177,
   "metadata": {},
   "outputs": [],
   "source": [
    "usd_per_user = pd.pivot_table(data=trans_out,aggfunc=['count','min','max','mean','sum'], index='user_id',  values='amount_usd')\n",
    "usd_per_user.columns=['amount_of_transactions', 'min_usd', 'max_usd', 'mean_usd', 'sum_usd']\n",
    "users=pd.merge(users , usd_per_user, how='left', left_on='user_id', right_index=True)"
   ]
  },
  {
   "cell_type": "code",
   "execution_count": 178,
   "metadata": {
    "colab": {},
    "colab_type": "code",
    "id": "lo53NR0T6aU4"
   },
   "outputs": [],
   "source": [
    "trans_out=trans[trans['direction']=='OUTBOUND']\n",
    "trans_in=trans[trans['direction']=='INBOUND']"
   ]
  },
  {
   "cell_type": "code",
   "execution_count": 179,
   "metadata": {
    "colab": {},
    "colab_type": "code",
    "id": "v6FDRoax6aYG"
   },
   "outputs": [],
   "source": [
    "usd_per_user_out = pd.pivot_table(data=trans_out,aggfunc=['count','sum'], index='user_id',  values='amount_usd')\n",
    "usd_per_user_out.columns=['amount_of_transactions_out', 'sum_usd_out']\n",
    "users=pd.merge(users , usd_per_user_out, how='left', left_on='user_id', right_index=True)"
   ]
  },
  {
   "cell_type": "code",
   "execution_count": 180,
   "metadata": {
    "colab": {},
    "colab_type": "code",
    "id": "cny5PMZU6adl"
   },
   "outputs": [],
   "source": [
    "usd_per_user_in = pd.pivot_table(data=trans_in,aggfunc=['count','sum'], index='user_id',  values='amount_usd')\n",
    "usd_per_user_in.columns=['amount_of_transactions_in', 'sum_usd_in']\n",
    "users=pd.merge(users , usd_per_user_in, how='left', left_on='user_id', right_index=True)"
   ]
  },
  {
   "cell_type": "code",
   "execution_count": 181,
   "metadata": {
    "colab": {
     "base_uri": "https://localhost:8080/",
     "height": 216
    },
    "colab_type": "code",
    "id": "cCU7gq2c-oUu",
    "outputId": "5f5e7148-fffb-4130-88bc-15a40facff06"
   },
   "outputs": [],
   "source": [
    "#pd.crosstab(trans.transactions_type, trans.ea_merchant_country)"
   ]
  },
  {
   "cell_type": "code",
   "execution_count": 182,
   "metadata": {
    "colab": {
     "base_uri": "https://localhost:8080/",
     "height": 166
    },
    "colab_type": "code",
    "id": "uDUsNidd_TWH",
    "outputId": "f596721d-c21d-4cc5-d5e3-5a15e0b51ebb"
   },
   "outputs": [],
   "source": [
    "#pd.crosstab(trans.transactions_type, trans.ea_cardholderpresence)"
   ]
  },
  {
   "cell_type": "code",
   "execution_count": 183,
   "metadata": {
    "colab": {},
    "colab_type": "code",
    "id": "HZ97SKf8A_xI"
   },
   "outputs": [],
   "source": [
    "trans_transactions_type_out = pd.crosstab(trans_out['user_id'], columns=trans_out['transactions_type'])\n",
    "trans_transactions_type_in = pd.crosstab(trans_in['user_id'], columns=trans_in['transactions_type'])\n",
    "trans_transactions_type_out.columns=['count_type_atm', 'count_type_card_payment','count_type_exchange','count_type_fee', 'count_type_tax', 'count_type_transfer_out']\n",
    "trans_transactions_type_in.columns=['count_type_card_refund', 'count_type_cashback','count_type_refund','count_type_topup','count_type_transfer_in']"
   ]
  },
  {
   "cell_type": "code",
   "execution_count": 184,
   "metadata": {
    "colab": {},
    "colab_type": "code",
    "id": "6J6tlPHDDbNA"
   },
   "outputs": [],
   "source": [
    "users=pd.merge(users , trans_transactions_type_out, how='left', left_on='user_id', right_index=True)"
   ]
  },
  {
   "cell_type": "code",
   "execution_count": 185,
   "metadata": {
    "colab": {},
    "colab_type": "code",
    "id": "ESdDbEKHCSCu"
   },
   "outputs": [],
   "source": [
    "users=pd.merge(users , trans_transactions_type_in, how='left', left_on='user_id', right_index=True)"
   ]
  },
  {
   "cell_type": "code",
   "execution_count": 186,
   "metadata": {
    "colab": {},
    "colab_type": "code",
    "id": "KDX8aZB-GXzb"
   },
   "outputs": [],
   "source": [
    "#trans['month']=pd.DatetimeIndex(trans['created_date']).month#created month and year as columns\n",
    "#trans['year']=pd.DatetimeIndex(trans['created_date']).year\n"
   ]
  },
  {
   "cell_type": "code",
   "execution_count": 187,
   "metadata": {
    "colab": {},
    "colab_type": "code",
    "id": "oRzgvQesIdKj"
   },
   "outputs": [],
   "source": [
    "trans_sorted=trans.sort_values(['created_date'],ascending=False)#trans is sorted, duplicates user_id entries are removed and remain only latest transactions \n",
    "lasttrans = trans_sorted.drop_duplicates('user_id').sort_index()\n",
    "lasttrans=lasttrans[['user_id','created_date']]"
   ]
  },
  {
   "cell_type": "code",
   "execution_count": 188,
   "metadata": {},
   "outputs": [],
   "source": [
    "#handling dates in days\n",
    "lasttrans['created_date']=pd.to_datetime(lasttrans['created_date'])\n",
    "#lasttrans['today']=np.datetime64('2019-06-01')\n",
    "lasttrans['last_transaction'] = (np.datetime64('2019-06-01') - lasttrans['created_date']).dt.days"
   ]
  },
  {
   "cell_type": "code",
   "execution_count": 189,
   "metadata": {
    "colab": {},
    "colab_type": "code",
    "id": "YddysZCuIwWW"
   },
   "outputs": [],
   "source": [
    "#lasttrans['month']=pd.DatetimeIndex(lasttrans['created_date']).month\n",
    "#lasttrans['year']=pd.DatetimeIndex(lasttrans['created_date']).year\n",
    "#lasttrans['months_from_last_transaction']=lasttrans.apply(lambda x: 17-x['month'] if x['year']==2018 else 5-x['month'], axis=1)"
   ]
  },
  {
   "cell_type": "code",
   "execution_count": 190,
   "metadata": {
    "colab": {},
    "colab_type": "code",
    "id": "bEXa4iuCK7Mm"
   },
   "outputs": [],
   "source": [
    "users=pd.merge(users , lasttrans, how='left', left_on='user_id', right_on='user_id')"
   ]
  },
  {
   "cell_type": "code",
   "execution_count": 191,
   "metadata": {
    "colab": {},
    "colab_type": "code",
    "id": "ZSdmbGTKLcTB"
   },
   "outputs": [],
   "source": [
    "trans_sorted_asc=trans.sort_values(['created_date'],ascending=True)#trans is sorted, duplicates user_id entries are removed and remain only latest transactions \n",
    "firsttrans = trans_sorted_asc.drop_duplicates('user_id').sort_index()\n",
    "firsttrans=firsttrans[['user_id','created_date']]"
   ]
  },
  {
   "cell_type": "code",
   "execution_count": 192,
   "metadata": {},
   "outputs": [],
   "source": [
    "#handling dates in days\n",
    "firsttrans['created_date']=pd.to_datetime(firsttrans['created_date'])\n",
    "#firsttrans['today']=np.datetime64('2019-06-01')\n",
    "firsttrans['first_transaction'] = (np.datetime64('2019-06-01')-firsttrans['created_date']).dt.days"
   ]
  },
  {
   "cell_type": "code",
   "execution_count": 193,
   "metadata": {
    "colab": {},
    "colab_type": "code",
    "id": "zNt_ttCrMq7o"
   },
   "outputs": [],
   "source": [
    "#lasttrans['month']=pd.DatetimeIndex(lasttrans['created_date']).month\n",
    "#lasttrans['year']=pd.DatetimeIndex(lasttrans['created_date']).year\n",
    "#lasttrans['months_from_first_transaction']=lasttrans.apply(lambda x: 18-x['month'] if x['year']==2018 else 6-x['month'], axis=1)"
   ]
  },
  {
   "cell_type": "code",
   "execution_count": 194,
   "metadata": {
    "colab": {},
    "colab_type": "code",
    "id": "KdL6UDuDNAcG"
   },
   "outputs": [],
   "source": [
    "users=pd.merge(users , firsttrans, how='left', left_on='user_id', right_on='user_id')"
   ]
  },
  {
   "cell_type": "code",
   "execution_count": 196,
   "metadata": {},
   "outputs": [],
   "source": [
    "users['engagement_duration']=users['first_transaction'] - users['last_transaction'] + 1"
   ]
  },
  {
   "cell_type": "code",
   "execution_count": 197,
   "metadata": {},
   "outputs": [],
   "source": [
    "users['days_passed_for_first_transaction']= users['account_duration']- users['first_transaction'] "
   ]
  },
  {
   "cell_type": "code",
   "execution_count": 199,
   "metadata": {
    "colab": {},
    "colab_type": "code",
    "id": "QkuYiRlONULR"
   },
   "outputs": [],
   "source": [
    "users['transactions_frequency']=users['amount_of_transactions'] / users['engagement_duration']"
   ]
  },
  {
   "cell_type": "markdown",
   "metadata": {
    "colab_type": "text",
    "id": "9AWCqrVPa8GU"
   },
   "source": [
    "#Notifications\n",
    "________________________________________________________\n"
   ]
  },
  {
   "cell_type": "code",
   "execution_count": 204,
   "metadata": {
    "colab": {},
    "colab_type": "code",
    "id": "ZqRNx5YCbiN7"
   },
   "outputs": [],
   "source": [
    "notif_sent=notif[notif['status']=='SENT']\n",
    "notif_sent=notif[(notif['reason']!='SILVER_ENGAGEMENT_FEES_SAVED') & (notif['reason']!='SILVER_ENGAGEMENT_INACTIVE_CARD')]"
   ]
  },
  {
   "cell_type": "code",
   "execution_count": 219,
   "metadata": {
    "colab": {},
    "colab_type": "code",
    "id": "GsHE0AJZOrtx"
   },
   "outputs": [],
   "source": [
    "amount_notif_sent=pd.crosstab(notif_sent['user_id'], columns=notif_sent['reason'])\n",
    "\n"
   ]
  },
  {
   "cell_type": "code",
   "execution_count": 220,
   "metadata": {
    "colab": {},
    "colab_type": "code",
    "id": "1OD9pGGKdltu"
   },
   "outputs": [],
   "source": [
    "users=pd.merge(users, amount_notif_sent, how='left', left_on='user_id', right_index=True)\n"
   ]
  },
  {
   "cell_type": "markdown",
   "metadata": {
    "colab_type": "text",
    "id": "2NK2EKmiDcsA"
   },
   "source": [
    "###notifications table analysis under process"
   ]
  },
  {
   "cell_type": "code",
   "execution_count": null,
   "metadata": {
    "colab": {},
    "colab_type": "code",
    "id": "ta5rT6ikVVjV"
   },
   "outputs": [],
   "source": [
    "#pd.crosstab(notif['reason'], columns=notif['status'])"
   ]
  },
  {
   "cell_type": "code",
   "execution_count": null,
   "metadata": {
    "colab": {},
    "colab_type": "code",
    "id": "5p3fqQl7PmFJ"
   },
   "outputs": [],
   "source": [
    "#pd.crosstab(notif['user_id'], columns=[notif['channel'], notif['status'], notif['reason']]).head(5)"
   ]
  },
  {
   "cell_type": "code",
   "execution_count": null,
   "metadata": {
    "colab": {},
    "colab_type": "code",
    "id": "n8nFZ6iYQZiI"
   },
   "outputs": [],
   "source": [
    "#notif[notif['user_id']=='user_5734'].sort_values('created_date')#Z"
   ]
  },
  {
   "cell_type": "code",
   "execution_count": null,
   "metadata": {
    "colab": {},
    "colab_type": "code",
    "id": "TOVYUQYMSYDk"
   },
   "outputs": [],
   "source": [
    "#users[users['user_id']=='user_12544']"
   ]
  },
  {
   "cell_type": "code",
   "execution_count": null,
   "metadata": {
    "colab": {},
    "colab_type": "code",
    "id": "kuRtFgOTYGV3"
   },
   "outputs": [],
   "source": [
    "#=pd.crosstab(notif['user_id'], columns= notif['reason'])\n",
    "#tepm2.sample(5)"
   ]
  },
  {
   "cell_type": "code",
   "execution_count": null,
   "metadata": {
    "colab": {},
    "colab_type": "code",
    "id": "Ratn6xrtSpNK"
   },
   "outputs": [],
   "source": [
    "#=pd.merge(users, tepm2, left_on='user_id', right_index=True )"
   ]
  },
  {
   "cell_type": "code",
   "execution_count": null,
   "metadata": {
    "colab": {},
    "colab_type": "code",
    "id": "tA2MXu6aYfFU"
   },
   "outputs": [],
   "source": [
    "#=temp[['plan','BLACK_FRIDAY','BLUE_TUESDAY','ENGAGEMENT_SPLIT_BILL_RESTAURANT','ENGAGEMENT_SPLIT_BILL_RESTAURANT','INVEST_IN_GOLD','JOINING_ANNIVERSARY','LOST_CARD_ORDER','MADE_MONEY_REQUEST_NOT_SPLIT_BILL','METAL_RESERVE_PLAN','NO_INITIAL_CARD_ORDER','NO_INITIAL_CARD_USE','ONBOARDING_TIPS_ACTIVATED_USERS','PROMO','PROMO_CARD_ORDER','REENGAGEMENT_ACTIVE_FUNDS','SILVER_ENGAGEMENT_FEES_SAVED','SILVER_ENGAGEMENT_INACTIVE_CARD','WELCOME_BACK']]"
   ]
  },
  {
   "cell_type": "code",
   "execution_count": null,
   "metadata": {
    "colab": {},
    "colab_type": "code",
    "id": "ei6TiyNYYq72"
   },
   "outputs": [],
   "source": [
    "#temp[temp['plan']=='PAID'].sample(50)"
   ]
  },
  {
   "cell_type": "markdown",
   "metadata": {
    "colab_type": "text",
    "id": "GClFsA0ODpWm"
   },
   "source": [
    "#Dropping and encoding users table"
   ]
  },
  {
   "cell_type": "code",
   "execution_count": 222,
   "metadata": {
    "colab": {},
    "colab_type": "code",
    "id": "QKnB-_evDv5T"
   },
   "outputs": [],
   "source": [
    "#dropping columns we don't need\n",
    "data=users.drop(columns=['user_id','birth_year','city','created_date_x','attributes_notifications_marketing_push','attributes_notifications_marketing_email','num_referrals','num_successful_referrals','created_date_y','created_date'])\n",
    "\n",
    "\n",
    "#'year_x','month_x','month_y','year_y','month','year'"
   ]
  },
  {
   "cell_type": "code",
   "execution_count": 225,
   "metadata": {
    "colab": {},
    "colab_type": "code",
    "id": "03jrhab6OjM2"
   },
   "outputs": [],
   "source": [
    "data.isnull().sum()# ta nan tha ginoyn 0, afoy einai eite counts eite sum klp,kai \n",
    "datatest=data.fillna(0)#dhmioyrgeitai o datatest gia xrhsh se modela"
   ]
  },
  {
   "cell_type": "code",
   "execution_count": 226,
   "metadata": {
    "colab": {},
    "colab_type": "code",
    "id": "G42ElKbEafjn"
   },
   "outputs": [],
   "source": [
    "#column plan  encoding sto dataset\n",
    "plan_dict = {'STANDARD': 0, 'PAID': 1}\n",
    "datatest['plan'] = datatest.plan.map(plan_dict)\n",
    "\n"
   ]
  },
  {
   "cell_type": "code",
   "execution_count": 227,
   "metadata": {
    "colab": {},
    "colab_type": "code",
    "id": "bPII3HfG2XYC"
   },
   "outputs": [],
   "source": [
    "datatest.drop('country', axis=1, inplace=True)\n",
    "#gia thn wra petaw ta countries mexri na doyme pws ua ta xeiristoume"
   ]
  },
  {
   "cell_type": "code",
   "execution_count": 228,
   "metadata": {
    "colab": {},
    "colab_type": "code",
    "id": "3AQIhbT0uGIC"
   },
   "outputs": [],
   "source": [
    "#column brands encoding sto dataset\n",
    "datatest=pd.get_dummies(datatest)"
   ]
  },
  {
   "cell_type": "code",
   "execution_count": 230,
   "metadata": {
    "colab": {},
    "colab_type": "code",
    "id": "ct2tAst32yHs"
   },
   "outputs": [],
   "source": [
    "#dhmioyrgoyntai oi pinakes pou exw anevasei\n",
    "datatest.to_csv('friday_testing.csv',index=False, sep=';')\n",
    "data.to_csv('friday_users.csv',index=False, sep=';')\n",
    "users.to_csv('friday_users_feat.csv',index=False, sep=';')"
   ]
  },
  {
   "cell_type": "code",
   "execution_count": null,
   "metadata": {
    "colab": {},
    "colab_type": "code",
    "id": "0-VfLZxqhETk"
   },
   "outputs": [],
   "source": [
    "#dhmioyrgia X, y pinakwn gia na etoimasia toy train_test_split\n",
    "#X = us_1_en.drop(columns=['plan']).values\n",
    "#X_columns = us_1_en.drop(columns=['plan']).columns\n",
    "#y = us_1_en['plan'].values"
   ]
  }
 ],
 "metadata": {
  "colab": {
   "collapsed_sections": [
    "2NK2EKmiDcsA"
   ],
   "name": "Users_first_sample.ipynb",
   "provenance": []
  },
  "kernelspec": {
   "display_name": "Python 3",
   "language": "python",
   "name": "python3"
  },
  "language_info": {
   "codemirror_mode": {
    "name": "ipython",
    "version": 3
   },
   "file_extension": ".py",
   "mimetype": "text/x-python",
   "name": "python",
   "nbconvert_exporter": "python",
   "pygments_lexer": "ipython3",
   "version": "3.7.7"
  }
 },
 "nbformat": 4,
 "nbformat_minor": 1
}
