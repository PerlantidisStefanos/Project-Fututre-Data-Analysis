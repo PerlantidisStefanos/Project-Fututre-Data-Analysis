{
 "cells": [
  {
   "cell_type": "code",
   "execution_count": 1,
   "metadata": {},
   "outputs": [],
   "source": [
    "import pandas as pd\n",
    "import numpy as np\n",
    "import matplotlib.pyplot as plt\n",
    "import seaborn as sns\n",
    "import matplotlib.pyplot as plt\n",
    "from sklearn.model_selection import train_test_split"
   ]
  },
  {
   "cell_type": "code",
   "execution_count": 2,
   "metadata": {},
   "outputs": [
    {
     "name": "stdout",
     "output_type": "stream",
     "text": [
      "Requirement already satisfied: imblearn in c:\\users\\user\\anaconda3\\lib\\site-packages (0.0)\n",
      "Requirement already satisfied: imbalanced-learn in c:\\users\\user\\anaconda3\\lib\\site-packages (from imblearn) (0.6.2)\n",
      "Requirement already satisfied: joblib>=0.11 in c:\\users\\user\\anaconda3\\lib\\site-packages (from imbalanced-learn->imblearn) (0.14.1)\n",
      "Requirement already satisfied: numpy>=1.11 in c:\\users\\user\\anaconda3\\lib\\site-packages (from imbalanced-learn->imblearn) (1.18.1)\n",
      "Requirement already satisfied: scikit-learn>=0.22 in c:\\users\\user\\anaconda3\\lib\\site-packages (from imbalanced-learn->imblearn) (0.22.1)\n",
      "Requirement already satisfied: scipy>=0.17 in c:\\users\\user\\anaconda3\\lib\\site-packages (from imbalanced-learn->imblearn) (1.4.1)\n",
      "Note: you may need to restart the kernel to use updated packages.\n"
     ]
    }
   ],
   "source": [
    "pip install imblearn"
   ]
  },
  {
   "cell_type": "code",
   "execution_count": 3,
   "metadata": {},
   "outputs": [],
   "source": [
    "data_test= pd.read_csv('data_for_testing.csv', delimiter=\";\")\n",
    "data_from_users= pd.read_csv('data_from_users.csv', delimiter=\";\")\n",
    "users_featured= pd.read_csv('users_featured.csv', delimiter=\";\")"
   ]
  },
  {
   "cell_type": "code",
   "execution_count": 4,
   "metadata": {},
   "outputs": [
    {
     "data": {
      "text/plain": [
       "user_settings_crypto_unlocked              0\n",
       "plan                                       0\n",
       "num_contacts                               0\n",
       "age                                        0\n",
       "duration                                   0\n",
       "total_amount_of_transactions               0\n",
       "amount_of_transactions_out                 0\n",
       "min_usd_out                                0\n",
       "max_usd_out                                0\n",
       "mean_usd_out                               0\n",
       "sum_usd_out                                0\n",
       "amount_of_transactions_in                  0\n",
       "min_usd_in                                 0\n",
       "max_usd_in                                 0\n",
       "mean_usd_in                                0\n",
       "sum_usd_in                                 0\n",
       "count_type_atm                             0\n",
       "count_type_card_payment                    0\n",
       "count_type_exchange                        0\n",
       "count_type_fee                             0\n",
       "count_type_tax                             0\n",
       "count_type_transfer_out                    0\n",
       "count_type_card_refund                     0\n",
       "count_type_cashback                        0\n",
       "count_type_refund                          0\n",
       "count_type_topup                           0\n",
       "count_type_transfer_in                     0\n",
       "months_from_last_transaction               0\n",
       "months_from_first_transaction              0\n",
       "transactions_frequency                     0\n",
       "email_engagement_split_bill_restaurant     0\n",
       "email_invest_in_gold                       0\n",
       "email_lost_card_order                      0\n",
       "email_made_money_request_not_split_bill    0\n",
       "email_no_initial_card_order                0\n",
       "email_no_initial_card_use                  0\n",
       "email_onboarding_tips_activated_users      0\n",
       "email_promo                                0\n",
       "email_promo_card_order                     0\n",
       "email_welcome_back                         0\n",
       "push_black_friday                          0\n",
       "push_blue_tuesday                          0\n",
       "push_joining_anniversary                   0\n",
       "push_lost_card_order                       0\n",
       "push_promo                                 0\n",
       "push_reengagement_active_funds             0\n",
       "push_silver_engagement_fees_saved          0\n",
       "push_silver_engagement_inactive_card       0\n",
       "sms_metal_reserve_plan                     0\n",
       "sms_reengagement_active_funds              0\n",
       "brands_Android                             0\n",
       "brands_Apple                               0\n",
       "dtype: int64"
      ]
     },
     "execution_count": 4,
     "metadata": {},
     "output_type": "execute_result"
    }
   ],
   "source": [
    "data_test.isna().sum()"
   ]
  },
  {
   "cell_type": "code",
   "execution_count": 5,
   "metadata": {},
   "outputs": [
    {
     "data": {
      "text/html": [
       "<div>\n",
       "<style scoped>\n",
       "    .dataframe tbody tr th:only-of-type {\n",
       "        vertical-align: middle;\n",
       "    }\n",
       "\n",
       "    .dataframe tbody tr th {\n",
       "        vertical-align: top;\n",
       "    }\n",
       "\n",
       "    .dataframe thead th {\n",
       "        text-align: right;\n",
       "    }\n",
       "</style>\n",
       "<table border=\"1\" class=\"dataframe\">\n",
       "  <thead>\n",
       "    <tr style=\"text-align: right;\">\n",
       "      <th></th>\n",
       "      <th>country</th>\n",
       "      <th>user_settings_crypto_unlocked</th>\n",
       "      <th>plan</th>\n",
       "      <th>num_contacts</th>\n",
       "      <th>brands</th>\n",
       "      <th>age</th>\n",
       "      <th>duration</th>\n",
       "      <th>total_amount_of_transactions</th>\n",
       "      <th>amount_of_transactions_out</th>\n",
       "      <th>min_usd_out</th>\n",
       "      <th>...</th>\n",
       "      <th>push_black_friday</th>\n",
       "      <th>push_blue_tuesday</th>\n",
       "      <th>push_joining_anniversary</th>\n",
       "      <th>push_lost_card_order</th>\n",
       "      <th>push_promo</th>\n",
       "      <th>push_reengagement_active_funds</th>\n",
       "      <th>push_silver_engagement_fees_saved</th>\n",
       "      <th>push_silver_engagement_inactive_card</th>\n",
       "      <th>sms_metal_reserve_plan</th>\n",
       "      <th>sms_reengagement_active_funds</th>\n",
       "    </tr>\n",
       "  </thead>\n",
       "  <tbody>\n",
       "    <tr>\n",
       "      <th>0</th>\n",
       "      <td>ES</td>\n",
       "      <td>0</td>\n",
       "      <td>STANDARD</td>\n",
       "      <td>3</td>\n",
       "      <td>Apple</td>\n",
       "      <td>27</td>\n",
       "      <td>9</td>\n",
       "      <td>520.0</td>\n",
       "      <td>357.0</td>\n",
       "      <td>0.58</td>\n",
       "      <td>...</td>\n",
       "      <td>1.0</td>\n",
       "      <td>0.0</td>\n",
       "      <td>0.0</td>\n",
       "      <td>0.0</td>\n",
       "      <td>0.0</td>\n",
       "      <td>1.0</td>\n",
       "      <td>0.0</td>\n",
       "      <td>0.0</td>\n",
       "      <td>0.0</td>\n",
       "      <td>0.0</td>\n",
       "    </tr>\n",
       "    <tr>\n",
       "      <th>1</th>\n",
       "      <td>LT</td>\n",
       "      <td>1</td>\n",
       "      <td>STANDARD</td>\n",
       "      <td>75</td>\n",
       "      <td>Apple</td>\n",
       "      <td>34</td>\n",
       "      <td>17</td>\n",
       "      <td>133.0</td>\n",
       "      <td>106.0</td>\n",
       "      <td>0.94</td>\n",
       "      <td>...</td>\n",
       "      <td>0.0</td>\n",
       "      <td>0.0</td>\n",
       "      <td>1.0</td>\n",
       "      <td>0.0</td>\n",
       "      <td>1.0</td>\n",
       "      <td>3.0</td>\n",
       "      <td>0.0</td>\n",
       "      <td>0.0</td>\n",
       "      <td>0.0</td>\n",
       "      <td>0.0</td>\n",
       "    </tr>\n",
       "    <tr>\n",
       "      <th>2</th>\n",
       "      <td>IE</td>\n",
       "      <td>0</td>\n",
       "      <td>STANDARD</td>\n",
       "      <td>71</td>\n",
       "      <td>Apple</td>\n",
       "      <td>23</td>\n",
       "      <td>7</td>\n",
       "      <td>268.0</td>\n",
       "      <td>225.0</td>\n",
       "      <td>0.04</td>\n",
       "      <td>...</td>\n",
       "      <td>0.0</td>\n",
       "      <td>0.0</td>\n",
       "      <td>0.0</td>\n",
       "      <td>1.0</td>\n",
       "      <td>1.0</td>\n",
       "      <td>1.0</td>\n",
       "      <td>0.0</td>\n",
       "      <td>0.0</td>\n",
       "      <td>0.0</td>\n",
       "      <td>0.0</td>\n",
       "    </tr>\n",
       "    <tr>\n",
       "      <th>3</th>\n",
       "      <td>IE</td>\n",
       "      <td>0</td>\n",
       "      <td>STANDARD</td>\n",
       "      <td>219</td>\n",
       "      <td>Apple</td>\n",
       "      <td>38</td>\n",
       "      <td>16</td>\n",
       "      <td>140.0</td>\n",
       "      <td>126.0</td>\n",
       "      <td>1.87</td>\n",
       "      <td>...</td>\n",
       "      <td>0.0</td>\n",
       "      <td>0.0</td>\n",
       "      <td>1.0</td>\n",
       "      <td>0.0</td>\n",
       "      <td>0.0</td>\n",
       "      <td>5.0</td>\n",
       "      <td>0.0</td>\n",
       "      <td>0.0</td>\n",
       "      <td>0.0</td>\n",
       "      <td>0.0</td>\n",
       "    </tr>\n",
       "    <tr>\n",
       "      <th>4</th>\n",
       "      <td>GB</td>\n",
       "      <td>0</td>\n",
       "      <td>STANDARD</td>\n",
       "      <td>0</td>\n",
       "      <td>Apple</td>\n",
       "      <td>27</td>\n",
       "      <td>17</td>\n",
       "      <td>50.0</td>\n",
       "      <td>41.0</td>\n",
       "      <td>1.50</td>\n",
       "      <td>...</td>\n",
       "      <td>0.0</td>\n",
       "      <td>0.0</td>\n",
       "      <td>0.0</td>\n",
       "      <td>0.0</td>\n",
       "      <td>1.0</td>\n",
       "      <td>3.0</td>\n",
       "      <td>0.0</td>\n",
       "      <td>0.0</td>\n",
       "      <td>0.0</td>\n",
       "      <td>0.0</td>\n",
       "    </tr>\n",
       "    <tr>\n",
       "      <th>...</th>\n",
       "      <td>...</td>\n",
       "      <td>...</td>\n",
       "      <td>...</td>\n",
       "      <td>...</td>\n",
       "      <td>...</td>\n",
       "      <td>...</td>\n",
       "      <td>...</td>\n",
       "      <td>...</td>\n",
       "      <td>...</td>\n",
       "      <td>...</td>\n",
       "      <td>...</td>\n",
       "      <td>...</td>\n",
       "      <td>...</td>\n",
       "      <td>...</td>\n",
       "      <td>...</td>\n",
       "      <td>...</td>\n",
       "      <td>...</td>\n",
       "      <td>...</td>\n",
       "      <td>...</td>\n",
       "      <td>...</td>\n",
       "      <td>...</td>\n",
       "    </tr>\n",
       "    <tr>\n",
       "      <th>15539</th>\n",
       "      <td>PL</td>\n",
       "      <td>0</td>\n",
       "      <td>STANDARD</td>\n",
       "      <td>0</td>\n",
       "      <td>Android</td>\n",
       "      <td>22</td>\n",
       "      <td>10</td>\n",
       "      <td>91.0</td>\n",
       "      <td>58.0</td>\n",
       "      <td>0.05</td>\n",
       "      <td>...</td>\n",
       "      <td>1.0</td>\n",
       "      <td>0.0</td>\n",
       "      <td>0.0</td>\n",
       "      <td>0.0</td>\n",
       "      <td>0.0</td>\n",
       "      <td>0.0</td>\n",
       "      <td>0.0</td>\n",
       "      <td>0.0</td>\n",
       "      <td>0.0</td>\n",
       "      <td>0.0</td>\n",
       "    </tr>\n",
       "    <tr>\n",
       "      <th>15540</th>\n",
       "      <td>PL</td>\n",
       "      <td>0</td>\n",
       "      <td>STANDARD</td>\n",
       "      <td>0</td>\n",
       "      <td>Apple</td>\n",
       "      <td>34</td>\n",
       "      <td>15</td>\n",
       "      <td>10.0</td>\n",
       "      <td>6.0</td>\n",
       "      <td>0.46</td>\n",
       "      <td>...</td>\n",
       "      <td>NaN</td>\n",
       "      <td>NaN</td>\n",
       "      <td>NaN</td>\n",
       "      <td>NaN</td>\n",
       "      <td>NaN</td>\n",
       "      <td>NaN</td>\n",
       "      <td>NaN</td>\n",
       "      <td>NaN</td>\n",
       "      <td>NaN</td>\n",
       "      <td>NaN</td>\n",
       "    </tr>\n",
       "    <tr>\n",
       "      <th>15541</th>\n",
       "      <td>GB</td>\n",
       "      <td>0</td>\n",
       "      <td>STANDARD</td>\n",
       "      <td>16</td>\n",
       "      <td>Android</td>\n",
       "      <td>41</td>\n",
       "      <td>11</td>\n",
       "      <td>1062.0</td>\n",
       "      <td>983.0</td>\n",
       "      <td>0.01</td>\n",
       "      <td>...</td>\n",
       "      <td>1.0</td>\n",
       "      <td>0.0</td>\n",
       "      <td>0.0</td>\n",
       "      <td>0.0</td>\n",
       "      <td>0.0</td>\n",
       "      <td>0.0</td>\n",
       "      <td>0.0</td>\n",
       "      <td>0.0</td>\n",
       "      <td>0.0</td>\n",
       "      <td>0.0</td>\n",
       "    </tr>\n",
       "    <tr>\n",
       "      <th>15542</th>\n",
       "      <td>IE</td>\n",
       "      <td>0</td>\n",
       "      <td>PAID</td>\n",
       "      <td>44</td>\n",
       "      <td>Apple</td>\n",
       "      <td>42</td>\n",
       "      <td>17</td>\n",
       "      <td>23.0</td>\n",
       "      <td>13.0</td>\n",
       "      <td>2.13</td>\n",
       "      <td>...</td>\n",
       "      <td>0.0</td>\n",
       "      <td>0.0</td>\n",
       "      <td>0.0</td>\n",
       "      <td>0.0</td>\n",
       "      <td>0.0</td>\n",
       "      <td>1.0</td>\n",
       "      <td>0.0</td>\n",
       "      <td>0.0</td>\n",
       "      <td>0.0</td>\n",
       "      <td>0.0</td>\n",
       "    </tr>\n",
       "    <tr>\n",
       "      <th>15543</th>\n",
       "      <td>GB</td>\n",
       "      <td>1</td>\n",
       "      <td>STANDARD</td>\n",
       "      <td>8</td>\n",
       "      <td>Android</td>\n",
       "      <td>25</td>\n",
       "      <td>10</td>\n",
       "      <td>437.0</td>\n",
       "      <td>395.0</td>\n",
       "      <td>0.01</td>\n",
       "      <td>...</td>\n",
       "      <td>1.0</td>\n",
       "      <td>0.0</td>\n",
       "      <td>0.0</td>\n",
       "      <td>0.0</td>\n",
       "      <td>1.0</td>\n",
       "      <td>1.0</td>\n",
       "      <td>0.0</td>\n",
       "      <td>0.0</td>\n",
       "      <td>0.0</td>\n",
       "      <td>0.0</td>\n",
       "    </tr>\n",
       "  </tbody>\n",
       "</table>\n",
       "<p>15544 rows × 52 columns</p>\n",
       "</div>"
      ],
      "text/plain": [
       "      country  user_settings_crypto_unlocked      plan  num_contacts   brands  \\\n",
       "0          ES                              0  STANDARD             3    Apple   \n",
       "1          LT                              1  STANDARD            75    Apple   \n",
       "2          IE                              0  STANDARD            71    Apple   \n",
       "3          IE                              0  STANDARD           219    Apple   \n",
       "4          GB                              0  STANDARD             0    Apple   \n",
       "...       ...                            ...       ...           ...      ...   \n",
       "15539      PL                              0  STANDARD             0  Android   \n",
       "15540      PL                              0  STANDARD             0    Apple   \n",
       "15541      GB                              0  STANDARD            16  Android   \n",
       "15542      IE                              0      PAID            44    Apple   \n",
       "15543      GB                              1  STANDARD             8  Android   \n",
       "\n",
       "       age  duration  total_amount_of_transactions  \\\n",
       "0       27         9                         520.0   \n",
       "1       34        17                         133.0   \n",
       "2       23         7                         268.0   \n",
       "3       38        16                         140.0   \n",
       "4       27        17                          50.0   \n",
       "...    ...       ...                           ...   \n",
       "15539   22        10                          91.0   \n",
       "15540   34        15                          10.0   \n",
       "15541   41        11                        1062.0   \n",
       "15542   42        17                          23.0   \n",
       "15543   25        10                         437.0   \n",
       "\n",
       "       amount_of_transactions_out  min_usd_out  ...  push_black_friday  \\\n",
       "0                           357.0         0.58  ...                1.0   \n",
       "1                           106.0         0.94  ...                0.0   \n",
       "2                           225.0         0.04  ...                0.0   \n",
       "3                           126.0         1.87  ...                0.0   \n",
       "4                            41.0         1.50  ...                0.0   \n",
       "...                           ...          ...  ...                ...   \n",
       "15539                        58.0         0.05  ...                1.0   \n",
       "15540                         6.0         0.46  ...                NaN   \n",
       "15541                       983.0         0.01  ...                1.0   \n",
       "15542                        13.0         2.13  ...                0.0   \n",
       "15543                       395.0         0.01  ...                1.0   \n",
       "\n",
       "       push_blue_tuesday  push_joining_anniversary  push_lost_card_order  \\\n",
       "0                    0.0                       0.0                   0.0   \n",
       "1                    0.0                       1.0                   0.0   \n",
       "2                    0.0                       0.0                   1.0   \n",
       "3                    0.0                       1.0                   0.0   \n",
       "4                    0.0                       0.0                   0.0   \n",
       "...                  ...                       ...                   ...   \n",
       "15539                0.0                       0.0                   0.0   \n",
       "15540                NaN                       NaN                   NaN   \n",
       "15541                0.0                       0.0                   0.0   \n",
       "15542                0.0                       0.0                   0.0   \n",
       "15543                0.0                       0.0                   0.0   \n",
       "\n",
       "       push_promo  push_reengagement_active_funds  \\\n",
       "0             0.0                             1.0   \n",
       "1             1.0                             3.0   \n",
       "2             1.0                             1.0   \n",
       "3             0.0                             5.0   \n",
       "4             1.0                             3.0   \n",
       "...           ...                             ...   \n",
       "15539         0.0                             0.0   \n",
       "15540         NaN                             NaN   \n",
       "15541         0.0                             0.0   \n",
       "15542         0.0                             1.0   \n",
       "15543         1.0                             1.0   \n",
       "\n",
       "       push_silver_engagement_fees_saved  \\\n",
       "0                                    0.0   \n",
       "1                                    0.0   \n",
       "2                                    0.0   \n",
       "3                                    0.0   \n",
       "4                                    0.0   \n",
       "...                                  ...   \n",
       "15539                                0.0   \n",
       "15540                                NaN   \n",
       "15541                                0.0   \n",
       "15542                                0.0   \n",
       "15543                                0.0   \n",
       "\n",
       "       push_silver_engagement_inactive_card  sms_metal_reserve_plan  \\\n",
       "0                                       0.0                     0.0   \n",
       "1                                       0.0                     0.0   \n",
       "2                                       0.0                     0.0   \n",
       "3                                       0.0                     0.0   \n",
       "4                                       0.0                     0.0   \n",
       "...                                     ...                     ...   \n",
       "15539                                   0.0                     0.0   \n",
       "15540                                   NaN                     NaN   \n",
       "15541                                   0.0                     0.0   \n",
       "15542                                   0.0                     0.0   \n",
       "15543                                   0.0                     0.0   \n",
       "\n",
       "       sms_reengagement_active_funds  \n",
       "0                                0.0  \n",
       "1                                0.0  \n",
       "2                                0.0  \n",
       "3                                0.0  \n",
       "4                                0.0  \n",
       "...                              ...  \n",
       "15539                            0.0  \n",
       "15540                            NaN  \n",
       "15541                            0.0  \n",
       "15542                            0.0  \n",
       "15543                            0.0  \n",
       "\n",
       "[15544 rows x 52 columns]"
      ]
     },
     "execution_count": 5,
     "metadata": {},
     "output_type": "execute_result"
    }
   ],
   "source": [
    "data_from_users"
   ]
  },
  {
   "cell_type": "code",
   "execution_count": 6,
   "metadata": {},
   "outputs": [
    {
     "data": {
      "text/html": [
       "<div>\n",
       "<style scoped>\n",
       "    .dataframe tbody tr th:only-of-type {\n",
       "        vertical-align: middle;\n",
       "    }\n",
       "\n",
       "    .dataframe tbody tr th {\n",
       "        vertical-align: top;\n",
       "    }\n",
       "\n",
       "    .dataframe thead th {\n",
       "        text-align: right;\n",
       "    }\n",
       "</style>\n",
       "<table border=\"1\" class=\"dataframe\">\n",
       "  <thead>\n",
       "    <tr style=\"text-align: right;\">\n",
       "      <th></th>\n",
       "      <th>user_id</th>\n",
       "      <th>birth_year</th>\n",
       "      <th>country</th>\n",
       "      <th>city</th>\n",
       "      <th>created_date_x</th>\n",
       "      <th>user_settings_crypto_unlocked</th>\n",
       "      <th>plan</th>\n",
       "      <th>attributes_notifications_marketing_push</th>\n",
       "      <th>attributes_notifications_marketing_email</th>\n",
       "      <th>num_contacts</th>\n",
       "      <th>...</th>\n",
       "      <th>push_black_friday</th>\n",
       "      <th>push_blue_tuesday</th>\n",
       "      <th>push_joining_anniversary</th>\n",
       "      <th>push_lost_card_order</th>\n",
       "      <th>push_promo</th>\n",
       "      <th>push_reengagement_active_funds</th>\n",
       "      <th>push_silver_engagement_fees_saved</th>\n",
       "      <th>push_silver_engagement_inactive_card</th>\n",
       "      <th>sms_metal_reserve_plan</th>\n",
       "      <th>sms_reengagement_active_funds</th>\n",
       "    </tr>\n",
       "  </thead>\n",
       "  <tbody>\n",
       "    <tr>\n",
       "      <th>0</th>\n",
       "      <td>user_0</td>\n",
       "      <td>1992</td>\n",
       "      <td>ES</td>\n",
       "      <td>Madrid</td>\n",
       "      <td>2018-09-10 18:46:42.843855</td>\n",
       "      <td>0</td>\n",
       "      <td>STANDARD</td>\n",
       "      <td>1.0</td>\n",
       "      <td>1.0</td>\n",
       "      <td>3</td>\n",
       "      <td>...</td>\n",
       "      <td>1.0</td>\n",
       "      <td>0.0</td>\n",
       "      <td>0.0</td>\n",
       "      <td>0.0</td>\n",
       "      <td>0.0</td>\n",
       "      <td>1.0</td>\n",
       "      <td>0.0</td>\n",
       "      <td>0.0</td>\n",
       "      <td>0.0</td>\n",
       "      <td>0.0</td>\n",
       "    </tr>\n",
       "    <tr>\n",
       "      <th>1</th>\n",
       "      <td>user_1</td>\n",
       "      <td>1985</td>\n",
       "      <td>LT</td>\n",
       "      <td>Klaipeda</td>\n",
       "      <td>2018-01-11 18:53:10.531146</td>\n",
       "      <td>1</td>\n",
       "      <td>STANDARD</td>\n",
       "      <td>NaN</td>\n",
       "      <td>NaN</td>\n",
       "      <td>75</td>\n",
       "      <td>...</td>\n",
       "      <td>0.0</td>\n",
       "      <td>0.0</td>\n",
       "      <td>1.0</td>\n",
       "      <td>0.0</td>\n",
       "      <td>1.0</td>\n",
       "      <td>3.0</td>\n",
       "      <td>0.0</td>\n",
       "      <td>0.0</td>\n",
       "      <td>0.0</td>\n",
       "      <td>0.0</td>\n",
       "    </tr>\n",
       "    <tr>\n",
       "      <th>2</th>\n",
       "      <td>user_2</td>\n",
       "      <td>1996</td>\n",
       "      <td>IE</td>\n",
       "      <td>Carrickmacross</td>\n",
       "      <td>2018-11-29 17:29:16.879324</td>\n",
       "      <td>0</td>\n",
       "      <td>STANDARD</td>\n",
       "      <td>NaN</td>\n",
       "      <td>NaN</td>\n",
       "      <td>71</td>\n",
       "      <td>...</td>\n",
       "      <td>0.0</td>\n",
       "      <td>0.0</td>\n",
       "      <td>0.0</td>\n",
       "      <td>1.0</td>\n",
       "      <td>1.0</td>\n",
       "      <td>1.0</td>\n",
       "      <td>0.0</td>\n",
       "      <td>0.0</td>\n",
       "      <td>0.0</td>\n",
       "      <td>0.0</td>\n",
       "    </tr>\n",
       "    <tr>\n",
       "      <th>3</th>\n",
       "      <td>user_3</td>\n",
       "      <td>1981</td>\n",
       "      <td>IE</td>\n",
       "      <td>Dublin</td>\n",
       "      <td>2018-02-17 11:58:08.319664</td>\n",
       "      <td>0</td>\n",
       "      <td>STANDARD</td>\n",
       "      <td>NaN</td>\n",
       "      <td>NaN</td>\n",
       "      <td>219</td>\n",
       "      <td>...</td>\n",
       "      <td>0.0</td>\n",
       "      <td>0.0</td>\n",
       "      <td>1.0</td>\n",
       "      <td>0.0</td>\n",
       "      <td>0.0</td>\n",
       "      <td>5.0</td>\n",
       "      <td>0.0</td>\n",
       "      <td>0.0</td>\n",
       "      <td>0.0</td>\n",
       "      <td>0.0</td>\n",
       "    </tr>\n",
       "    <tr>\n",
       "      <th>4</th>\n",
       "      <td>user_4</td>\n",
       "      <td>1992</td>\n",
       "      <td>GB</td>\n",
       "      <td>London</td>\n",
       "      <td>2018-01-08 18:40:21.097856</td>\n",
       "      <td>0</td>\n",
       "      <td>STANDARD</td>\n",
       "      <td>NaN</td>\n",
       "      <td>NaN</td>\n",
       "      <td>0</td>\n",
       "      <td>...</td>\n",
       "      <td>0.0</td>\n",
       "      <td>0.0</td>\n",
       "      <td>0.0</td>\n",
       "      <td>0.0</td>\n",
       "      <td>1.0</td>\n",
       "      <td>3.0</td>\n",
       "      <td>0.0</td>\n",
       "      <td>0.0</td>\n",
       "      <td>0.0</td>\n",
       "      <td>0.0</td>\n",
       "    </tr>\n",
       "    <tr>\n",
       "      <th>...</th>\n",
       "      <td>...</td>\n",
       "      <td>...</td>\n",
       "      <td>...</td>\n",
       "      <td>...</td>\n",
       "      <td>...</td>\n",
       "      <td>...</td>\n",
       "      <td>...</td>\n",
       "      <td>...</td>\n",
       "      <td>...</td>\n",
       "      <td>...</td>\n",
       "      <td>...</td>\n",
       "      <td>...</td>\n",
       "      <td>...</td>\n",
       "      <td>...</td>\n",
       "      <td>...</td>\n",
       "      <td>...</td>\n",
       "      <td>...</td>\n",
       "      <td>...</td>\n",
       "      <td>...</td>\n",
       "      <td>...</td>\n",
       "      <td>...</td>\n",
       "    </tr>\n",
       "    <tr>\n",
       "      <th>15539</th>\n",
       "      <td>user_15539</td>\n",
       "      <td>1997</td>\n",
       "      <td>PL</td>\n",
       "      <td>Bralin</td>\n",
       "      <td>2018-08-05 05:56:40.787458</td>\n",
       "      <td>0</td>\n",
       "      <td>STANDARD</td>\n",
       "      <td>1.0</td>\n",
       "      <td>1.0</td>\n",
       "      <td>0</td>\n",
       "      <td>...</td>\n",
       "      <td>1.0</td>\n",
       "      <td>0.0</td>\n",
       "      <td>0.0</td>\n",
       "      <td>0.0</td>\n",
       "      <td>0.0</td>\n",
       "      <td>0.0</td>\n",
       "      <td>0.0</td>\n",
       "      <td>0.0</td>\n",
       "      <td>0.0</td>\n",
       "      <td>0.0</td>\n",
       "    </tr>\n",
       "    <tr>\n",
       "      <th>15540</th>\n",
       "      <td>user_15540</td>\n",
       "      <td>1985</td>\n",
       "      <td>PL</td>\n",
       "      <td>Poznań</td>\n",
       "      <td>2018-03-29 12:19:05.567779</td>\n",
       "      <td>0</td>\n",
       "      <td>STANDARD</td>\n",
       "      <td>NaN</td>\n",
       "      <td>NaN</td>\n",
       "      <td>0</td>\n",
       "      <td>...</td>\n",
       "      <td>NaN</td>\n",
       "      <td>NaN</td>\n",
       "      <td>NaN</td>\n",
       "      <td>NaN</td>\n",
       "      <td>NaN</td>\n",
       "      <td>NaN</td>\n",
       "      <td>NaN</td>\n",
       "      <td>NaN</td>\n",
       "      <td>NaN</td>\n",
       "      <td>NaN</td>\n",
       "    </tr>\n",
       "    <tr>\n",
       "      <th>15541</th>\n",
       "      <td>user_15541</td>\n",
       "      <td>1978</td>\n",
       "      <td>GB</td>\n",
       "      <td>London</td>\n",
       "      <td>2018-07-13 15:56:50.339746</td>\n",
       "      <td>0</td>\n",
       "      <td>STANDARD</td>\n",
       "      <td>1.0</td>\n",
       "      <td>1.0</td>\n",
       "      <td>16</td>\n",
       "      <td>...</td>\n",
       "      <td>1.0</td>\n",
       "      <td>0.0</td>\n",
       "      <td>0.0</td>\n",
       "      <td>0.0</td>\n",
       "      <td>0.0</td>\n",
       "      <td>0.0</td>\n",
       "      <td>0.0</td>\n",
       "      <td>0.0</td>\n",
       "      <td>0.0</td>\n",
       "      <td>0.0</td>\n",
       "    </tr>\n",
       "    <tr>\n",
       "      <th>15542</th>\n",
       "      <td>user_15542</td>\n",
       "      <td>1977</td>\n",
       "      <td>IE</td>\n",
       "      <td>Dublin</td>\n",
       "      <td>2018-01-07 15:53:43.719983</td>\n",
       "      <td>0</td>\n",
       "      <td>PAID</td>\n",
       "      <td>1.0</td>\n",
       "      <td>1.0</td>\n",
       "      <td>44</td>\n",
       "      <td>...</td>\n",
       "      <td>0.0</td>\n",
       "      <td>0.0</td>\n",
       "      <td>0.0</td>\n",
       "      <td>0.0</td>\n",
       "      <td>0.0</td>\n",
       "      <td>1.0</td>\n",
       "      <td>0.0</td>\n",
       "      <td>0.0</td>\n",
       "      <td>0.0</td>\n",
       "      <td>0.0</td>\n",
       "    </tr>\n",
       "    <tr>\n",
       "      <th>15543</th>\n",
       "      <td>user_15543</td>\n",
       "      <td>1994</td>\n",
       "      <td>GB</td>\n",
       "      <td>Andover</td>\n",
       "      <td>2018-08-18 12:17:02.086815</td>\n",
       "      <td>1</td>\n",
       "      <td>STANDARD</td>\n",
       "      <td>1.0</td>\n",
       "      <td>1.0</td>\n",
       "      <td>8</td>\n",
       "      <td>...</td>\n",
       "      <td>1.0</td>\n",
       "      <td>0.0</td>\n",
       "      <td>0.0</td>\n",
       "      <td>0.0</td>\n",
       "      <td>1.0</td>\n",
       "      <td>1.0</td>\n",
       "      <td>0.0</td>\n",
       "      <td>0.0</td>\n",
       "      <td>0.0</td>\n",
       "      <td>0.0</td>\n",
       "    </tr>\n",
       "  </tbody>\n",
       "</table>\n",
       "<p>15544 rows × 68 columns</p>\n",
       "</div>"
      ],
      "text/plain": [
       "          user_id  birth_year country            city  \\\n",
       "0          user_0        1992      ES          Madrid   \n",
       "1          user_1        1985      LT        Klaipeda   \n",
       "2          user_2        1996      IE  Carrickmacross   \n",
       "3          user_3        1981      IE          Dublin   \n",
       "4          user_4        1992      GB          London   \n",
       "...           ...         ...     ...             ...   \n",
       "15539  user_15539        1997      PL          Bralin   \n",
       "15540  user_15540        1985      PL          Poznań   \n",
       "15541  user_15541        1978      GB          London   \n",
       "15542  user_15542        1977      IE          Dublin   \n",
       "15543  user_15543        1994      GB         Andover   \n",
       "\n",
       "                   created_date_x  user_settings_crypto_unlocked      plan  \\\n",
       "0      2018-09-10 18:46:42.843855                              0  STANDARD   \n",
       "1      2018-01-11 18:53:10.531146                              1  STANDARD   \n",
       "2      2018-11-29 17:29:16.879324                              0  STANDARD   \n",
       "3      2018-02-17 11:58:08.319664                              0  STANDARD   \n",
       "4      2018-01-08 18:40:21.097856                              0  STANDARD   \n",
       "...                           ...                            ...       ...   \n",
       "15539  2018-08-05 05:56:40.787458                              0  STANDARD   \n",
       "15540  2018-03-29 12:19:05.567779                              0  STANDARD   \n",
       "15541  2018-07-13 15:56:50.339746                              0  STANDARD   \n",
       "15542  2018-01-07 15:53:43.719983                              0      PAID   \n",
       "15543  2018-08-18 12:17:02.086815                              1  STANDARD   \n",
       "\n",
       "       attributes_notifications_marketing_push  \\\n",
       "0                                          1.0   \n",
       "1                                          NaN   \n",
       "2                                          NaN   \n",
       "3                                          NaN   \n",
       "4                                          NaN   \n",
       "...                                        ...   \n",
       "15539                                      1.0   \n",
       "15540                                      NaN   \n",
       "15541                                      1.0   \n",
       "15542                                      1.0   \n",
       "15543                                      1.0   \n",
       "\n",
       "       attributes_notifications_marketing_email  num_contacts  ...  \\\n",
       "0                                           1.0             3  ...   \n",
       "1                                           NaN            75  ...   \n",
       "2                                           NaN            71  ...   \n",
       "3                                           NaN           219  ...   \n",
       "4                                           NaN             0  ...   \n",
       "...                                         ...           ...  ...   \n",
       "15539                                       1.0             0  ...   \n",
       "15540                                       NaN             0  ...   \n",
       "15541                                       1.0            16  ...   \n",
       "15542                                       1.0            44  ...   \n",
       "15543                                       1.0             8  ...   \n",
       "\n",
       "       push_black_friday  push_blue_tuesday push_joining_anniversary  \\\n",
       "0                    1.0                0.0                      0.0   \n",
       "1                    0.0                0.0                      1.0   \n",
       "2                    0.0                0.0                      0.0   \n",
       "3                    0.0                0.0                      1.0   \n",
       "4                    0.0                0.0                      0.0   \n",
       "...                  ...                ...                      ...   \n",
       "15539                1.0                0.0                      0.0   \n",
       "15540                NaN                NaN                      NaN   \n",
       "15541                1.0                0.0                      0.0   \n",
       "15542                0.0                0.0                      0.0   \n",
       "15543                1.0                0.0                      0.0   \n",
       "\n",
       "       push_lost_card_order  push_promo  push_reengagement_active_funds  \\\n",
       "0                       0.0         0.0                             1.0   \n",
       "1                       0.0         1.0                             3.0   \n",
       "2                       1.0         1.0                             1.0   \n",
       "3                       0.0         0.0                             5.0   \n",
       "4                       0.0         1.0                             3.0   \n",
       "...                     ...         ...                             ...   \n",
       "15539                   0.0         0.0                             0.0   \n",
       "15540                   NaN         NaN                             NaN   \n",
       "15541                   0.0         0.0                             0.0   \n",
       "15542                   0.0         0.0                             1.0   \n",
       "15543                   0.0         1.0                             1.0   \n",
       "\n",
       "       push_silver_engagement_fees_saved  \\\n",
       "0                                    0.0   \n",
       "1                                    0.0   \n",
       "2                                    0.0   \n",
       "3                                    0.0   \n",
       "4                                    0.0   \n",
       "...                                  ...   \n",
       "15539                                0.0   \n",
       "15540                                NaN   \n",
       "15541                                0.0   \n",
       "15542                                0.0   \n",
       "15543                                0.0   \n",
       "\n",
       "       push_silver_engagement_inactive_card  sms_metal_reserve_plan  \\\n",
       "0                                       0.0                     0.0   \n",
       "1                                       0.0                     0.0   \n",
       "2                                       0.0                     0.0   \n",
       "3                                       0.0                     0.0   \n",
       "4                                       0.0                     0.0   \n",
       "...                                     ...                     ...   \n",
       "15539                                   0.0                     0.0   \n",
       "15540                                   NaN                     NaN   \n",
       "15541                                   0.0                     0.0   \n",
       "15542                                   0.0                     0.0   \n",
       "15543                                   0.0                     0.0   \n",
       "\n",
       "       sms_reengagement_active_funds  \n",
       "0                                0.0  \n",
       "1                                0.0  \n",
       "2                                0.0  \n",
       "3                                0.0  \n",
       "4                                0.0  \n",
       "...                              ...  \n",
       "15539                            0.0  \n",
       "15540                            NaN  \n",
       "15541                            0.0  \n",
       "15542                            0.0  \n",
       "15543                            0.0  \n",
       "\n",
       "[15544 rows x 68 columns]"
      ]
     },
     "execution_count": 6,
     "metadata": {},
     "output_type": "execute_result"
    }
   ],
   "source": [
    "users_featured"
   ]
  },
  {
   "cell_type": "code",
   "execution_count": 7,
   "metadata": {},
   "outputs": [
    {
     "data": {
      "text/plain": [
       "<seaborn.axisgrid.FacetGrid at 0x1ad8209a688>"
      ]
     },
     "execution_count": 7,
     "metadata": {},
     "output_type": "execute_result"
    },
    {
     "data": {
      "image/png": "[encoded data removed]",
      "text/plain": [
       "<Figure size 417.625x360 with 1 Axes>"
      ]
     },
     "metadata": {
      "needs_background": "light"
     },
     "output_type": "display_data"
    }
   ],
   "source": [
    "sns.relplot(x=\"total_amount_of_transactions\", y=\"age\", hue=\"plan\", data=data_test)"
   ]
  },
  {
   "cell_type": "code",
   "execution_count": 8,
   "metadata": {},
   "outputs": [
    {
     "data": {
      "text/plain": [
       "<matplotlib.axes._subplots.AxesSubplot at 0x1ad83307a08>"
      ]
     },
     "execution_count": 8,
     "metadata": {},
     "output_type": "execute_result"
    },
    {
     "data": {
      "image/png": "[encoded data removed]",
      "text/plain": [
       "<Figure size 432x288 with 1 Axes>"
      ]
     },
     "metadata": {
      "needs_background": "light"
     },
     "output_type": "display_data"
    }
   ],
   "source": [
    "sns.countplot('plan',hue='duration',data=data_test)"
   ]
  },
  {
   "cell_type": "code",
   "execution_count": 9,
   "metadata": {},
   "outputs": [
    {
     "data": {
      "text/plain": [
       "<seaborn.axisgrid.FacetGrid at 0x1ad8209ba08>"
      ]
     },
     "execution_count": 9,
     "metadata": {},
     "output_type": "execute_result"
    },
    {
     "data": {
      "image/png": "[encoded data removed]",
      "text/plain": [
       "<Figure size 1728x288 with 2 Axes>"
      ]
     },
     "metadata": {
      "needs_background": "light"
     },
     "output_type": "display_data"
    }
   ],
   "source": [
    "sns.catplot(x=\"duration\", col=\"plan\",\n",
    "                data=data_test, kind=\"count\",\n",
    "                height=4, aspect=3)"
   ]
  },
  {
   "cell_type": "code",
   "execution_count": 10,
   "metadata": {},
   "outputs": [
    {
     "data": {
      "text/html": [
       "<div>\n",
       "<style scoped>\n",
       "    .dataframe tbody tr th:only-of-type {\n",
       "        vertical-align: middle;\n",
       "    }\n",
       "\n",
       "    .dataframe tbody tr th {\n",
       "        vertical-align: top;\n",
       "    }\n",
       "\n",
       "    .dataframe thead th {\n",
       "        text-align: right;\n",
       "    }\n",
       "</style>\n",
       "<table border=\"1\" class=\"dataframe\">\n",
       "  <thead>\n",
       "    <tr style=\"text-align: right;\">\n",
       "      <th></th>\n",
       "      <th>STANDARD</th>\n",
       "      <th>PAID</th>\n",
       "    </tr>\n",
       "    <tr>\n",
       "      <th>duration</th>\n",
       "      <th></th>\n",
       "      <th></th>\n",
       "    </tr>\n",
       "  </thead>\n",
       "  <tbody>\n",
       "    <tr>\n",
       "      <th>5</th>\n",
       "      <td>48</td>\n",
       "      <td>2</td>\n",
       "    </tr>\n",
       "    <tr>\n",
       "      <th>6</th>\n",
       "      <td>1830</td>\n",
       "      <td>92</td>\n",
       "    </tr>\n",
       "    <tr>\n",
       "      <th>7</th>\n",
       "      <td>1448</td>\n",
       "      <td>107</td>\n",
       "    </tr>\n",
       "    <tr>\n",
       "      <th>8</th>\n",
       "      <td>1351</td>\n",
       "      <td>103</td>\n",
       "    </tr>\n",
       "    <tr>\n",
       "      <th>9</th>\n",
       "      <td>1298</td>\n",
       "      <td>109</td>\n",
       "    </tr>\n",
       "    <tr>\n",
       "      <th>10</th>\n",
       "      <td>1284</td>\n",
       "      <td>137</td>\n",
       "    </tr>\n",
       "    <tr>\n",
       "      <th>11</th>\n",
       "      <td>1144</td>\n",
       "      <td>93</td>\n",
       "    </tr>\n",
       "    <tr>\n",
       "      <th>12</th>\n",
       "      <td>1150</td>\n",
       "      <td>112</td>\n",
       "    </tr>\n",
       "    <tr>\n",
       "      <th>13</th>\n",
       "      <td>1177</td>\n",
       "      <td>89</td>\n",
       "    </tr>\n",
       "    <tr>\n",
       "      <th>14</th>\n",
       "      <td>860</td>\n",
       "      <td>97</td>\n",
       "    </tr>\n",
       "    <tr>\n",
       "      <th>15</th>\n",
       "      <td>1339</td>\n",
       "      <td>79</td>\n",
       "    </tr>\n",
       "    <tr>\n",
       "      <th>16</th>\n",
       "      <td>653</td>\n",
       "      <td>55</td>\n",
       "    </tr>\n",
       "    <tr>\n",
       "      <th>17</th>\n",
       "      <td>812</td>\n",
       "      <td>75</td>\n",
       "    </tr>\n",
       "  </tbody>\n",
       "</table>\n",
       "</div>"
      ],
      "text/plain": [
       "          STANDARD  PAID\n",
       "duration                \n",
       "5               48     2\n",
       "6             1830    92\n",
       "7             1448   107\n",
       "8             1351   103\n",
       "9             1298   109\n",
       "10            1284   137\n",
       "11            1144    93\n",
       "12            1150   112\n",
       "13            1177    89\n",
       "14             860    97\n",
       "15            1339    79\n",
       "16             653    55\n",
       "17             812    75"
      ]
     },
     "execution_count": 10,
     "metadata": {},
     "output_type": "execute_result"
    }
   ],
   "source": [
    "duration_freqs = pd.crosstab(index=data_test['duration'], columns=data_test['plan'])\n",
    "duration_freqs.columns=['STANDARD','PAID']\n",
    "duration_freqs"
   ]
  },
  {
   "cell_type": "code",
   "execution_count": 11,
   "metadata": {
    "scrolled": true
   },
   "outputs": [
    {
     "data": {
      "text/html": [
       "<div>\n",
       "<style scoped>\n",
       "    .dataframe tbody tr th:only-of-type {\n",
       "        vertical-align: middle;\n",
       "    }\n",
       "\n",
       "    .dataframe tbody tr th {\n",
       "        vertical-align: top;\n",
       "    }\n",
       "\n",
       "    .dataframe thead th {\n",
       "        text-align: right;\n",
       "    }\n",
       "</style>\n",
       "<table border=\"1\" class=\"dataframe\">\n",
       "  <thead>\n",
       "    <tr style=\"text-align: right;\">\n",
       "      <th></th>\n",
       "      <th>STANDARD</th>\n",
       "      <th>PAID</th>\n",
       "      <th>percentage_STANDARD</th>\n",
       "      <th>percentage_PAID</th>\n",
       "      <th>duration</th>\n",
       "    </tr>\n",
       "    <tr>\n",
       "      <th>duration</th>\n",
       "      <th></th>\n",
       "      <th></th>\n",
       "      <th></th>\n",
       "      <th></th>\n",
       "      <th></th>\n",
       "    </tr>\n",
       "  </thead>\n",
       "  <tbody>\n",
       "    <tr>\n",
       "      <th>5</th>\n",
       "      <td>48</td>\n",
       "      <td>2</td>\n",
       "      <td>96.000000</td>\n",
       "      <td>4.000000</td>\n",
       "      <td>5</td>\n",
       "    </tr>\n",
       "    <tr>\n",
       "      <th>6</th>\n",
       "      <td>1830</td>\n",
       "      <td>92</td>\n",
       "      <td>95.213319</td>\n",
       "      <td>4.786681</td>\n",
       "      <td>6</td>\n",
       "    </tr>\n",
       "    <tr>\n",
       "      <th>7</th>\n",
       "      <td>1448</td>\n",
       "      <td>107</td>\n",
       "      <td>93.118971</td>\n",
       "      <td>6.881029</td>\n",
       "      <td>7</td>\n",
       "    </tr>\n",
       "    <tr>\n",
       "      <th>8</th>\n",
       "      <td>1351</td>\n",
       "      <td>103</td>\n",
       "      <td>92.916094</td>\n",
       "      <td>7.083906</td>\n",
       "      <td>8</td>\n",
       "    </tr>\n",
       "    <tr>\n",
       "      <th>9</th>\n",
       "      <td>1298</td>\n",
       "      <td>109</td>\n",
       "      <td>92.253021</td>\n",
       "      <td>7.746979</td>\n",
       "      <td>9</td>\n",
       "    </tr>\n",
       "    <tr>\n",
       "      <th>10</th>\n",
       "      <td>1284</td>\n",
       "      <td>137</td>\n",
       "      <td>90.358902</td>\n",
       "      <td>9.641098</td>\n",
       "      <td>10</td>\n",
       "    </tr>\n",
       "    <tr>\n",
       "      <th>11</th>\n",
       "      <td>1144</td>\n",
       "      <td>93</td>\n",
       "      <td>92.481811</td>\n",
       "      <td>7.518189</td>\n",
       "      <td>11</td>\n",
       "    </tr>\n",
       "    <tr>\n",
       "      <th>12</th>\n",
       "      <td>1150</td>\n",
       "      <td>112</td>\n",
       "      <td>91.125198</td>\n",
       "      <td>8.874802</td>\n",
       "      <td>12</td>\n",
       "    </tr>\n",
       "    <tr>\n",
       "      <th>13</th>\n",
       "      <td>1177</td>\n",
       "      <td>89</td>\n",
       "      <td>92.969984</td>\n",
       "      <td>7.030016</td>\n",
       "      <td>13</td>\n",
       "    </tr>\n",
       "    <tr>\n",
       "      <th>14</th>\n",
       "      <td>860</td>\n",
       "      <td>97</td>\n",
       "      <td>89.864159</td>\n",
       "      <td>10.135841</td>\n",
       "      <td>14</td>\n",
       "    </tr>\n",
       "    <tr>\n",
       "      <th>15</th>\n",
       "      <td>1339</td>\n",
       "      <td>79</td>\n",
       "      <td>94.428773</td>\n",
       "      <td>5.571227</td>\n",
       "      <td>15</td>\n",
       "    </tr>\n",
       "    <tr>\n",
       "      <th>16</th>\n",
       "      <td>653</td>\n",
       "      <td>55</td>\n",
       "      <td>92.231638</td>\n",
       "      <td>7.768362</td>\n",
       "      <td>16</td>\n",
       "    </tr>\n",
       "    <tr>\n",
       "      <th>17</th>\n",
       "      <td>812</td>\n",
       "      <td>75</td>\n",
       "      <td>91.544532</td>\n",
       "      <td>8.455468</td>\n",
       "      <td>17</td>\n",
       "    </tr>\n",
       "  </tbody>\n",
       "</table>\n",
       "</div>"
      ],
      "text/plain": [
       "          STANDARD  PAID  percentage_STANDARD  percentage_PAID  duration\n",
       "duration                                                                \n",
       "5               48     2            96.000000         4.000000         5\n",
       "6             1830    92            95.213319         4.786681         6\n",
       "7             1448   107            93.118971         6.881029         7\n",
       "8             1351   103            92.916094         7.083906         8\n",
       "9             1298   109            92.253021         7.746979         9\n",
       "10            1284   137            90.358902         9.641098        10\n",
       "11            1144    93            92.481811         7.518189        11\n",
       "12            1150   112            91.125198         8.874802        12\n",
       "13            1177    89            92.969984         7.030016        13\n",
       "14             860    97            89.864159        10.135841        14\n",
       "15            1339    79            94.428773         5.571227        15\n",
       "16             653    55            92.231638         7.768362        16\n",
       "17             812    75            91.544532         8.455468        17"
      ]
     },
     "execution_count": 11,
     "metadata": {},
     "output_type": "execute_result"
    }
   ],
   "source": [
    "duration_freqs['percentage_STANDARD'] = duration_freqs[['STANDARD', 'PAID']].apply(lambda x: 100 * x[0] / (x[0] + x[1]), axis=1)\n",
    "duration_freqs['percentage_PAID'] = duration_freqs[['STANDARD', 'PAID']].apply(lambda x: 100 * x[1] / (x[0] + x[1]), axis=1)\n",
    "duration_freqs['duration'] = duration_freqs.index\n",
    "duration_freqs.head()\n",
    "duration_freqs"
   ]
  },
  {
   "cell_type": "code",
   "execution_count": 12,
   "metadata": {},
   "outputs": [
    {
     "data": {
      "text/plain": [
       "<matplotlib.axes._subplots.AxesSubplot at 0x1ad83485a88>"
      ]
     },
     "execution_count": 12,
     "metadata": {},
     "output_type": "execute_result"
    },
    {
     "data": {
      "image/png": "[encoded data removed]",
      "text/plain": [
       "<Figure size 432x288 with 1 Axes>"
      ]
     },
     "metadata": {},
     "output_type": "display_data"
    }
   ],
   "source": [
    "# stylistic command\n",
    "sns.set()\n",
    "sns.lineplot(x='duration', y='percentage_STANDARD', data=duration_freqs, label=\"STANDARD\")\n",
    "sns.lineplot(x='duration', y='percentage_PAID', data=duration_freqs, label=\"PAID\")\n"
   ]
  },
  {
   "cell_type": "code",
   "execution_count": 13,
   "metadata": {},
   "outputs": [
    {
     "data": {
      "text/html": [
       "<div>\n",
       "<style scoped>\n",
       "    .dataframe tbody tr th:only-of-type {\n",
       "        vertical-align: middle;\n",
       "    }\n",
       "\n",
       "    .dataframe tbody tr th {\n",
       "        vertical-align: top;\n",
       "    }\n",
       "\n",
       "    .dataframe thead th {\n",
       "        text-align: right;\n",
       "    }\n",
       "</style>\n",
       "<table border=\"1\" class=\"dataframe\">\n",
       "  <thead>\n",
       "    <tr style=\"text-align: right;\">\n",
       "      <th></th>\n",
       "      <th>STANDARD</th>\n",
       "      <th>PAID</th>\n",
       "      <th>percentage_STANDARD</th>\n",
       "      <th>percentage_PAID</th>\n",
       "      <th>user_settings_crypto_unlocked</th>\n",
       "    </tr>\n",
       "    <tr>\n",
       "      <th>user_settings_crypto_unlocked</th>\n",
       "      <th></th>\n",
       "      <th></th>\n",
       "      <th></th>\n",
       "      <th></th>\n",
       "      <th></th>\n",
       "    </tr>\n",
       "  </thead>\n",
       "  <tbody>\n",
       "    <tr>\n",
       "      <th>0</th>\n",
       "      <td>12155</td>\n",
       "      <td>554</td>\n",
       "      <td>95.640884</td>\n",
       "      <td>4.359116</td>\n",
       "      <td>0</td>\n",
       "    </tr>\n",
       "    <tr>\n",
       "      <th>1</th>\n",
       "      <td>2239</td>\n",
       "      <td>596</td>\n",
       "      <td>78.977072</td>\n",
       "      <td>21.022928</td>\n",
       "      <td>1</td>\n",
       "    </tr>\n",
       "  </tbody>\n",
       "</table>\n",
       "</div>"
      ],
      "text/plain": [
       "                               STANDARD  PAID  percentage_STANDARD  \\\n",
       "user_settings_crypto_unlocked                                        \n",
       "0                                 12155   554            95.640884   \n",
       "1                                  2239   596            78.977072   \n",
       "\n",
       "                               percentage_PAID  user_settings_crypto_unlocked  \n",
       "user_settings_crypto_unlocked                                                  \n",
       "0                                     4.359116                              0  \n",
       "1                                    21.022928                              1  "
      ]
     },
     "execution_count": 13,
     "metadata": {},
     "output_type": "execute_result"
    }
   ],
   "source": [
    "user_settings_crypto_unlocked_freqs = pd.crosstab(index=data_test['user_settings_crypto_unlocked'], columns=data_test['plan'])\n",
    "user_settings_crypto_unlocked_freqs.columns=['STANDARD','PAID']\n",
    "user_settings_crypto_unlocked_freqs\n",
    "user_settings_crypto_unlocked_freqs['percentage_STANDARD'] = user_settings_crypto_unlocked_freqs[['STANDARD', 'PAID']].apply(lambda x: 100 * x[0] / (x[0] + x[1]), axis=1)\n",
    "user_settings_crypto_unlocked_freqs['percentage_PAID'] = user_settings_crypto_unlocked_freqs[['STANDARD', 'PAID']].apply(lambda x: 100 * x[1] / (x[0] + x[1]), axis=1)\n",
    "user_settings_crypto_unlocked_freqs['user_settings_crypto_unlocked'] = user_settings_crypto_unlocked_freqs.index\n",
    "user_settings_crypto_unlocked_freqs.head()\n",
    "user_settings_crypto_unlocked_freqs"
   ]
  },
  {
   "cell_type": "code",
   "execution_count": 14,
   "metadata": {},
   "outputs": [
    {
     "data": {
      "text/plain": [
       "<matplotlib.axes._subplots.AxesSubplot at 0x1ad8349f508>"
      ]
     },
     "execution_count": 14,
     "metadata": {},
     "output_type": "execute_result"
    },
    {
     "data": {
      "image/png": "[encoded data removed]",
      "text/plain": [
       "<Figure size 432x288 with 1 Axes>"
      ]
     },
     "metadata": {},
     "output_type": "display_data"
    }
   ],
   "source": [
    "# stylistic command\n",
    "sns.set()\n",
    "sns.lineplot(x='user_settings_crypto_unlocked', y='percentage_STANDARD', data=user_settings_crypto_unlocked_freqs, label=\"STANDARD\")\n",
    "sns.lineplot(x='user_settings_crypto_unlocked', y='percentage_PAID', data=user_settings_crypto_unlocked_freqs, label=\"PAID\")"
   ]
  },
  {
   "cell_type": "code",
   "execution_count": 15,
   "metadata": {},
   "outputs": [
    {
     "data": {
      "text/plain": [
       "(15544, 51)"
      ]
     },
     "execution_count": 15,
     "metadata": {},
     "output_type": "execute_result"
    }
   ],
   "source": [
    "from sklearn.model_selection import train_test_split\n",
    "\n",
    "X = data_test.drop(columns=['plan']).values\n",
    "X_columns = data_test.drop(columns=['plan']).columns\n",
    "y = data_test['plan'].values\n",
    "\n",
    "X.shape"
   ]
  },
  {
   "cell_type": "code",
   "execution_count": 16,
   "metadata": {},
   "outputs": [
    {
     "data": {
      "text/plain": [
       "(15544, 52)"
      ]
     },
     "execution_count": 16,
     "metadata": {},
     "output_type": "execute_result"
    }
   ],
   "source": [
    "data_test.shape"
   ]
  },
  {
   "cell_type": "code",
   "execution_count": 17,
   "metadata": {},
   "outputs": [
    {
     "data": {
      "text/plain": [
       "(15544,)"
      ]
     },
     "execution_count": 17,
     "metadata": {},
     "output_type": "execute_result"
    }
   ],
   "source": [
    "y.shape"
   ]
  },
  {
   "cell_type": "code",
   "execution_count": 18,
   "metadata": {},
   "outputs": [
    {
     "data": {
      "text/plain": [
       "numpy.ndarray"
      ]
     },
     "execution_count": 18,
     "metadata": {},
     "output_type": "execute_result"
    }
   ],
   "source": [
    "type(y)"
   ]
  },
  {
   "cell_type": "code",
   "execution_count": 19,
   "metadata": {},
   "outputs": [
    {
     "data": {
      "text/plain": [
       "(3109,)"
      ]
     },
     "execution_count": 19,
     "metadata": {},
     "output_type": "execute_result"
    }
   ],
   "source": [
    "X_tr, X_ts, y_tr, y_ts = train_test_split(X, y, test_size=0.2, stratify=y)\n",
    "y_ts.shape"
   ]
  },
  {
   "cell_type": "markdown",
   "metadata": {},
   "source": [
    "Imbalance"
   ]
  },
  {
   "cell_type": "code",
   "execution_count": 20,
   "metadata": {},
   "outputs": [],
   "source": [
    "target='plan'"
   ]
  },
  {
   "cell_type": "code",
   "execution_count": 21,
   "metadata": {},
   "outputs": [
    {
     "name": "stdout",
     "output_type": "stream",
     "text": [
      "0    14394\n",
      "1     1150\n",
      "Name: plan, dtype: int64\n"
     ]
    },
    {
     "data": {
      "image/png": "[encoded data removed]",
      "text/plain": [
       "<Figure size 432x288 with 1 Axes>"
      ]
     },
     "metadata": {},
     "output_type": "display_data"
    }
   ],
   "source": [
    "ax=sns.countplot(x= target, data= data_test)\n",
    "print(data_test['plan'].value_counts())"
   ]
  },
  {
   "cell_type": "code",
   "execution_count": 22,
   "metadata": {},
   "outputs": [
    {
     "data": {
      "text/plain": [
       "92.60164693772516"
      ]
     },
     "execution_count": 22,
     "metadata": {},
     "output_type": "execute_result"
    }
   ],
   "source": [
    "100* (14394/float(data_test.shape[0]))"
   ]
  },
  {
   "cell_type": "code",
   "execution_count": 23,
   "metadata": {},
   "outputs": [
    {
     "data": {
      "text/plain": [
       "7.3983530622748335"
      ]
     },
     "execution_count": 23,
     "metadata": {},
     "output_type": "execute_result"
    }
   ],
   "source": [
    "100*(1150/float(data_test.shape[0]))"
   ]
  },
  {
   "cell_type": "code",
   "execution_count": 24,
   "metadata": {},
   "outputs": [],
   "source": [
    "from sklearn.metrics import classification_report ,f1_score, roc_auc_score, roc_curve, recall_score , precision_score,accuracy_score , precision_recall_fscore_support"
   ]
  },
  {
   "cell_type": "code",
   "execution_count": 25,
   "metadata": {},
   "outputs": [],
   "source": [
    "def generate_model_report (y_actual, y_predicted):\n",
    "    print(\"Accuracy =\", accuracy_score(y_actual, y_predicted))\n",
    "    print(\"Recall =\", recall_score(y_actual, y_predicted))\n",
    "    print(\"Precision =\", precision_score(y_actual, y_predicted))\n",
    "    print(\"F1 Score =\", f1_score(y_actual, y_predicted))\n",
    "    pass"
   ]
  },
  {
   "cell_type": "code",
   "execution_count": 26,
   "metadata": {},
   "outputs": [],
   "source": [
    "def generate_auc_roc_curve(clf, X_ts):\n",
    "    y_pred_proba = clf.predict_proba(X_ts)[:,1]\n",
    "    fpr ,tpr, thresholds = roc_curve(y_ts, y_pred_proba)\n",
    "    auc=roc_auc_score(y_ts,y_pred_proba)\n",
    "    plt.plot(fpr,tpr,label=\"AUC ROC Curve with Area Under the curve=\" +str(auc))\n",
    "    plt.legend(loc=4)\n",
    "    plt.show()\n",
    "    pass"
   ]
  },
  {
   "cell_type": "code",
   "execution_count": 30,
   "metadata": {},
   "outputs": [
    {
     "name": "stdout",
     "output_type": "stream",
     "text": [
      "Accuracy = 0.9437118044387263\n",
      "Recall = 0.2956521739130435\n",
      "Precision = 0.8395061728395061\n",
      "F1 Score = 0.43729903536977494\n"
     ]
    },
    {
     "name": "stderr",
     "output_type": "stream",
     "text": [
      "C:\\Users\\user\\anaconda3\\lib\\site-packages\\sklearn\\linear_model\\_logistic.py:940: ConvergenceWarning: lbfgs failed to converge (status=1):\n",
      "STOP: TOTAL NO. of ITERATIONS REACHED LIMIT.\n",
      "\n",
      "Increase the number of iterations (max_iter) or scale the data as shown in:\n",
      "    https://scikit-learn.org/stable/modules/preprocessing.html\n",
      "Please also refer to the documentation for alternative solver options:\n",
      "    https://scikit-learn.org/stable/modules/linear_model.html#logistic-regression\n",
      "  extra_warning_msg=_LOGISTIC_SOLVER_CONVERGENCE_MSG)\n"
     ]
    }
   ],
   "source": [
    "from sklearn.linear_model import LogisticRegression\n",
    "clf=LogisticRegression().fit(X_tr, y_tr)\n",
    "Y_Test_Pred=clf.predict(X_ts)\n",
    "generate_model_report(y_ts, Y_Test_Pred)"
   ]
  },
  {
   "cell_type": "code",
   "execution_count": 28,
   "metadata": {
    "scrolled": true
   },
   "outputs": [
    {
     "data": {
      "image/png": "[encoded data removed]",
      "text/plain": [
       "<Figure size 432x288 with 1 Axes>"
      ]
     },
     "metadata": {},
     "output_type": "display_data"
    }
   ],
   "source": [
    "generate_auc_roc_curve(clf, X_ts)"
   ]
  },
  {
   "cell_type": "markdown",
   "metadata": {},
   "source": [
    "UNDERSAMPLING"
   ]
  },
  {
   "cell_type": "code",
   "execution_count": 29,
   "metadata": {},
   "outputs": [
    {
     "name": "stdout",
     "output_type": "stream",
     "text": [
      "Original dataset:\n",
      "Total number of examples: 12435\n",
      "class 0: 92.60% of total samples\n",
      "class 1: 7.40% of total samples\n",
      "\n",
      "Oversampled dataset:\n",
      "Total number of examples: 1840\n",
      "class 0: 50.00% of total samples\n",
      "class 1: 50.00% of total samples\n",
      "\n",
      "Undersampled dataset:\n",
      "Total number of examples: 1840\n",
      "class 0: 50.00% of total samples\n",
      "class 1: 50.00% of total samples\n"
     ]
    }
   ],
   "source": [
    "from imblearn.under_sampling import RandomUnderSampler\n",
    "from imblearn.over_sampling import RandomOverSampler\n",
    "rus=RandomUnderSampler()\n",
    "X_under, y_under = rus.fit_sample(X_tr, y_tr)\n",
    "ros=RandomOverSampler()\n",
    "X_over, y_over = rus.fit_sample(X_tr, y_tr)\n",
    "\n",
    "print('Original dataset:') \n",
    "_, c = np.unique(y_tr, return_counts=True) \n",
    "print('Total number of examples:', len(y_tr)) \n",
    "print('class 0: {:.2f}% of total samples'.format(c[0]/c.sum()*100)) \n",
    "print('class 1: {:.2f}% of total samples'.format(c[1]/c.sum()*100))\n",
    "\n",
    "print('\\nOversampled dataset:') \n",
    "_, c = np.unique(y_over, return_counts=True) \n",
    "print('Total number of examples:', len(y_over)) \n",
    "print('class 0: {:.2f}% of total samples'.format(c[0]/c.sum()*100)) \n",
    "print('class 1: {:.2f}% of total samples'.format(c[1]/c.sum()*100))\n",
    "\n",
    "print('\\nUndersampled dataset:') \n",
    "_, c = np.unique(y_under, return_counts=True) \n",
    "print('Total number of examples:', len(y_under)) \n",
    "print('class 0: {:.2f}% of total samples'.format(c[0]/c.sum()*100)) \n",
    "print('class 1: {:.2f}% of total samples'.format(c[1]/c.sum()*100))"
   ]
  },
  {
   "cell_type": "code",
   "execution_count": 31,
   "metadata": {},
   "outputs": [
    {
     "data": {
      "text/plain": [
       "0    14394\n",
       "1     1150\n",
       "Name: plan, dtype: int64"
      ]
     },
     "execution_count": 31,
     "metadata": {},
     "output_type": "execute_result"
    }
   ],
   "source": [
    "data_test.plan.value_counts()"
   ]
  },
  {
   "cell_type": "code",
   "execution_count": 35,
   "metadata": {},
   "outputs": [
    {
     "data": {
      "text/plain": [
       "1    14394\n",
       "0    14394\n",
       "Name: plan, dtype: int64"
      ]
     },
     "execution_count": 35,
     "metadata": {},
     "output_type": "execute_result"
    }
   ],
   "source": [
    "from sklearn.utils import resample\n",
    "# Separate majority and minority classes\n",
    "data_test_majority = data_test[data_test.plan==0]\n",
    "data_test_minority = data_test[data_test.plan==1]\n",
    " \n",
    "# Upsample minority class\n",
    "data_test_minority_upsampled = resample(data_test_minority, \n",
    "                                 replace=True,     # sample with replacement\n",
    "                                 n_samples=14394,    # to match majority class\n",
    "                                 random_state=123) # reproducible results\n",
    " \n",
    "# Combine majority class with upsampled minority class\n",
    "data_test_upsampled = pd.concat([data_test_majority, data_test_minority_upsampled])\n",
    " \n",
    "# Display new class counts\n",
    "data_test_upsampled.plan.value_counts()"
   ]
  },
  {
   "cell_type": "code",
   "execution_count": 36,
   "metadata": {},
   "outputs": [
    {
     "data": {
      "text/plain": [
       "(28788, 51)"
      ]
     },
     "execution_count": 36,
     "metadata": {},
     "output_type": "execute_result"
    }
   ],
   "source": [
    "from sklearn.model_selection import train_test_split\n",
    "\n",
    "X = data_test_upsampled.drop(columns=['plan']).values\n",
    "X_columns = data_test_upsampled.drop(columns=['plan']).columns\n",
    "y = data_test_upsampled['plan'].values\n",
    "\n",
    "X.shape"
   ]
  },
  {
   "cell_type": "code",
   "execution_count": 37,
   "metadata": {},
   "outputs": [
    {
     "data": {
      "text/plain": [
       "(5758,)"
      ]
     },
     "execution_count": 37,
     "metadata": {},
     "output_type": "execute_result"
    }
   ],
   "source": [
    "X_tr, X_ts, y_tr, y_ts = train_test_split(X, y, test_size=0.2, stratify=y)\n",
    "y_ts.shape"
   ]
  },
  {
   "cell_type": "code",
   "execution_count": 38,
   "metadata": {},
   "outputs": [
    {
     "name": "stdout",
     "output_type": "stream",
     "text": [
      "F1 Score: 0.991\n"
     ]
    }
   ],
   "source": [
    "from numpy import mean\n",
    "from sklearn.datasets import make_classification\n",
    "from sklearn.model_selection import cross_val_score\n",
    "from sklearn.model_selection import RepeatedStratifiedKFold\n",
    "from sklearn.tree import DecisionTreeClassifier\n",
    "from imblearn.pipeline import Pipeline\n",
    "from imblearn.under_sampling import RandomUnderSampler\n",
    "steps = [('under', RandomUnderSampler()), ('model', DecisionTreeClassifier())]\n",
    "pipeline = Pipeline(steps=steps)\n",
    "# evaluate pipeline\n",
    "cv = RepeatedStratifiedKFold(n_splits=10, n_repeats=3, random_state=1)\n",
    "scores = cross_val_score(pipeline, X, y, scoring='f1_micro', cv=cv, n_jobs=-1)\n",
    "score = mean(scores)\n",
    "print('F1 Score: %.3f' % score)"
   ]
  },
  {
   "cell_type": "code",
   "execution_count": 39,
   "metadata": {},
   "outputs": [
    {
     "name": "stdout",
     "output_type": "stream",
     "text": [
      "F1 Score: 0.991\n"
     ]
    }
   ],
   "source": [
    "from numpy import mean\n",
    "from sklearn.datasets import make_classification\n",
    "from sklearn.model_selection import cross_val_score\n",
    "from sklearn.model_selection import RepeatedStratifiedKFold\n",
    "from sklearn.tree import DecisionTreeClassifier\n",
    "from imblearn.pipeline import Pipeline\n",
    "from imblearn.over_sampling import RandomOverSampler\n",
    "steps = [('over', RandomUnderSampler()), ('model', DecisionTreeClassifier())]\n",
    "pipeline = Pipeline(steps=steps)\n",
    "# evaluate pipeline\n",
    "cv = RepeatedStratifiedKFold(n_splits=10, n_repeats=3, random_state=1)\n",
    "scores = cross_val_score(pipeline, X, y, scoring='f1_micro', cv=cv, n_jobs=-1)\n",
    "score = mean(scores)\n",
    "print('F1 Score: %.3f' % score)"
   ]
  },
  {
   "cell_type": "markdown",
   "metadata": {},
   "source": [
    "LogisticRegression"
   ]
  },
  {
   "cell_type": "code",
   "execution_count": 40,
   "metadata": {
    "scrolled": false
   },
   "outputs": [
    {
     "name": "stdout",
     "output_type": "stream",
     "text": [
      "accuracy: 74.87%\n"
     ]
    },
    {
     "name": "stderr",
     "output_type": "stream",
     "text": [
      "C:\\Users\\user\\anaconda3\\lib\\site-packages\\sklearn\\linear_model\\_logistic.py:940: ConvergenceWarning: lbfgs failed to converge (status=1):\n",
      "STOP: TOTAL NO. of ITERATIONS REACHED LIMIT.\n",
      "\n",
      "Increase the number of iterations (max_iter) or scale the data as shown in:\n",
      "    https://scikit-learn.org/stable/modules/preprocessing.html\n",
      "Please also refer to the documentation for alternative solver options:\n",
      "    https://scikit-learn.org/stable/modules/linear_model.html#logistic-regression\n",
      "  extra_warning_msg=_LOGISTIC_SOLVER_CONVERGENCE_MSG)\n"
     ]
    }
   ],
   "source": [
    "from sklearn.linear_model import LogisticRegression\n",
    "log_reg = LogisticRegression()\n",
    "log_reg.fit(X_tr, y_tr)\n",
    "lr_pred = log_reg.predict(X_ts)\n",
    "print('accuracy: {:.2f}%'.format(accuracy_score(y_ts, lr_pred)*100))"
   ]
  },
  {
   "cell_type": "markdown",
   "metadata": {},
   "source": [
    "Other ML algorithms"
   ]
  },
  {
   "cell_type": "code",
   "execution_count": 41,
   "metadata": {},
   "outputs": [],
   "source": [
    "# Import the relevant algorithms\n",
    "from sklearn.neural_network import MLPClassifier\n",
    "from sklearn.neighbors import KNeighborsClassifier\n",
    "from sklearn.tree import DecisionTreeClassifier\n",
    "from sklearn.feature_selection import VarianceThreshold\n",
    "from sklearn.ensemble import RandomForestClassifier\n",
    "\n",
    "# We will use the default arguments for all classifiers\n",
    "mlp= MLPClassifier()\n",
    "knn= KNeighborsClassifier()\n",
    "dtc= DecisionTreeClassifier()\n",
    "var = VarianceThreshold()\n",
    "rf = RandomForestClassifier(n_estimators=50, n_jobs=-1)"
   ]
  },
  {
   "cell_type": "code",
   "execution_count": 42,
   "metadata": {},
   "outputs": [],
   "source": [
    "from sklearn.feature_selection import VarianceThreshold\n",
    "var = VarianceThreshold()\n",
    "from sklearn.preprocessing import StandardScaler\n",
    "sc = StandardScaler()\n",
    "from imblearn.over_sampling import SMOTE\n",
    "from imblearn.pipeline import Pipeline\n",
    "sampler = SMOTE()\n",
    "from sklearn.ensemble import RandomForestClassifier\n",
    "from sklearn.model_selection import GridSearchCV\n",
    "rf = RandomForestClassifier()\n"
   ]
  },
  {
   "cell_type": "code",
   "execution_count": 43,
   "metadata": {
    "scrolled": false
   },
   "outputs": [
    {
     "name": "stderr",
     "output_type": "stream",
     "text": [
      "C:\\Users\\user\\anaconda3\\lib\\site-packages\\sklearn\\neural_network\\_multilayer_perceptron.py:571: ConvergenceWarning: Stochastic Optimizer: Maximum iterations (200) reached and the optimization hasn't converged yet.\n",
      "  % self.max_iter, ConvergenceWarning)\n"
     ]
    },
    {
     "data": {
      "text/plain": [
       "DecisionTreeClassifier(ccp_alpha=0.0, class_weight=None, criterion='gini',\n",
       "                       max_depth=None, max_features=None, max_leaf_nodes=None,\n",
       "                       min_impurity_decrease=0.0, min_impurity_split=None,\n",
       "                       min_samples_leaf=1, min_samples_split=2,\n",
       "                       min_weight_fraction_leaf=0.0, presort='deprecated',\n",
       "                       random_state=None, splitter='best')"
      ]
     },
     "execution_count": 43,
     "metadata": {},
     "output_type": "execute_result"
    }
   ],
   "source": [
    "# Train the above classifiers\n",
    "mlp.fit(X_tr, y_tr)\n",
    "knn.fit(X_tr, y_tr)\n",
    "dtc.fit(X_tr, y_tr)"
   ]
  },
  {
   "cell_type": "code",
   "execution_count": 44,
   "metadata": {},
   "outputs": [
    {
     "name": "stdout",
     "output_type": "stream",
     "text": [
      "Neural Network :  94.72%\n",
      "k Nearest Neighbors :  91.94%\n",
      "Decision Tree :  98.82%\n"
     ]
    }
   ],
   "source": [
    "# Evaluate the classifiers\n",
    "preds=mlp.predict(X_ts)\n",
    "print ('Neural Network :  {:.2f}%'.format(accuracy_score(y_ts, preds)*100))\n",
    "preds=knn.predict(X_ts)\n",
    "print ('k Nearest Neighbors :  {:.2f}%'.format(accuracy_score(y_ts, preds)*100))\n",
    "preds=dtc.predict(X_ts)\n",
    "print ('Decision Tree :  {:.2f}%'.format(accuracy_score(y_ts, preds)*100))"
   ]
  },
  {
   "cell_type": "code",
   "execution_count": 45,
   "metadata": {},
   "outputs": [
    {
     "name": "stdout",
     "output_type": "stream",
     "text": [
      "{'model__n_estimators': 100, 'selector__threshold': 0.4} \n",
      "\n",
      "accuracy: 97.36%\n",
      "              precision    recall  f1-score   support\n",
      "\n",
      "           0       0.98      0.97      0.97      2879\n",
      "           1       0.97      0.98      0.97      2879\n",
      "\n",
      "    accuracy                           0.97      5758\n",
      "   macro avg       0.97      0.97      0.97      5758\n",
      "weighted avg       0.97      0.97      0.97      5758\n",
      "\n"
     ]
    }
   ],
   "source": [
    "from sklearn.ensemble import RandomForestClassifier\n",
    "from sklearn.model_selection import GridSearchCV\n",
    "\n",
    "rf = RandomForestClassifier(n_estimators=1000, max_depth=10, random_state=0)\n",
    "\n",
    "pipe1 = Pipeline([('scaler', sc),\n",
    "                  ('selector', var),\n",
    "                  ('sampler', sampler),\n",
    "                  ('model', rf)])\n",
    "\n",
    "grid1 = {'selector__threshold': [0, 0.2, 0.4],\n",
    "         'model__n_estimators': [20, 50, 100]}\n",
    "\n",
    "clf = GridSearchCV(pipe1, grid1,cv=4)\n",
    "clf.fit(X_tr, y_tr)\n",
    "from sklearn.metrics import classification_report , accuracy_score , precision_recall_fscore_support\n",
    "preds=clf.predict(X_ts)\n",
    "print(clf.best_params_, '\\n')\n",
    "print('accuracy: {:.2f}%'.format(accuracy_score(y_ts, preds)*100))\n",
    "\n",
    "print(classification_report(y_ts, preds))"
   ]
  },
  {
   "cell_type": "code",
   "execution_count": 46,
   "metadata": {
    "scrolled": true
   },
   "outputs": [
    {
     "name": "stdout",
     "output_type": "stream",
     "text": [
      "{'model__n_estimators': 20, 'selector__threshold': 0.4} \n",
      "\n",
      "accuracy: 99.72%\n",
      "              precision    recall  f1-score   support\n",
      "\n",
      "           0       1.00      0.99      1.00      2879\n",
      "           1       0.99      1.00      1.00      2879\n",
      "\n",
      "    accuracy                           1.00      5758\n",
      "   macro avg       1.00      1.00      1.00      5758\n",
      "weighted avg       1.00      1.00      1.00      5758\n",
      "\n"
     ]
    }
   ],
   "source": [
    "from sklearn.ensemble import RandomForestClassifier\n",
    "from sklearn.model_selection import GridSearchCV\n",
    "\n",
    "rf = RandomForestClassifier()\n",
    "\n",
    "pipe1 = Pipeline([('scaler', sc),\n",
    "                  ('selector', var),\n",
    "                  ('sampler', sampler),\n",
    "                  ('model', rf)])\n",
    "\n",
    "grid1 = {'selector__threshold': [0, 0.2, 0.4],\n",
    "         'model__n_estimators': [20, 50, 100]}\n",
    "\n",
    "clf = GridSearchCV(pipe1, grid1,cv=2)\n",
    "clf.fit(X_tr, y_tr)\n",
    "from sklearn.metrics import classification_report , accuracy_score , precision_recall_fscore_support\n",
    "preds=clf.predict(X_ts)\n",
    "print(clf.best_params_, '\\n')\n",
    "print('accuracy: {:.2f}%'.format(accuracy_score(y_ts, preds)*100))\n",
    "\n",
    "print(classification_report(y_ts, preds))"
   ]
  },
  {
   "cell_type": "code",
   "execution_count": 47,
   "metadata": {},
   "outputs": [
    {
     "name": "stdout",
     "output_type": "stream",
     "text": [
      "{'model__n_estimators': 20, 'selector__threshold': 0.4} \n",
      "\n",
      "accuracy: 99.74%\n",
      "              precision    recall  f1-score   support\n",
      "\n",
      "           0       1.00      0.99      1.00      2879\n",
      "           1       0.99      1.00      1.00      2879\n",
      "\n",
      "    accuracy                           1.00      5758\n",
      "   macro avg       1.00      1.00      1.00      5758\n",
      "weighted avg       1.00      1.00      1.00      5758\n",
      "\n"
     ]
    }
   ],
   "source": [
    "from sklearn.ensemble import RandomForestClassifier\n",
    "from sklearn.model_selection import GridSearchCV\n",
    "\n",
    "rf = RandomForestClassifier()\n",
    "\n",
    "pipe1 = Pipeline([('scaler', sc),\n",
    "                  ('selector', var),\n",
    "                  ('sampler', sampler),\n",
    "                  ('model', rf)])\n",
    "\n",
    "grid1 = {'selector__threshold': [0, 0.2, 0.4],\n",
    "         'model__n_estimators': [20, 50, 100]}\n",
    "\n",
    "clf = GridSearchCV(pipe1, grid1,cv=2)\n",
    "clf.fit(X_tr, y_tr)\n",
    "preds=clf.predict(X_ts)\n",
    "print(clf.best_params_, '\\n')\n",
    "print('accuracy: {:.2f}%'.format(accuracy_score(y_ts, preds)*100))\n",
    "\n",
    "print(classification_report(y_ts, preds))"
   ]
  },
  {
   "cell_type": "code",
   "execution_count": 49,
   "metadata": {},
   "outputs": [
    {
     "ename": "IndentationError",
     "evalue": "unexpected indent (<ipython-input-49-fbff0d36ac83>, line 6)",
     "output_type": "error",
     "traceback": [
      "\u001b[1;36m  File \u001b[1;32m\"<ipython-input-49-fbff0d36ac83>\"\u001b[1;36m, line \u001b[1;32m6\u001b[0m\n\u001b[1;33m    ('selector', var),\u001b[0m\n\u001b[1;37m    ^\u001b[0m\n\u001b[1;31mIndentationError\u001b[0m\u001b[1;31m:\u001b[0m unexpected indent\n"
     ]
    }
   ],
   "source": [
    "#from sklearn.pipeline import Pipeline \n",
    "#from sklearn.preprocessing import StandardScaler \n",
    "#from sklearn.model_selection import GridSearchCV\n",
    "#knn= KNeighborsClassifier()\n",
    "#pipe_knn = Pipeline([('scaler', sc),\n",
    "                  ('selector', var),\n",
    "                  ('sampler', sampler),\n",
    "                  ('model', knn)])\n",
    "#param_grid = {'imputer__strategy': ['mean', 'median'],            \n",
    "              'knn__n_neighbors': [3, 5, 7, 9, 11, 13]}\n",
    "#grid = GridSearchCV(pipe, param_grid, cv=5) \n",
    "#grid.fit(X_tr, y_tr) \n",
    "#grid.best_estimator_"
   ]
  },
  {
   "cell_type": "code",
   "execution_count": 50,
   "metadata": {},
   "outputs": [
    {
     "data": {
      "text/plain": [
       "array([2.49781901e-02, 8.82680997e-03, 1.26477865e-02, 8.18237112e-03,\n",
       "       3.73754942e-02, 2.46448622e-02, 1.10756965e-02, 2.41688726e-02,\n",
       "       1.56178707e-02, 5.22820569e-02, 3.82516830e-02, 3.07289158e-02,\n",
       "       2.84619832e-02, 1.68623615e-02, 5.29675641e-02, 9.28222727e-03,\n",
       "       1.48695419e-02, 5.98594851e-03, 2.70081030e-01, 6.08907987e-04,\n",
       "       1.17086985e-02, 3.37460196e-03, 6.24086392e-02, 1.94483740e-03,\n",
       "       1.06488826e-02, 4.97935844e-03, 2.44197717e-02, 1.12341830e-02,\n",
       "       2.54931579e-02, 1.11272238e-03, 2.02650068e-03, 2.15466149e-03,\n",
       "       1.06606491e-03, 2.64540653e-03, 6.42764495e-03, 1.27792762e-02,\n",
       "       2.12419210e-03, 2.16032722e-03, 6.47351560e-04, 1.38094108e-02,\n",
       "       5.89495106e-04, 1.04761957e-03, 2.82026537e-03, 1.07300770e-03,\n",
       "       4.83309592e-03, 2.46213642e-02, 7.06225293e-02, 2.94569788e-04,\n",
       "       8.57256275e-05, 1.54906707e-03, 1.39739615e-03])"
      ]
     },
     "execution_count": 50,
     "metadata": {},
     "output_type": "execute_result"
    }
   ],
   "source": [
    "var = VarianceThreshold()\n",
    "rf.fit(X_tr, y_tr)\n",
    "rf.feature_importances_"
   ]
  },
  {
   "cell_type": "code",
   "execution_count": 51,
   "metadata": {},
   "outputs": [],
   "source": [
    "from sklearn.preprocessing import StandardScaler\n",
    "sc = StandardScaler()"
   ]
  },
  {
   "cell_type": "code",
   "execution_count": 52,
   "metadata": {},
   "outputs": [],
   "source": [
    "from imblearn.over_sampling import SMOTE\n",
    "from imblearn.pipeline import Pipeline\n",
    "\n",
    "sampler = SMOTE()"
   ]
  },
  {
   "cell_type": "code",
   "execution_count": 53,
   "metadata": {
    "scrolled": true
   },
   "outputs": [],
   "source": [
    "#for c, imp in sorted(zip(X_columns, rf.feature_importances_), key=lambda pair: pair[1], reverse=True):\n",
    " # print('{:20}: {}'.format(c, imp))"
   ]
  },
  {
   "cell_type": "code",
   "execution_count": null,
   "metadata": {},
   "outputs": [],
   "source": [
    "from numpy import mean\n",
    "from sklearn.datasets import make_classification\n",
    "from sklearn.model_selection import cross_val_score\n",
    "from sklearn.model_selection import RepeatedStratifiedKFold\n",
    "from sklearn.tree import DecisionTreeClassifier\n",
    "from imblearn.pipeline import Pipeline\n",
    "from imblearn.under_sampling import RandomUnderSampler\n",
    "steps = [('under', RandomUnderSampler()), ('model', mlp)]\n",
    "pipeline = Pipeline(steps=steps)\n",
    "# evaluate pipeline\n",
    "cv = RepeatedStratifiedKFold(n_splits=10, n_repeats=3, random_state=1)\n",
    "scores = cross_val_score(pipeline, X, y, scoring='f1_micro', cv=cv, n_jobs=-1)\n",
    "score = mean(scores)\n",
    "print('F1 Score: %.3f' % score)"
   ]
  },
  {
   "cell_type": "code",
   "execution_count": null,
   "metadata": {},
   "outputs": [],
   "source": [
    "from numpy import mean\n",
    "from sklearn.datasets import make_classification\n",
    "from sklearn.model_selection import cross_val_score\n",
    "from sklearn.model_selection import RepeatedStratifiedKFold\n",
    "from sklearn.tree import DecisionTreeClassifier\n",
    "from imblearn.pipeline import Pipeline\n",
    "from imblearn.under_sampling import RandomUnderSampler\n",
    "from sklearn.neural_network import  MLPClassifier\n",
    "mlp=MLPClassifier()\n",
    "pipe_mlp = Pipeline([('scaler', sc),\n",
    "                  ('selector', var),\n",
    "                  ('sampler', sampler),\n",
    "                  ('model', mlp)])\n",
    "\n",
    "\n",
    "grid1 = {'selector__threshold': [0, 0.05, 0.1],\n",
    "         'model__n_estimators': [20, 50, 100]}\n",
    "pipeline = Pipeline(steps=steps)\n",
    "# evaluate pipeline\n",
    "cv = RepeatedStratifiedKFold(n_splits=10, n_repeats=3, random_state=1)\n",
    "scores = cross_val_score(pipeline, X, y, scoring='f1_micro', cv=cv, n_jobs=-1)\n",
    "score = mean(scores)\n",
    "print('F1 Score: %.3f' % score)\n",
    "print(clf_mlp.best_params_, '\\n')\n",
    "print('accuracy: {:.2f}%'.format(accuracy_score(y_ts, preds_mlp)*100))\n",
    "\n",
    "print(classification_report(y_ts, preds_mlp))\n",
    "best_clf_mlp = clf_mlp.best_estimator_"
   ]
  },
  {
   "cell_type": "code",
   "execution_count": null,
   "metadata": {},
   "outputs": [],
   "source": [
    "from sklearn.neural_network import  MLPClassifier\n",
    "mlp=MLPClassifier()\n",
    "pipe_mlp = Pipeline([('scaler', sc),\n",
    "                  ('selector', var),\n",
    "                  ('sampler', sampler),\n",
    "                  ('model', mlp)])\n",
    "\n",
    "grid_mlp = {'selector__threshold': [0, 0.2, 0.4],\n",
    "            'model__hidden_layer_sizes': [(10,), (20,), (50,), (100,), (200,)],\n",
    "            'model__activation' : ['identity', 'logistic', 'tanh', 'relu']}\n",
    "\n",
    "clf_mlp = GridSearchCV(pipe_mlp, grid_mlp, cv=3)\n",
    "clf_mlp.fit(X_tr, y_tr)"
   ]
  },
  {
   "cell_type": "code",
   "execution_count": null,
   "metadata": {},
   "outputs": [],
   "source": [
    "preds_mlp=clf_mlp.predict(X_ts)\n",
    "print(clf_mlp.best_params_, '\\n')\n",
    "print('accuracy: {:.2f}%'.format(accuracy_score(y_ts, preds_mlp)*100))\n",
    "\n",
    "print(classification_report(y_ts, preds_mlp))\n",
    "best_clf_mlp = clf_mlp.best_estimator_"
   ]
  },
  {
   "cell_type": "code",
   "execution_count": null,
   "metadata": {},
   "outputs": [],
   "source": [
    "#from sklearn.naive_bayes import GaussianNB\n",
    "#from sklearn.preprocessing import StandardScaler\n",
    "\n",
    "#gaus=GaussianNB()\n",
    "\n",
    "#pipe_Gauss = Pipeline([('scaler', sc),\n",
    "                  ('selector', var),\n",
    "                  ('sampler', sampler),\n",
    "                  ('model', gaus)])\n",
    "\n",
    "#grid_Gauss = {'selector__threshold': [0, 0.2, 0.3],\n",
    "         'model__n_estimators': (priors=None, var_smoothing=1e-09)}\n",
    "\n",
    "#clf = GridSearchCV(pipe_Gauss, grid_Gauss,cv=3)\n",
    "#clf.fit(X_tr, y_tr)\n",
    "#preds=clf.predict(X_ts)\n",
    "#print(clf.best_params_, '\\n')\n",
    "#print('accuracy: {:.2f}%'.format(accuracy_score(y_ts, preds)*100))\n",
    "\n",
    "#print(classification_report(y_ts, preds))"
   ]
  },
  {
   "cell_type": "code",
   "execution_count": null,
   "metadata": {},
   "outputs": [],
   "source": [
    "import sklearn as sk\n",
    "from sklearn.ensemble import RandomForestClassifier\n",
    "\n",
    "RF = RandomForestClassifier(n_estimators=100, max_depth=2, random_state=0)\n",
    "RF.fit(X, y)\n",
    "preds_RF=RF.predict(X_ts)\n",
    "round(RF.score(X,y), 4)"
   ]
  },
  {
   "cell_type": "code",
   "execution_count": null,
   "metadata": {},
   "outputs": [],
   "source": [
    "#from sklearn.metrics import accuracy_score, log_loss\n",
    "#from sklearn.neighbors import KNeighborsClassifier\n",
    "#from sklearn.svm import SVC, LinearSVC, NuSVC\n",
    "#from sklearn.tree import DecisionTreeClassifier\n",
    "#from sklearn.ensemble import RandomForestClassifier, AdaBoostClassifier, GradientBoostingClassifier\n",
    "#from sklearn.discriminant_analysis import LinearDiscriminantAnalysis\n",
    "#from sklearn.discriminant_analysis import QuadraticDiscriminantAnalysis\n",
    "#classifiers = [\n",
    " #   KNeighborsClassifier(3),\n",
    "  #  SVC(kernel=\"rbf\", C=0.025, probability=True),\n",
    "   # DecisionTreeClassifier(),\n",
    "    #RandomForestClassifier(),\n",
    "    #AdaBoostClassifier(),\n",
    "    #GradientBoostingClassifier()]\n",
    "#for classifier in classifiers:\n",
    " #   pipe_all = Pipeline(steps=[('classifier', classifier)])\n",
    "  #  pipe_all.fit(X_tr, y_tr)   \n",
    "    \n",
    "   # print(classifier)\n",
    "    #print(\"model score: %.2f\" % pipe_all.score(X_ts, y_ts))\n"
   ]
  },
  {
   "cell_type": "code",
   "execution_count": null,
   "metadata": {},
   "outputs": [],
   "source": [
    "param_test1 = {'n_estimators':range(70,90,10)}\n",
    "clf_gbc = GridSearchCV(estimator = GradientBoostingClassifier(learning_rate=0.1, min_samples_split=500,min_samples_leaf=2,max_depth=100,max_features='sqrt',subsample=0.8,random_state=10), \n",
    "param_grid = param_test1, scoring='roc_auc',n_jobs=-1, cv=5)\n",
    "clf_gbc.fit(X_tr,y_tr)\n",
    "preds_gbc=clf_gbc.predict(X_ts)\n",
    "print(clf_gbc.best_params_, '\\n')\n",
    "print('accuracy: {:.2f}%'.format(accuracy_score(y_ts, preds_gbc)*100))\n",
    "\n",
    "print(classification_report(y_ts, preds_gbc))\n",
    "best_clf_gbc = clf_gbc.best_estimator_"
   ]
  },
  {
   "cell_type": "code",
   "execution_count": null,
   "metadata": {},
   "outputs": [],
   "source": []
  },
  {
   "cell_type": "code",
   "execution_count": null,
   "metadata": {},
   "outputs": [],
   "source": []
  }
 ],
 "metadata": {
  "kernelspec": {
   "display_name": "Python 3",
   "language": "python",
   "name": "python3"
  },
  "language_info": {
   "codemirror_mode": {
    "name": "ipython",
    "version": 3
   },
   "file_extension": ".py",
   "mimetype": "text/x-python",
   "name": "python",
   "nbconvert_exporter": "python",
   "pygments_lexer": "ipython3",
   "version": "3.7.6"
  }
 },
 "nbformat": 4,
 "nbformat_minor": 4
}
