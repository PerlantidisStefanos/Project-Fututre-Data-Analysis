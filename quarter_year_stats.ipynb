{
  "nbformat": 4,
  "nbformat_minor": 0,
  "metadata": {
    "colab": {
      "name": "latest_users_sample_code.ipynb",
      "provenance": [],
      "collapsed_sections": [
        "2NK2EKmiDcsA"
      ]
    },
    "kernelspec": {
      "display_name": "Python 3",
      "language": "python",
      "name": "python3"
    },
    "language_info": {
      "codemirror_mode": {
        "name": "ipython",
        "version": 3
      },
      "file_extension": ".py",
      "mimetype": "text/x-python",
      "name": "python",
      "nbconvert_exporter": "python",
      "pygments_lexer": "ipython3",
      "version": "3.7.7"
    }
  },
  "cells": [
    {
      "cell_type": "code",
      "metadata": {
        "colab_type": "code",
        "id": "gUcXv0RpmeBA",
        "colab": {}
      },
      "source": [
        "import pandas as pd\n",
        "import numpy as np\n",
        "import matplotlib.pyplot as plt\n",
        "import seaborn as sns"
      ],
      "execution_count": 0,
      "outputs": []
    },
    {
      "cell_type": "code",
      "metadata": {
        "colab_type": "code",
        "id": "OlQChLaJmznk",
        "colab": {}
      },
      "source": [
        "dev= pd.read_csv('devices.csv')\n",
        "tr1= pd.read_csv('transactions_1.csv')\n",
        "tr2= pd.read_csv('transactions_2.csv')\n",
        "tr3= pd.read_csv('transactions_3.csv')\n",
        "users = pd.read_csv('users.csv')\n",
        "notif = pd.read_csv('notifications.csv')\n",
        "trans= pd.concat([tr1, tr2, tr3])#all transactions in one dataframe"
      ],
      "execution_count": 0,
      "outputs": []
    },
    {
      "cell_type": "markdown",
      "metadata": {
        "colab_type": "text",
        "id": "AtlGOtX516_7"
      },
      "source": [
        "#users table"
      ]
    },
    {
      "cell_type": "code",
      "metadata": {
        "colab_type": "code",
        "id": "S-N_IWGZm3O4",
        "colab": {}
      },
      "source": [
        "users['brands']=dev['brand']#h sthlh brands apo ta devices is added to users table\n",
        "#ginontai ta unknown stoixeia tyxaia Android, Apple\n",
        "import random\n",
        "def change_unknown_device(brand):\n",
        "  if  brand== 'Unknown':\n",
        "    return random.sample(['Android', 'Apple'], 1)[0]\n",
        "  else:\n",
        "    return brand\n",
        "users['brands']=users['brands'].apply(change_unknown_device)\n"
      ],
      "execution_count": 0,
      "outputs": []
    },
    {
      "cell_type": "code",
      "metadata": {
        "colab_type": "code",
        "id": "A_SESz-bnml0",
        "colab": {}
      },
      "source": [
        "users['age']=2019 - users['birth_year']#sthlh age anti gia birth_year"
      ],
      "execution_count": 0,
      "outputs": []
    },
    {
      "cell_type": "code",
      "metadata": {
        "colab_type": "code",
        "id": "CriuvYYZnx9J",
        "colab": {}
      },
      "source": [
        "users['plan']=users['plan'].apply(lambda x: 'PAID' if x!=\"STANDARD\" else x)#h sthlh pairnei pleon standard h paid stoixeia"
      ],
      "execution_count": 0,
      "outputs": []
    },
    {
      "cell_type": "code",
      "metadata": {
        "id": "WIW6TbOU39Vr",
        "colab_type": "code",
        "colab": {}
      },
      "source": [
        "#handling dates in days\n",
        "users.created_date=pd.to_datetime(users.created_date)\n",
        "#users['today']=np.datetime64('2019-06-01')\n",
        "users['account_duration'] = (np.datetime64('2019-06-01') - users['created_date']).dt.days\n",
        "temp_users = users"
      ],
      "execution_count": 0,
      "outputs": []
    },
    {
      "cell_type": "code",
      "metadata": {
        "colab_type": "code",
        "id": "ty8l1G-l0uo0",
        "colab": {}
      },
      "source": [
        "#users['month']=pd.DatetimeIndex(users['created_date']).month\n",
        "#users['year']=pd.DatetimeIndex(users['created_date']).year\n",
        "#users['duration']=users.apply(lambda x: 18-x['month'] if x['year']==2018 else 6-x['month'], axis=1)"
      ],
      "execution_count": 0,
      "outputs": []
    },
    {
      "cell_type": "markdown",
      "metadata": {
        "colab_type": "text",
        "id": "DzWmDvim2AFh"
      },
      "source": [
        "#transactions table\n",
        "-------------------"
      ]
    },
    {
      "cell_type": "code",
      "metadata": {
        "colab_type": "code",
        "id": "QBtpFLjc1KXD",
        "colab": {}
      },
      "source": [
        "trans=trans[trans['transactions_state']=='COMPLETED']#kratame mono ta completed transactions"
      ],
      "execution_count": 0,
      "outputs": []
    },
    {
      "cell_type": "code",
      "metadata": {
        "id": "RdQq8ZNm39Vy",
        "colab_type": "code",
        "colab": {
          "base_uri": "https://localhost:8080/",
          "height": 407
        },
        "outputId": "a5d320b1-da71-4e56-9ae8-8264a8eca4d0"
      },
      "source": [
        "#tempo table me hmeromhnies twn transaction \n",
        "#Oi hmeromhnies ypologizontai se meres apo thn 1/6\n",
        "tempo=trans[['user_id','created_date']]\n",
        "tempo.sort_values(['user_id','created_date'],inplace=True)\n",
        "tempo['created_date']=pd.to_datetime(tempo['created_date'])\n",
        "tempo['days_from_transaction']=(np.datetime64('2019-06-01') - tempo['created_date']).dt.days\n",
        "tempo.drop(columns=['created_date'], inplace=True)\n"
      ],
      "execution_count": 698,
      "outputs": [
        {
          "output_type": "stream",
          "text": [
            "/usr/local/lib/python3.6/dist-packages/ipykernel_launcher.py:4: SettingWithCopyWarning: \n",
            "A value is trying to be set on a copy of a slice from a DataFrame\n",
            "\n",
            "See the caveats in the documentation: https://pandas.pydata.org/pandas-docs/stable/user_guide/indexing.html#returning-a-view-versus-a-copy\n",
            "  after removing the cwd from sys.path.\n",
            "/usr/local/lib/python3.6/dist-packages/ipykernel_launcher.py:5: SettingWithCopyWarning: \n",
            "A value is trying to be set on a copy of a slice from a DataFrame.\n",
            "Try using .loc[row_indexer,col_indexer] = value instead\n",
            "\n",
            "See the caveats in the documentation: https://pandas.pydata.org/pandas-docs/stable/user_guide/indexing.html#returning-a-view-versus-a-copy\n",
            "  \"\"\"\n",
            "/usr/local/lib/python3.6/dist-packages/ipykernel_launcher.py:6: SettingWithCopyWarning: \n",
            "A value is trying to be set on a copy of a slice from a DataFrame.\n",
            "Try using .loc[row_indexer,col_indexer] = value instead\n",
            "\n",
            "See the caveats in the documentation: https://pandas.pydata.org/pandas-docs/stable/user_guide/indexing.html#returning-a-view-versus-a-copy\n",
            "  \n",
            "/usr/local/lib/python3.6/dist-packages/pandas/core/frame.py:3997: SettingWithCopyWarning: \n",
            "A value is trying to be set on a copy of a slice from a DataFrame\n",
            "\n",
            "See the caveats in the documentation: https://pandas.pydata.org/pandas-docs/stable/user_guide/indexing.html#returning-a-view-versus-a-copy\n",
            "  errors=errors,\n"
          ],
          "name": "stderr"
        }
      ]
    },
    {
      "cell_type": "code",
      "metadata": {
        "id": "bSrXwNdI39V3",
        "colab_type": "code",
        "colab": {}
      },
      "source": [
        "#uni table exei tis unique dates poy exei kanei ka8e user transaction\n",
        "uni = tempo.drop_duplicates([\"user_id\",\"days_from_transaction\"])\n"
      ],
      "execution_count": 0,
      "outputs": []
    },
    {
      "cell_type": "code",
      "metadata": {
        "id": "eVxNJ7_u39V5",
        "colab_type": "code",
        "colab": {}
      },
      "source": [
        "#ypologizontai o mean tvn diaforwn kathe transaction, kai h max diafora transaction gia kathe user\n",
        "mean_period_within_trans=uni.groupby(['user_id']).agg(mean_period_within_transactions=('days_from_transaction', lambda x: x.diff(periods=-1).mean()))\n",
        "max_period_within_trans=uni.groupby(['user_id']).agg(max_period_within_transactions=('days_from_transaction', lambda x: x.diff(periods=-1).max()))\n",
        "       "
      ],
      "execution_count": 0,
      "outputs": []
    },
    {
      "cell_type": "code",
      "metadata": {
        "id": "01MoR6G039V7",
        "colab_type": "code",
        "colab": {}
      },
      "source": [
        "users=pd.merge(users , mean_period_within_trans, how='left', left_on='user_id', right_index=True)"
      ],
      "execution_count": 0,
      "outputs": []
    },
    {
      "cell_type": "code",
      "metadata": {
        "id": "HlOSp-Sa39V9",
        "colab_type": "code",
        "colab": {}
      },
      "source": [
        "users=pd.merge(users , max_period_within_trans, how='left', left_on='user_id', right_index=True)"
      ],
      "execution_count": 0,
      "outputs": []
    },
    {
      "cell_type": "code",
      "metadata": {
        "id": "tu4NvOfd39V_",
        "colab_type": "code",
        "colab": {}
      },
      "source": [
        "#ypologizetai poses unique dates exei kanei transactions kathe user\n",
        "unique_days_of_trans=tempo.groupby(['user_id']).agg(unique_days_of_transactions=('days_from_transaction', 'nunique'))"
      ],
      "execution_count": 0,
      "outputs": []
    },
    {
      "cell_type": "code",
      "metadata": {
        "id": "s5KO32ww39WB",
        "colab_type": "code",
        "colab": {}
      },
      "source": [
        "users=pd.merge(users , unique_days_of_trans, how='left', left_on='user_id', right_index=True)"
      ],
      "execution_count": 0,
      "outputs": []
    },
    {
      "cell_type": "code",
      "metadata": {
        "id": "9X__jSWi39WD",
        "colab_type": "code",
        "colab": {}
      },
      "source": [
        "#ypolofizetai to std, var twn dates of transactions gia ka8e user\n",
        "std_var_trans=tempo.groupby('user_id').agg(std_of_transactions=('days_from_transaction','std'),var_of_transactions=('days_from_transaction','var'))\n"
      ],
      "execution_count": 0,
      "outputs": []
    },
    {
      "cell_type": "code",
      "metadata": {
        "id": "oV6RLBG-39WF",
        "colab_type": "code",
        "colab": {}
      },
      "source": [
        "users=pd.merge(users , std_var_trans, how='left', left_on='user_id', right_index=True)"
      ],
      "execution_count": 0,
      "outputs": []
    },
    {
      "cell_type": "code",
      "metadata": {
        "colab_type": "code",
        "id": "RH8zWu3x1KSL",
        "colab": {}
      },
      "source": [
        "number_of_trans=pd.DataFrame(trans.user_id.value_counts())#amount of transactions per user\n",
        "number_of_trans.rename(columns={'user_id':'total_amount_of_transactions'},inplace=True)\n",
        "users=pd.merge(users , number_of_trans, how='left', left_on='user_id', right_index=True)#h sthlg amount_of_transactions is joined sto users"
      ],
      "execution_count": 0,
      "outputs": []
    },
    {
      "cell_type": "code",
      "metadata": {
        "colab_type": "code",
        "id": "lo53NR0T6aU4",
        "colab": {}
      },
      "source": [
        "trans_out=trans[trans['direction']=='OUTBOUND']\n",
        "trans_in=trans[trans['direction']=='INBOUND']"
      ],
      "execution_count": 0,
      "outputs": []
    },
    {
      "cell_type": "code",
      "metadata": {
        "colab_type": "code",
        "id": "v6FDRoax6aYG",
        "colab": {}
      },
      "source": [
        "usd_per_user_out = pd.pivot_table(data=trans_out,aggfunc=['count','min','max','mean','sum'], index='user_id',  values='amount_usd')\n",
        "usd_per_user_out.columns=['amount_of_transactions_out', 'min_usd_out', 'max_usd_out', 'mean_usd_out', 'sum_usd_out']\n",
        "users=pd.merge(users , usd_per_user_out, how='left', left_on='user_id', right_index=True)"
      ],
      "execution_count": 0,
      "outputs": []
    },
    {
      "cell_type": "code",
      "metadata": {
        "colab_type": "code",
        "id": "cny5PMZU6adl",
        "colab": {}
      },
      "source": [
        "usd_per_user_in = pd.pivot_table(data=trans_in,aggfunc=['count','min','max','mean','sum'], index='user_id',  values='amount_usd')\n",
        "usd_per_user_in.columns=['amount_of_transactions_in', 'min_usd_in', 'max_usd_in', 'mean_usd_in', 'sum_usd_in']\n",
        "users=pd.merge(users , usd_per_user_in, how='left', left_on='user_id', right_index=True)"
      ],
      "execution_count": 0,
      "outputs": []
    },
    {
      "cell_type": "code",
      "metadata": {
        "colab_type": "code",
        "id": "cCU7gq2c-oUu",
        "colab": {}
      },
      "source": [
        "#pd.crosstab(trans.transactions_type, trans.ea_merchant_country)"
      ],
      "execution_count": 0,
      "outputs": []
    },
    {
      "cell_type": "code",
      "metadata": {
        "colab_type": "code",
        "id": "uDUsNidd_TWH",
        "colab": {}
      },
      "source": [
        "#pd.crosstab(trans.transactions_type, trans.ea_cardholderpresence)"
      ],
      "execution_count": 0,
      "outputs": []
    },
    {
      "cell_type": "code",
      "metadata": {
        "colab_type": "code",
        "id": "HZ97SKf8A_xI",
        "colab": {}
      },
      "source": [
        "trans_transactions_type_out = pd.crosstab(trans_out['user_id'], columns=trans_out['transactions_type'])\n",
        "trans_transactions_type_in = pd.crosstab(trans_in['user_id'], columns=trans_in['transactions_type'])\n",
        "trans_transactions_type_out.columns=['count_type_atm', 'count_type_card_payment','count_type_exchange','count_type_fee', 'count_type_tax', 'count_type_transfer_out']\n",
        "trans_transactions_type_in.columns=['count_type_card_refund', 'count_type_cashback','count_type_refund','count_type_topup','count_type_transfer_in']"
      ],
      "execution_count": 0,
      "outputs": []
    },
    {
      "cell_type": "code",
      "metadata": {
        "colab_type": "code",
        "id": "6J6tlPHDDbNA",
        "colab": {}
      },
      "source": [
        "users=pd.merge(users , trans_transactions_type_out, how='left', left_on='user_id', right_index=True)"
      ],
      "execution_count": 0,
      "outputs": []
    },
    {
      "cell_type": "code",
      "metadata": {
        "colab_type": "code",
        "id": "ESdDbEKHCSCu",
        "colab": {}
      },
      "source": [
        "users=pd.merge(users , trans_transactions_type_in, how='left', left_on='user_id', right_index=True)"
      ],
      "execution_count": 0,
      "outputs": []
    },
    {
      "cell_type": "code",
      "metadata": {
        "colab_type": "code",
        "id": "KDX8aZB-GXzb",
        "colab": {}
      },
      "source": [
        "#trans['month']=pd.DatetimeIndex(trans['created_date']).month#created month and year as columns\n",
        "#trans['year']=pd.DatetimeIndex(trans['created_date']).year\n"
      ],
      "execution_count": 0,
      "outputs": []
    },
    {
      "cell_type": "code",
      "metadata": {
        "colab_type": "code",
        "id": "oRzgvQesIdKj",
        "colab": {}
      },
      "source": [
        "trans_sorted=trans.sort_values(['created_date'],ascending=False)#trans is sorted, duplicates user_id entries are removed and remain only latest transactions \n",
        "lasttrans = trans_sorted.drop_duplicates('user_id').sort_index()\n",
        "lasttrans=lasttrans[['user_id','created_date']]"
      ],
      "execution_count": 0,
      "outputs": []
    },
    {
      "cell_type": "code",
      "metadata": {
        "id": "gTODAzT839Wd",
        "colab_type": "code",
        "colab": {}
      },
      "source": [
        "#handling dates in days\n",
        "lasttrans['created_date']=pd.to_datetime(lasttrans['created_date'])\n",
        "#lasttrans['today']=np.datetime64('2019-06-01')\n",
        "lasttrans['last_transaction'] = (np.datetime64('2019-06-01') - lasttrans['created_date']).dt.days"
      ],
      "execution_count": 0,
      "outputs": []
    },
    {
      "cell_type": "code",
      "metadata": {
        "colab_type": "code",
        "id": "YddysZCuIwWW",
        "colab": {}
      },
      "source": [
        "#lasttrans['month']=pd.DatetimeIndex(lasttrans['created_date']).month\n",
        "#lasttrans['year']=pd.DatetimeIndex(lasttrans['created_date']).year\n",
        "#lasttrans['months_from_last_transaction']=lasttrans.apply(lambda x: 17-x['month'] if x['year']==2018 else 5-x['month'], axis=1)"
      ],
      "execution_count": 0,
      "outputs": []
    },
    {
      "cell_type": "code",
      "metadata": {
        "colab_type": "code",
        "id": "bEXa4iuCK7Mm",
        "colab": {}
      },
      "source": [
        "users=pd.merge(users , lasttrans, how='left', left_on='user_id', right_on='user_id')"
      ],
      "execution_count": 0,
      "outputs": []
    },
    {
      "cell_type": "code",
      "metadata": {
        "colab_type": "code",
        "id": "ZSdmbGTKLcTB",
        "colab": {}
      },
      "source": [
        "trans_sorted_asc=trans.sort_values(['created_date'],ascending=True)#trans is sorted, duplicates user_id entries are removed and remain only latest transactions \n",
        "firsttrans = trans_sorted_asc.drop_duplicates('user_id').sort_index()\n",
        "firsttrans=firsttrans[['user_id','created_date']]"
      ],
      "execution_count": 0,
      "outputs": []
    },
    {
      "cell_type": "code",
      "metadata": {
        "id": "juG12cdu39Wk",
        "colab_type": "code",
        "colab": {}
      },
      "source": [
        "#handling dates in days\n",
        "firsttrans['created_date']=pd.to_datetime(firsttrans['created_date'])\n",
        "#firsttrans['today']=np.datetime64('2019-06-01')\n",
        "firsttrans['first_transaction'] = (np.datetime64('2019-06-01')-firsttrans['created_date']).dt.days"
      ],
      "execution_count": 0,
      "outputs": []
    },
    {
      "cell_type": "code",
      "metadata": {
        "colab_type": "code",
        "id": "zNt_ttCrMq7o",
        "colab": {}
      },
      "source": [
        "#lasttrans['month']=pd.DatetimeIndex(lasttrans['created_date']).month\n",
        "#lasttrans['year']=pd.DatetimeIndex(lasttrans['created_date']).year\n",
        "#lasttrans['months_from_first_transaction']=lasttrans.apply(lambda x: 18-x['month'] if x['year']==2018 else 6-x['month'], axis=1)"
      ],
      "execution_count": 0,
      "outputs": []
    },
    {
      "cell_type": "code",
      "metadata": {
        "colab_type": "code",
        "id": "KdL6UDuDNAcG",
        "colab": {}
      },
      "source": [
        "users=pd.merge(users , firsttrans, how='left', left_on='user_id', right_on='user_id')"
      ],
      "execution_count": 0,
      "outputs": []
    },
    {
      "cell_type": "code",
      "metadata": {
        "id": "PphBhBr339Wp",
        "colab_type": "code",
        "colab": {
          "base_uri": "https://localhost:8080/",
          "height": 254
        },
        "outputId": "be03b135-0714-4a39-f21a-59954da3280f"
      },
      "source": [
        "users.sample(4)"
      ],
      "execution_count": 725,
      "outputs": [
        {
          "output_type": "execute_result",
          "data": {
            "text/html": [
              "<div>\n",
              "<style scoped>\n",
              "    .dataframe tbody tr th:only-of-type {\n",
              "        vertical-align: middle;\n",
              "    }\n",
              "\n",
              "    .dataframe tbody tr th {\n",
              "        vertical-align: top;\n",
              "    }\n",
              "\n",
              "    .dataframe thead th {\n",
              "        text-align: right;\n",
              "    }\n",
              "</style>\n",
              "<table border=\"1\" class=\"dataframe\">\n",
              "  <thead>\n",
              "    <tr style=\"text-align: right;\">\n",
              "      <th></th>\n",
              "      <th>user_id</th>\n",
              "      <th>birth_year</th>\n",
              "      <th>country</th>\n",
              "      <th>city</th>\n",
              "      <th>created_date_x</th>\n",
              "      <th>user_settings_crypto_unlocked</th>\n",
              "      <th>plan</th>\n",
              "      <th>attributes_notifications_marketing_push</th>\n",
              "      <th>attributes_notifications_marketing_email</th>\n",
              "      <th>num_contacts</th>\n",
              "      <th>num_referrals</th>\n",
              "      <th>num_successful_referrals</th>\n",
              "      <th>brands</th>\n",
              "      <th>age</th>\n",
              "      <th>account_duration</th>\n",
              "      <th>mean_period_within_transactions</th>\n",
              "      <th>max_period_within_transactions</th>\n",
              "      <th>unique_days_of_transactions</th>\n",
              "      <th>std_of_transactions</th>\n",
              "      <th>var_of_transactions</th>\n",
              "      <th>total_amount_of_transactions</th>\n",
              "      <th>amount_of_transactions_out</th>\n",
              "      <th>min_usd_out</th>\n",
              "      <th>max_usd_out</th>\n",
              "      <th>mean_usd_out</th>\n",
              "      <th>sum_usd_out</th>\n",
              "      <th>amount_of_transactions_in</th>\n",
              "      <th>min_usd_in</th>\n",
              "      <th>max_usd_in</th>\n",
              "      <th>mean_usd_in</th>\n",
              "      <th>sum_usd_in</th>\n",
              "      <th>count_type_atm</th>\n",
              "      <th>count_type_card_payment</th>\n",
              "      <th>count_type_exchange</th>\n",
              "      <th>count_type_fee</th>\n",
              "      <th>count_type_tax</th>\n",
              "      <th>count_type_transfer_out</th>\n",
              "      <th>count_type_card_refund</th>\n",
              "      <th>count_type_cashback</th>\n",
              "      <th>count_type_refund</th>\n",
              "      <th>count_type_topup</th>\n",
              "      <th>count_type_transfer_in</th>\n",
              "      <th>created_date_y</th>\n",
              "      <th>last_transaction</th>\n",
              "      <th>created_date</th>\n",
              "      <th>first_transaction</th>\n",
              "    </tr>\n",
              "  </thead>\n",
              "  <tbody>\n",
              "    <tr>\n",
              "      <th>4495</th>\n",
              "      <td>user_4495</td>\n",
              "      <td>1982</td>\n",
              "      <td>RO</td>\n",
              "      <td>Chiajna</td>\n",
              "      <td>2018-01-09 23:39:27.320943</td>\n",
              "      <td>0</td>\n",
              "      <td>STANDARD</td>\n",
              "      <td>1.0</td>\n",
              "      <td>1.0</td>\n",
              "      <td>66</td>\n",
              "      <td>0</td>\n",
              "      <td>0</td>\n",
              "      <td>Apple</td>\n",
              "      <td>37</td>\n",
              "      <td>507</td>\n",
              "      <td>6.500000</td>\n",
              "      <td>12.0</td>\n",
              "      <td>3.0</td>\n",
              "      <td>6.765107</td>\n",
              "      <td>45.766667</td>\n",
              "      <td>6.0</td>\n",
              "      <td>3.0</td>\n",
              "      <td>0.18</td>\n",
              "      <td>6.62</td>\n",
              "      <td>3.520000</td>\n",
              "      <td>10.56</td>\n",
              "      <td>3.0</td>\n",
              "      <td>0.18</td>\n",
              "      <td>8.95</td>\n",
              "      <td>4.713333</td>\n",
              "      <td>14.14</td>\n",
              "      <td>0.0</td>\n",
              "      <td>2.0</td>\n",
              "      <td>0.0</td>\n",
              "      <td>0.0</td>\n",
              "      <td>0.0</td>\n",
              "      <td>1.0</td>\n",
              "      <td>0.0</td>\n",
              "      <td>0.0</td>\n",
              "      <td>0.0</td>\n",
              "      <td>1.0</td>\n",
              "      <td>2.0</td>\n",
              "      <td>2019-04-20 15:52:21.393943</td>\n",
              "      <td>41.0</td>\n",
              "      <td>2019-04-07 10:15:49.918943</td>\n",
              "      <td>54.0</td>\n",
              "    </tr>\n",
              "    <tr>\n",
              "      <th>3317</th>\n",
              "      <td>user_3317</td>\n",
              "      <td>1991</td>\n",
              "      <td>CZ</td>\n",
              "      <td>Uhersky Brod</td>\n",
              "      <td>2018-05-23 21:33:28.183284</td>\n",
              "      <td>0</td>\n",
              "      <td>STANDARD</td>\n",
              "      <td>1.0</td>\n",
              "      <td>1.0</td>\n",
              "      <td>11</td>\n",
              "      <td>0</td>\n",
              "      <td>0</td>\n",
              "      <td>Android</td>\n",
              "      <td>28</td>\n",
              "      <td>373</td>\n",
              "      <td>NaN</td>\n",
              "      <td>NaN</td>\n",
              "      <td>1.0</td>\n",
              "      <td>0.000000</td>\n",
              "      <td>0.000000</td>\n",
              "      <td>2.0</td>\n",
              "      <td>1.0</td>\n",
              "      <td>3.31</td>\n",
              "      <td>3.31</td>\n",
              "      <td>3.310000</td>\n",
              "      <td>3.31</td>\n",
              "      <td>1.0</td>\n",
              "      <td>9.92</td>\n",
              "      <td>9.92</td>\n",
              "      <td>9.920000</td>\n",
              "      <td>9.92</td>\n",
              "      <td>0.0</td>\n",
              "      <td>0.0</td>\n",
              "      <td>0.0</td>\n",
              "      <td>1.0</td>\n",
              "      <td>0.0</td>\n",
              "      <td>0.0</td>\n",
              "      <td>0.0</td>\n",
              "      <td>0.0</td>\n",
              "      <td>0.0</td>\n",
              "      <td>1.0</td>\n",
              "      <td>0.0</td>\n",
              "      <td>2018-05-23 21:47:52.829284</td>\n",
              "      <td>373.0</td>\n",
              "      <td>2018-05-23 21:36:10.293284</td>\n",
              "      <td>373.0</td>\n",
              "    </tr>\n",
              "    <tr>\n",
              "      <th>1101</th>\n",
              "      <td>user_1101</td>\n",
              "      <td>1973</td>\n",
              "      <td>PT</td>\n",
              "      <td>Lisboa</td>\n",
              "      <td>2018-04-16 04:47:46.432240</td>\n",
              "      <td>0</td>\n",
              "      <td>PAID</td>\n",
              "      <td>1.0</td>\n",
              "      <td>1.0</td>\n",
              "      <td>110</td>\n",
              "      <td>0</td>\n",
              "      <td>0</td>\n",
              "      <td>Apple</td>\n",
              "      <td>46</td>\n",
              "      <td>410</td>\n",
              "      <td>1.634454</td>\n",
              "      <td>36.0</td>\n",
              "      <td>239.0</td>\n",
              "      <td>81.181647</td>\n",
              "      <td>6590.459864</td>\n",
              "      <td>1131.0</td>\n",
              "      <td>835.0</td>\n",
              "      <td>0.01</td>\n",
              "      <td>4000.00</td>\n",
              "      <td>93.893234</td>\n",
              "      <td>78400.85</td>\n",
              "      <td>296.0</td>\n",
              "      <td>0.01</td>\n",
              "      <td>4255.32</td>\n",
              "      <td>168.137095</td>\n",
              "      <td>49768.58</td>\n",
              "      <td>4.0</td>\n",
              "      <td>480.0</td>\n",
              "      <td>148.0</td>\n",
              "      <td>2.0</td>\n",
              "      <td>0.0</td>\n",
              "      <td>201.0</td>\n",
              "      <td>0.0</td>\n",
              "      <td>281.0</td>\n",
              "      <td>1.0</td>\n",
              "      <td>14.0</td>\n",
              "      <td>0.0</td>\n",
              "      <td>2019-05-10 19:26:21.349240</td>\n",
              "      <td>21.0</td>\n",
              "      <td>2018-04-16 06:46:58.519240</td>\n",
              "      <td>410.0</td>\n",
              "    </tr>\n",
              "    <tr>\n",
              "      <th>624</th>\n",
              "      <td>user_624</td>\n",
              "      <td>1957</td>\n",
              "      <td>NL</td>\n",
              "      <td>Abb</td>\n",
              "      <td>2018-06-09 20:57:34.008448</td>\n",
              "      <td>0</td>\n",
              "      <td>STANDARD</td>\n",
              "      <td>1.0</td>\n",
              "      <td>1.0</td>\n",
              "      <td>0</td>\n",
              "      <td>0</td>\n",
              "      <td>0</td>\n",
              "      <td>Apple</td>\n",
              "      <td>62</td>\n",
              "      <td>356</td>\n",
              "      <td>NaN</td>\n",
              "      <td>NaN</td>\n",
              "      <td>NaN</td>\n",
              "      <td>NaN</td>\n",
              "      <td>NaN</td>\n",
              "      <td>NaN</td>\n",
              "      <td>NaN</td>\n",
              "      <td>NaN</td>\n",
              "      <td>NaN</td>\n",
              "      <td>NaN</td>\n",
              "      <td>NaN</td>\n",
              "      <td>NaN</td>\n",
              "      <td>NaN</td>\n",
              "      <td>NaN</td>\n",
              "      <td>NaN</td>\n",
              "      <td>NaN</td>\n",
              "      <td>NaN</td>\n",
              "      <td>NaN</td>\n",
              "      <td>NaN</td>\n",
              "      <td>NaN</td>\n",
              "      <td>NaN</td>\n",
              "      <td>NaN</td>\n",
              "      <td>NaN</td>\n",
              "      <td>NaN</td>\n",
              "      <td>NaN</td>\n",
              "      <td>NaN</td>\n",
              "      <td>NaN</td>\n",
              "      <td>NaT</td>\n",
              "      <td>NaN</td>\n",
              "      <td>NaT</td>\n",
              "      <td>NaN</td>\n",
              "    </tr>\n",
              "  </tbody>\n",
              "</table>\n",
              "</div>"
            ],
            "text/plain": [
              "        user_id  birth_year  ...               created_date first_transaction\n",
              "4495  user_4495        1982  ... 2019-04-07 10:15:49.918943              54.0\n",
              "3317  user_3317        1991  ... 2018-05-23 21:36:10.293284             373.0\n",
              "1101  user_1101        1973  ... 2018-04-16 06:46:58.519240             410.0\n",
              "624    user_624        1957  ...                        NaT               NaN\n",
              "\n",
              "[4 rows x 46 columns]"
            ]
          },
          "metadata": {
            "tags": []
          },
          "execution_count": 725
        }
      ]
    },
    {
      "cell_type": "code",
      "metadata": {
        "id": "n2wYEOse39Wr",
        "colab_type": "code",
        "colab": {}
      },
      "source": [
        "users['engagement_duration']=users['first_transaction'] - users['last_transaction'] + 1"
      ],
      "execution_count": 0,
      "outputs": []
    },
    {
      "cell_type": "code",
      "metadata": {
        "id": "afRV478B39Wt",
        "colab_type": "code",
        "colab": {
          "base_uri": "https://localhost:8080/",
          "height": 336
        },
        "outputId": "3fdfb82f-19d7-42e6-eef1-c162f0af807d"
      },
      "source": [
        "users.columns"
      ],
      "execution_count": 727,
      "outputs": [
        {
          "output_type": "execute_result",
          "data": {
            "text/plain": [
              "Index(['user_id', 'birth_year', 'country', 'city', 'created_date_x',\n",
              "       'user_settings_crypto_unlocked', 'plan',\n",
              "       'attributes_notifications_marketing_push',\n",
              "       'attributes_notifications_marketing_email', 'num_contacts',\n",
              "       'num_referrals', 'num_successful_referrals', 'brands', 'age',\n",
              "       'account_duration', 'mean_period_within_transactions',\n",
              "       'max_period_within_transactions', 'unique_days_of_transactions',\n",
              "       'std_of_transactions', 'var_of_transactions',\n",
              "       'total_amount_of_transactions', 'amount_of_transactions_out',\n",
              "       'min_usd_out', 'max_usd_out', 'mean_usd_out', 'sum_usd_out',\n",
              "       'amount_of_transactions_in', 'min_usd_in', 'max_usd_in', 'mean_usd_in',\n",
              "       'sum_usd_in', 'count_type_atm', 'count_type_card_payment',\n",
              "       'count_type_exchange', 'count_type_fee', 'count_type_tax',\n",
              "       'count_type_transfer_out', 'count_type_card_refund',\n",
              "       'count_type_cashback', 'count_type_refund', 'count_type_topup',\n",
              "       'count_type_transfer_in', 'created_date_y', 'last_transaction',\n",
              "       'created_date', 'first_transaction', 'engagement_duration'],\n",
              "      dtype='object')"
            ]
          },
          "metadata": {
            "tags": []
          },
          "execution_count": 727
        }
      ]
    },
    {
      "cell_type": "code",
      "metadata": {
        "id": "xxu21EsA39Wu",
        "colab_type": "code",
        "colab": {}
      },
      "source": [
        "users['days_passed_for_first_transaction']= users['account_duration']- users['first_transaction'] "
      ],
      "execution_count": 0,
      "outputs": []
    },
    {
      "cell_type": "code",
      "metadata": {
        "id": "ToCyXybU39Ww",
        "colab_type": "code",
        "colab": {
          "base_uri": "https://localhost:8080/",
          "height": 114
        },
        "outputId": "dbbb45e8-3e32-4cc9-99c8-6e6ef3c5cb29"
      },
      "source": [
        "users.sample()"
      ],
      "execution_count": 729,
      "outputs": [
        {
          "output_type": "execute_result",
          "data": {
            "text/html": [
              "<div>\n",
              "<style scoped>\n",
              "    .dataframe tbody tr th:only-of-type {\n",
              "        vertical-align: middle;\n",
              "    }\n",
              "\n",
              "    .dataframe tbody tr th {\n",
              "        vertical-align: top;\n",
              "    }\n",
              "\n",
              "    .dataframe thead th {\n",
              "        text-align: right;\n",
              "    }\n",
              "</style>\n",
              "<table border=\"1\" class=\"dataframe\">\n",
              "  <thead>\n",
              "    <tr style=\"text-align: right;\">\n",
              "      <th></th>\n",
              "      <th>user_id</th>\n",
              "      <th>birth_year</th>\n",
              "      <th>country</th>\n",
              "      <th>city</th>\n",
              "      <th>created_date_x</th>\n",
              "      <th>user_settings_crypto_unlocked</th>\n",
              "      <th>plan</th>\n",
              "      <th>attributes_notifications_marketing_push</th>\n",
              "      <th>attributes_notifications_marketing_email</th>\n",
              "      <th>num_contacts</th>\n",
              "      <th>num_referrals</th>\n",
              "      <th>num_successful_referrals</th>\n",
              "      <th>brands</th>\n",
              "      <th>age</th>\n",
              "      <th>account_duration</th>\n",
              "      <th>mean_period_within_transactions</th>\n",
              "      <th>max_period_within_transactions</th>\n",
              "      <th>unique_days_of_transactions</th>\n",
              "      <th>std_of_transactions</th>\n",
              "      <th>var_of_transactions</th>\n",
              "      <th>total_amount_of_transactions</th>\n",
              "      <th>amount_of_transactions_out</th>\n",
              "      <th>min_usd_out</th>\n",
              "      <th>max_usd_out</th>\n",
              "      <th>mean_usd_out</th>\n",
              "      <th>sum_usd_out</th>\n",
              "      <th>amount_of_transactions_in</th>\n",
              "      <th>min_usd_in</th>\n",
              "      <th>max_usd_in</th>\n",
              "      <th>mean_usd_in</th>\n",
              "      <th>sum_usd_in</th>\n",
              "      <th>count_type_atm</th>\n",
              "      <th>count_type_card_payment</th>\n",
              "      <th>count_type_exchange</th>\n",
              "      <th>count_type_fee</th>\n",
              "      <th>count_type_tax</th>\n",
              "      <th>count_type_transfer_out</th>\n",
              "      <th>count_type_card_refund</th>\n",
              "      <th>count_type_cashback</th>\n",
              "      <th>count_type_refund</th>\n",
              "      <th>count_type_topup</th>\n",
              "      <th>count_type_transfer_in</th>\n",
              "      <th>created_date_y</th>\n",
              "      <th>last_transaction</th>\n",
              "      <th>created_date</th>\n",
              "      <th>first_transaction</th>\n",
              "      <th>engagement_duration</th>\n",
              "      <th>days_passed_for_first_transaction</th>\n",
              "    </tr>\n",
              "  </thead>\n",
              "  <tbody>\n",
              "    <tr>\n",
              "      <th>6838</th>\n",
              "      <td>user_6838</td>\n",
              "      <td>1997</td>\n",
              "      <td>FR</td>\n",
              "      <td>strasbourg</td>\n",
              "      <td>2018-07-21 23:48:29.872378</td>\n",
              "      <td>0</td>\n",
              "      <td>STANDARD</td>\n",
              "      <td>1.0</td>\n",
              "      <td>1.0</td>\n",
              "      <td>0</td>\n",
              "      <td>0</td>\n",
              "      <td>0</td>\n",
              "      <td>Android</td>\n",
              "      <td>22</td>\n",
              "      <td>314</td>\n",
              "      <td>NaN</td>\n",
              "      <td>NaN</td>\n",
              "      <td>NaN</td>\n",
              "      <td>NaN</td>\n",
              "      <td>NaN</td>\n",
              "      <td>NaN</td>\n",
              "      <td>NaN</td>\n",
              "      <td>NaN</td>\n",
              "      <td>NaN</td>\n",
              "      <td>NaN</td>\n",
              "      <td>NaN</td>\n",
              "      <td>NaN</td>\n",
              "      <td>NaN</td>\n",
              "      <td>NaN</td>\n",
              "      <td>NaN</td>\n",
              "      <td>NaN</td>\n",
              "      <td>NaN</td>\n",
              "      <td>NaN</td>\n",
              "      <td>NaN</td>\n",
              "      <td>NaN</td>\n",
              "      <td>NaN</td>\n",
              "      <td>NaN</td>\n",
              "      <td>NaN</td>\n",
              "      <td>NaN</td>\n",
              "      <td>NaN</td>\n",
              "      <td>NaN</td>\n",
              "      <td>NaN</td>\n",
              "      <td>NaT</td>\n",
              "      <td>NaN</td>\n",
              "      <td>NaT</td>\n",
              "      <td>NaN</td>\n",
              "      <td>NaN</td>\n",
              "      <td>NaN</td>\n",
              "    </tr>\n",
              "  </tbody>\n",
              "</table>\n",
              "</div>"
            ],
            "text/plain": [
              "        user_id  ...  days_passed_for_first_transaction\n",
              "6838  user_6838  ...                                NaN\n",
              "\n",
              "[1 rows x 48 columns]"
            ]
          },
          "metadata": {
            "tags": []
          },
          "execution_count": 729
        }
      ]
    },
    {
      "cell_type": "code",
      "metadata": {
        "colab_type": "code",
        "id": "QkuYiRlONULR",
        "colab": {}
      },
      "source": [
        "users['transactions_frequency']=users['total_amount_of_transactions'] / users['engagement_duration']"
      ],
      "execution_count": 0,
      "outputs": []
    },
    {
      "cell_type": "markdown",
      "metadata": {
        "colab_type": "text",
        "id": "9AWCqrVPa8GU"
      },
      "source": [
        "#Notifications\n",
        "________________________________________________________\n"
      ]
    },
    {
      "cell_type": "code",
      "metadata": {
        "colab_type": "code",
        "id": "ZqRNx5YCbiN7",
        "colab": {}
      },
      "source": [
        "notif_sent=notif[notif['status']=='SENT']\n"
      ],
      "execution_count": 0,
      "outputs": []
    },
    {
      "cell_type": "code",
      "metadata": {
        "colab_type": "code",
        "id": "GsHE0AJZOrtx",
        "colab": {}
      },
      "source": [
        "amount_notif_sent=pd.crosstab(notif_sent['user_id'], columns=[notif_sent['channel'],notif_sent['reason']])\n",
        "amount_notif_sent.columns=['_'.join(col).lower() for col in amount_notif_sent.columns.values]"
      ],
      "execution_count": 0,
      "outputs": []
    },
    {
      "cell_type": "code",
      "metadata": {
        "colab_type": "code",
        "id": "1OD9pGGKdltu",
        "colab": {}
      },
      "source": [
        "users=pd.merge(users, amount_notif_sent, how='left', left_on='user_id', right_index=True)\n"
      ],
      "execution_count": 0,
      "outputs": []
    },
    {
      "cell_type": "markdown",
      "metadata": {
        "colab_type": "text",
        "id": "2NK2EKmiDcsA"
      },
      "source": [
        "###notifications table analysis under process"
      ]
    },
    {
      "cell_type": "code",
      "metadata": {
        "colab_type": "code",
        "id": "ta5rT6ikVVjV",
        "colab": {}
      },
      "source": [
        "#pd.crosstab(notif['reason'], columns=notif['status'])"
      ],
      "execution_count": 0,
      "outputs": []
    },
    {
      "cell_type": "code",
      "metadata": {
        "colab_type": "code",
        "id": "5p3fqQl7PmFJ",
        "colab": {}
      },
      "source": [
        "#pd.crosstab(notif['user_id'], columns=[notif['channel'], notif['status'], notif['reason']]).head(5)"
      ],
      "execution_count": 0,
      "outputs": []
    },
    {
      "cell_type": "code",
      "metadata": {
        "colab_type": "code",
        "id": "n8nFZ6iYQZiI",
        "colab": {}
      },
      "source": [
        "#notif[notif['user_id']=='user_5734'].sort_values('created_date')#Z"
      ],
      "execution_count": 0,
      "outputs": []
    },
    {
      "cell_type": "code",
      "metadata": {
        "colab_type": "code",
        "id": "TOVYUQYMSYDk",
        "colab": {}
      },
      "source": [
        "#users[users['user_id']=='user_12544']"
      ],
      "execution_count": 0,
      "outputs": []
    },
    {
      "cell_type": "code",
      "metadata": {
        "colab_type": "code",
        "id": "kuRtFgOTYGV3",
        "colab": {}
      },
      "source": [
        "#=pd.crosstab(notif['user_id'], columns= notif['reason'])\n",
        "#tepm2.sample(5)"
      ],
      "execution_count": 0,
      "outputs": []
    },
    {
      "cell_type": "code",
      "metadata": {
        "colab_type": "code",
        "id": "Ratn6xrtSpNK",
        "colab": {}
      },
      "source": [
        "#=pd.merge(users, tepm2, left_on='user_id', right_index=True )"
      ],
      "execution_count": 0,
      "outputs": []
    },
    {
      "cell_type": "code",
      "metadata": {
        "colab_type": "code",
        "id": "tA2MXu6aYfFU",
        "colab": {}
      },
      "source": [
        "#=temp[['plan','BLACK_FRIDAY','BLUE_TUESDAY','ENGAGEMENT_SPLIT_BILL_RESTAURANT','ENGAGEMENT_SPLIT_BILL_RESTAURANT','INVEST_IN_GOLD','JOINING_ANNIVERSARY','LOST_CARD_ORDER','MADE_MONEY_REQUEST_NOT_SPLIT_BILL','METAL_RESERVE_PLAN','NO_INITIAL_CARD_ORDER','NO_INITIAL_CARD_USE','ONBOARDING_TIPS_ACTIVATED_USERS','PROMO','PROMO_CARD_ORDER','REENGAGEMENT_ACTIVE_FUNDS','SILVER_ENGAGEMENT_FEES_SAVED','SILVER_ENGAGEMENT_INACTIVE_CARD','WELCOME_BACK']]"
      ],
      "execution_count": 0,
      "outputs": []
    },
    {
      "cell_type": "code",
      "metadata": {
        "colab_type": "code",
        "id": "ei6TiyNYYq72",
        "colab": {}
      },
      "source": [
        "#temp[temp['plan']=='PAID'].sample(50)"
      ],
      "execution_count": 0,
      "outputs": []
    },
    {
      "cell_type": "markdown",
      "metadata": {
        "colab_type": "text",
        "id": "GClFsA0ODpWm"
      },
      "source": [
        "#Dropping and encoding users table"
      ]
    },
    {
      "cell_type": "code",
      "metadata": {
        "colab_type": "code",
        "id": "QKnB-_evDv5T",
        "colab": {}
      },
      "source": [
        "#dropping columns we don't need\n",
        "data=users.drop(columns=['birth_year','city','created_date_x','attributes_notifications_marketing_push','attributes_notifications_marketing_email','num_referrals','num_successful_referrals','created_date_y','created_date'])\n",
        "\n",
        "\n",
        "#'year_x','month_x','month_y','year_y','month','year'"
      ],
      "execution_count": 0,
      "outputs": []
    },
    {
      "cell_type": "code",
      "metadata": {
        "id": "7CXxTlcV39XO",
        "colab_type": "code",
        "colab": {
          "base_uri": "https://localhost:8080/",
          "height": 461
        },
        "outputId": "46691151-1f0d-4165-e05d-2c08a6e157bb"
      },
      "source": [
        "data.columns"
      ],
      "execution_count": 743,
      "outputs": [
        {
          "output_type": "execute_result",
          "data": {
            "text/plain": [
              "Index(['user_id', 'country', 'user_settings_crypto_unlocked', 'plan',\n",
              "       'num_contacts', 'brands', 'age', 'account_duration',\n",
              "       'mean_period_within_transactions', 'max_period_within_transactions',\n",
              "       'unique_days_of_transactions', 'std_of_transactions',\n",
              "       'var_of_transactions', 'total_amount_of_transactions',\n",
              "       'amount_of_transactions_out', 'min_usd_out', 'max_usd_out',\n",
              "       'mean_usd_out', 'sum_usd_out', 'amount_of_transactions_in',\n",
              "       'min_usd_in', 'max_usd_in', 'mean_usd_in', 'sum_usd_in',\n",
              "       'count_type_atm', 'count_type_card_payment', 'count_type_exchange',\n",
              "       'count_type_fee', 'count_type_tax', 'count_type_transfer_out',\n",
              "       'count_type_card_refund', 'count_type_cashback', 'count_type_refund',\n",
              "       'count_type_topup', 'count_type_transfer_in', 'last_transaction',\n",
              "       'first_transaction', 'engagement_duration',\n",
              "       'days_passed_for_first_transaction', 'transactions_frequency',\n",
              "       'email_engagement_split_bill_restaurant', 'email_invest_in_gold',\n",
              "       'email_lost_card_order', 'email_made_money_request_not_split_bill',\n",
              "       'email_no_initial_card_order', 'email_no_initial_card_use',\n",
              "       'email_onboarding_tips_activated_users', 'email_promo',\n",
              "       'email_promo_card_order', 'email_welcome_back', 'push_black_friday',\n",
              "       'push_blue_tuesday', 'push_joining_anniversary', 'push_lost_card_order',\n",
              "       'push_promo', 'push_reengagement_active_funds',\n",
              "       'push_silver_engagement_fees_saved',\n",
              "       'push_silver_engagement_inactive_card', 'sms_metal_reserve_plan',\n",
              "       'sms_reengagement_active_funds'],\n",
              "      dtype='object')"
            ]
          },
          "metadata": {
            "tags": []
          },
          "execution_count": 743
        }
      ]
    },
    {
      "cell_type": "code",
      "metadata": {
        "colab_type": "code",
        "id": "03jrhab6OjM2",
        "colab": {}
      },
      "source": [
        "data.isnull().sum()# ta nan tha ginoyn 0, afoy einai eite counts eite sum klp,kai \n",
        "datatest=data.fillna(0)#dhmioyrgeitai o datatest gia xrhsh se modela"
      ],
      "execution_count": 0,
      "outputs": []
    },
    {
      "cell_type": "code",
      "metadata": {
        "colab_type": "code",
        "id": "G42ElKbEafjn",
        "colab": {}
      },
      "source": [
        "#column plan  encoding sto dataset\n",
        "plan_dict = {'STANDARD': 0, 'PAID': 1}\n",
        "datatest['plan'] = datatest.plan.map(plan_dict)\n",
        "\n"
      ],
      "execution_count": 0,
      "outputs": []
    },
    {
      "cell_type": "code",
      "metadata": {
        "colab_type": "code",
        "id": "bPII3HfG2XYC",
        "colab": {}
      },
      "source": [
        "datatest.drop('country', axis=1, inplace=True)\n",
        "#gia thn wra petaw ta countries mexri na doyme pws ua ta xeiristoume"
      ],
      "execution_count": 0,
      "outputs": []
    },
    {
      "cell_type": "code",
      "metadata": {
        "colab_type": "code",
        "id": "3AQIhbT0uGIC",
        "colab": {}
      },
      "source": [
        "#column brands encoding sto dataset\n",
        "datatest=pd.get_dummies(datatest)"
      ],
      "execution_count": 0,
      "outputs": []
    },
    {
      "cell_type": "code",
      "metadata": {
        "colab_type": "code",
        "id": "ct2tAst32yHs",
        "colab": {}
      },
      "source": [
        "#dhmioyrgoyntai oi pinakes pou exw anevasei\n",
        "datatest.to_csv('latest_for_testing.csv',index=False, sep=';')\n",
        "data.to_csv('latest_from_users.csv',index=False, sep=';')\n",
        "users.to_csv('latest_users_feat.csv',index=False, sep=';')"
      ],
      "execution_count": 0,
      "outputs": []
    },
    {
      "cell_type": "code",
      "metadata": {
        "colab_type": "code",
        "id": "OSKRTTdh2yD6",
        "colab": {
          "base_uri": "https://localhost:8080/",
          "height": 96
        },
        "outputId": "d16236e7-226c-476c-d8a0-e3f690d333c3"
      },
      "source": [
        "datatest[datatest['transactions_frequency']==np.inf]"
      ],
      "execution_count": 749,
      "outputs": [
        {
          "output_type": "execute_result",
          "data": {
            "text/html": [
              "<div>\n",
              "<style scoped>\n",
              "    .dataframe tbody tr th:only-of-type {\n",
              "        vertical-align: middle;\n",
              "    }\n",
              "\n",
              "    .dataframe tbody tr th {\n",
              "        vertical-align: top;\n",
              "    }\n",
              "\n",
              "    .dataframe thead th {\n",
              "        text-align: right;\n",
              "    }\n",
              "</style>\n",
              "<table border=\"1\" class=\"dataframe\">\n",
              "  <thead>\n",
              "    <tr style=\"text-align: right;\">\n",
              "      <th></th>\n",
              "      <th>user_settings_crypto_unlocked</th>\n",
              "      <th>plan</th>\n",
              "      <th>num_contacts</th>\n",
              "      <th>age</th>\n",
              "      <th>account_duration</th>\n",
              "      <th>mean_period_within_transactions</th>\n",
              "      <th>max_period_within_transactions</th>\n",
              "      <th>unique_days_of_transactions</th>\n",
              "      <th>std_of_transactions</th>\n",
              "      <th>var_of_transactions</th>\n",
              "      <th>total_amount_of_transactions</th>\n",
              "      <th>amount_of_transactions_out</th>\n",
              "      <th>min_usd_out</th>\n",
              "      <th>max_usd_out</th>\n",
              "      <th>mean_usd_out</th>\n",
              "      <th>sum_usd_out</th>\n",
              "      <th>amount_of_transactions_in</th>\n",
              "      <th>min_usd_in</th>\n",
              "      <th>max_usd_in</th>\n",
              "      <th>mean_usd_in</th>\n",
              "      <th>sum_usd_in</th>\n",
              "      <th>count_type_atm</th>\n",
              "      <th>count_type_card_payment</th>\n",
              "      <th>count_type_exchange</th>\n",
              "      <th>count_type_fee</th>\n",
              "      <th>count_type_tax</th>\n",
              "      <th>count_type_transfer_out</th>\n",
              "      <th>count_type_card_refund</th>\n",
              "      <th>count_type_cashback</th>\n",
              "      <th>count_type_refund</th>\n",
              "      <th>count_type_topup</th>\n",
              "      <th>count_type_transfer_in</th>\n",
              "      <th>last_transaction</th>\n",
              "      <th>first_transaction</th>\n",
              "      <th>engagement_duration</th>\n",
              "      <th>days_passed_for_first_transaction</th>\n",
              "      <th>transactions_frequency</th>\n",
              "      <th>email_engagement_split_bill_restaurant</th>\n",
              "      <th>email_invest_in_gold</th>\n",
              "      <th>email_lost_card_order</th>\n",
              "      <th>...</th>\n",
              "      <th>user_id_user_9965</th>\n",
              "      <th>user_id_user_9966</th>\n",
              "      <th>user_id_user_9967</th>\n",
              "      <th>user_id_user_9968</th>\n",
              "      <th>user_id_user_9969</th>\n",
              "      <th>user_id_user_997</th>\n",
              "      <th>user_id_user_9970</th>\n",
              "      <th>user_id_user_9971</th>\n",
              "      <th>user_id_user_9972</th>\n",
              "      <th>user_id_user_9973</th>\n",
              "      <th>user_id_user_9974</th>\n",
              "      <th>user_id_user_9975</th>\n",
              "      <th>user_id_user_9976</th>\n",
              "      <th>user_id_user_9977</th>\n",
              "      <th>user_id_user_9978</th>\n",
              "      <th>user_id_user_9979</th>\n",
              "      <th>user_id_user_998</th>\n",
              "      <th>user_id_user_9980</th>\n",
              "      <th>user_id_user_9981</th>\n",
              "      <th>user_id_user_9982</th>\n",
              "      <th>user_id_user_9983</th>\n",
              "      <th>user_id_user_9984</th>\n",
              "      <th>user_id_user_9985</th>\n",
              "      <th>user_id_user_9986</th>\n",
              "      <th>user_id_user_9987</th>\n",
              "      <th>user_id_user_9988</th>\n",
              "      <th>user_id_user_9989</th>\n",
              "      <th>user_id_user_999</th>\n",
              "      <th>user_id_user_9990</th>\n",
              "      <th>user_id_user_9991</th>\n",
              "      <th>user_id_user_9992</th>\n",
              "      <th>user_id_user_9993</th>\n",
              "      <th>user_id_user_9994</th>\n",
              "      <th>user_id_user_9995</th>\n",
              "      <th>user_id_user_9996</th>\n",
              "      <th>user_id_user_9997</th>\n",
              "      <th>user_id_user_9998</th>\n",
              "      <th>user_id_user_9999</th>\n",
              "      <th>brands_Android</th>\n",
              "      <th>brands_Apple</th>\n",
              "    </tr>\n",
              "  </thead>\n",
              "  <tbody>\n",
              "  </tbody>\n",
              "</table>\n",
              "<p>0 rows × 15603 columns</p>\n",
              "</div>"
            ],
            "text/plain": [
              "Empty DataFrame\n",
              "Columns: [user_settings_crypto_unlocked, plan, num_contacts, age, account_duration, mean_period_within_transactions, max_period_within_transactions, unique_days_of_transactions, std_of_transactions, var_of_transactions, total_amount_of_transactions, amount_of_transactions_out, min_usd_out, max_usd_out, mean_usd_out, sum_usd_out, amount_of_transactions_in, min_usd_in, max_usd_in, mean_usd_in, sum_usd_in, count_type_atm, count_type_card_payment, count_type_exchange, count_type_fee, count_type_tax, count_type_transfer_out, count_type_card_refund, count_type_cashback, count_type_refund, count_type_topup, count_type_transfer_in, last_transaction, first_transaction, engagement_duration, days_passed_for_first_transaction, transactions_frequency, email_engagement_split_bill_restaurant, email_invest_in_gold, email_lost_card_order, email_made_money_request_not_split_bill, email_no_initial_card_order, email_no_initial_card_use, email_onboarding_tips_activated_users, email_promo, email_promo_card_order, email_welcome_back, push_black_friday, push_blue_tuesday, push_joining_anniversary, push_lost_card_order, push_promo, push_reengagement_active_funds, push_silver_engagement_fees_saved, push_silver_engagement_inactive_card, sms_metal_reserve_plan, sms_reengagement_active_funds, user_id_user_0, user_id_user_1, user_id_user_10, user_id_user_100, user_id_user_1000, user_id_user_10000, user_id_user_10001, user_id_user_10002, user_id_user_10003, user_id_user_10004, user_id_user_10005, user_id_user_10006, user_id_user_10007, user_id_user_10008, user_id_user_10009, user_id_user_1001, user_id_user_10010, user_id_user_10011, user_id_user_10012, user_id_user_10013, user_id_user_10014, user_id_user_10015, user_id_user_10016, user_id_user_10017, user_id_user_10018, user_id_user_10019, user_id_user_1002, user_id_user_10020, user_id_user_10021, user_id_user_10022, user_id_user_10023, user_id_user_10024, user_id_user_10025, user_id_user_10026, user_id_user_10027, user_id_user_10028, user_id_user_10029, user_id_user_1003, user_id_user_10030, user_id_user_10031, user_id_user_10032, user_id_user_10033, user_id_user_10034, ...]\n",
              "Index: []\n",
              "\n",
              "[0 rows x 15603 columns]"
            ]
          },
          "metadata": {
            "tags": []
          },
          "execution_count": 749
        }
      ]
    },
    {
      "cell_type": "code",
      "metadata": {
        "id": "MA-XSrhf39XY",
        "colab_type": "code",
        "colab": {
          "base_uri": "https://localhost:8080/",
          "height": 246
        },
        "outputId": "d44b4c8e-3092-40ea-ed49-0fcc43c7f9d8"
      },
      "source": [
        "datatest.head()"
      ],
      "execution_count": 750,
      "outputs": [
        {
          "output_type": "execute_result",
          "data": {
            "text/html": [
              "<div>\n",
              "<style scoped>\n",
              "    .dataframe tbody tr th:only-of-type {\n",
              "        vertical-align: middle;\n",
              "    }\n",
              "\n",
              "    .dataframe tbody tr th {\n",
              "        vertical-align: top;\n",
              "    }\n",
              "\n",
              "    .dataframe thead th {\n",
              "        text-align: right;\n",
              "    }\n",
              "</style>\n",
              "<table border=\"1\" class=\"dataframe\">\n",
              "  <thead>\n",
              "    <tr style=\"text-align: right;\">\n",
              "      <th></th>\n",
              "      <th>user_settings_crypto_unlocked</th>\n",
              "      <th>plan</th>\n",
              "      <th>num_contacts</th>\n",
              "      <th>age</th>\n",
              "      <th>account_duration</th>\n",
              "      <th>mean_period_within_transactions</th>\n",
              "      <th>max_period_within_transactions</th>\n",
              "      <th>unique_days_of_transactions</th>\n",
              "      <th>std_of_transactions</th>\n",
              "      <th>var_of_transactions</th>\n",
              "      <th>total_amount_of_transactions</th>\n",
              "      <th>amount_of_transactions_out</th>\n",
              "      <th>min_usd_out</th>\n",
              "      <th>max_usd_out</th>\n",
              "      <th>mean_usd_out</th>\n",
              "      <th>sum_usd_out</th>\n",
              "      <th>amount_of_transactions_in</th>\n",
              "      <th>min_usd_in</th>\n",
              "      <th>max_usd_in</th>\n",
              "      <th>mean_usd_in</th>\n",
              "      <th>sum_usd_in</th>\n",
              "      <th>count_type_atm</th>\n",
              "      <th>count_type_card_payment</th>\n",
              "      <th>count_type_exchange</th>\n",
              "      <th>count_type_fee</th>\n",
              "      <th>count_type_tax</th>\n",
              "      <th>count_type_transfer_out</th>\n",
              "      <th>count_type_card_refund</th>\n",
              "      <th>count_type_cashback</th>\n",
              "      <th>count_type_refund</th>\n",
              "      <th>count_type_topup</th>\n",
              "      <th>count_type_transfer_in</th>\n",
              "      <th>last_transaction</th>\n",
              "      <th>first_transaction</th>\n",
              "      <th>engagement_duration</th>\n",
              "      <th>days_passed_for_first_transaction</th>\n",
              "      <th>transactions_frequency</th>\n",
              "      <th>email_engagement_split_bill_restaurant</th>\n",
              "      <th>email_invest_in_gold</th>\n",
              "      <th>email_lost_card_order</th>\n",
              "      <th>...</th>\n",
              "      <th>user_id_user_9965</th>\n",
              "      <th>user_id_user_9966</th>\n",
              "      <th>user_id_user_9967</th>\n",
              "      <th>user_id_user_9968</th>\n",
              "      <th>user_id_user_9969</th>\n",
              "      <th>user_id_user_997</th>\n",
              "      <th>user_id_user_9970</th>\n",
              "      <th>user_id_user_9971</th>\n",
              "      <th>user_id_user_9972</th>\n",
              "      <th>user_id_user_9973</th>\n",
              "      <th>user_id_user_9974</th>\n",
              "      <th>user_id_user_9975</th>\n",
              "      <th>user_id_user_9976</th>\n",
              "      <th>user_id_user_9977</th>\n",
              "      <th>user_id_user_9978</th>\n",
              "      <th>user_id_user_9979</th>\n",
              "      <th>user_id_user_998</th>\n",
              "      <th>user_id_user_9980</th>\n",
              "      <th>user_id_user_9981</th>\n",
              "      <th>user_id_user_9982</th>\n",
              "      <th>user_id_user_9983</th>\n",
              "      <th>user_id_user_9984</th>\n",
              "      <th>user_id_user_9985</th>\n",
              "      <th>user_id_user_9986</th>\n",
              "      <th>user_id_user_9987</th>\n",
              "      <th>user_id_user_9988</th>\n",
              "      <th>user_id_user_9989</th>\n",
              "      <th>user_id_user_999</th>\n",
              "      <th>user_id_user_9990</th>\n",
              "      <th>user_id_user_9991</th>\n",
              "      <th>user_id_user_9992</th>\n",
              "      <th>user_id_user_9993</th>\n",
              "      <th>user_id_user_9994</th>\n",
              "      <th>user_id_user_9995</th>\n",
              "      <th>user_id_user_9996</th>\n",
              "      <th>user_id_user_9997</th>\n",
              "      <th>user_id_user_9998</th>\n",
              "      <th>user_id_user_9999</th>\n",
              "      <th>brands_Android</th>\n",
              "      <th>brands_Apple</th>\n",
              "    </tr>\n",
              "  </thead>\n",
              "  <tbody>\n",
              "    <tr>\n",
              "      <th>0</th>\n",
              "      <td>0</td>\n",
              "      <td>0</td>\n",
              "      <td>3</td>\n",
              "      <td>27</td>\n",
              "      <td>263</td>\n",
              "      <td>1.522013</td>\n",
              "      <td>18.0</td>\n",
              "      <td>160.0</td>\n",
              "      <td>64.059353</td>\n",
              "      <td>4103.600767</td>\n",
              "      <td>520.0</td>\n",
              "      <td>357.0</td>\n",
              "      <td>0.58</td>\n",
              "      <td>510.64</td>\n",
              "      <td>10.167367</td>\n",
              "      <td>3629.75</td>\n",
              "      <td>163.0</td>\n",
              "      <td>8.51</td>\n",
              "      <td>510.64</td>\n",
              "      <td>20.216748</td>\n",
              "      <td>3295.33</td>\n",
              "      <td>0.0</td>\n",
              "      <td>333.0</td>\n",
              "      <td>5.0</td>\n",
              "      <td>0.0</td>\n",
              "      <td>0.0</td>\n",
              "      <td>19.0</td>\n",
              "      <td>1.0</td>\n",
              "      <td>0.0</td>\n",
              "      <td>0.0</td>\n",
              "      <td>158.0</td>\n",
              "      <td>4.0</td>\n",
              "      <td>21.0</td>\n",
              "      <td>263.0</td>\n",
              "      <td>243.0</td>\n",
              "      <td>0.0</td>\n",
              "      <td>2.139918</td>\n",
              "      <td>0.0</td>\n",
              "      <td>1.0</td>\n",
              "      <td>0.0</td>\n",
              "      <td>...</td>\n",
              "      <td>0</td>\n",
              "      <td>0</td>\n",
              "      <td>0</td>\n",
              "      <td>0</td>\n",
              "      <td>0</td>\n",
              "      <td>0</td>\n",
              "      <td>0</td>\n",
              "      <td>0</td>\n",
              "      <td>0</td>\n",
              "      <td>0</td>\n",
              "      <td>0</td>\n",
              "      <td>0</td>\n",
              "      <td>0</td>\n",
              "      <td>0</td>\n",
              "      <td>0</td>\n",
              "      <td>0</td>\n",
              "      <td>0</td>\n",
              "      <td>0</td>\n",
              "      <td>0</td>\n",
              "      <td>0</td>\n",
              "      <td>0</td>\n",
              "      <td>0</td>\n",
              "      <td>0</td>\n",
              "      <td>0</td>\n",
              "      <td>0</td>\n",
              "      <td>0</td>\n",
              "      <td>0</td>\n",
              "      <td>0</td>\n",
              "      <td>0</td>\n",
              "      <td>0</td>\n",
              "      <td>0</td>\n",
              "      <td>0</td>\n",
              "      <td>0</td>\n",
              "      <td>0</td>\n",
              "      <td>0</td>\n",
              "      <td>0</td>\n",
              "      <td>0</td>\n",
              "      <td>0</td>\n",
              "      <td>0</td>\n",
              "      <td>1</td>\n",
              "    </tr>\n",
              "    <tr>\n",
              "      <th>1</th>\n",
              "      <td>1</td>\n",
              "      <td>0</td>\n",
              "      <td>75</td>\n",
              "      <td>34</td>\n",
              "      <td>505</td>\n",
              "      <td>6.676471</td>\n",
              "      <td>79.0</td>\n",
              "      <td>69.0</td>\n",
              "      <td>104.200464</td>\n",
              "      <td>10857.736728</td>\n",
              "      <td>133.0</td>\n",
              "      <td>106.0</td>\n",
              "      <td>0.94</td>\n",
              "      <td>851.06</td>\n",
              "      <td>61.226698</td>\n",
              "      <td>6490.03</td>\n",
              "      <td>27.0</td>\n",
              "      <td>1.70</td>\n",
              "      <td>851.06</td>\n",
              "      <td>239.463333</td>\n",
              "      <td>6465.51</td>\n",
              "      <td>4.0</td>\n",
              "      <td>78.0</td>\n",
              "      <td>0.0</td>\n",
              "      <td>0.0</td>\n",
              "      <td>0.0</td>\n",
              "      <td>24.0</td>\n",
              "      <td>0.0</td>\n",
              "      <td>0.0</td>\n",
              "      <td>0.0</td>\n",
              "      <td>24.0</td>\n",
              "      <td>3.0</td>\n",
              "      <td>27.0</td>\n",
              "      <td>481.0</td>\n",
              "      <td>455.0</td>\n",
              "      <td>24.0</td>\n",
              "      <td>0.292308</td>\n",
              "      <td>1.0</td>\n",
              "      <td>0.0</td>\n",
              "      <td>0.0</td>\n",
              "      <td>...</td>\n",
              "      <td>0</td>\n",
              "      <td>0</td>\n",
              "      <td>0</td>\n",
              "      <td>0</td>\n",
              "      <td>0</td>\n",
              "      <td>0</td>\n",
              "      <td>0</td>\n",
              "      <td>0</td>\n",
              "      <td>0</td>\n",
              "      <td>0</td>\n",
              "      <td>0</td>\n",
              "      <td>0</td>\n",
              "      <td>0</td>\n",
              "      <td>0</td>\n",
              "      <td>0</td>\n",
              "      <td>0</td>\n",
              "      <td>0</td>\n",
              "      <td>0</td>\n",
              "      <td>0</td>\n",
              "      <td>0</td>\n",
              "      <td>0</td>\n",
              "      <td>0</td>\n",
              "      <td>0</td>\n",
              "      <td>0</td>\n",
              "      <td>0</td>\n",
              "      <td>0</td>\n",
              "      <td>0</td>\n",
              "      <td>0</td>\n",
              "      <td>0</td>\n",
              "      <td>0</td>\n",
              "      <td>0</td>\n",
              "      <td>0</td>\n",
              "      <td>0</td>\n",
              "      <td>0</td>\n",
              "      <td>0</td>\n",
              "      <td>0</td>\n",
              "      <td>0</td>\n",
              "      <td>0</td>\n",
              "      <td>0</td>\n",
              "      <td>1</td>\n",
              "    </tr>\n",
              "    <tr>\n",
              "      <th>2</th>\n",
              "      <td>0</td>\n",
              "      <td>0</td>\n",
              "      <td>71</td>\n",
              "      <td>23</td>\n",
              "      <td>183</td>\n",
              "      <td>2.238095</td>\n",
              "      <td>24.0</td>\n",
              "      <td>64.0</td>\n",
              "      <td>25.899183</td>\n",
              "      <td>670.767664</td>\n",
              "      <td>268.0</td>\n",
              "      <td>225.0</td>\n",
              "      <td>0.04</td>\n",
              "      <td>194.38</td>\n",
              "      <td>6.901511</td>\n",
              "      <td>1552.84</td>\n",
              "      <td>43.0</td>\n",
              "      <td>4.26</td>\n",
              "      <td>97.87</td>\n",
              "      <td>27.233953</td>\n",
              "      <td>1171.06</td>\n",
              "      <td>0.0</td>\n",
              "      <td>97.0</td>\n",
              "      <td>0.0</td>\n",
              "      <td>0.0</td>\n",
              "      <td>0.0</td>\n",
              "      <td>128.0</td>\n",
              "      <td>0.0</td>\n",
              "      <td>0.0</td>\n",
              "      <td>0.0</td>\n",
              "      <td>37.0</td>\n",
              "      <td>6.0</td>\n",
              "      <td>42.0</td>\n",
              "      <td>183.0</td>\n",
              "      <td>142.0</td>\n",
              "      <td>0.0</td>\n",
              "      <td>1.887324</td>\n",
              "      <td>0.0</td>\n",
              "      <td>0.0</td>\n",
              "      <td>0.0</td>\n",
              "      <td>...</td>\n",
              "      <td>0</td>\n",
              "      <td>0</td>\n",
              "      <td>0</td>\n",
              "      <td>0</td>\n",
              "      <td>0</td>\n",
              "      <td>0</td>\n",
              "      <td>0</td>\n",
              "      <td>0</td>\n",
              "      <td>0</td>\n",
              "      <td>0</td>\n",
              "      <td>0</td>\n",
              "      <td>0</td>\n",
              "      <td>0</td>\n",
              "      <td>0</td>\n",
              "      <td>0</td>\n",
              "      <td>0</td>\n",
              "      <td>0</td>\n",
              "      <td>0</td>\n",
              "      <td>0</td>\n",
              "      <td>0</td>\n",
              "      <td>0</td>\n",
              "      <td>0</td>\n",
              "      <td>0</td>\n",
              "      <td>0</td>\n",
              "      <td>0</td>\n",
              "      <td>0</td>\n",
              "      <td>0</td>\n",
              "      <td>0</td>\n",
              "      <td>0</td>\n",
              "      <td>0</td>\n",
              "      <td>0</td>\n",
              "      <td>0</td>\n",
              "      <td>0</td>\n",
              "      <td>0</td>\n",
              "      <td>0</td>\n",
              "      <td>0</td>\n",
              "      <td>0</td>\n",
              "      <td>0</td>\n",
              "      <td>0</td>\n",
              "      <td>1</td>\n",
              "    </tr>\n",
              "    <tr>\n",
              "      <th>3</th>\n",
              "      <td>0</td>\n",
              "      <td>0</td>\n",
              "      <td>219</td>\n",
              "      <td>38</td>\n",
              "      <td>468</td>\n",
              "      <td>5.544304</td>\n",
              "      <td>104.0</td>\n",
              "      <td>80.0</td>\n",
              "      <td>104.476260</td>\n",
              "      <td>10915.289003</td>\n",
              "      <td>140.0</td>\n",
              "      <td>126.0</td>\n",
              "      <td>1.87</td>\n",
              "      <td>263.83</td>\n",
              "      <td>27.991667</td>\n",
              "      <td>3526.95</td>\n",
              "      <td>14.0</td>\n",
              "      <td>42.55</td>\n",
              "      <td>510.64</td>\n",
              "      <td>248.024286</td>\n",
              "      <td>3472.34</td>\n",
              "      <td>0.0</td>\n",
              "      <td>120.0</td>\n",
              "      <td>0.0</td>\n",
              "      <td>0.0</td>\n",
              "      <td>0.0</td>\n",
              "      <td>6.0</td>\n",
              "      <td>0.0</td>\n",
              "      <td>0.0</td>\n",
              "      <td>0.0</td>\n",
              "      <td>13.0</td>\n",
              "      <td>1.0</td>\n",
              "      <td>22.0</td>\n",
              "      <td>460.0</td>\n",
              "      <td>439.0</td>\n",
              "      <td>8.0</td>\n",
              "      <td>0.318907</td>\n",
              "      <td>0.0</td>\n",
              "      <td>0.0</td>\n",
              "      <td>0.0</td>\n",
              "      <td>...</td>\n",
              "      <td>0</td>\n",
              "      <td>0</td>\n",
              "      <td>0</td>\n",
              "      <td>0</td>\n",
              "      <td>0</td>\n",
              "      <td>0</td>\n",
              "      <td>0</td>\n",
              "      <td>0</td>\n",
              "      <td>0</td>\n",
              "      <td>0</td>\n",
              "      <td>0</td>\n",
              "      <td>0</td>\n",
              "      <td>0</td>\n",
              "      <td>0</td>\n",
              "      <td>0</td>\n",
              "      <td>0</td>\n",
              "      <td>0</td>\n",
              "      <td>0</td>\n",
              "      <td>0</td>\n",
              "      <td>0</td>\n",
              "      <td>0</td>\n",
              "      <td>0</td>\n",
              "      <td>0</td>\n",
              "      <td>0</td>\n",
              "      <td>0</td>\n",
              "      <td>0</td>\n",
              "      <td>0</td>\n",
              "      <td>0</td>\n",
              "      <td>0</td>\n",
              "      <td>0</td>\n",
              "      <td>0</td>\n",
              "      <td>0</td>\n",
              "      <td>0</td>\n",
              "      <td>0</td>\n",
              "      <td>0</td>\n",
              "      <td>0</td>\n",
              "      <td>0</td>\n",
              "      <td>0</td>\n",
              "      <td>0</td>\n",
              "      <td>1</td>\n",
              "    </tr>\n",
              "    <tr>\n",
              "      <th>4</th>\n",
              "      <td>0</td>\n",
              "      <td>0</td>\n",
              "      <td>0</td>\n",
              "      <td>27</td>\n",
              "      <td>508</td>\n",
              "      <td>9.484848</td>\n",
              "      <td>71.0</td>\n",
              "      <td>34.0</td>\n",
              "      <td>66.093345</td>\n",
              "      <td>4368.330204</td>\n",
              "      <td>50.0</td>\n",
              "      <td>41.0</td>\n",
              "      <td>1.50</td>\n",
              "      <td>92.00</td>\n",
              "      <td>13.691951</td>\n",
              "      <td>561.37</td>\n",
              "      <td>9.0</td>\n",
              "      <td>10.00</td>\n",
              "      <td>200.00</td>\n",
              "      <td>46.673333</td>\n",
              "      <td>420.06</td>\n",
              "      <td>0.0</td>\n",
              "      <td>37.0</td>\n",
              "      <td>4.0</td>\n",
              "      <td>0.0</td>\n",
              "      <td>0.0</td>\n",
              "      <td>0.0</td>\n",
              "      <td>1.0</td>\n",
              "      <td>0.0</td>\n",
              "      <td>0.0</td>\n",
              "      <td>8.0</td>\n",
              "      <td>0.0</td>\n",
              "      <td>136.0</td>\n",
              "      <td>449.0</td>\n",
              "      <td>314.0</td>\n",
              "      <td>59.0</td>\n",
              "      <td>0.159236</td>\n",
              "      <td>0.0</td>\n",
              "      <td>1.0</td>\n",
              "      <td>0.0</td>\n",
              "      <td>...</td>\n",
              "      <td>0</td>\n",
              "      <td>0</td>\n",
              "      <td>0</td>\n",
              "      <td>0</td>\n",
              "      <td>0</td>\n",
              "      <td>0</td>\n",
              "      <td>0</td>\n",
              "      <td>0</td>\n",
              "      <td>0</td>\n",
              "      <td>0</td>\n",
              "      <td>0</td>\n",
              "      <td>0</td>\n",
              "      <td>0</td>\n",
              "      <td>0</td>\n",
              "      <td>0</td>\n",
              "      <td>0</td>\n",
              "      <td>0</td>\n",
              "      <td>0</td>\n",
              "      <td>0</td>\n",
              "      <td>0</td>\n",
              "      <td>0</td>\n",
              "      <td>0</td>\n",
              "      <td>0</td>\n",
              "      <td>0</td>\n",
              "      <td>0</td>\n",
              "      <td>0</td>\n",
              "      <td>0</td>\n",
              "      <td>0</td>\n",
              "      <td>0</td>\n",
              "      <td>0</td>\n",
              "      <td>0</td>\n",
              "      <td>0</td>\n",
              "      <td>0</td>\n",
              "      <td>0</td>\n",
              "      <td>0</td>\n",
              "      <td>0</td>\n",
              "      <td>0</td>\n",
              "      <td>0</td>\n",
              "      <td>0</td>\n",
              "      <td>1</td>\n",
              "    </tr>\n",
              "  </tbody>\n",
              "</table>\n",
              "<p>5 rows × 15603 columns</p>\n",
              "</div>"
            ],
            "text/plain": [
              "   user_settings_crypto_unlocked  plan  ...  brands_Android  brands_Apple\n",
              "0                              0     0  ...               0             1\n",
              "1                              1     0  ...               0             1\n",
              "2                              0     0  ...               0             1\n",
              "3                              0     0  ...               0             1\n",
              "4                              0     0  ...               0             1\n",
              "\n",
              "[5 rows x 15603 columns]"
            ]
          },
          "metadata": {
            "tags": []
          },
          "execution_count": 750
        }
      ]
    },
    {
      "cell_type": "code",
      "metadata": {
        "colab_type": "code",
        "id": "0-VfLZxqhETk",
        "colab": {}
      },
      "source": [
        "#dhmioyrgia X, y pinakwn gia na etoimasia toy train_test_split\n",
        "#X = us_1_en.drop(columns=['plan']).values\n",
        "#X_columns = us_1_en.drop(columns=['plan']).columns\n",
        "#y = us_1_en['plan'].values"
      ],
      "execution_count": 0,
      "outputs": []
    },
    {
      "cell_type": "code",
      "metadata": {
        "id": "C0RFmkMm42ay",
        "colab_type": "code",
        "colab": {}
      },
      "source": [
        ""
      ],
      "execution_count": 0,
      "outputs": []
    },
    {
      "cell_type": "markdown",
      "metadata": {
        "id": "7QSakChr478n",
        "colab_type": "text"
      },
      "source": [
        "#NOTIF\n",
        "---------------------------------"
      ]
    },
    {
      "cell_type": "code",
      "metadata": {
        "id": "onTZfqqjtUM1",
        "colab_type": "code",
        "colab": {}
      },
      "source": [
        "notif.created_date=pd.to_datetime(notif.created_date)\n",
        "notif['days'] = (np.datetime64('2019-06-01') - notif['created_date']).dt.days"
      ],
      "execution_count": 0,
      "outputs": []
    },
    {
      "cell_type": "code",
      "metadata": {
        "id": "zsSXtOyftoPN",
        "colab_type": "code",
        "outputId": "c67ebe00-0cb9-43af-e2cc-3a4839a9346e",
        "colab": {
          "base_uri": "https://localhost:8080/",
          "height": 34
        }
      },
      "source": [
        "#a[0] = FAILED notifications per quarter year\n",
        "#a[1] = SENT notifications per quarter year\n",
        "a = [[0,0,0,0,0,0],[0,0,0,0,0,0]]\n",
        "for x in range(0,len(notif)):\n",
        "  if(notif['status'][x] != 'SENT'):\n",
        "    a[0][notif['days'][x]//90] += 1\n",
        "  else:\n",
        "    a[1][notif['days'][x]//90] += 1\n",
        "print(a) #0 -> nearest, 5-> oldest"
      ],
      "execution_count": 773,
      "outputs": [
        {
          "output_type": "stream",
          "text": [
            "[[2061, 12865, 3658, 3509, 3829, 89], [6747, 36130, 18498, 5937, 2868, 1513]]\n"
          ],
          "name": "stdout"
        }
      ]
    },
    {
      "cell_type": "code",
      "metadata": {
        "id": "64s2IJWB1gLo",
        "colab_type": "code",
        "outputId": "3d75e188-363c-4b46-fe08-ef9f96c0b1a7",
        "colab": {
          "base_uri": "https://localhost:8080/",
          "height": 34
        }
      },
      "source": [
        "a[0][2]"
      ],
      "execution_count": 774,
      "outputs": [
        {
          "output_type": "execute_result",
          "data": {
            "text/plain": [
              "3658"
            ]
          },
          "metadata": {
            "tags": []
          },
          "execution_count": 774
        }
      ]
    },
    {
      "cell_type": "code",
      "metadata": {
        "id": "VoWO1AKX021a",
        "colab_type": "code",
        "outputId": "82ccef58-7cb2-4e35-da88-6c1fe75c0dd9",
        "colab": {
          "base_uri": "https://localhost:8080/",
          "height": 34
        }
      },
      "source": [
        "count = 0\n",
        "for x in range (0,6):\n",
        "  for y in range (0,2):\n",
        "    count += a[y][x]\n",
        "print(count)"
      ],
      "execution_count": 755,
      "outputs": [
        {
          "output_type": "stream",
          "text": [
            "97704\n"
          ],
          "name": "stdout"
        }
      ]
    },
    {
      "cell_type": "code",
      "metadata": {
        "id": "XQHDNYrI1clJ",
        "colab_type": "code",
        "outputId": "d1a92f6a-0cc5-4b11-cd0e-86f89f3eaf20",
        "colab": {
          "base_uri": "https://localhost:8080/",
          "height": 34
        }
      },
      "source": [
        "len(notif)"
      ],
      "execution_count": 756,
      "outputs": [
        {
          "output_type": "execute_result",
          "data": {
            "text/plain": [
              "97704"
            ]
          },
          "metadata": {
            "tags": []
          },
          "execution_count": 756
        }
      ]
    },
    {
      "cell_type": "code",
      "metadata": {
        "id": "Am5QsNmrvn2L",
        "colab_type": "code",
        "outputId": "7dc9a0a6-3fd4-4c92-e115-4c9f2f5b3029",
        "colab": {
          "base_uri": "https://localhost:8080/",
          "height": 34
        }
      },
      "source": [
        "len(notif.query('status == \"SENT\" '))"
      ],
      "execution_count": 757,
      "outputs": [
        {
          "output_type": "execute_result",
          "data": {
            "text/plain": [
              "71693"
            ]
          },
          "metadata": {
            "tags": []
          },
          "execution_count": 757
        }
      ]
    },
    {
      "cell_type": "markdown",
      "metadata": {
        "id": "VmT0ijxG0Kk-",
        "colab_type": "text"
      },
      "source": [
        "#Churn\n",
        "----------------------------------"
      ]
    },
    {
      "cell_type": "code",
      "metadata": {
        "id": "30qmTEAa2Cvy",
        "colab_type": "code",
        "colab": {}
      },
      "source": [
        "def func(churn):\n",
        "    result = 0\n",
        "    if churn['total_amount_of_transactions'] == 0:\n",
        "        result= 1\n",
        "    if (churn['std_of_transactions']==0):\n",
        "        result= 1\n",
        "    if (churn['last_transaction'] - 15) > (2 * churn['max_period_within_transactions']):\n",
        "        result=1\n",
        "    return result"
      ],
      "execution_count": 0,
      "outputs": []
    },
    {
      "cell_type": "code",
      "metadata": {
        "id": "GeakAbKd2EaR",
        "colab_type": "code",
        "colab": {}
      },
      "source": [
        "users['churned_users']=users.apply(func, axis=1)"
      ],
      "execution_count": 0,
      "outputs": []
    },
    {
      "cell_type": "code",
      "metadata": {
        "id": "DXBtNoyO7a1i",
        "colab_type": "code",
        "colab": {
          "base_uri": "https://localhost:8080/",
          "height": 34
        },
        "outputId": "a20fe2ac-9fbe-4c50-f292-3d3cd8d54c26"
      },
      "source": [
        "users.shape"
      ],
      "execution_count": 760,
      "outputs": [
        {
          "output_type": "execute_result",
          "data": {
            "text/plain": [
              "(15544, 70)"
            ]
          },
          "metadata": {
            "tags": []
          },
          "execution_count": 760
        }
      ]
    },
    {
      "cell_type": "markdown",
      "metadata": {
        "id": "P_4iwJ2n87-7",
        "colab_type": "text"
      },
      "source": [
        "#Trans\n",
        "------------------------------------"
      ]
    },
    {
      "cell_type": "code",
      "metadata": {
        "id": "8C40ljpK8PPF",
        "colab_type": "code",
        "colab": {}
      },
      "source": [
        "trans.created_date=pd.to_datetime(trans.created_date)\n",
        "trans['days'] = (np.datetime64('2019-06-01') - trans['created_date']).dt.days"
      ],
      "execution_count": 0,
      "outputs": []
    },
    {
      "cell_type": "code",
      "metadata": {
        "id": "r4eLymVcLT0D",
        "colab_type": "code",
        "colab": {
          "base_uri": "https://localhost:8080/",
          "height": 114
        },
        "outputId": "df5ccaaa-0000-451a-8574-48e8d8ee75bb"
      },
      "source": [
        "trans.sample(1)"
      ],
      "execution_count": 762,
      "outputs": [
        {
          "output_type": "execute_result",
          "data": {
            "text/html": [
              "<div>\n",
              "<style scoped>\n",
              "    .dataframe tbody tr th:only-of-type {\n",
              "        vertical-align: middle;\n",
              "    }\n",
              "\n",
              "    .dataframe tbody tr th {\n",
              "        vertical-align: top;\n",
              "    }\n",
              "\n",
              "    .dataframe thead th {\n",
              "        text-align: right;\n",
              "    }\n",
              "</style>\n",
              "<table border=\"1\" class=\"dataframe\">\n",
              "  <thead>\n",
              "    <tr style=\"text-align: right;\">\n",
              "      <th></th>\n",
              "      <th>transaction_id</th>\n",
              "      <th>transactions_type</th>\n",
              "      <th>transactions_currency</th>\n",
              "      <th>amount_usd</th>\n",
              "      <th>transactions_state</th>\n",
              "      <th>ea_cardholderpresence</th>\n",
              "      <th>ea_merchant_mcc</th>\n",
              "      <th>ea_merchant_city</th>\n",
              "      <th>ea_merchant_country</th>\n",
              "      <th>direction</th>\n",
              "      <th>user_id</th>\n",
              "      <th>created_date</th>\n",
              "      <th>days</th>\n",
              "    </tr>\n",
              "  </thead>\n",
              "  <tbody>\n",
              "    <tr>\n",
              "      <th>46403</th>\n",
              "      <td>transaction_1546403</td>\n",
              "      <td>TRANSFER</td>\n",
              "      <td>RON</td>\n",
              "      <td>0.02</td>\n",
              "      <td>COMPLETED</td>\n",
              "      <td>NaN</td>\n",
              "      <td>NaN</td>\n",
              "      <td>NaN</td>\n",
              "      <td>NaN</td>\n",
              "      <td>OUTBOUND</td>\n",
              "      <td>user_6264</td>\n",
              "      <td>2019-04-15 06:00:48.872931</td>\n",
              "      <td>46</td>\n",
              "    </tr>\n",
              "  </tbody>\n",
              "</table>\n",
              "</div>"
            ],
            "text/plain": [
              "            transaction_id transactions_type  ...               created_date  days\n",
              "46403  transaction_1546403          TRANSFER  ... 2019-04-15 06:00:48.872931    46\n",
              "\n",
              "[1 rows x 13 columns]"
            ]
          },
          "metadata": {
            "tags": []
          },
          "execution_count": 762
        }
      ]
    },
    {
      "cell_type": "markdown",
      "metadata": {
        "id": "pZK105cG7pDy",
        "colab_type": "text"
      },
      "source": [
        "#crosstabs(CHURN, NOTIFICATIONS)\n",
        "--------------------------------------"
      ]
    },
    {
      "cell_type": "code",
      "metadata": {
        "colab_type": "code",
        "id": "sM48RVWlFbS7",
        "colab": {}
      },
      "source": [
        "def my_func(trans, user, quarters):  \n",
        "  trans=trans[trans['transactions_state']=='COMPLETED']#kratame mono ta completed transactions\n",
        "  #tempo table me hmeromhnies twn transaction \n",
        "  #Oi hmeromhnies ypologizontai se meres apo thn 1/6\n",
        "  tempo=trans[['user_id','created_date']]\n",
        "  tempo.sort_values(['user_id','created_date'],inplace=True)\n",
        "  tempo['created_date']=pd.to_datetime(tempo['created_date'])\n",
        "  tempo['days_from_transaction']=(np.datetime64('2019-06-01') - tempo['created_date']).dt.days\n",
        "  tempo.drop(columns=['created_date'], inplace=True)\n",
        "  #uni table exei tis unique dates poy exei kanei ka8e user transaction\n",
        "  uni = tempo.drop_duplicates([\"user_id\",\"days_from_transaction\"])\n",
        "  #ypologizontai o mean tvn diaforwn kathe transaction, kai h max diafora transaction gia kathe user\n",
        "  mean_period_within_trans=uni.groupby(['user_id']).agg(mean_period_within_transactions=('days_from_transaction', lambda x: x.diff(periods=-1).mean()))\n",
        "  max_period_within_trans=uni.groupby(['user_id']).agg(max_period_within_transactions=('days_from_transaction', lambda x: x.diff(periods=-1).max()))\n",
        "  user=pd.merge(user , mean_period_within_trans, how='left', left_on='user_id', right_index=True)\n",
        "  user=pd.merge(user , max_period_within_trans, how='left', left_on='user_id', right_index=True)\n",
        "  #ypologizetai poses unique dates exei kanei transactions kathe user\n",
        "  unique_days_of_trans=tempo.groupby(['user_id']).agg(unique_days_of_transactions=('days_from_transaction', 'nunique'))\n",
        "  user=pd.merge(user , unique_days_of_trans, how='left', left_on='user_id', right_index=True)\n",
        "  #ypolofizetai to std, var twn dates of transactions gia ka8e user\n",
        "  std_var_trans=tempo.groupby('user_id').agg(std_of_transactions=('days_from_transaction','std'),var_of_transactions=('days_from_transaction','var'))\n",
        "  user=pd.merge(user , std_var_trans, how='left', left_on='user_id', right_index=True)\n",
        "  number_of_trans=pd.DataFrame(trans.user_id.value_counts())#amount of transactions per user\n",
        "  number_of_trans.rename(columns={'user_id':'total_amount_of_transactions'},inplace=True)\n",
        "  user=pd.merge(user , number_of_trans, how='left', left_on='user_id', right_index=True)#h sthlg amount_of_transactions is joined sto users\n",
        "  trans_out=trans[trans['direction']=='OUTBOUND']\n",
        "  trans_in=trans[trans['direction']=='INBOUND']\n",
        "  usd_per_user_out = pd.pivot_table(data=trans_out,aggfunc=['count','min','max','mean','sum'], index='user_id',  values='amount_usd')\n",
        "  usd_per_user_out.columns=['amount_of_transactions_out', 'min_usd_out', 'max_usd_out', 'mean_usd_out', 'sum_usd_out']\n",
        "  user=pd.merge(user , usd_per_user_out, how='left', left_on='user_id', right_index=True)\n",
        "  usd_per_user_in = pd.pivot_table(data=trans_in,aggfunc=['count','min','max','mean','sum'], index='user_id',  values='amount_usd')\n",
        "  usd_per_user_in.columns=['amount_of_transactions_in', 'min_usd_in', 'max_usd_in', 'mean_usd_in', 'sum_usd_in']\n",
        "  user=pd.merge(user , usd_per_user_in, how='left', left_on='user_id', right_index=True)\n",
        "  trans_transactions_type_out = pd.crosstab(trans_out['user_id'], columns=trans_out['transactions_type'])\n",
        "  trans_transactions_type_in = pd.crosstab(trans_in['user_id'], columns=trans_in['transactions_type'])\n",
        "  trans_transactions_type_out.columns=['count_type_atm', 'count_type_card_payment','count_type_exchange','count_type_fee', 'count_type_tax', 'count_type_transfer_out']\n",
        "  trans_transactions_type_in.columns=['count_type_card_refund', 'count_type_cashback','count_type_refund','count_type_topup','count_type_transfer_in']\n",
        "  user=pd.merge(user , trans_transactions_type_out, how='left', left_on='user_id', right_index=True)\n",
        "  user=pd.merge(user , trans_transactions_type_in, how='left', left_on='user_id', right_index=True)\n",
        "  trans_sorted=trans.sort_values(['created_date'],ascending=False)#trans is sorted, duplicates user_id entries are removed and remain only latest transactions \n",
        "  lasttrans = trans_sorted.drop_duplicates('user_id').sort_index()\n",
        "  lasttrans=lasttrans[['user_id','created_date']]\n",
        "  #handling dates in days\n",
        "  lasttrans['created_date']=pd.to_datetime(lasttrans['created_date'])\n",
        "  #lasttrans['today']=np.datetime64('2019-06-01')\n",
        "  lasttrans['last_transaction'] = (np.datetime64(quarters) - lasttrans['created_date']).dt.days\n",
        "  user=pd.merge(user , lasttrans, how='left', left_on='user_id', right_on='user_id')\n",
        "  trans_sorted_asc=trans.sort_values(['created_date'],ascending=True)#trans is sorted, duplicates user_id entries are removed and remain only latest transactions \n",
        "  firsttran = trans_sorted_asc.drop_duplicates('user_id').sort_index()\n",
        "  firsttran=firsttran[['user_id','created_date']]\n",
        "  \n",
        " \n",
        "  #handling dates in days\n",
        "  firsttran['created_date']=pd.to_datetime(firsttran['created_date'])\n",
        "  #firsttran['today']=np.datetime64('2019-06-01')\n",
        "  firsttran['first_transaction'] = (np.datetime64(quarters)-firsttran['created_date']).dt.days\n",
        "  user=pd.merge(user , firsttran, how='left', left_on='user_id', right_on='user_id')\n",
        "  user['engagement_duration']=user['first_transaction'] - user['last_transaction'] + 1\n",
        "  user['days_passed_for_first_transaction']= user['account_duration']- user['first_transaction'] \n",
        "  user['transactions_frequency']=user['total_amount_of_transactions'] / user['engagement_duration']\n",
        "  return user"
      ],
      "execution_count": 0,
      "outputs": []
    },
    {
      "cell_type": "code",
      "metadata": {
        "id": "tRcOE6vd8Qyn",
        "colab_type": "code",
        "colab": {
          "base_uri": "https://localhost:8080/",
          "height": 550
        },
        "outputId": "fa0682a3-49c8-46ed-e52a-402a3ca522a8"
      },
      "source": [
        "#churn users per quarter year\n",
        "days = np.max(trans['days']) - 90\n",
        "quarters = ['2018-03-01','2018-06-01','2018-09-01','2018-12-01','2019-03-01','2019-06-01']\n",
        "c = [0,0,0,0,0,0]\n",
        "print (days)\n",
        "raw_users = temp_users\n",
        "temp_trans = trans\n",
        "print( temp_trans.shape)\n",
        "for q in range (0,6):\n",
        "  raw_users = temp_users\n",
        "  temp = temp_trans[temp_trans['days'] >= days]\n",
        "  \n",
        "  g = my_func(temp_trans, raw_users, quarters[q])\n",
        "\n",
        "  #temp_trans = temp_trans[temp_trans['days'] < days]\n",
        "\n",
        "  g['churned_users']= g.apply(func, axis=1)\n",
        "  g.head(10)\n",
        "  \n",
        "  for x in range(0,len(g)):\n",
        "    if(g['churned_users'][x] == 1):\n",
        "      c[q] += 1\n",
        "  #print(a)\n",
        "  days = days - 90\n",
        "  print(temp.shape)"
      ],
      "execution_count": 764,
      "outputs": [
        {
          "output_type": "stream",
          "text": [
            "425\n",
            "(1916387, 13)\n"
          ],
          "name": "stdout"
        },
        {
          "output_type": "stream",
          "text": [
            "/usr/local/lib/python3.6/dist-packages/ipykernel_launcher.py:6: SettingWithCopyWarning: \n",
            "A value is trying to be set on a copy of a slice from a DataFrame\n",
            "\n",
            "See the caveats in the documentation: https://pandas.pydata.org/pandas-docs/stable/user_guide/indexing.html#returning-a-view-versus-a-copy\n",
            "  \n",
            "/usr/local/lib/python3.6/dist-packages/ipykernel_launcher.py:7: SettingWithCopyWarning: \n",
            "A value is trying to be set on a copy of a slice from a DataFrame.\n",
            "Try using .loc[row_indexer,col_indexer] = value instead\n",
            "\n",
            "See the caveats in the documentation: https://pandas.pydata.org/pandas-docs/stable/user_guide/indexing.html#returning-a-view-versus-a-copy\n",
            "  import sys\n",
            "/usr/local/lib/python3.6/dist-packages/ipykernel_launcher.py:8: SettingWithCopyWarning: \n",
            "A value is trying to be set on a copy of a slice from a DataFrame.\n",
            "Try using .loc[row_indexer,col_indexer] = value instead\n",
            "\n",
            "See the caveats in the documentation: https://pandas.pydata.org/pandas-docs/stable/user_guide/indexing.html#returning-a-view-versus-a-copy\n",
            "  \n",
            "/usr/local/lib/python3.6/dist-packages/pandas/core/frame.py:3997: SettingWithCopyWarning: \n",
            "A value is trying to be set on a copy of a slice from a DataFrame\n",
            "\n",
            "See the caveats in the documentation: https://pandas.pydata.org/pandas-docs/stable/user_guide/indexing.html#returning-a-view-versus-a-copy\n",
            "  errors=errors,\n"
          ],
          "name": "stderr"
        },
        {
          "output_type": "stream",
          "text": [
            "(36117, 13)\n",
            "(178555, 13)\n",
            "(479161, 13)\n",
            "(947120, 13)\n",
            "(1578776, 13)\n",
            "(1916387, 13)\n"
          ],
          "name": "stdout"
        }
      ]
    },
    {
      "cell_type": "code",
      "metadata": {
        "id": "RTWFKQPHkMsU",
        "colab_type": "code",
        "colab": {
          "base_uri": "https://localhost:8080/",
          "height": 34
        },
        "outputId": "463ec7a7-6df1-432a-a991-86a479cae527"
      },
      "source": [
        "#Total number of NEW customers per quarter year\n",
        "u = temp_users\n",
        "\n",
        "u.created_date=pd.to_datetime(u.created_date)\n",
        "u['days'] = (np.datetime64('2019-06-01') - u['created_date']).dt.days\n",
        "\n",
        "days = np.max(u['days']) \n",
        "t = [0,0,0,0,0,0]\n",
        "for x in range(0,len(u)):\n",
        "    t[u['days'][x]//90] += 1\n",
        "\n",
        "print(t) #t[0] is the most recent, t[5] is the oldest"
      ],
      "execution_count": 783,
      "outputs": [
        {
          "output_type": "stream",
          "text": [
            "[0, 1810, 4449, 3862, 3367, 2056]\n"
          ],
          "name": "stdout"
        }
      ]
    },
    {
      "cell_type": "code",
      "metadata": {
        "id": "s3MPCMlalL1G",
        "colab_type": "code",
        "colab": {
          "base_uri": "https://localhost:8080/",
          "height": 34
        },
        "outputId": "7ca7f1e8-c6c6-4d70-e9a1-c9fac2b97f12"
      },
      "source": [
        "counter=0\n",
        "for i in range (0,len(t)):\n",
        "  counter += t[i]\n",
        "counter "
      ],
      "execution_count": 784,
      "outputs": [
        {
          "output_type": "execute_result",
          "data": {
            "text/plain": [
              "15544"
            ]
          },
          "metadata": {
            "tags": []
          },
          "execution_count": 784
        }
      ]
    },
    {
      "cell_type": "code",
      "metadata": {
        "id": "Ks0VKzkisegR",
        "colab_type": "code",
        "colab": {
          "base_uri": "https://localhost:8080/",
          "height": 34
        },
        "outputId": "c3e38506-c6af-4def-8deb-c80ce53595f9"
      },
      "source": [
        "t_sum= [0,0,0,0,0,0]\n",
        "for i in range (1,len(t)):\n",
        "  t_sum[i] = t[i] + t_sum[i-1]\n",
        "t_sum #t_sum[0] is the most recent, t_sum[5] is the oldest"
      ],
      "execution_count": 785,
      "outputs": [
        {
          "output_type": "execute_result",
          "data": {
            "text/plain": [
              "[0, 1810, 6259, 10121, 13488, 15544]"
            ]
          },
          "metadata": {
            "tags": []
          },
          "execution_count": 785
        }
      ]
    },
    {
      "cell_type": "code",
      "metadata": {
        "id": "UOvHUrArsY-0",
        "colab_type": "code",
        "colab": {
          "base_uri": "https://localhost:8080/",
          "height": 34
        },
        "outputId": "4be5695a-c844-4473-fa08-f52bd1386de6"
      },
      "source": [
        "#Churn rate per quarter year\n",
        "churn_rate= [0,0,0,0,0,0]\n",
        "for i in range (1,len(churn_rate)): # gia to 1o 3mhno den mporoyme na exoume provlepsi\n",
        "  churn_rate[i] = format( (100 * c[i]) / (t_sum[i]) , '.10f') #aplh methodos twn triwn \n",
        "\n",
        "print(churn_rate)"
      ],
      "execution_count": 820,
      "outputs": [
        {
          "output_type": "stream",
          "text": [
            "[0, '33.2044198895', '13.7402140917', '13.2793202253', '14.7019572954', '19.1585177560']\n"
          ],
          "name": "stdout"
        }
      ]
    },
    {
      "cell_type": "code",
      "metadata": {
        "id": "LfJnfJm0oruP",
        "colab_type": "code",
        "colab": {}
      },
      "source": [
        "#t_rev= [0,0,0,0,0,0]\n",
        "#for i in range (0,len(t)):\n",
        "#  t_rev[i] = t[len(t)-1-i]"
      ],
      "execution_count": 0,
      "outputs": []
    },
    {
      "cell_type": "code",
      "metadata": {
        "id": "wusqGIkoqFqB",
        "colab_type": "code",
        "colab": {}
      },
      "source": [
        "#t_rev = Total number of new customers per quarter year\n",
        "#t_rev"
      ],
      "execution_count": 0,
      "outputs": []
    },
    {
      "cell_type": "code",
      "metadata": {
        "id": "0cjB8LStaPg4",
        "colab_type": "code",
        "colab": {
          "base_uri": "https://localhost:8080/",
          "height": 34
        },
        "outputId": "c9c5cd77-dbdb-4f22-b8ca-7db9d3709ef2"
      },
      "source": [
        "#c = churn users per quarter year\n",
        "c "
      ],
      "execution_count": 788,
      "outputs": [
        {
          "output_type": "execute_result",
          "data": {
            "text/plain": [
              "[478, 601, 860, 1344, 1983, 2978]"
            ]
          },
          "metadata": {
            "tags": []
          },
          "execution_count": 788
        }
      ]
    },
    {
      "cell_type": "code",
      "metadata": {
        "id": "AwXP5gV8icJF",
        "colab_type": "code",
        "colab": {
          "base_uri": "https://localhost:8080/",
          "height": 34
        },
        "outputId": "36ea4ba1-39e9-4a53-e18f-16b36e2b1f25"
      },
      "source": [
        "#a[0] = FAILED notifications per quarter year\n",
        "a[0]"
      ],
      "execution_count": 789,
      "outputs": [
        {
          "output_type": "execute_result",
          "data": {
            "text/plain": [
              "[2061, 12865, 3658, 3509, 3829, 89]"
            ]
          },
          "metadata": {
            "tags": []
          },
          "execution_count": 789
        }
      ]
    },
    {
      "cell_type": "code",
      "metadata": {
        "id": "PwLH7f0tj7R0",
        "colab_type": "code",
        "colab": {
          "base_uri": "https://localhost:8080/",
          "height": 34
        },
        "outputId": "71153802-d823-4669-eaa7-26843abedc92"
      },
      "source": [
        "#a[1] = SENT notifications per quarter year\n",
        "a[1]"
      ],
      "execution_count": 790,
      "outputs": [
        {
          "output_type": "execute_result",
          "data": {
            "text/plain": [
              "[6747, 36130, 18498, 5937, 2868, 1513]"
            ]
          },
          "metadata": {
            "tags": []
          },
          "execution_count": 790
        }
      ]
    },
    {
      "cell_type": "code",
      "metadata": {
        "id": "H4xyeGG_nzvb",
        "colab_type": "code",
        "colab": {
          "base_uri": "https://localhost:8080/",
          "height": 34
        },
        "outputId": "59161581-bf71-4178-8e85-b09de21064b2"
      },
      "source": [
        "#Total number of customers per quarter year\n",
        "t_sum"
      ],
      "execution_count": 791,
      "outputs": [
        {
          "output_type": "execute_result",
          "data": {
            "text/plain": [
              "[0, 1810, 6259, 10121, 13488, 15544]"
            ]
          },
          "metadata": {
            "tags": []
          },
          "execution_count": 791
        }
      ]
    },
    {
      "cell_type": "code",
      "metadata": {
        "id": "HkzvyS3Buxtr",
        "colab_type": "code",
        "colab": {
          "base_uri": "https://localhost:8080/",
          "height": 34
        },
        "outputId": "f213d4f3-8a04-476b-d332-992aa0e19122"
      },
      "source": [
        "#Churn rate per quarter year\n",
        "print(churn_rate)"
      ],
      "execution_count": 822,
      "outputs": [
        {
          "output_type": "stream",
          "text": [
            "[0, '33.2044198895', '13.7402140917', '13.2793202253', '14.7019572954', '19.1585177560']\n"
          ],
          "name": "stdout"
        }
      ]
    },
    {
      "cell_type": "code",
      "metadata": {
        "id": "sb8PVXMzx66c",
        "colab_type": "code",
        "colab": {}
      },
      "source": [
        ""
      ],
      "execution_count": 0,
      "outputs": []
    }
  ]
}