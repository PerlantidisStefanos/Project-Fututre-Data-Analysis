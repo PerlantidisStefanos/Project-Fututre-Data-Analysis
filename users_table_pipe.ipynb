{
  "nbformat": 4,
  "nbformat_minor": 0,
  "metadata": {
    "colab": {
      "name": "users_table_pipe.ipynb",
      "provenance": []
    },
    "kernelspec": {
      "name": "python3",
      "display_name": "Python 3"
    }
  },
  "cells": [
    {
      "cell_type": "code",
      "metadata": {
        "id": "WU6OZcHxwZ6R",
        "colab_type": "code",
        "colab": {}
      },
      "source": [
        "import pandas as pd\n",
        "import numpy as np\n",
        "import matplotlib.pyplot as plt\n",
        "import seaborn as sns"
      ],
      "execution_count": 0,
      "outputs": []
    },
    {
      "cell_type": "code",
      "metadata": {
        "id": "lFT1BN5AwsMI",
        "colab_type": "code",
        "colab": {}
      },
      "source": [
        "dev= pd.read_csv('devices.csv')\n",
        "tr1= pd.read_csv('transactions_1.csv')\n",
        "tr2= pd.read_csv('transactions_2.csv')\n",
        "tr3= pd.read_csv('transactions_3.csv')\n",
        "users = pd.read_csv('users.csv')\n",
        "notif = pd.read_csv('notifications.csv')\n",
        "trans= pd.concat([tr1, tr2, tr3])#all transactions in one dataframe"
      ],
      "execution_count": 0,
      "outputs": []
    },
    {
      "cell_type": "code",
      "metadata": {
        "id": "yxZLk1jGwxPF",
        "colab_type": "code",
        "colab": {}
      },
      "source": [
        "users['brands']=dev.brand#h sthlh brands apo ta devices is added to users table"
      ],
      "execution_count": 0,
      "outputs": []
    },
    {
      "cell_type": "code",
      "metadata": {
        "id": "tebFpsnGZFHU",
        "colab_type": "code",
        "colab": {}
      },
      "source": [
        "users['age']=2018 - users['birth_year']#sthlh age anti gia birth_year"
      ],
      "execution_count": 0,
      "outputs": []
    },
    {
      "cell_type": "code",
      "metadata": {
        "id": "3P5m-2lwPS9X",
        "colab_type": "code",
        "colab": {}
      },
      "source": [
        "users.plan=users.plan.apply(lambda x: 'PAID' if x!=\"STANDARD\" else x)#h sthlh pairnei pleon standard h paid stoixeia"
      ],
      "execution_count": 0,
      "outputs": []
    },
    {
      "cell_type": "code",
      "metadata": {
        "id": "6cE_X9hxyLhr",
        "colab_type": "code",
        "colab": {}
      },
      "source": [
        "usd_per_user = pd.pivot_table(data=trans,aggfunc='mean', index='user_id',  values='amount_usd')\n",
        "users=pd.merge(users , usd_per_user, how='left', left_on='user_id', right_index=True)\n",
        "###mean amount of usd per user is added to users"
      ],
      "execution_count": 0,
      "outputs": []
    },
    {
      "cell_type": "code",
      "metadata": {
        "id": "akAvLFBSzXSg",
        "colab_type": "code",
        "colab": {}
      },
      "source": [
        "number_of_trans=pd.DataFrame(trans.user_id.value_counts())\n",
        "number_of_trans.rename(columns={'user_id':'amount_of_transactions'},inplace=True)\n",
        "users=pd.merge(users , number_of_trans, how='left', left_on='user_id', right_index=True)\n",
        "#amount of transactions per user is added to users table"
      ],
      "execution_count": 0,
      "outputs": []
    },
    {
      "cell_type": "code",
      "metadata": {
        "id": "ZswhzJD0QVOm",
        "colab_type": "code",
        "colab": {}
      },
      "source": [
        "number_of_notif=pd.DataFrame(notif.user_id.value_counts())\n",
        "number_of_notif.rename(columns={'user_id':'amount_of_notifications'},inplace=True)\n",
        "users=pd.merge(users , number_of_notif, how='left', left_on='user_id', right_index=True)"
      ],
      "execution_count": 0,
      "outputs": []
    },
    {
      "cell_type": "code",
      "metadata": {
        "id": "RJIYTrEE6ZY4",
        "colab_type": "code",
        "colab": {
          "base_uri": "https://localhost:8080/",
          "height": 300
        },
        "outputId": "9d17f7ed-d976-4337-b1d8-741bb03d3451"
      },
      "source": [
        "users.head(5)"
      ],
      "execution_count": 186,
      "outputs": [
        {
          "output_type": "execute_result",
          "data": {
            "text/html": [
              "<div>\n",
              "<style scoped>\n",
              "    .dataframe tbody tr th:only-of-type {\n",
              "        vertical-align: middle;\n",
              "    }\n",
              "\n",
              "    .dataframe tbody tr th {\n",
              "        vertical-align: top;\n",
              "    }\n",
              "\n",
              "    .dataframe thead th {\n",
              "        text-align: right;\n",
              "    }\n",
              "</style>\n",
              "<table border=\"1\" class=\"dataframe\">\n",
              "  <thead>\n",
              "    <tr style=\"text-align: right;\">\n",
              "      <th></th>\n",
              "      <th>user_id</th>\n",
              "      <th>birth_year</th>\n",
              "      <th>country</th>\n",
              "      <th>city</th>\n",
              "      <th>created_date</th>\n",
              "      <th>user_settings_crypto_unlocked</th>\n",
              "      <th>plan</th>\n",
              "      <th>attributes_notifications_marketing_push</th>\n",
              "      <th>attributes_notifications_marketing_email</th>\n",
              "      <th>num_contacts</th>\n",
              "      <th>num_referrals</th>\n",
              "      <th>num_successful_referrals</th>\n",
              "      <th>brands</th>\n",
              "      <th>age</th>\n",
              "      <th>amount_usd</th>\n",
              "      <th>amount_of_transactions</th>\n",
              "      <th>amount_of_notifications</th>\n",
              "      <th>BLACK_FRIDAY</th>\n",
              "      <th>BLUE_TUESDAY</th>\n",
              "      <th>ENGAGEMENT_SPLIT_BILL_RESTAURANT</th>\n",
              "      <th>INVEST_IN_GOLD</th>\n",
              "      <th>JOINING_ANNIVERSARY</th>\n",
              "      <th>LOST_CARD_ORDER</th>\n",
              "      <th>MADE_MONEY_REQUEST_NOT_SPLIT_BILL</th>\n",
              "      <th>METAL_RESERVE_PLAN</th>\n",
              "      <th>NO_INITIAL_CARD_ORDER</th>\n",
              "      <th>NO_INITIAL_CARD_USE</th>\n",
              "      <th>ONBOARDING_TIPS_ACTIVATED_USERS</th>\n",
              "      <th>PROMO</th>\n",
              "      <th>PROMO_CARD_ORDER</th>\n",
              "      <th>REENGAGEMENT_ACTIVE_FUNDS</th>\n",
              "      <th>SILVER_ENGAGEMENT_FEES_SAVED</th>\n",
              "      <th>SILVER_ENGAGEMENT_INACTIVE_CARD</th>\n",
              "      <th>WELCOME_BACK</th>\n",
              "      <th>failed_email</th>\n",
              "      <th>failed_push</th>\n",
              "      <th>failed_sms</th>\n",
              "      <th>sent_email</th>\n",
              "      <th>sent_push</th>\n",
              "      <th>sent_sms</th>\n",
              "    </tr>\n",
              "  </thead>\n",
              "  <tbody>\n",
              "    <tr>\n",
              "      <th>0</th>\n",
              "      <td>user_0</td>\n",
              "      <td>1992</td>\n",
              "      <td>ES</td>\n",
              "      <td>Madrid</td>\n",
              "      <td>2018-09-10 18:46:42.843855</td>\n",
              "      <td>0</td>\n",
              "      <td>STANDARD</td>\n",
              "      <td>1.0</td>\n",
              "      <td>1.0</td>\n",
              "      <td>3</td>\n",
              "      <td>0</td>\n",
              "      <td>0</td>\n",
              "      <td>Apple</td>\n",
              "      <td>26</td>\n",
              "      <td>13.068275</td>\n",
              "      <td>545.0</td>\n",
              "      <td>8.0</td>\n",
              "      <td>1.0</td>\n",
              "      <td>0.0</td>\n",
              "      <td>0.0</td>\n",
              "      <td>1.0</td>\n",
              "      <td>0.0</td>\n",
              "      <td>0.0</td>\n",
              "      <td>0.0</td>\n",
              "      <td>0.0</td>\n",
              "      <td>0.0</td>\n",
              "      <td>1.0</td>\n",
              "      <td>4.0</td>\n",
              "      <td>0.0</td>\n",
              "      <td>0.0</td>\n",
              "      <td>1.0</td>\n",
              "      <td>0.0</td>\n",
              "      <td>0.0</td>\n",
              "      <td>0.0</td>\n",
              "      <td>0.0</td>\n",
              "      <td>0.0</td>\n",
              "      <td>0.0</td>\n",
              "      <td>6.0</td>\n",
              "      <td>2.0</td>\n",
              "      <td>0.0</td>\n",
              "    </tr>\n",
              "    <tr>\n",
              "      <th>1</th>\n",
              "      <td>user_1</td>\n",
              "      <td>1985</td>\n",
              "      <td>LT</td>\n",
              "      <td>Klaipeda</td>\n",
              "      <td>2018-01-11 18:53:10.531146</td>\n",
              "      <td>1</td>\n",
              "      <td>STANDARD</td>\n",
              "      <td>NaN</td>\n",
              "      <td>NaN</td>\n",
              "      <td>75</td>\n",
              "      <td>0</td>\n",
              "      <td>0</td>\n",
              "      <td>Apple</td>\n",
              "      <td>33</td>\n",
              "      <td>97.000548</td>\n",
              "      <td>146.0</td>\n",
              "      <td>15.0</td>\n",
              "      <td>0.0</td>\n",
              "      <td>0.0</td>\n",
              "      <td>1.0</td>\n",
              "      <td>1.0</td>\n",
              "      <td>1.0</td>\n",
              "      <td>0.0</td>\n",
              "      <td>0.0</td>\n",
              "      <td>0.0</td>\n",
              "      <td>1.0</td>\n",
              "      <td>7.0</td>\n",
              "      <td>0.0</td>\n",
              "      <td>1.0</td>\n",
              "      <td>0.0</td>\n",
              "      <td>3.0</td>\n",
              "      <td>0.0</td>\n",
              "      <td>0.0</td>\n",
              "      <td>0.0</td>\n",
              "      <td>5.0</td>\n",
              "      <td>0.0</td>\n",
              "      <td>0.0</td>\n",
              "      <td>5.0</td>\n",
              "      <td>5.0</td>\n",
              "      <td>0.0</td>\n",
              "    </tr>\n",
              "    <tr>\n",
              "      <th>2</th>\n",
              "      <td>user_2</td>\n",
              "      <td>1996</td>\n",
              "      <td>IE</td>\n",
              "      <td>Carrickmacross</td>\n",
              "      <td>2018-11-29 17:29:16.879324</td>\n",
              "      <td>0</td>\n",
              "      <td>STANDARD</td>\n",
              "      <td>NaN</td>\n",
              "      <td>NaN</td>\n",
              "      <td>71</td>\n",
              "      <td>0</td>\n",
              "      <td>0</td>\n",
              "      <td>Apple</td>\n",
              "      <td>22</td>\n",
              "      <td>10.579433</td>\n",
              "      <td>282.0</td>\n",
              "      <td>5.0</td>\n",
              "      <td>0.0</td>\n",
              "      <td>0.0</td>\n",
              "      <td>0.0</td>\n",
              "      <td>0.0</td>\n",
              "      <td>0.0</td>\n",
              "      <td>1.0</td>\n",
              "      <td>1.0</td>\n",
              "      <td>0.0</td>\n",
              "      <td>0.0</td>\n",
              "      <td>1.0</td>\n",
              "      <td>0.0</td>\n",
              "      <td>1.0</td>\n",
              "      <td>0.0</td>\n",
              "      <td>1.0</td>\n",
              "      <td>0.0</td>\n",
              "      <td>0.0</td>\n",
              "      <td>0.0</td>\n",
              "      <td>0.0</td>\n",
              "      <td>0.0</td>\n",
              "      <td>0.0</td>\n",
              "      <td>2.0</td>\n",
              "      <td>3.0</td>\n",
              "      <td>0.0</td>\n",
              "    </tr>\n",
              "    <tr>\n",
              "      <th>3</th>\n",
              "      <td>user_3</td>\n",
              "      <td>1981</td>\n",
              "      <td>IE</td>\n",
              "      <td>Dublin</td>\n",
              "      <td>2018-02-17 11:58:08.319664</td>\n",
              "      <td>0</td>\n",
              "      <td>STANDARD</td>\n",
              "      <td>NaN</td>\n",
              "      <td>NaN</td>\n",
              "      <td>219</td>\n",
              "      <td>0</td>\n",
              "      <td>0</td>\n",
              "      <td>Apple</td>\n",
              "      <td>37</td>\n",
              "      <td>52.345886</td>\n",
              "      <td>158.0</td>\n",
              "      <td>11.0</td>\n",
              "      <td>0.0</td>\n",
              "      <td>0.0</td>\n",
              "      <td>0.0</td>\n",
              "      <td>0.0</td>\n",
              "      <td>1.0</td>\n",
              "      <td>0.0</td>\n",
              "      <td>0.0</td>\n",
              "      <td>0.0</td>\n",
              "      <td>0.0</td>\n",
              "      <td>5.0</td>\n",
              "      <td>0.0</td>\n",
              "      <td>0.0</td>\n",
              "      <td>0.0</td>\n",
              "      <td>5.0</td>\n",
              "      <td>0.0</td>\n",
              "      <td>0.0</td>\n",
              "      <td>0.0</td>\n",
              "      <td>5.0</td>\n",
              "      <td>0.0</td>\n",
              "      <td>0.0</td>\n",
              "      <td>0.0</td>\n",
              "      <td>6.0</td>\n",
              "      <td>0.0</td>\n",
              "    </tr>\n",
              "    <tr>\n",
              "      <th>4</th>\n",
              "      <td>user_4</td>\n",
              "      <td>1992</td>\n",
              "      <td>GB</td>\n",
              "      <td>London</td>\n",
              "      <td>2018-01-08 18:40:21.097856</td>\n",
              "      <td>0</td>\n",
              "      <td>STANDARD</td>\n",
              "      <td>NaN</td>\n",
              "      <td>NaN</td>\n",
              "      <td>0</td>\n",
              "      <td>0</td>\n",
              "      <td>0</td>\n",
              "      <td>Apple</td>\n",
              "      <td>26</td>\n",
              "      <td>18.108475</td>\n",
              "      <td>59.0</td>\n",
              "      <td>8.0</td>\n",
              "      <td>0.0</td>\n",
              "      <td>0.0</td>\n",
              "      <td>0.0</td>\n",
              "      <td>1.0</td>\n",
              "      <td>0.0</td>\n",
              "      <td>0.0</td>\n",
              "      <td>0.0</td>\n",
              "      <td>0.0</td>\n",
              "      <td>0.0</td>\n",
              "      <td>2.0</td>\n",
              "      <td>0.0</td>\n",
              "      <td>2.0</td>\n",
              "      <td>0.0</td>\n",
              "      <td>3.0</td>\n",
              "      <td>0.0</td>\n",
              "      <td>0.0</td>\n",
              "      <td>0.0</td>\n",
              "      <td>1.0</td>\n",
              "      <td>0.0</td>\n",
              "      <td>0.0</td>\n",
              "      <td>3.0</td>\n",
              "      <td>4.0</td>\n",
              "      <td>0.0</td>\n",
              "    </tr>\n",
              "  </tbody>\n",
              "</table>\n",
              "</div>"
            ],
            "text/plain": [
              "  user_id  birth_year country  ... sent_email sent_push  sent_sms\n",
              "0  user_0        1992      ES  ...        6.0       2.0       0.0\n",
              "1  user_1        1985      LT  ...        5.0       5.0       0.0\n",
              "2  user_2        1996      IE  ...        2.0       3.0       0.0\n",
              "3  user_3        1981      IE  ...        0.0       6.0       0.0\n",
              "4  user_4        1992      GB  ...        3.0       4.0       0.0\n",
              "\n",
              "[5 rows x 40 columns]"
            ]
          },
          "metadata": {
            "tags": []
          },
          "execution_count": 186
        }
      ]
    },
    {
      "cell_type": "code",
      "metadata": {
        "id": "wtbUdidT8Imh",
        "colab_type": "code",
        "colab": {}
      },
      "source": [
        "notif_reason_name = pd.crosstab(index=notif.user_id, columns=notif.reason)#pinakas me posa notifications ana reason per user\n",
        "users=pd.merge(users , notif_reason_name, how='left', left_on='user_id', right_index=True)\n"
      ],
      "execution_count": 0,
      "outputs": []
    },
    {
      "cell_type": "code",
      "metadata": {
        "id": "bgNFZcn9RS-d",
        "colab_type": "code",
        "colab": {}
      },
      "source": [
        "#amount of  type of notifications, sent/failed per user\n",
        "notif_channels_channel_sent_failed =pd.crosstab(index=notif.user_id, columns=[notif.status,notif.channel])\n",
        "notif_channels_channel_sent_failed.columns=['failed_email','failed_push','failed_sms','sent_email', 'sent_push', 'sent_sms']\n",
        "users=pd.merge(users , notif_channels_channel_sent_failed, how='left', left_on='user_id', right_index=True)\n"
      ],
      "execution_count": 0,
      "outputs": []
    },
    {
      "cell_type": "code",
      "metadata": {
        "id": "vyKyvy6mVSmZ",
        "colab_type": "code",
        "colab": {}
      },
      "source": [
        "#amount of transactions per type per user\n",
        "trans_transactions_type = pd.crosstab(trans.user_id, columns=trans.transactions_type)\n",
        "users=pd.merge(users , trans_transactions_type, how='left', left_on='user_id', right_index=True)"
      ],
      "execution_count": 0,
      "outputs": []
    },
    {
      "cell_type": "code",
      "metadata": {
        "id": "7uV6hturVtkE",
        "colab_type": "code",
        "colab": {
          "base_uri": "https://localhost:8080/",
          "height": 33
        },
        "outputId": "f8751d3d-84b8-48d0-953b-cad2ecdfbb55"
      },
      "source": [
        "users.shape"
      ],
      "execution_count": 189,
      "outputs": [
        {
          "output_type": "execute_result",
          "data": {
            "text/plain": [
              "(15544, 50)"
            ]
          },
          "metadata": {
            "tags": []
          },
          "execution_count": 189
        }
      ]
    },
    {
      "cell_type": "markdown",
      "metadata": {
        "id": "WOPNHA1Wm-3f",
        "colab_type": "text"
      },
      "source": [
        "#tryout to group countries by percentage of paid"
      ]
    },
    {
      "cell_type": "code",
      "metadata": {
        "id": "QiOwH2H1Y6E9",
        "colab_type": "code",
        "colab": {}
      },
      "source": [
        "countries_anal=pd.crosstab(index=users['country'], columns=users['plan'])\n"
      ],
      "execution_count": 0,
      "outputs": []
    },
    {
      "cell_type": "code",
      "metadata": {
        "id": "K3qEKWdmapK3",
        "colab_type": "code",
        "colab": {}
      },
      "source": [
        "users_countries=users.copy()\n",
        "countries_anal['countries_paid_percen']=countries_anal['PAID']/(countries_anal['PAID']+countries_anal['STANDARD'])*100"
      ],
      "execution_count": 0,
      "outputs": []
    },
    {
      "cell_type": "code",
      "metadata": {
        "id": "lsqNsWDnk-yX",
        "colab_type": "code",
        "colab": {}
      },
      "source": [
        "countries_anal['country_per']= countries_anal.countries_paid_percen.apply(lambda x: 0 if x<6  else (1 if x<12  else 2))"
      ],
      "execution_count": 0,
      "outputs": []
    },
    {
      "cell_type": "code",
      "metadata": {
        "id": "BQqx3qvnlaPf",
        "colab_type": "code",
        "colab": {}
      },
      "source": [
        "users_countries.country.apply(country_to_cat)"
      ],
      "execution_count": 0,
      "outputs": []
    },
    {
      "cell_type": "code",
      "metadata": {
        "id": "S69wr72OapY6",
        "colab_type": "code",
        "colab": {}
      },
      "source": [
        "def country_to_cat(val):\n",
        "  if val==countries_anal.index:\n",
        "       return countries_anal.country_per\n",
        "x='AU'\n",
        "country_to_cat(x)"
      ],
      "execution_count": 0,
      "outputs": []
    },
    {
      "cell_type": "code",
      "metadata": {
        "id": "tk2gIcXcapnv",
        "colab_type": "code",
        "colab": {
          "base_uri": "https://localhost:8080/",
          "height": 719
        },
        "outputId": "6ae3576f-2eaf-4bda-a56b-9aa0e900c835"
      },
      "source": [
        "countries_anal.countries_paid_percen"
      ],
      "execution_count": 206,
      "outputs": [
        {
          "output_type": "execute_result",
          "data": {
            "text/plain": [
              "country\n",
              "AT     5.882353\n",
              "AU     0.000000\n",
              "BE     5.309735\n",
              "BG     2.564103\n",
              "CH    13.142857\n",
              "CY     9.740260\n",
              "CZ     7.665505\n",
              "DE     8.938547\n",
              "DK    10.389610\n",
              "EE     6.666667\n",
              "ES     5.612245\n",
              "FI    12.500000\n",
              "FR     8.903302\n",
              "GB     7.971303\n",
              "GG    35.714286\n",
              "GI    11.428571\n",
              "GP    22.222222\n",
              "GR     4.945055\n",
              "HR    10.204082\n",
              "HU     6.400000\n",
              "IE     6.432161\n",
              "IM    14.285714\n",
              "IS     0.000000\n",
              "IT    10.373444\n",
              "JE    13.333333\n",
              "LI     0.000000\n",
              "LT     2.772643\n",
              "LU    19.047619\n",
              "LV     9.022556\n",
              "MQ    33.333333\n",
              "MT     6.178490\n",
              "NL     6.060606\n",
              "NO    17.333333\n",
              "PL     3.380589\n",
              "PT     3.490760\n",
              "RE    28.571429\n",
              "RO    11.454754\n",
              "SE    14.423077\n",
              "SI     5.633803\n",
              "SK     7.692308\n",
              "Name: countries_paid_percen, dtype: float64"
            ]
          },
          "metadata": {
            "tags": []
          },
          "execution_count": 206
        }
      ]
    },
    {
      "cell_type": "markdown",
      "metadata": {
        "id": "SlVeCgKbZKRk",
        "colab_type": "text"
      },
      "source": [
        "#Prwth prospa8eia pipeline"
      ]
    },
    {
      "cell_type": "markdown",
      "metadata": {
        "id": "JEMDEYpIZeEg",
        "colab_type": "text"
      },
      "source": [
        "##Ta nan mphkan random stis sthles me ta notifications, egine encoding sta ypoloipa"
      ]
    },
    {
      "cell_type": "code",
      "metadata": {
        "id": "9CJpaI2y8LrY",
        "colab_type": "code",
        "colab": {}
      },
      "source": [
        "us_1=users.copy()\n"
      ],
      "execution_count": 0,
      "outputs": []
    },
    {
      "cell_type": "code",
      "metadata": {
        "id": "18jTwdq7XM3Y",
        "colab_type": "code",
        "colab": {
          "base_uri": "https://localhost:8080/",
          "height": 870
        },
        "outputId": "211dda4a-a5ed-4177-9500-14493c02b3a4"
      },
      "source": [
        "us_1.isnull().sum()"
      ],
      "execution_count": 192,
      "outputs": [
        {
          "output_type": "execute_result",
          "data": {
            "text/plain": [
              "user_id                                        0\n",
              "birth_year                                     0\n",
              "country                                        0\n",
              "city                                           0\n",
              "created_date                                   0\n",
              "user_settings_crypto_unlocked                  0\n",
              "plan                                           0\n",
              "attributes_notifications_marketing_push     5260\n",
              "attributes_notifications_marketing_email    5260\n",
              "num_contacts                                   0\n",
              "num_referrals                                  0\n",
              "num_successful_referrals                       0\n",
              "brands                                         0\n",
              "age                                            0\n",
              "amount_usd                                   532\n",
              "amount_of_transactions                       532\n",
              "amount_of_notifications                      388\n",
              "BLACK_FRIDAY                                 388\n",
              "BLUE_TUESDAY                                 388\n",
              "ENGAGEMENT_SPLIT_BILL_RESTAURANT             388\n",
              "INVEST_IN_GOLD                               388\n",
              "JOINING_ANNIVERSARY                          388\n",
              "LOST_CARD_ORDER                              388\n",
              "MADE_MONEY_REQUEST_NOT_SPLIT_BILL            388\n",
              "METAL_RESERVE_PLAN                           388\n",
              "NO_INITIAL_CARD_ORDER                        388\n",
              "NO_INITIAL_CARD_USE                          388\n",
              "ONBOARDING_TIPS_ACTIVATED_USERS              388\n",
              "PROMO                                        388\n",
              "PROMO_CARD_ORDER                             388\n",
              "REENGAGEMENT_ACTIVE_FUNDS                    388\n",
              "SILVER_ENGAGEMENT_FEES_SAVED                 388\n",
              "SILVER_ENGAGEMENT_INACTIVE_CARD              388\n",
              "WELCOME_BACK                                 388\n",
              "failed_email                                 388\n",
              "failed_push                                  388\n",
              "failed_sms                                   388\n",
              "sent_email                                   388\n",
              "sent_push                                    388\n",
              "sent_sms                                     388\n",
              "ATM                                          532\n",
              "CARD_PAYMENT                                 532\n",
              "CARD_REFUND                                  532\n",
              "CASHBACK                                     532\n",
              "EXCHANGE                                     532\n",
              "FEE                                          532\n",
              "REFUND                                       532\n",
              "TAX                                          532\n",
              "TOPUP                                        532\n",
              "TRANSFER                                     532\n",
              "dtype: int64"
            ]
          },
          "metadata": {
            "tags": []
          },
          "execution_count": 192
        }
      ]
    },
    {
      "cell_type": "code",
      "metadata": {
        "id": "4H_Y1viWXNDM",
        "colab_type": "code",
        "colab": {}
      },
      "source": [
        ""
      ],
      "execution_count": 0,
      "outputs": []
    },
    {
      "cell_type": "code",
      "metadata": {
        "id": "NpzntSPV9uaB",
        "colab_type": "code",
        "colab": {}
      },
      "source": [
        "us_1=us_1.drop(columns=['num_referrals','num_successful_referrals','birth_year','user_id','city','created_date'])"
      ],
      "execution_count": 0,
      "outputs": []
    },
    {
      "cell_type": "code",
      "metadata": {
        "id": "FEtXdtwM-KGZ",
        "colab_type": "code",
        "colab": {}
      },
      "source": [
        "import random\n",
        "def change_unknown_device(brand):\n",
        "  if  brand== 'Unknown':\n",
        "    return random.sample(['Android', 'Apple'], 1)[0]\n",
        "  else:\n",
        "    return brand\n",
        "    "
      ],
      "execution_count": 0,
      "outputs": []
    },
    {
      "cell_type": "code",
      "metadata": {
        "id": "vPmeK2ZV_gIm",
        "colab_type": "code",
        "colab": {}
      },
      "source": [
        "us_1.brands=us_1.brands.apply(change_unknown_device)"
      ],
      "execution_count": 0,
      "outputs": []
    },
    {
      "cell_type": "code",
      "metadata": {
        "id": "8K_n2-DF_lU0",
        "colab_type": "code",
        "colab": {
          "base_uri": "https://localhost:8080/",
          "height": 67
        },
        "outputId": "783a2c58-9050-41a9-f829-618a37098573"
      },
      "source": [
        "us_1.brands.value_counts()"
      ],
      "execution_count": 125,
      "outputs": [
        {
          "output_type": "execute_result",
          "data": {
            "text/plain": [
              "Android    7818\n",
              "Apple      7726\n",
              "Name: brands, dtype: int64"
            ]
          },
          "metadata": {
            "tags": []
          },
          "execution_count": 125
        }
      ]
    },
    {
      "cell_type": "code",
      "metadata": {
        "id": "yz_hg1ey__eK",
        "colab_type": "code",
        "colab": {}
      },
      "source": [
        "def change_unknown_notif(column_val):\n",
        "    if np.isnan(column_val) == True: \n",
        "        column_val = random.sample([0.0, 1.0], 1)[0]\n",
        "    else:\n",
        "         column_val = column_val\n",
        "    return column_val"
      ],
      "execution_count": 0,
      "outputs": []
    },
    {
      "cell_type": "code",
      "metadata": {
        "id": "_TKJqcw-AdTF",
        "colab_type": "code",
        "colab": {}
      },
      "source": [
        "us_1.attributes_notifications_marketing_push=us_1.attributes_notifications_marketing_push.apply(change_unknown_notif)\n",
        "us_1.attributes_notifications_marketing_email=us_1.attributes_notifications_marketing_email.apply(change_unknown_notif)"
      ],
      "execution_count": 0,
      "outputs": []
    },
    {
      "cell_type": "code",
      "metadata": {
        "id": "piSQTsRmAqX8",
        "colab_type": "code",
        "colab": {
          "base_uri": "https://localhost:8080/",
          "height": 67
        },
        "outputId": "f744889b-7278-4651-e61c-02ba5b87f9b3"
      },
      "source": [
        "us_1.attributes_notifications_marketing_email.value_counts()"
      ],
      "execution_count": 114,
      "outputs": [
        {
          "output_type": "execute_result",
          "data": {
            "text/plain": [
              "1.0    11814\n",
              "0.0     3730\n",
              "Name: attributes_notifications_marketing_email, dtype: int64"
            ]
          },
          "metadata": {
            "tags": []
          },
          "execution_count": 114
        }
      ]
    },
    {
      "cell_type": "code",
      "metadata": {
        "id": "GV-tztFBDCuz",
        "colab_type": "code",
        "colab": {
          "base_uri": "https://localhost:8080/",
          "height": 216
        },
        "outputId": "e5d1b8e3-d47d-4eb4-8bb9-16dfdb0b9d45"
      },
      "source": [
        "us_1.sample(5)"
      ],
      "execution_count": 115,
      "outputs": [
        {
          "output_type": "execute_result",
          "data": {
            "text/html": [
              "<div>\n",
              "<style scoped>\n",
              "    .dataframe tbody tr th:only-of-type {\n",
              "        vertical-align: middle;\n",
              "    }\n",
              "\n",
              "    .dataframe tbody tr th {\n",
              "        vertical-align: top;\n",
              "    }\n",
              "\n",
              "    .dataframe thead th {\n",
              "        text-align: right;\n",
              "    }\n",
              "</style>\n",
              "<table border=\"1\" class=\"dataframe\">\n",
              "  <thead>\n",
              "    <tr style=\"text-align: right;\">\n",
              "      <th></th>\n",
              "      <th>country</th>\n",
              "      <th>user_settings_crypto_unlocked</th>\n",
              "      <th>plan</th>\n",
              "      <th>attributes_notifications_marketing_push</th>\n",
              "      <th>attributes_notifications_marketing_email</th>\n",
              "      <th>num_contacts</th>\n",
              "      <th>brands</th>\n",
              "      <th>amount_usd</th>\n",
              "      <th>amount_of_transactions</th>\n",
              "      <th>age</th>\n",
              "    </tr>\n",
              "  </thead>\n",
              "  <tbody>\n",
              "    <tr>\n",
              "      <th>7156</th>\n",
              "      <td>IE</td>\n",
              "      <td>0</td>\n",
              "      <td>STANDARD</td>\n",
              "      <td>1.0</td>\n",
              "      <td>1.0</td>\n",
              "      <td>0</td>\n",
              "      <td>Apple</td>\n",
              "      <td>102.623333</td>\n",
              "      <td>12.0</td>\n",
              "      <td>22</td>\n",
              "    </tr>\n",
              "    <tr>\n",
              "      <th>3514</th>\n",
              "      <td>PL</td>\n",
              "      <td>0</td>\n",
              "      <td>STANDARD</td>\n",
              "      <td>1.0</td>\n",
              "      <td>1.0</td>\n",
              "      <td>12</td>\n",
              "      <td>Android</td>\n",
              "      <td>1.592500</td>\n",
              "      <td>4.0</td>\n",
              "      <td>28</td>\n",
              "    </tr>\n",
              "    <tr>\n",
              "      <th>14579</th>\n",
              "      <td>PT</td>\n",
              "      <td>0</td>\n",
              "      <td>STANDARD</td>\n",
              "      <td>1.0</td>\n",
              "      <td>1.0</td>\n",
              "      <td>33</td>\n",
              "      <td>Apple</td>\n",
              "      <td>22.958733</td>\n",
              "      <td>150.0</td>\n",
              "      <td>50</td>\n",
              "    </tr>\n",
              "    <tr>\n",
              "      <th>7803</th>\n",
              "      <td>GB</td>\n",
              "      <td>0</td>\n",
              "      <td>STANDARD</td>\n",
              "      <td>1.0</td>\n",
              "      <td>1.0</td>\n",
              "      <td>3</td>\n",
              "      <td>Android</td>\n",
              "      <td>43.161275</td>\n",
              "      <td>102.0</td>\n",
              "      <td>45</td>\n",
              "    </tr>\n",
              "    <tr>\n",
              "      <th>2679</th>\n",
              "      <td>GB</td>\n",
              "      <td>0</td>\n",
              "      <td>STANDARD</td>\n",
              "      <td>1.0</td>\n",
              "      <td>1.0</td>\n",
              "      <td>11</td>\n",
              "      <td>Android</td>\n",
              "      <td>15.812073</td>\n",
              "      <td>357.0</td>\n",
              "      <td>28</td>\n",
              "    </tr>\n",
              "  </tbody>\n",
              "</table>\n",
              "</div>"
            ],
            "text/plain": [
              "      country  user_settings_crypto_unlocked  ... amount_of_transactions  age\n",
              "7156       IE                              0  ...                   12.0   22\n",
              "3514       PL                              0  ...                    4.0   28\n",
              "14579      PT                              0  ...                  150.0   50\n",
              "7803       GB                              0  ...                  102.0   45\n",
              "2679       GB                              0  ...                  357.0   28\n",
              "\n",
              "[5 rows x 10 columns]"
            ]
          },
          "metadata": {
            "tags": []
          },
          "execution_count": 115
        }
      ]
    },
    {
      "cell_type": "code",
      "metadata": {
        "id": "NM2Eg8ZODPRg",
        "colab_type": "code",
        "colab": {
          "base_uri": "https://localhost:8080/",
          "height": 201
        },
        "outputId": "885d5afe-33e0-45ab-8ba1-5de21526a5e4"
      },
      "source": [
        "us_1.isna().sum()"
      ],
      "execution_count": 116,
      "outputs": [
        {
          "output_type": "execute_result",
          "data": {
            "text/plain": [
              "country                                       0\n",
              "user_settings_crypto_unlocked                 0\n",
              "plan                                          0\n",
              "attributes_notifications_marketing_push       0\n",
              "attributes_notifications_marketing_email      0\n",
              "num_contacts                                  0\n",
              "brands                                        0\n",
              "amount_usd                                  532\n",
              "amount_of_transactions                      532\n",
              "age                                           0\n",
              "dtype: int64"
            ]
          },
          "metadata": {
            "tags": []
          },
          "execution_count": 116
        }
      ]
    },
    {
      "cell_type": "code",
      "metadata": {
        "id": "tydHKN_TElER",
        "colab_type": "code",
        "colab": {
          "base_uri": "https://localhost:8080/",
          "height": 167
        },
        "outputId": "b1b9ae42-3414-46fa-e7d1-c92d7bfa7977"
      },
      "source": [
        "us_1.fillna(0, inplace=True)\n",
        "us_1.amount_of_transactions.describe()"
      ],
      "execution_count": 147,
      "outputs": [
        {
          "output_type": "execute_result",
          "data": {
            "text/plain": [
              "count    15544.000000\n",
              "mean       140.313047\n",
              "std        238.816473\n",
              "min          0.000000\n",
              "25%         14.000000\n",
              "50%         56.000000\n",
              "75%        159.000000\n",
              "max       3381.000000\n",
              "Name: amount_of_transactions, dtype: float64"
            ]
          },
          "metadata": {
            "tags": []
          },
          "execution_count": 147
        }
      ]
    },
    {
      "cell_type": "code",
      "metadata": {
        "id": "wROD_LfPTTdo",
        "colab_type": "code",
        "colab": {}
      },
      "source": [
        "us_1.plan"
      ],
      "execution_count": 0,
      "outputs": []
    },
    {
      "cell_type": "code",
      "metadata": {
        "id": "5qjO4gtxE8xm",
        "colab_type": "code",
        "colab": {
          "base_uri": "https://localhost:8080/",
          "height": 217
        },
        "outputId": "b36af628-fbba-4f7f-f54a-552872b7acc0"
      },
      "source": [
        "plan_dict = {'STANDARD': 0, 'PAID': 1}\n",
        "us_1.plan = us_1.plan.map(plan_dict)\n",
        "us_1.plan"
      ],
      "execution_count": 128,
      "outputs": [
        {
          "output_type": "execute_result",
          "data": {
            "text/plain": [
              "0        0\n",
              "1        0\n",
              "2        0\n",
              "3        0\n",
              "4        0\n",
              "        ..\n",
              "15539    0\n",
              "15540    0\n",
              "15541    0\n",
              "15542    1\n",
              "15543    0\n",
              "Name: plan, Length: 15544, dtype: int64"
            ]
          },
          "metadata": {
            "tags": []
          },
          "execution_count": 128
        }
      ]
    },
    {
      "cell_type": "code",
      "metadata": {
        "id": "bLShlt0qE-vj",
        "colab_type": "code",
        "colab": {
          "base_uri": "https://localhost:8080/",
          "height": 127
        },
        "outputId": "3d807af1-4445-4013-d521-3a5116c39179"
      },
      "source": [
        "us_1_en=pd.get_dummies(us_1)\n",
        "us_1_en.sample(2)\n"
      ],
      "execution_count": 148,
      "outputs": [
        {
          "output_type": "execute_result",
          "data": {
            "text/html": [
              "<div>\n",
              "<style scoped>\n",
              "    .dataframe tbody tr th:only-of-type {\n",
              "        vertical-align: middle;\n",
              "    }\n",
              "\n",
              "    .dataframe tbody tr th {\n",
              "        vertical-align: top;\n",
              "    }\n",
              "\n",
              "    .dataframe thead th {\n",
              "        text-align: right;\n",
              "    }\n",
              "</style>\n",
              "<table border=\"1\" class=\"dataframe\">\n",
              "  <thead>\n",
              "    <tr style=\"text-align: right;\">\n",
              "      <th></th>\n",
              "      <th>user_settings_crypto_unlocked</th>\n",
              "      <th>plan</th>\n",
              "      <th>attributes_notifications_marketing_push</th>\n",
              "      <th>attributes_notifications_marketing_email</th>\n",
              "      <th>num_contacts</th>\n",
              "      <th>age</th>\n",
              "      <th>amount_usd</th>\n",
              "      <th>amount_of_transactions</th>\n",
              "      <th>country_AT</th>\n",
              "      <th>country_AU</th>\n",
              "      <th>country_BE</th>\n",
              "      <th>country_BG</th>\n",
              "      <th>country_CH</th>\n",
              "      <th>country_CY</th>\n",
              "      <th>country_CZ</th>\n",
              "      <th>country_DE</th>\n",
              "      <th>country_DK</th>\n",
              "      <th>country_EE</th>\n",
              "      <th>country_ES</th>\n",
              "      <th>country_FI</th>\n",
              "      <th>country_FR</th>\n",
              "      <th>country_GB</th>\n",
              "      <th>country_GG</th>\n",
              "      <th>country_GI</th>\n",
              "      <th>country_GP</th>\n",
              "      <th>country_GR</th>\n",
              "      <th>country_HR</th>\n",
              "      <th>country_HU</th>\n",
              "      <th>country_IE</th>\n",
              "      <th>country_IM</th>\n",
              "      <th>country_IS</th>\n",
              "      <th>country_IT</th>\n",
              "      <th>country_JE</th>\n",
              "      <th>country_LI</th>\n",
              "      <th>country_LT</th>\n",
              "      <th>country_LU</th>\n",
              "      <th>country_LV</th>\n",
              "      <th>country_MQ</th>\n",
              "      <th>country_MT</th>\n",
              "      <th>country_NL</th>\n",
              "      <th>country_NO</th>\n",
              "      <th>country_PL</th>\n",
              "      <th>country_PT</th>\n",
              "      <th>country_RE</th>\n",
              "      <th>country_RO</th>\n",
              "      <th>country_SE</th>\n",
              "      <th>country_SI</th>\n",
              "      <th>country_SK</th>\n",
              "      <th>brands_Android</th>\n",
              "      <th>brands_Apple</th>\n",
              "    </tr>\n",
              "  </thead>\n",
              "  <tbody>\n",
              "    <tr>\n",
              "      <th>12850</th>\n",
              "      <td>0</td>\n",
              "      <td>0</td>\n",
              "      <td>0.0</td>\n",
              "      <td>1.0</td>\n",
              "      <td>0</td>\n",
              "      <td>26</td>\n",
              "      <td>94.196091</td>\n",
              "      <td>110.0</td>\n",
              "      <td>0</td>\n",
              "      <td>0</td>\n",
              "      <td>0</td>\n",
              "      <td>0</td>\n",
              "      <td>0</td>\n",
              "      <td>0</td>\n",
              "      <td>0</td>\n",
              "      <td>0</td>\n",
              "      <td>0</td>\n",
              "      <td>0</td>\n",
              "      <td>0</td>\n",
              "      <td>0</td>\n",
              "      <td>0</td>\n",
              "      <td>0</td>\n",
              "      <td>0</td>\n",
              "      <td>0</td>\n",
              "      <td>0</td>\n",
              "      <td>0</td>\n",
              "      <td>0</td>\n",
              "      <td>0</td>\n",
              "      <td>1</td>\n",
              "      <td>0</td>\n",
              "      <td>0</td>\n",
              "      <td>0</td>\n",
              "      <td>0</td>\n",
              "      <td>0</td>\n",
              "      <td>0</td>\n",
              "      <td>0</td>\n",
              "      <td>0</td>\n",
              "      <td>0</td>\n",
              "      <td>0</td>\n",
              "      <td>0</td>\n",
              "      <td>0</td>\n",
              "      <td>0</td>\n",
              "      <td>0</td>\n",
              "      <td>0</td>\n",
              "      <td>0</td>\n",
              "      <td>0</td>\n",
              "      <td>0</td>\n",
              "      <td>0</td>\n",
              "      <td>1</td>\n",
              "      <td>0</td>\n",
              "    </tr>\n",
              "    <tr>\n",
              "      <th>9654</th>\n",
              "      <td>0</td>\n",
              "      <td>0</td>\n",
              "      <td>1.0</td>\n",
              "      <td>1.0</td>\n",
              "      <td>0</td>\n",
              "      <td>33</td>\n",
              "      <td>4.680000</td>\n",
              "      <td>2.0</td>\n",
              "      <td>0</td>\n",
              "      <td>0</td>\n",
              "      <td>0</td>\n",
              "      <td>0</td>\n",
              "      <td>0</td>\n",
              "      <td>0</td>\n",
              "      <td>0</td>\n",
              "      <td>1</td>\n",
              "      <td>0</td>\n",
              "      <td>0</td>\n",
              "      <td>0</td>\n",
              "      <td>0</td>\n",
              "      <td>0</td>\n",
              "      <td>0</td>\n",
              "      <td>0</td>\n",
              "      <td>0</td>\n",
              "      <td>0</td>\n",
              "      <td>0</td>\n",
              "      <td>0</td>\n",
              "      <td>0</td>\n",
              "      <td>0</td>\n",
              "      <td>0</td>\n",
              "      <td>0</td>\n",
              "      <td>0</td>\n",
              "      <td>0</td>\n",
              "      <td>0</td>\n",
              "      <td>0</td>\n",
              "      <td>0</td>\n",
              "      <td>0</td>\n",
              "      <td>0</td>\n",
              "      <td>0</td>\n",
              "      <td>0</td>\n",
              "      <td>0</td>\n",
              "      <td>0</td>\n",
              "      <td>0</td>\n",
              "      <td>0</td>\n",
              "      <td>0</td>\n",
              "      <td>0</td>\n",
              "      <td>0</td>\n",
              "      <td>0</td>\n",
              "      <td>1</td>\n",
              "      <td>0</td>\n",
              "    </tr>\n",
              "  </tbody>\n",
              "</table>\n",
              "</div>"
            ],
            "text/plain": [
              "       user_settings_crypto_unlocked  plan  ...  brands_Android  brands_Apple\n",
              "12850                              0     0  ...               1             0\n",
              "9654                               0     0  ...               1             0\n",
              "\n",
              "[2 rows x 50 columns]"
            ]
          },
          "metadata": {
            "tags": []
          },
          "execution_count": 148
        }
      ]
    },
    {
      "cell_type": "markdown",
      "metadata": {
        "id": "qi1XFWW9JhIx",
        "colab_type": "text"
      },
      "source": [
        "##pipeline"
      ]
    },
    {
      "cell_type": "code",
      "metadata": {
        "id": "OAIWc6fqMpM6",
        "colab_type": "code",
        "colab": {}
      },
      "source": [
        "X = us_1_en.drop(columns=['plan']).values\n",
        "X_columns = us_1_en.drop(columns=['plan']).columns\n",
        "y = us_1_en['plan'].values"
      ],
      "execution_count": 0,
      "outputs": []
    },
    {
      "cell_type": "code",
      "metadata": {
        "id": "oQB2xP_hPn1g",
        "colab_type": "code",
        "colab": {
          "base_uri": "https://localhost:8080/",
          "height": 67
        },
        "outputId": "52f80f84-9ba1-474d-a9ff-79a21ddbfbf0"
      },
      "source": [
        "us_1_en['plan'].value_counts()"
      ],
      "execution_count": 151,
      "outputs": [
        {
          "output_type": "execute_result",
          "data": {
            "text/plain": [
              "0    14394\n",
              "1     1150\n",
              "Name: plan, dtype: int64"
            ]
          },
          "metadata": {
            "tags": []
          },
          "execution_count": 151
        }
      ]
    },
    {
      "cell_type": "code",
      "metadata": {
        "id": "X1DWJPOzOFLD",
        "colab_type": "code",
        "colab": {}
      },
      "source": [
        "from sklearn.model_selection import train_test_split\n",
        "\n"
      ],
      "execution_count": 0,
      "outputs": []
    },
    {
      "cell_type": "code",
      "metadata": {
        "id": "kCo5SYlwP9sz",
        "colab_type": "code",
        "colab": {
          "base_uri": "https://localhost:8080/",
          "height": 33
        },
        "outputId": "d9e4dfef-ce53-4006-d107-27ebac8daf70"
      },
      "source": [
        "X_tr, X_ts, y_tr, y_ts = train_test_split(X, y, test_size=0.2, stratify=y)\n",
        "y_ts.shape"
      ],
      "execution_count": 152,
      "outputs": [
        {
          "output_type": "execute_result",
          "data": {
            "text/plain": [
              "(3109,)"
            ]
          },
          "metadata": {
            "tags": []
          },
          "execution_count": 152
        }
      ]
    },
    {
      "cell_type": "markdown",
      "metadata": {
        "id": "Rpi78KIY0dXC",
        "colab_type": "text"
      },
      "source": [
        "###knn"
      ]
    },
    {
      "cell_type": "code",
      "metadata": {
        "id": "6PMaDSvOJjRv",
        "colab_type": "code",
        "colab": {}
      },
      "source": [
        "from imblearn.pipeline import Pipeline \n",
        "from sklearn.preprocessing import StandardScaler \n",
        "from imblearn.over_sampling import SMOTE \n",
        "from sklearn.model_selection import GridSearchCV\n",
        "from sklearn.metrics import precision_recall_fscore_support, classification_report , accuracy_score\n",
        "from sklearn.neighbors import KNeighborsClassifier \n"
      ],
      "execution_count": 0,
      "outputs": []
    },
    {
      "cell_type": "code",
      "metadata": {
        "id": "jIg6Mt5UMlgu",
        "colab_type": "code",
        "colab": {}
      },
      "source": [
        "sampler=SMOTE()\n",
        "scaler=StandardScaler()\n",
        "knn=KNeighborsClassifier()"
      ],
      "execution_count": 0,
      "outputs": []
    },
    {
      "cell_type": "code",
      "metadata": {
        "id": "1kdUZZAbMhU0",
        "colab_type": "code",
        "colab": {
          "base_uri": "https://localhost:8080/",
          "height": 338
        },
        "outputId": "5b857563-43fb-4657-bfcc-cbe380028a62"
      },
      "source": [
        "pipe = Pipeline(steps=[('scaler', StandardScaler()),  \n",
        "                       ('sampler', SMOTE()),\n",
        "                        \n",
        "                       ('knn', KNeighborsClassifier())])\n",
        "param_grid = {'knn__n_neighbors': [3, 5, 7, 9]}\n",
        "grid = GridSearchCV(pipe, param_grid, cv=2)\n",
        "grid.fit(X_tr, y_tr)\n",
        "knn_best_estimator=grid.best_estimator_"
      ],
      "execution_count": 154,
      "outputs": [
        {
          "output_type": "stream",
          "text": [
            "/usr/local/lib/python3.6/dist-packages/sklearn/utils/deprecation.py:87: FutureWarning: Function safe_indexing is deprecated; safe_indexing is deprecated in version 0.22 and will be removed in version 0.24.\n",
            "  warnings.warn(msg, category=FutureWarning)\n",
            "/usr/local/lib/python3.6/dist-packages/sklearn/utils/deprecation.py:87: FutureWarning: Function safe_indexing is deprecated; safe_indexing is deprecated in version 0.22 and will be removed in version 0.24.\n",
            "  warnings.warn(msg, category=FutureWarning)\n",
            "/usr/local/lib/python3.6/dist-packages/sklearn/utils/deprecation.py:87: FutureWarning: Function safe_indexing is deprecated; safe_indexing is deprecated in version 0.22 and will be removed in version 0.24.\n",
            "  warnings.warn(msg, category=FutureWarning)\n",
            "/usr/local/lib/python3.6/dist-packages/sklearn/utils/deprecation.py:87: FutureWarning: Function safe_indexing is deprecated; safe_indexing is deprecated in version 0.22 and will be removed in version 0.24.\n",
            "  warnings.warn(msg, category=FutureWarning)\n",
            "/usr/local/lib/python3.6/dist-packages/sklearn/utils/deprecation.py:87: FutureWarning: Function safe_indexing is deprecated; safe_indexing is deprecated in version 0.22 and will be removed in version 0.24.\n",
            "  warnings.warn(msg, category=FutureWarning)\n",
            "/usr/local/lib/python3.6/dist-packages/sklearn/utils/deprecation.py:87: FutureWarning: Function safe_indexing is deprecated; safe_indexing is deprecated in version 0.22 and will be removed in version 0.24.\n",
            "  warnings.warn(msg, category=FutureWarning)\n",
            "/usr/local/lib/python3.6/dist-packages/sklearn/utils/deprecation.py:87: FutureWarning: Function safe_indexing is deprecated; safe_indexing is deprecated in version 0.22 and will be removed in version 0.24.\n",
            "  warnings.warn(msg, category=FutureWarning)\n",
            "/usr/local/lib/python3.6/dist-packages/sklearn/utils/deprecation.py:87: FutureWarning: Function safe_indexing is deprecated; safe_indexing is deprecated in version 0.22 and will be removed in version 0.24.\n",
            "  warnings.warn(msg, category=FutureWarning)\n",
            "/usr/local/lib/python3.6/dist-packages/sklearn/utils/deprecation.py:87: FutureWarning: Function safe_indexing is deprecated; safe_indexing is deprecated in version 0.22 and will be removed in version 0.24.\n",
            "  warnings.warn(msg, category=FutureWarning)\n"
          ],
          "name": "stderr"
        }
      ]
    },
    {
      "cell_type": "code",
      "metadata": {
        "id": "ML-bBKFaU0qi",
        "colab_type": "code",
        "colab": {
          "base_uri": "https://localhost:8080/",
          "height": 251
        },
        "outputId": "9cb9df31-a49e-48ea-a002-090506676a13"
      },
      "source": [
        "knn_best_estimator\n"
      ],
      "execution_count": 155,
      "outputs": [
        {
          "output_type": "execute_result",
          "data": {
            "text/plain": [
              "Pipeline(memory=None,\n",
              "         steps=[('scaler',\n",
              "                 StandardScaler(copy=True, with_mean=True, with_std=True)),\n",
              "                ('sampler',\n",
              "                 SMOTE(k_neighbors=5, kind='deprecated',\n",
              "                       m_neighbors='deprecated', n_jobs=1,\n",
              "                       out_step='deprecated', random_state=None, ratio=None,\n",
              "                       sampling_strategy='auto', svm_estimator='deprecated')),\n",
              "                ('knn',\n",
              "                 KNeighborsClassifier(algorithm='auto', leaf_size=30,\n",
              "                                      metric='minkowski', metric_params=None,\n",
              "                                      n_jobs=None, n_neighbors=3, p=2,\n",
              "                                      weights='uniform'))],\n",
              "         verbose=False)"
            ]
          },
          "metadata": {
            "tags": []
          },
          "execution_count": 155
        }
      ]
    },
    {
      "cell_type": "code",
      "metadata": {
        "id": "kY2T4zO9bGW3",
        "colab_type": "code",
        "colab": {
          "base_uri": "https://localhost:8080/",
          "height": 217
        },
        "outputId": "d5268280-6d7e-4af7-d482-11876604f91a"
      },
      "source": [
        "preds=grid.predict(X_ts)\n",
        "print('accuracy: {:.2f}%'.format(accuracy_score(y_ts, preds)*100))\n",
        "print('\\nClassification Report:') \n",
        "print(classification_report(y_ts, preds))\n"
      ],
      "execution_count": 159,
      "outputs": [
        {
          "output_type": "stream",
          "text": [
            "accuracy: 81.22%\n",
            "\n",
            "Classification Report:\n",
            "              precision    recall  f1-score   support\n",
            "\n",
            "           0       0.95      0.84      0.89      2879\n",
            "           1       0.19      0.45      0.26       230\n",
            "\n",
            "    accuracy                           0.81      3109\n",
            "   macro avg       0.57      0.65      0.58      3109\n",
            "weighted avg       0.89      0.81      0.85      3109\n",
            "\n"
          ],
          "name": "stdout"
        }
      ]
    },
    {
      "cell_type": "code",
      "metadata": {
        "id": "zpQJaTeoc0te",
        "colab_type": "code",
        "colab": {}
      },
      "source": [
        ""
      ],
      "execution_count": 0,
      "outputs": []
    },
    {
      "cell_type": "markdown",
      "metadata": {
        "id": "epnIVtGQeTu1",
        "colab_type": "text"
      },
      "source": [
        "###DecisionForest\n"
      ]
    },
    {
      "cell_type": "code",
      "metadata": {
        "id": "lET07dYiehiq",
        "colab_type": "code",
        "colab": {}
      },
      "source": [
        "from sklearn.ensemble import RandomForestClassifier\n",
        "from sklearn.feature_selection import VarianceThreshold"
      ],
      "execution_count": 0,
      "outputs": []
    },
    {
      "cell_type": "code",
      "metadata": {
        "id": "FMNeTNRPej6s",
        "colab_type": "code",
        "colab": {}
      },
      "source": [
        "rf = RandomForestClassifier()\n",
        "var = VarianceThreshold()"
      ],
      "execution_count": 0,
      "outputs": []
    },
    {
      "cell_type": "code",
      "metadata": {
        "id": "LTCmQsg-ebRT",
        "colab_type": "code",
        "colab": {
          "base_uri": "https://localhost:8080/",
          "height": 856
        },
        "outputId": "eb95bacc-6613-48e4-b9e1-c5862460e1fb"
      },
      "source": [
        "pipe2 = Pipeline(steps=[('scaler', StandardScaler()),  \n",
        "                       ('sampler', SMOTE()),\n",
        "                        ('selector', var),\n",
        "                       ('model', rf)])\n",
        "param_grid2 = {'selector__threshold': [0, 0.2, 0.4],\n",
        "                'model__n_estimators': [20, 50, 100]}\n",
        "grid2= GridSearchCV(pipe2, param_grid2, cv=2)\n",
        "grid2.fit(X_tr, y_tr)\n",
        "print(grid2.best_params_, '\\n')\n",
        "print(classification_report(y_ts, grid2.predict(X_ts)))"
      ],
      "execution_count": 166,
      "outputs": [
        {
          "output_type": "stream",
          "text": [
            "/usr/local/lib/python3.6/dist-packages/sklearn/utils/deprecation.py:87: FutureWarning: Function safe_indexing is deprecated; safe_indexing is deprecated in version 0.22 and will be removed in version 0.24.\n",
            "  warnings.warn(msg, category=FutureWarning)\n",
            "/usr/local/lib/python3.6/dist-packages/sklearn/utils/deprecation.py:87: FutureWarning: Function safe_indexing is deprecated; safe_indexing is deprecated in version 0.22 and will be removed in version 0.24.\n",
            "  warnings.warn(msg, category=FutureWarning)\n",
            "/usr/local/lib/python3.6/dist-packages/sklearn/utils/deprecation.py:87: FutureWarning: Function safe_indexing is deprecated; safe_indexing is deprecated in version 0.22 and will be removed in version 0.24.\n",
            "  warnings.warn(msg, category=FutureWarning)\n",
            "/usr/local/lib/python3.6/dist-packages/sklearn/utils/deprecation.py:87: FutureWarning: Function safe_indexing is deprecated; safe_indexing is deprecated in version 0.22 and will be removed in version 0.24.\n",
            "  warnings.warn(msg, category=FutureWarning)\n",
            "/usr/local/lib/python3.6/dist-packages/sklearn/utils/deprecation.py:87: FutureWarning: Function safe_indexing is deprecated; safe_indexing is deprecated in version 0.22 and will be removed in version 0.24.\n",
            "  warnings.warn(msg, category=FutureWarning)\n",
            "/usr/local/lib/python3.6/dist-packages/sklearn/utils/deprecation.py:87: FutureWarning: Function safe_indexing is deprecated; safe_indexing is deprecated in version 0.22 and will be removed in version 0.24.\n",
            "  warnings.warn(msg, category=FutureWarning)\n",
            "/usr/local/lib/python3.6/dist-packages/sklearn/utils/deprecation.py:87: FutureWarning: Function safe_indexing is deprecated; safe_indexing is deprecated in version 0.22 and will be removed in version 0.24.\n",
            "  warnings.warn(msg, category=FutureWarning)\n",
            "/usr/local/lib/python3.6/dist-packages/sklearn/utils/deprecation.py:87: FutureWarning: Function safe_indexing is deprecated; safe_indexing is deprecated in version 0.22 and will be removed in version 0.24.\n",
            "  warnings.warn(msg, category=FutureWarning)\n",
            "/usr/local/lib/python3.6/dist-packages/sklearn/utils/deprecation.py:87: FutureWarning: Function safe_indexing is deprecated; safe_indexing is deprecated in version 0.22 and will be removed in version 0.24.\n",
            "  warnings.warn(msg, category=FutureWarning)\n",
            "/usr/local/lib/python3.6/dist-packages/sklearn/utils/deprecation.py:87: FutureWarning: Function safe_indexing is deprecated; safe_indexing is deprecated in version 0.22 and will be removed in version 0.24.\n",
            "  warnings.warn(msg, category=FutureWarning)\n",
            "/usr/local/lib/python3.6/dist-packages/sklearn/utils/deprecation.py:87: FutureWarning: Function safe_indexing is deprecated; safe_indexing is deprecated in version 0.22 and will be removed in version 0.24.\n",
            "  warnings.warn(msg, category=FutureWarning)\n",
            "/usr/local/lib/python3.6/dist-packages/sklearn/utils/deprecation.py:87: FutureWarning: Function safe_indexing is deprecated; safe_indexing is deprecated in version 0.22 and will be removed in version 0.24.\n",
            "  warnings.warn(msg, category=FutureWarning)\n",
            "/usr/local/lib/python3.6/dist-packages/sklearn/utils/deprecation.py:87: FutureWarning: Function safe_indexing is deprecated; safe_indexing is deprecated in version 0.22 and will be removed in version 0.24.\n",
            "  warnings.warn(msg, category=FutureWarning)\n",
            "/usr/local/lib/python3.6/dist-packages/sklearn/utils/deprecation.py:87: FutureWarning: Function safe_indexing is deprecated; safe_indexing is deprecated in version 0.22 and will be removed in version 0.24.\n",
            "  warnings.warn(msg, category=FutureWarning)\n",
            "/usr/local/lib/python3.6/dist-packages/sklearn/utils/deprecation.py:87: FutureWarning: Function safe_indexing is deprecated; safe_indexing is deprecated in version 0.22 and will be removed in version 0.24.\n",
            "  warnings.warn(msg, category=FutureWarning)\n",
            "/usr/local/lib/python3.6/dist-packages/sklearn/utils/deprecation.py:87: FutureWarning: Function safe_indexing is deprecated; safe_indexing is deprecated in version 0.22 and will be removed in version 0.24.\n",
            "  warnings.warn(msg, category=FutureWarning)\n",
            "/usr/local/lib/python3.6/dist-packages/sklearn/utils/deprecation.py:87: FutureWarning: Function safe_indexing is deprecated; safe_indexing is deprecated in version 0.22 and will be removed in version 0.24.\n",
            "  warnings.warn(msg, category=FutureWarning)\n",
            "/usr/local/lib/python3.6/dist-packages/sklearn/utils/deprecation.py:87: FutureWarning: Function safe_indexing is deprecated; safe_indexing is deprecated in version 0.22 and will be removed in version 0.24.\n",
            "  warnings.warn(msg, category=FutureWarning)\n",
            "/usr/local/lib/python3.6/dist-packages/sklearn/utils/deprecation.py:87: FutureWarning: Function safe_indexing is deprecated; safe_indexing is deprecated in version 0.22 and will be removed in version 0.24.\n",
            "  warnings.warn(msg, category=FutureWarning)\n"
          ],
          "name": "stderr"
        },
        {
          "output_type": "stream",
          "text": [
            "{'model__n_estimators': 20, 'selector__threshold': 0} \n",
            "\n",
            "              precision    recall  f1-score   support\n",
            "\n",
            "           0       0.95      0.92      0.93      2879\n",
            "           1       0.26      0.37      0.31       230\n",
            "\n",
            "    accuracy                           0.88      3109\n",
            "   macro avg       0.61      0.65      0.62      3109\n",
            "weighted avg       0.90      0.88      0.89      3109\n",
            "\n"
          ],
          "name": "stdout"
        }
      ]
    },
    {
      "cell_type": "code",
      "metadata": {
        "id": "Io5hBf18fwR7",
        "colab_type": "code",
        "colab": {
          "base_uri": "https://localhost:8080/",
          "height": 33
        },
        "outputId": "18de701c-6a0c-4dbe-edcf-017da1d3c76b"
      },
      "source": [
        "print('accuracy: {:.2f}%'.format(accuracy_score(y_ts, grid2.predict(X_ts))*100))"
      ],
      "execution_count": 168,
      "outputs": [
        {
          "output_type": "stream",
          "text": [
            "accuracy: 87.65%\n"
          ],
          "name": "stdout"
        }
      ]
    },
    {
      "cell_type": "code",
      "metadata": {
        "id": "Vx9aEAiSgT-D",
        "colab_type": "code",
        "colab": {}
      },
      "source": [
        ""
      ],
      "execution_count": 0,
      "outputs": []
    }
  ]
}