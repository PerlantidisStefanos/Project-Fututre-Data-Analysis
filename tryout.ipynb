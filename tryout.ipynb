{
  "nbformat": 4,
  "nbformat_minor": 0,
  "metadata": {
    "colab": {
      "name": "tryout.ipynb",
      "provenance": [],
      "collapsed_sections": []
    },
    "kernelspec": {
      "name": "python3",
      "display_name": "Python 3"
    }
  },
  "cells": [
    {
      "cell_type": "code",
      "metadata": {
        "id": "hNlm4-q00rFf",
        "colab_type": "code",
        "colab": {}
      },
      "source": [
        "import pandas as pd\n",
        "import numpy as np\n",
        "import matplotlib.pyplot as plt\n",
        "import seaborn as sns"
      ],
      "execution_count": 0,
      "outputs": []
    },
    {
      "cell_type": "code",
      "metadata": {
        "id": "bat7G23z01ci",
        "colab_type": "code",
        "colab": {}
      },
      "source": [
        "\n",
        "dev= pd.read_csv('devices.csv')\n",
        "tr1= pd.read_csv('transactions_1.csv')\n",
        "tr2= pd.read_csv('transactions_2.csv')\n",
        "tr3= pd.read_csv('transactions_3.csv')\n",
        "users = pd.read_csv('users.csv')\n",
        "notif = pd.read_csv('notifications.csv')\n",
        "trans= pd.concat([tr1, tr2, tr3])#all transactions in one dataframe"
      ],
      "execution_count": 0,
      "outputs": []
    },
    {
      "cell_type": "markdown",
      "metadata": {
        "id": "YMy274eW4S-X",
        "colab_type": "text"
      },
      "source": [
        "#Regarding users , devices and notifications files\n"
      ]
    },
    {
      "cell_type": "markdown",
      "metadata": {
        "id": "SAkThdczCmSo",
        "colab_type": "text"
      },
      "source": [
        "###Notifications table"
      ]
    },
    {
      "cell_type": "code",
      "metadata": {
        "id": "VFrA9EkM3PIh",
        "colab_type": "code",
        "outputId": "69c717a3-d6ea-4cd8-dc1e-214102a9ac13",
        "colab": {
          "base_uri": "https://localhost:8080/",
          "height": 33
        }
      },
      "source": [
        "notif.shape"
      ],
      "execution_count": 98,
      "outputs": [
        {
          "output_type": "execute_result",
          "data": {
            "text/plain": [
              "(97704, 5)"
            ]
          },
          "metadata": {
            "tags": []
          },
          "execution_count": 98
        }
      ]
    },
    {
      "cell_type": "code",
      "metadata": {
        "id": "5GlGnAs87Jdl",
        "colab_type": "code",
        "outputId": "1639982f-7be8-45e5-d174-f38bbce06a51",
        "colab": {
          "base_uri": "https://localhost:8080/",
          "height": 345
        }
      },
      "source": [
        "notif.sample(10)"
      ],
      "execution_count": 99,
      "outputs": [
        {
          "output_type": "execute_result",
          "data": {
            "text/html": [
              "<div>\n",
              "<style scoped>\n",
              "    .dataframe tbody tr th:only-of-type {\n",
              "        vertical-align: middle;\n",
              "    }\n",
              "\n",
              "    .dataframe tbody tr th {\n",
              "        vertical-align: top;\n",
              "    }\n",
              "\n",
              "    .dataframe thead th {\n",
              "        text-align: right;\n",
              "    }\n",
              "</style>\n",
              "<table border=\"1\" class=\"dataframe\">\n",
              "  <thead>\n",
              "    <tr style=\"text-align: right;\">\n",
              "      <th></th>\n",
              "      <th>reason</th>\n",
              "      <th>channel</th>\n",
              "      <th>status</th>\n",
              "      <th>user_id</th>\n",
              "      <th>created_date</th>\n",
              "    </tr>\n",
              "  </thead>\n",
              "  <tbody>\n",
              "    <tr>\n",
              "      <th>59500</th>\n",
              "      <td>PROMO</td>\n",
              "      <td>PUSH</td>\n",
              "      <td>FAILED</td>\n",
              "      <td>user_2816</td>\n",
              "      <td>2019-02-26 23:01:20.133770</td>\n",
              "    </tr>\n",
              "    <tr>\n",
              "      <th>60980</th>\n",
              "      <td>REENGAGEMENT_ACTIVE_FUNDS</td>\n",
              "      <td>PUSH</td>\n",
              "      <td>SENT</td>\n",
              "      <td>user_11243</td>\n",
              "      <td>2019-02-13 12:09:14.652413</td>\n",
              "    </tr>\n",
              "    <tr>\n",
              "      <th>91368</th>\n",
              "      <td>REENGAGEMENT_ACTIVE_FUNDS</td>\n",
              "      <td>PUSH</td>\n",
              "      <td>SENT</td>\n",
              "      <td>user_4979</td>\n",
              "      <td>2018-11-28 05:06:52.646381</td>\n",
              "    </tr>\n",
              "    <tr>\n",
              "      <th>49845</th>\n",
              "      <td>BLACK_FRIDAY</td>\n",
              "      <td>PUSH</td>\n",
              "      <td>SENT</td>\n",
              "      <td>user_2244</td>\n",
              "      <td>2018-11-25 16:47:31.445836</td>\n",
              "    </tr>\n",
              "    <tr>\n",
              "      <th>58946</th>\n",
              "      <td>REENGAGEMENT_ACTIVE_FUNDS</td>\n",
              "      <td>PUSH</td>\n",
              "      <td>SENT</td>\n",
              "      <td>user_142</td>\n",
              "      <td>2018-11-22 03:27:26.623808</td>\n",
              "    </tr>\n",
              "    <tr>\n",
              "      <th>44283</th>\n",
              "      <td>SILVER_ENGAGEMENT_INACTIVE_CARD</td>\n",
              "      <td>PUSH</td>\n",
              "      <td>SENT</td>\n",
              "      <td>user_4176</td>\n",
              "      <td>2018-11-03 06:07:24.850533</td>\n",
              "    </tr>\n",
              "    <tr>\n",
              "      <th>44051</th>\n",
              "      <td>SILVER_ENGAGEMENT_INACTIVE_CARD</td>\n",
              "      <td>PUSH</td>\n",
              "      <td>SENT</td>\n",
              "      <td>user_14882</td>\n",
              "      <td>2018-10-13 10:55:53.795449</td>\n",
              "    </tr>\n",
              "    <tr>\n",
              "      <th>56761</th>\n",
              "      <td>PROMO</td>\n",
              "      <td>PUSH</td>\n",
              "      <td>SENT</td>\n",
              "      <td>user_11658</td>\n",
              "      <td>2019-01-24 03:42:24.745563</td>\n",
              "    </tr>\n",
              "    <tr>\n",
              "      <th>39787</th>\n",
              "      <td>JOINING_ANNIVERSARY</td>\n",
              "      <td>PUSH</td>\n",
              "      <td>SENT</td>\n",
              "      <td>user_3168</td>\n",
              "      <td>2019-03-20 01:28:38.726485</td>\n",
              "    </tr>\n",
              "    <tr>\n",
              "      <th>4605</th>\n",
              "      <td>NO_INITIAL_CARD_USE</td>\n",
              "      <td>EMAIL</td>\n",
              "      <td>FAILED</td>\n",
              "      <td>user_3566</td>\n",
              "      <td>2018-03-21 18:57:50.715275</td>\n",
              "    </tr>\n",
              "  </tbody>\n",
              "</table>\n",
              "</div>"
            ],
            "text/plain": [
              "                                reason  ...                created_date\n",
              "59500                            PROMO  ...  2019-02-26 23:01:20.133770\n",
              "60980        REENGAGEMENT_ACTIVE_FUNDS  ...  2019-02-13 12:09:14.652413\n",
              "91368        REENGAGEMENT_ACTIVE_FUNDS  ...  2018-11-28 05:06:52.646381\n",
              "49845                     BLACK_FRIDAY  ...  2018-11-25 16:47:31.445836\n",
              "58946        REENGAGEMENT_ACTIVE_FUNDS  ...  2018-11-22 03:27:26.623808\n",
              "44283  SILVER_ENGAGEMENT_INACTIVE_CARD  ...  2018-11-03 06:07:24.850533\n",
              "44051  SILVER_ENGAGEMENT_INACTIVE_CARD  ...  2018-10-13 10:55:53.795449\n",
              "56761                            PROMO  ...  2019-01-24 03:42:24.745563\n",
              "39787              JOINING_ANNIVERSARY  ...  2019-03-20 01:28:38.726485\n",
              "4605               NO_INITIAL_CARD_USE  ...  2018-03-21 18:57:50.715275\n",
              "\n",
              "[10 rows x 5 columns]"
            ]
          },
          "metadata": {
            "tags": []
          },
          "execution_count": 99
        }
      ]
    },
    {
      "cell_type": "code",
      "metadata": {
        "id": "FrnYD9E89pdQ",
        "colab_type": "code",
        "outputId": "d01b7d9d-4f26-4e72-9e54-efc06186cc16",
        "colab": {
          "base_uri": "https://localhost:8080/",
          "height": 117
        }
      },
      "source": [
        "notif.isnull().any()"
      ],
      "execution_count": 100,
      "outputs": [
        {
          "output_type": "execute_result",
          "data": {
            "text/plain": [
              "reason          False\n",
              "channel         False\n",
              "status          False\n",
              "user_id         False\n",
              "created_date    False\n",
              "dtype: bool"
            ]
          },
          "metadata": {
            "tags": []
          },
          "execution_count": 100
        }
      ]
    },
    {
      "cell_type": "code",
      "metadata": {
        "id": "WOSYYKTEOpy3",
        "colab_type": "code",
        "outputId": "cb449e17-9886-442c-9e0e-070f3363ba5b",
        "colab": {
          "base_uri": "https://localhost:8080/",
          "height": 84
        }
      },
      "source": [
        "notif['channel'].value_counts(dropna=False)"
      ],
      "execution_count": 101,
      "outputs": [
        {
          "output_type": "execute_result",
          "data": {
            "text/plain": [
              "EMAIL    49149\n",
              "PUSH     46244\n",
              "SMS       2311\n",
              "Name: channel, dtype: int64"
            ]
          },
          "metadata": {
            "tags": []
          },
          "execution_count": 101
        }
      ]
    },
    {
      "cell_type": "code",
      "metadata": {
        "id": "qMKc5TFD3YEX",
        "colab_type": "code",
        "outputId": "03c3098f-1f22-42e1-cb90-b2ed7554b4b5",
        "colab": {
          "base_uri": "https://localhost:8080/",
          "height": 318
        }
      },
      "source": [
        "notif['reason'].value_counts(dropna=False)"
      ],
      "execution_count": 102,
      "outputs": [
        {
          "output_type": "execute_result",
          "data": {
            "text/plain": [
              "REENGAGEMENT_ACTIVE_FUNDS            28832\n",
              "PROMO                                18987\n",
              "NO_INITIAL_CARD_ORDER                 9071\n",
              "NO_INITIAL_CARD_USE                   9035\n",
              "INVEST_IN_GOLD                        6649\n",
              "LOST_CARD_ORDER                       4941\n",
              "PROMO_CARD_ORDER                      4358\n",
              "JOINING_ANNIVERSARY                   3334\n",
              "MADE_MONEY_REQUEST_NOT_SPLIT_BILL     2851\n",
              "ONBOARDING_TIPS_ACTIVATED_USERS       2423\n",
              "ENGAGEMENT_SPLIT_BILL_RESTAURANT      1834\n",
              "BLACK_FRIDAY                          1681\n",
              "METAL_RESERVE_PLAN                     950\n",
              "SILVER_ENGAGEMENT_INACTIVE_CARD        896\n",
              "WELCOME_BACK                           779\n",
              "BLUE_TUESDAY                           555\n",
              "SILVER_ENGAGEMENT_FEES_SAVED           528\n",
              "Name: reason, dtype: int64"
            ]
          },
          "metadata": {
            "tags": []
          },
          "execution_count": 102
        }
      ]
    },
    {
      "cell_type": "code",
      "metadata": {
        "id": "ognvM6kuVtes",
        "colab_type": "code",
        "colab": {}
      },
      "source": [
        "notif.channel=notif.channel.astype('category')\n",
        "notif['notifications_cat']=notif.channel.cat.codes"
      ],
      "execution_count": 0,
      "outputs": []
    },
    {
      "cell_type": "code",
      "metadata": {
        "id": "_I27jhA0WrKw",
        "colab_type": "code",
        "colab": {
          "base_uri": "https://localhost:8080/",
          "height": 404
        },
        "outputId": "1b05cd75-0875-46fe-e3fb-c003bb9495ff"
      },
      "source": [
        "notif.iloc[1824:,:]"
      ],
      "execution_count": 227,
      "outputs": [
        {
          "output_type": "execute_result",
          "data": {
            "text/html": [
              "<div>\n",
              "<style scoped>\n",
              "    .dataframe tbody tr th:only-of-type {\n",
              "        vertical-align: middle;\n",
              "    }\n",
              "\n",
              "    .dataframe tbody tr th {\n",
              "        vertical-align: top;\n",
              "    }\n",
              "\n",
              "    .dataframe thead th {\n",
              "        text-align: right;\n",
              "    }\n",
              "</style>\n",
              "<table border=\"1\" class=\"dataframe\">\n",
              "  <thead>\n",
              "    <tr style=\"text-align: right;\">\n",
              "      <th></th>\n",
              "      <th>reason</th>\n",
              "      <th>channel</th>\n",
              "      <th>status</th>\n",
              "      <th>user_id</th>\n",
              "      <th>created_date</th>\n",
              "      <th>notifications_cat</th>\n",
              "    </tr>\n",
              "  </thead>\n",
              "  <tbody>\n",
              "    <tr>\n",
              "      <th>1824</th>\n",
              "      <td>NO_INITIAL_CARD_USE</td>\n",
              "      <td>EMAIL</td>\n",
              "      <td>FAILED</td>\n",
              "      <td>user_11668</td>\n",
              "      <td>2018-03-10 13:28:06.658413</td>\n",
              "      <td>0</td>\n",
              "    </tr>\n",
              "    <tr>\n",
              "      <th>1825</th>\n",
              "      <td>NO_INITIAL_CARD_USE</td>\n",
              "      <td>EMAIL</td>\n",
              "      <td>FAILED</td>\n",
              "      <td>user_10393</td>\n",
              "      <td>2018-03-12 02:19:59.390071</td>\n",
              "      <td>0</td>\n",
              "    </tr>\n",
              "    <tr>\n",
              "      <th>1826</th>\n",
              "      <td>NO_INITIAL_CARD_USE</td>\n",
              "      <td>EMAIL</td>\n",
              "      <td>FAILED</td>\n",
              "      <td>user_4841</td>\n",
              "      <td>2018-03-10 21:38:58.114943</td>\n",
              "      <td>0</td>\n",
              "    </tr>\n",
              "    <tr>\n",
              "      <th>1827</th>\n",
              "      <td>NO_INITIAL_CARD_USE</td>\n",
              "      <td>EMAIL</td>\n",
              "      <td>FAILED</td>\n",
              "      <td>user_10810</td>\n",
              "      <td>2018-03-10 15:06:35.576076</td>\n",
              "      <td>0</td>\n",
              "    </tr>\n",
              "    <tr>\n",
              "      <th>1828</th>\n",
              "      <td>NO_INITIAL_CARD_USE</td>\n",
              "      <td>EMAIL</td>\n",
              "      <td>FAILED</td>\n",
              "      <td>user_7114</td>\n",
              "      <td>2018-03-11 00:29:36.032688</td>\n",
              "      <td>0</td>\n",
              "    </tr>\n",
              "    <tr>\n",
              "      <th>...</th>\n",
              "      <td>...</td>\n",
              "      <td>...</td>\n",
              "      <td>...</td>\n",
              "      <td>...</td>\n",
              "      <td>...</td>\n",
              "      <td>...</td>\n",
              "    </tr>\n",
              "    <tr>\n",
              "      <th>97699</th>\n",
              "      <td>LOST_CARD_ORDER</td>\n",
              "      <td>EMAIL</td>\n",
              "      <td>FAILED</td>\n",
              "      <td>user_7488</td>\n",
              "      <td>2019-05-05 11:29:47.645713</td>\n",
              "      <td>0</td>\n",
              "    </tr>\n",
              "    <tr>\n",
              "      <th>97700</th>\n",
              "      <td>LOST_CARD_ORDER</td>\n",
              "      <td>EMAIL</td>\n",
              "      <td>SENT</td>\n",
              "      <td>user_7108</td>\n",
              "      <td>2019-05-06 08:17:29.915656</td>\n",
              "      <td>0</td>\n",
              "    </tr>\n",
              "    <tr>\n",
              "      <th>97701</th>\n",
              "      <td>LOST_CARD_ORDER</td>\n",
              "      <td>EMAIL</td>\n",
              "      <td>FAILED</td>\n",
              "      <td>user_5079</td>\n",
              "      <td>2019-05-06 13:35:51.055711</td>\n",
              "      <td>0</td>\n",
              "    </tr>\n",
              "    <tr>\n",
              "      <th>97702</th>\n",
              "      <td>LOST_CARD_ORDER</td>\n",
              "      <td>EMAIL</td>\n",
              "      <td>SENT</td>\n",
              "      <td>user_4860</td>\n",
              "      <td>2019-05-10 01:25:42.530159</td>\n",
              "      <td>0</td>\n",
              "    </tr>\n",
              "    <tr>\n",
              "      <th>97703</th>\n",
              "      <td>LOST_CARD_ORDER</td>\n",
              "      <td>EMAIL</td>\n",
              "      <td>SENT</td>\n",
              "      <td>user_14587</td>\n",
              "      <td>2019-05-10 23:01:30.998474</td>\n",
              "      <td>0</td>\n",
              "    </tr>\n",
              "  </tbody>\n",
              "</table>\n",
              "<p>95880 rows × 6 columns</p>\n",
              "</div>"
            ],
            "text/plain": [
              "                    reason  ... notifications_cat\n",
              "1824   NO_INITIAL_CARD_USE  ...                 0\n",
              "1825   NO_INITIAL_CARD_USE  ...                 0\n",
              "1826   NO_INITIAL_CARD_USE  ...                 0\n",
              "1827   NO_INITIAL_CARD_USE  ...                 0\n",
              "1828   NO_INITIAL_CARD_USE  ...                 0\n",
              "...                    ...  ...               ...\n",
              "97699      LOST_CARD_ORDER  ...                 0\n",
              "97700      LOST_CARD_ORDER  ...                 0\n",
              "97701      LOST_CARD_ORDER  ...                 0\n",
              "97702      LOST_CARD_ORDER  ...                 0\n",
              "97703      LOST_CARD_ORDER  ...                 0\n",
              "\n",
              "[95880 rows x 6 columns]"
            ]
          },
          "metadata": {
            "tags": []
          },
          "execution_count": 227
        }
      ]
    },
    {
      "cell_type": "code",
      "metadata": {
        "id": "H6LTrScsOzL-",
        "colab_type": "code",
        "outputId": "5ef9cf54-51cf-4751-ba64-b185898b1e2d",
        "colab": {
          "base_uri": "https://localhost:8080/",
          "height": 67
        }
      },
      "source": [
        "notif['status'].value_counts(dropna=False)"
      ],
      "execution_count": 103,
      "outputs": [
        {
          "output_type": "execute_result",
          "data": {
            "text/plain": [
              "SENT      71693\n",
              "FAILED    26011\n",
              "Name: status, dtype: int64"
            ]
          },
          "metadata": {
            "tags": []
          },
          "execution_count": 103
        }
      ]
    },
    {
      "cell_type": "code",
      "metadata": {
        "id": "LzH3TFUPPEYc",
        "colab_type": "code",
        "outputId": "400543f0-24cb-417a-a88f-136409226939",
        "colab": {
          "base_uri": "https://localhost:8080/",
          "height": 217
        }
      },
      "source": [
        "notif['user_id'].value_counts(dropna=False)"
      ],
      "execution_count": 104,
      "outputs": [
        {
          "output_type": "execute_result",
          "data": {
            "text/plain": [
              "user_10272    289\n",
              "user_1326     177\n",
              "user_7244     129\n",
              "user_7733      88\n",
              "user_4066      58\n",
              "             ... \n",
              "user_12312      1\n",
              "user_7665       1\n",
              "user_4449       1\n",
              "user_8704       1\n",
              "user_3932       1\n",
              "Name: user_id, Length: 15156, dtype: int64"
            ]
          },
          "metadata": {
            "tags": []
          },
          "execution_count": 104
        }
      ]
    },
    {
      "cell_type": "code",
      "metadata": {
        "id": "v8dKqAl_P4xS",
        "colab_type": "code",
        "outputId": "5acb3f58-c8f3-4215-d6d4-bd7d75e6c575",
        "colab": {
          "base_uri": "https://localhost:8080/",
          "height": 404
        }
      },
      "source": [
        "number_of_notif=pd.DataFrame(notif.user_id.value_counts())\n",
        "number_of_notif.rename(columns={'user_id':'amount_of_notifications'},inplace=True)\n",
        "number_of_notif.sort_index()"
      ],
      "execution_count": 105,
      "outputs": [
        {
          "output_type": "execute_result",
          "data": {
            "text/html": [
              "<div>\n",
              "<style scoped>\n",
              "    .dataframe tbody tr th:only-of-type {\n",
              "        vertical-align: middle;\n",
              "    }\n",
              "\n",
              "    .dataframe tbody tr th {\n",
              "        vertical-align: top;\n",
              "    }\n",
              "\n",
              "    .dataframe thead th {\n",
              "        text-align: right;\n",
              "    }\n",
              "</style>\n",
              "<table border=\"1\" class=\"dataframe\">\n",
              "  <thead>\n",
              "    <tr style=\"text-align: right;\">\n",
              "      <th></th>\n",
              "      <th>amount_of_notifications</th>\n",
              "    </tr>\n",
              "  </thead>\n",
              "  <tbody>\n",
              "    <tr>\n",
              "      <th>user_0</th>\n",
              "      <td>8</td>\n",
              "    </tr>\n",
              "    <tr>\n",
              "      <th>user_1</th>\n",
              "      <td>15</td>\n",
              "    </tr>\n",
              "    <tr>\n",
              "      <th>user_10</th>\n",
              "      <td>8</td>\n",
              "    </tr>\n",
              "    <tr>\n",
              "      <th>user_100</th>\n",
              "      <td>5</td>\n",
              "    </tr>\n",
              "    <tr>\n",
              "      <th>user_1000</th>\n",
              "      <td>1</td>\n",
              "    </tr>\n",
              "    <tr>\n",
              "      <th>...</th>\n",
              "      <td>...</td>\n",
              "    </tr>\n",
              "    <tr>\n",
              "      <th>user_9995</th>\n",
              "      <td>2</td>\n",
              "    </tr>\n",
              "    <tr>\n",
              "      <th>user_9996</th>\n",
              "      <td>3</td>\n",
              "    </tr>\n",
              "    <tr>\n",
              "      <th>user_9997</th>\n",
              "      <td>8</td>\n",
              "    </tr>\n",
              "    <tr>\n",
              "      <th>user_9998</th>\n",
              "      <td>5</td>\n",
              "    </tr>\n",
              "    <tr>\n",
              "      <th>user_9999</th>\n",
              "      <td>3</td>\n",
              "    </tr>\n",
              "  </tbody>\n",
              "</table>\n",
              "<p>15156 rows × 1 columns</p>\n",
              "</div>"
            ],
            "text/plain": [
              "           amount_of_notifications\n",
              "user_0                           8\n",
              "user_1                          15\n",
              "user_10                          8\n",
              "user_100                         5\n",
              "user_1000                        1\n",
              "...                            ...\n",
              "user_9995                        2\n",
              "user_9996                        3\n",
              "user_9997                        8\n",
              "user_9998                        5\n",
              "user_9999                        3\n",
              "\n",
              "[15156 rows x 1 columns]"
            ]
          },
          "metadata": {
            "tags": []
          },
          "execution_count": 105
        }
      ]
    },
    {
      "cell_type": "code",
      "metadata": {
        "id": "2SriOnwlQQkD",
        "colab_type": "code",
        "colab": {}
      },
      "source": [
        "notif_channels=pd.get_dummies(notif, columns=[\"channel\"])"
      ],
      "execution_count": 0,
      "outputs": []
    },
    {
      "cell_type": "code",
      "metadata": {
        "id": "Maw4W4A-VavJ",
        "colab_type": "code",
        "colab": {
          "base_uri": "https://localhost:8080/",
          "height": 196
        },
        "outputId": "02371288-c034-4b1d-f173-813bcf702a08"
      },
      "source": [
        "notif_channels.sample(5)"
      ],
      "execution_count": 214,
      "outputs": [
        {
          "output_type": "execute_result",
          "data": {
            "text/html": [
              "<div>\n",
              "<style scoped>\n",
              "    .dataframe tbody tr th:only-of-type {\n",
              "        vertical-align: middle;\n",
              "    }\n",
              "\n",
              "    .dataframe tbody tr th {\n",
              "        vertical-align: top;\n",
              "    }\n",
              "\n",
              "    .dataframe thead th {\n",
              "        text-align: right;\n",
              "    }\n",
              "</style>\n",
              "<table border=\"1\" class=\"dataframe\">\n",
              "  <thead>\n",
              "    <tr style=\"text-align: right;\">\n",
              "      <th></th>\n",
              "      <th>reason</th>\n",
              "      <th>status</th>\n",
              "      <th>user_id</th>\n",
              "      <th>created_date</th>\n",
              "      <th>notifications_cat</th>\n",
              "      <th>channel_EMAIL</th>\n",
              "      <th>channel_PUSH</th>\n",
              "      <th>channel_SMS</th>\n",
              "    </tr>\n",
              "  </thead>\n",
              "  <tbody>\n",
              "    <tr>\n",
              "      <th>1824</th>\n",
              "      <td>NO_INITIAL_CARD_USE</td>\n",
              "      <td>FAILED</td>\n",
              "      <td>user_11668</td>\n",
              "      <td>2018-03-10 13:28:06.658413</td>\n",
              "      <td>0</td>\n",
              "      <td>1</td>\n",
              "      <td>0</td>\n",
              "      <td>0</td>\n",
              "    </tr>\n",
              "    <tr>\n",
              "      <th>74536</th>\n",
              "      <td>PROMO</td>\n",
              "      <td>SENT</td>\n",
              "      <td>user_8645</td>\n",
              "      <td>2019-01-20 18:29:05.541784</td>\n",
              "      <td>1</td>\n",
              "      <td>0</td>\n",
              "      <td>1</td>\n",
              "      <td>0</td>\n",
              "    </tr>\n",
              "    <tr>\n",
              "      <th>53857</th>\n",
              "      <td>NO_INITIAL_CARD_USE</td>\n",
              "      <td>SENT</td>\n",
              "      <td>user_1030</td>\n",
              "      <td>2018-04-22 02:02:02.119133</td>\n",
              "      <td>0</td>\n",
              "      <td>1</td>\n",
              "      <td>0</td>\n",
              "      <td>0</td>\n",
              "    </tr>\n",
              "    <tr>\n",
              "      <th>4457</th>\n",
              "      <td>NO_INITIAL_CARD_USE</td>\n",
              "      <td>FAILED</td>\n",
              "      <td>user_8078</td>\n",
              "      <td>2018-03-19 21:34:41.356671</td>\n",
              "      <td>0</td>\n",
              "      <td>1</td>\n",
              "      <td>0</td>\n",
              "      <td>0</td>\n",
              "    </tr>\n",
              "    <tr>\n",
              "      <th>20979</th>\n",
              "      <td>REENGAGEMENT_ACTIVE_FUNDS</td>\n",
              "      <td>SENT</td>\n",
              "      <td>user_5443</td>\n",
              "      <td>2018-08-11 17:18:30.673715</td>\n",
              "      <td>2</td>\n",
              "      <td>0</td>\n",
              "      <td>0</td>\n",
              "      <td>1</td>\n",
              "    </tr>\n",
              "  </tbody>\n",
              "</table>\n",
              "</div>"
            ],
            "text/plain": [
              "                          reason  status  ... channel_PUSH channel_SMS\n",
              "1824         NO_INITIAL_CARD_USE  FAILED  ...            0           0\n",
              "74536                      PROMO    SENT  ...            1           0\n",
              "53857        NO_INITIAL_CARD_USE    SENT  ...            0           0\n",
              "4457         NO_INITIAL_CARD_USE  FAILED  ...            0           0\n",
              "20979  REENGAGEMENT_ACTIVE_FUNDS    SENT  ...            0           1\n",
              "\n",
              "[5 rows x 8 columns]"
            ]
          },
          "metadata": {
            "tags": []
          },
          "execution_count": 214
        }
      ]
    },
    {
      "cell_type": "code",
      "metadata": {
        "id": "28cP-UelfxLi",
        "colab_type": "code",
        "colab": {}
      },
      "source": [
        "notif_channels_cat =pd.crosstab(index=notif_channels.user_id, columns=notif_channels.notifications_cat)"
      ],
      "execution_count": 0,
      "outputs": []
    },
    {
      "cell_type": "code",
      "metadata": {
        "id": "gvNTTbRIg9ND",
        "colab_type": "code",
        "colab": {
          "base_uri": "https://localhost:8080/",
          "height": 226
        },
        "outputId": "9bf0100c-9608-46d8-84e0-f8e952bf225f"
      },
      "source": [
        "notif_channels_cat.rename(columns={'0':'email','1':'push','2':'sms'},inplace=True)#na 3anagrapsw ton kwdika gia to notifications_cat\n",
        "notif_channels_cat.sample(5)"
      ],
      "execution_count": 231,
      "outputs": [
        {
          "output_type": "execute_result",
          "data": {
            "text/html": [
              "<div>\n",
              "<style scoped>\n",
              "    .dataframe tbody tr th:only-of-type {\n",
              "        vertical-align: middle;\n",
              "    }\n",
              "\n",
              "    .dataframe tbody tr th {\n",
              "        vertical-align: top;\n",
              "    }\n",
              "\n",
              "    .dataframe thead th {\n",
              "        text-align: right;\n",
              "    }\n",
              "</style>\n",
              "<table border=\"1\" class=\"dataframe\">\n",
              "  <thead>\n",
              "    <tr style=\"text-align: right;\">\n",
              "      <th>notifications_cat</th>\n",
              "      <th>0</th>\n",
              "      <th>1</th>\n",
              "      <th>2</th>\n",
              "    </tr>\n",
              "    <tr>\n",
              "      <th>user_id</th>\n",
              "      <th></th>\n",
              "      <th></th>\n",
              "      <th></th>\n",
              "    </tr>\n",
              "  </thead>\n",
              "  <tbody>\n",
              "    <tr>\n",
              "      <th>user_4906</th>\n",
              "      <td>3</td>\n",
              "      <td>5</td>\n",
              "      <td>0</td>\n",
              "    </tr>\n",
              "    <tr>\n",
              "      <th>user_9463</th>\n",
              "      <td>1</td>\n",
              "      <td>1</td>\n",
              "      <td>0</td>\n",
              "    </tr>\n",
              "    <tr>\n",
              "      <th>user_3262</th>\n",
              "      <td>1</td>\n",
              "      <td>1</td>\n",
              "      <td>0</td>\n",
              "    </tr>\n",
              "    <tr>\n",
              "      <th>user_55</th>\n",
              "      <td>1</td>\n",
              "      <td>2</td>\n",
              "      <td>0</td>\n",
              "    </tr>\n",
              "    <tr>\n",
              "      <th>user_7280</th>\n",
              "      <td>4</td>\n",
              "      <td>3</td>\n",
              "      <td>0</td>\n",
              "    </tr>\n",
              "  </tbody>\n",
              "</table>\n",
              "</div>"
            ],
            "text/plain": [
              "notifications_cat  0  1  2\n",
              "user_id                   \n",
              "user_4906          3  5  0\n",
              "user_9463          1  1  0\n",
              "user_3262          1  1  0\n",
              "user_55            1  2  0\n",
              "user_7280          4  3  0"
            ]
          },
          "metadata": {
            "tags": []
          },
          "execution_count": 231
        }
      ]
    },
    {
      "cell_type": "markdown",
      "metadata": {
        "id": "1P0y2ktoPxfP",
        "colab_type": "text"
      },
      "source": [
        "##Users table"
      ]
    },
    {
      "cell_type": "code",
      "metadata": {
        "id": "j46tOzVfUJmb",
        "colab_type": "code",
        "outputId": "5ad5eb04-3daa-43f1-e9f4-181d9ebc8c0e",
        "colab": {
          "base_uri": "https://localhost:8080/",
          "height": 300
        }
      },
      "source": [
        "users.sample(5)"
      ],
      "execution_count": 107,
      "outputs": [
        {
          "output_type": "execute_result",
          "data": {
            "text/html": [
              "<div>\n",
              "<style scoped>\n",
              "    .dataframe tbody tr th:only-of-type {\n",
              "        vertical-align: middle;\n",
              "    }\n",
              "\n",
              "    .dataframe tbody tr th {\n",
              "        vertical-align: top;\n",
              "    }\n",
              "\n",
              "    .dataframe thead th {\n",
              "        text-align: right;\n",
              "    }\n",
              "</style>\n",
              "<table border=\"1\" class=\"dataframe\">\n",
              "  <thead>\n",
              "    <tr style=\"text-align: right;\">\n",
              "      <th></th>\n",
              "      <th>user_id</th>\n",
              "      <th>birth_year</th>\n",
              "      <th>country</th>\n",
              "      <th>city</th>\n",
              "      <th>created_date</th>\n",
              "      <th>user_settings_crypto_unlocked</th>\n",
              "      <th>plan</th>\n",
              "      <th>attributes_notifications_marketing_push</th>\n",
              "      <th>attributes_notifications_marketing_email</th>\n",
              "      <th>num_contacts</th>\n",
              "      <th>num_referrals</th>\n",
              "      <th>num_successful_referrals</th>\n",
              "    </tr>\n",
              "  </thead>\n",
              "  <tbody>\n",
              "    <tr>\n",
              "      <th>6503</th>\n",
              "      <td>user_6503</td>\n",
              "      <td>1973</td>\n",
              "      <td>GB</td>\n",
              "      <td>London</td>\n",
              "      <td>2018-09-13 10:59:13.856107</td>\n",
              "      <td>0</td>\n",
              "      <td>STANDARD</td>\n",
              "      <td>1.0</td>\n",
              "      <td>1.0</td>\n",
              "      <td>0</td>\n",
              "      <td>0</td>\n",
              "      <td>0</td>\n",
              "    </tr>\n",
              "    <tr>\n",
              "      <th>6018</th>\n",
              "      <td>user_6018</td>\n",
              "      <td>1985</td>\n",
              "      <td>GB</td>\n",
              "      <td>Newtownards</td>\n",
              "      <td>2018-06-21 02:20:52.446977</td>\n",
              "      <td>1</td>\n",
              "      <td>SILVER</td>\n",
              "      <td>1.0</td>\n",
              "      <td>1.0</td>\n",
              "      <td>4</td>\n",
              "      <td>0</td>\n",
              "      <td>0</td>\n",
              "    </tr>\n",
              "    <tr>\n",
              "      <th>11378</th>\n",
              "      <td>user_11378</td>\n",
              "      <td>1952</td>\n",
              "      <td>PT</td>\n",
              "      <td>Nisa</td>\n",
              "      <td>2018-04-16 11:46:21.634707</td>\n",
              "      <td>0</td>\n",
              "      <td>STANDARD</td>\n",
              "      <td>1.0</td>\n",
              "      <td>1.0</td>\n",
              "      <td>0</td>\n",
              "      <td>0</td>\n",
              "      <td>0</td>\n",
              "    </tr>\n",
              "    <tr>\n",
              "      <th>10641</th>\n",
              "      <td>user_10641</td>\n",
              "      <td>1993</td>\n",
              "      <td>FR</td>\n",
              "      <td>Lefffrinckoucke</td>\n",
              "      <td>2018-03-15 14:38:14.651446</td>\n",
              "      <td>0</td>\n",
              "      <td>GOLD</td>\n",
              "      <td>NaN</td>\n",
              "      <td>NaN</td>\n",
              "      <td>0</td>\n",
              "      <td>0</td>\n",
              "      <td>0</td>\n",
              "    </tr>\n",
              "    <tr>\n",
              "      <th>7839</th>\n",
              "      <td>user_7839</td>\n",
              "      <td>1957</td>\n",
              "      <td>GB</td>\n",
              "      <td>Hockley</td>\n",
              "      <td>2018-10-01 05:03:14.992147</td>\n",
              "      <td>0</td>\n",
              "      <td>SILVER</td>\n",
              "      <td>NaN</td>\n",
              "      <td>NaN</td>\n",
              "      <td>0</td>\n",
              "      <td>0</td>\n",
              "      <td>0</td>\n",
              "    </tr>\n",
              "  </tbody>\n",
              "</table>\n",
              "</div>"
            ],
            "text/plain": [
              "          user_id  birth_year  ... num_referrals num_successful_referrals\n",
              "6503    user_6503        1973  ...             0                        0\n",
              "6018    user_6018        1985  ...             0                        0\n",
              "11378  user_11378        1952  ...             0                        0\n",
              "10641  user_10641        1993  ...             0                        0\n",
              "7839    user_7839        1957  ...             0                        0\n",
              "\n",
              "[5 rows x 12 columns]"
            ]
          },
          "metadata": {
            "tags": []
          },
          "execution_count": 107
        }
      ]
    },
    {
      "cell_type": "code",
      "metadata": {
        "id": "RhHTuKuNWd34",
        "colab_type": "code",
        "outputId": "d0cf6f58-8851-4033-99dc-63be99bce50d",
        "colab": {
          "base_uri": "https://localhost:8080/",
          "height": 217
        }
      },
      "source": [
        "users.user_id.value_counts()"
      ],
      "execution_count": 108,
      "outputs": [
        {
          "output_type": "execute_result",
          "data": {
            "text/plain": [
              "user_9811     1\n",
              "user_6637     1\n",
              "user_7627     1\n",
              "user_3384     1\n",
              "user_4076     1\n",
              "             ..\n",
              "user_4200     1\n",
              "user_3022     1\n",
              "user_7616     1\n",
              "user_8310     1\n",
              "user_13082    1\n",
              "Name: user_id, Length: 15544, dtype: int64"
            ]
          },
          "metadata": {
            "tags": []
          },
          "execution_count": 108
        }
      ]
    },
    {
      "cell_type": "code",
      "metadata": {
        "id": "_5dybEGFUXoU",
        "colab_type": "code",
        "outputId": "bfa9ce52-8f7f-486a-a747-d4a08ed47b43",
        "colab": {
          "base_uri": "https://localhost:8080/",
          "height": 1000
        }
      },
      "source": [
        "number_of_users_per_country=pd.DataFrame(users.country.value_counts())\n",
        "number_of_users_per_country.rename(columns={'country':'users per country'},inplace=True)\n",
        "number_of_users_per_country.sort_index()\n"
      ],
      "execution_count": 109,
      "outputs": [
        {
          "output_type": "execute_result",
          "data": {
            "text/html": [
              "<div>\n",
              "<style scoped>\n",
              "    .dataframe tbody tr th:only-of-type {\n",
              "        vertical-align: middle;\n",
              "    }\n",
              "\n",
              "    .dataframe tbody tr th {\n",
              "        vertical-align: top;\n",
              "    }\n",
              "\n",
              "    .dataframe thead th {\n",
              "        text-align: right;\n",
              "    }\n",
              "</style>\n",
              "<table border=\"1\" class=\"dataframe\">\n",
              "  <thead>\n",
              "    <tr style=\"text-align: right;\">\n",
              "      <th></th>\n",
              "      <th>users per country</th>\n",
              "    </tr>\n",
              "  </thead>\n",
              "  <tbody>\n",
              "    <tr>\n",
              "      <th>AT</th>\n",
              "      <td>68</td>\n",
              "    </tr>\n",
              "    <tr>\n",
              "      <th>AU</th>\n",
              "      <td>4</td>\n",
              "    </tr>\n",
              "    <tr>\n",
              "      <th>BE</th>\n",
              "      <td>113</td>\n",
              "    </tr>\n",
              "    <tr>\n",
              "      <th>BG</th>\n",
              "      <td>78</td>\n",
              "    </tr>\n",
              "    <tr>\n",
              "      <th>CH</th>\n",
              "      <td>350</td>\n",
              "    </tr>\n",
              "    <tr>\n",
              "      <th>CY</th>\n",
              "      <td>154</td>\n",
              "    </tr>\n",
              "    <tr>\n",
              "      <th>CZ</th>\n",
              "      <td>287</td>\n",
              "    </tr>\n",
              "    <tr>\n",
              "      <th>DE</th>\n",
              "      <td>358</td>\n",
              "    </tr>\n",
              "    <tr>\n",
              "      <th>DK</th>\n",
              "      <td>77</td>\n",
              "    </tr>\n",
              "    <tr>\n",
              "      <th>EE</th>\n",
              "      <td>30</td>\n",
              "    </tr>\n",
              "    <tr>\n",
              "      <th>ES</th>\n",
              "      <td>784</td>\n",
              "    </tr>\n",
              "    <tr>\n",
              "      <th>FI</th>\n",
              "      <td>32</td>\n",
              "    </tr>\n",
              "    <tr>\n",
              "      <th>FR</th>\n",
              "      <td>1696</td>\n",
              "    </tr>\n",
              "    <tr>\n",
              "      <th>GB</th>\n",
              "      <td>5018</td>\n",
              "    </tr>\n",
              "    <tr>\n",
              "      <th>GG</th>\n",
              "      <td>14</td>\n",
              "    </tr>\n",
              "    <tr>\n",
              "      <th>GI</th>\n",
              "      <td>35</td>\n",
              "    </tr>\n",
              "    <tr>\n",
              "      <th>GP</th>\n",
              "      <td>9</td>\n",
              "    </tr>\n",
              "    <tr>\n",
              "      <th>GR</th>\n",
              "      <td>182</td>\n",
              "    </tr>\n",
              "    <tr>\n",
              "      <th>HR</th>\n",
              "      <td>49</td>\n",
              "    </tr>\n",
              "    <tr>\n",
              "      <th>HU</th>\n",
              "      <td>125</td>\n",
              "    </tr>\n",
              "    <tr>\n",
              "      <th>IE</th>\n",
              "      <td>995</td>\n",
              "    </tr>\n",
              "    <tr>\n",
              "      <th>IM</th>\n",
              "      <td>7</td>\n",
              "    </tr>\n",
              "    <tr>\n",
              "      <th>IS</th>\n",
              "      <td>6</td>\n",
              "    </tr>\n",
              "    <tr>\n",
              "      <th>IT</th>\n",
              "      <td>241</td>\n",
              "    </tr>\n",
              "    <tr>\n",
              "      <th>JE</th>\n",
              "      <td>45</td>\n",
              "    </tr>\n",
              "    <tr>\n",
              "      <th>LI</th>\n",
              "      <td>4</td>\n",
              "    </tr>\n",
              "    <tr>\n",
              "      <th>LT</th>\n",
              "      <td>541</td>\n",
              "    </tr>\n",
              "    <tr>\n",
              "      <th>LU</th>\n",
              "      <td>21</td>\n",
              "    </tr>\n",
              "    <tr>\n",
              "      <th>LV</th>\n",
              "      <td>133</td>\n",
              "    </tr>\n",
              "    <tr>\n",
              "      <th>MQ</th>\n",
              "      <td>3</td>\n",
              "    </tr>\n",
              "    <tr>\n",
              "      <th>MT</th>\n",
              "      <td>437</td>\n",
              "    </tr>\n",
              "    <tr>\n",
              "      <th>NL</th>\n",
              "      <td>132</td>\n",
              "    </tr>\n",
              "    <tr>\n",
              "      <th>NO</th>\n",
              "      <td>75</td>\n",
              "    </tr>\n",
              "    <tr>\n",
              "      <th>PL</th>\n",
              "      <td>1834</td>\n",
              "    </tr>\n",
              "    <tr>\n",
              "      <th>PT</th>\n",
              "      <td>487</td>\n",
              "    </tr>\n",
              "    <tr>\n",
              "      <th>RE</th>\n",
              "      <td>7</td>\n",
              "    </tr>\n",
              "    <tr>\n",
              "      <th>RO</th>\n",
              "      <td>873</td>\n",
              "    </tr>\n",
              "    <tr>\n",
              "      <th>SE</th>\n",
              "      <td>104</td>\n",
              "    </tr>\n",
              "    <tr>\n",
              "      <th>SI</th>\n",
              "      <td>71</td>\n",
              "    </tr>\n",
              "    <tr>\n",
              "      <th>SK</th>\n",
              "      <td>65</td>\n",
              "    </tr>\n",
              "  </tbody>\n",
              "</table>\n",
              "</div>"
            ],
            "text/plain": [
              "    users per country\n",
              "AT                 68\n",
              "AU                  4\n",
              "BE                113\n",
              "BG                 78\n",
              "CH                350\n",
              "CY                154\n",
              "CZ                287\n",
              "DE                358\n",
              "DK                 77\n",
              "EE                 30\n",
              "ES                784\n",
              "FI                 32\n",
              "FR               1696\n",
              "GB               5018\n",
              "GG                 14\n",
              "GI                 35\n",
              "GP                  9\n",
              "GR                182\n",
              "HR                 49\n",
              "HU                125\n",
              "IE                995\n",
              "IM                  7\n",
              "IS                  6\n",
              "IT                241\n",
              "JE                 45\n",
              "LI                  4\n",
              "LT                541\n",
              "LU                 21\n",
              "LV                133\n",
              "MQ                  3\n",
              "MT                437\n",
              "NL                132\n",
              "NO                 75\n",
              "PL               1834\n",
              "PT                487\n",
              "RE                  7\n",
              "RO                873\n",
              "SE                104\n",
              "SI                 71\n",
              "SK                 65"
            ]
          },
          "metadata": {
            "tags": []
          },
          "execution_count": 109
        }
      ]
    },
    {
      "cell_type": "code",
      "metadata": {
        "id": "VmYMTpz076lP",
        "colab_type": "code",
        "outputId": "2ba6f8cf-4d02-4755-e52e-19160615f236",
        "colab": {
          "base_uri": "https://localhost:8080/",
          "height": 404
        }
      },
      "source": [
        "#check for missing values, dev, users , notifications; devices \n",
        "users.loc[:,users.isnull().any()]# nun mono se aytes tis sthles"
      ],
      "execution_count": 110,
      "outputs": [
        {
          "output_type": "execute_result",
          "data": {
            "text/html": [
              "<div>\n",
              "<style scoped>\n",
              "    .dataframe tbody tr th:only-of-type {\n",
              "        vertical-align: middle;\n",
              "    }\n",
              "\n",
              "    .dataframe tbody tr th {\n",
              "        vertical-align: top;\n",
              "    }\n",
              "\n",
              "    .dataframe thead th {\n",
              "        text-align: right;\n",
              "    }\n",
              "</style>\n",
              "<table border=\"1\" class=\"dataframe\">\n",
              "  <thead>\n",
              "    <tr style=\"text-align: right;\">\n",
              "      <th></th>\n",
              "      <th>attributes_notifications_marketing_push</th>\n",
              "      <th>attributes_notifications_marketing_email</th>\n",
              "    </tr>\n",
              "  </thead>\n",
              "  <tbody>\n",
              "    <tr>\n",
              "      <th>0</th>\n",
              "      <td>1.0</td>\n",
              "      <td>1.0</td>\n",
              "    </tr>\n",
              "    <tr>\n",
              "      <th>1</th>\n",
              "      <td>NaN</td>\n",
              "      <td>NaN</td>\n",
              "    </tr>\n",
              "    <tr>\n",
              "      <th>2</th>\n",
              "      <td>NaN</td>\n",
              "      <td>NaN</td>\n",
              "    </tr>\n",
              "    <tr>\n",
              "      <th>3</th>\n",
              "      <td>NaN</td>\n",
              "      <td>NaN</td>\n",
              "    </tr>\n",
              "    <tr>\n",
              "      <th>4</th>\n",
              "      <td>NaN</td>\n",
              "      <td>NaN</td>\n",
              "    </tr>\n",
              "    <tr>\n",
              "      <th>...</th>\n",
              "      <td>...</td>\n",
              "      <td>...</td>\n",
              "    </tr>\n",
              "    <tr>\n",
              "      <th>15539</th>\n",
              "      <td>1.0</td>\n",
              "      <td>1.0</td>\n",
              "    </tr>\n",
              "    <tr>\n",
              "      <th>15540</th>\n",
              "      <td>NaN</td>\n",
              "      <td>NaN</td>\n",
              "    </tr>\n",
              "    <tr>\n",
              "      <th>15541</th>\n",
              "      <td>1.0</td>\n",
              "      <td>1.0</td>\n",
              "    </tr>\n",
              "    <tr>\n",
              "      <th>15542</th>\n",
              "      <td>1.0</td>\n",
              "      <td>1.0</td>\n",
              "    </tr>\n",
              "    <tr>\n",
              "      <th>15543</th>\n",
              "      <td>1.0</td>\n",
              "      <td>1.0</td>\n",
              "    </tr>\n",
              "  </tbody>\n",
              "</table>\n",
              "<p>15544 rows × 2 columns</p>\n",
              "</div>"
            ],
            "text/plain": [
              "       attributes_notifications_marketing_push  attributes_notifications_marketing_email\n",
              "0                                          1.0                                       1.0\n",
              "1                                          NaN                                       NaN\n",
              "2                                          NaN                                       NaN\n",
              "3                                          NaN                                       NaN\n",
              "4                                          NaN                                       NaN\n",
              "...                                        ...                                       ...\n",
              "15539                                      1.0                                       1.0\n",
              "15540                                      NaN                                       NaN\n",
              "15541                                      1.0                                       1.0\n",
              "15542                                      1.0                                       1.0\n",
              "15543                                      1.0                                       1.0\n",
              "\n",
              "[15544 rows x 2 columns]"
            ]
          },
          "metadata": {
            "tags": []
          },
          "execution_count": 110
        }
      ]
    },
    {
      "cell_type": "code",
      "metadata": {
        "id": "_iL4RIQC6mPy",
        "colab_type": "code",
        "outputId": "a7f27297-3b7d-43da-a3e0-028c4433b303",
        "colab": {
          "base_uri": "https://localhost:8080/",
          "height": 84
        }
      },
      "source": [
        "users.attributes_notifications_marketing_push.value_counts(dropna=False)"
      ],
      "execution_count": 111,
      "outputs": [
        {
          "output_type": "execute_result",
          "data": {
            "text/plain": [
              "1.0    9752\n",
              "NaN    5260\n",
              "0.0     532\n",
              "Name: attributes_notifications_marketing_push, dtype: int64"
            ]
          },
          "metadata": {
            "tags": []
          },
          "execution_count": 111
        }
      ]
    },
    {
      "cell_type": "code",
      "metadata": {
        "id": "JISKLdVo74QL",
        "colab_type": "code",
        "outputId": "98b5dd81-d674-499e-9334-74d86013db15",
        "colab": {
          "base_uri": "https://localhost:8080/",
          "height": 84
        }
      },
      "source": [
        "users.attributes_notifications_marketing_email.value_counts(dropna=False)"
      ],
      "execution_count": 112,
      "outputs": [
        {
          "output_type": "execute_result",
          "data": {
            "text/plain": [
              "1.0    9209\n",
              "NaN    5260\n",
              "0.0    1075\n",
              "Name: attributes_notifications_marketing_email, dtype: int64"
            ]
          },
          "metadata": {
            "tags": []
          },
          "execution_count": 112
        }
      ]
    },
    {
      "cell_type": "code",
      "metadata": {
        "id": "rgr8GpnS8vq_",
        "colab_type": "code",
        "colab": {}
      },
      "source": [
        "#users[(users.attributes_notifications_marketing_push==0.0 )&( users.attributes_notifications_marketing_email==0.0)]"
      ],
      "execution_count": 0,
      "outputs": []
    },
    {
      "cell_type": "code",
      "metadata": {
        "id": "JYdbHTKJ-00x",
        "colab_type": "code",
        "colab": {}
      },
      "source": [
        "#users_filled=users.fillna(value=0.0)#should be filled with zeros as were mistakes"
      ],
      "execution_count": 0,
      "outputs": []
    },
    {
      "cell_type": "code",
      "metadata": {
        "id": "Rk1TQp-t_nXC",
        "colab_type": "code",
        "colab": {}
      },
      "source": [
        "#users_filled.sample(10)"
      ],
      "execution_count": 0,
      "outputs": []
    },
    {
      "cell_type": "code",
      "metadata": {
        "id": "S16d0FsO_sxZ",
        "colab_type": "code",
        "colab": {}
      },
      "source": [
        "#np.sum(users_filled['num_referrals'])\n",
        "#np.sum(users_filled['num_successful_referrals'])\n",
        "#may should be deleted since both contain only 0s\n"
      ],
      "execution_count": 0,
      "outputs": []
    },
    {
      "cell_type": "markdown",
      "metadata": {
        "id": "xW6AgBL-DuI5",
        "colab_type": "text"
      },
      "source": [
        "##Devices table"
      ]
    },
    {
      "cell_type": "code",
      "metadata": {
        "id": "aspc9R0zoCJH",
        "colab_type": "code",
        "colab": {
          "base_uri": "https://localhost:8080/",
          "height": 33
        },
        "outputId": "7bd017a6-8acb-45e6-a1f7-8a7010c96e63"
      },
      "source": [
        "dev.shape"
      ],
      "execution_count": 234,
      "outputs": [
        {
          "output_type": "execute_result",
          "data": {
            "text/plain": [
              "(15544, 2)"
            ]
          },
          "metadata": {
            "tags": []
          },
          "execution_count": 234
        }
      ]
    },
    {
      "cell_type": "code",
      "metadata": {
        "id": "zYXDvkWeHGa0",
        "colab_type": "code",
        "outputId": "9549d86a-b77a-4315-bdfb-369f09ff3747",
        "colab": {
          "base_uri": "https://localhost:8080/",
          "height": 84
        }
      },
      "source": [
        "dev['brand'].value_counts()#σε περιπτωση encoding μπορουμε να διωξουμε τα unknown"
      ],
      "execution_count": 117,
      "outputs": [
        {
          "output_type": "execute_result",
          "data": {
            "text/plain": [
              "Android    7800\n",
              "Apple      7712\n",
              "Unknown      32\n",
              "Name: brand, dtype: int64"
            ]
          },
          "metadata": {
            "tags": []
          },
          "execution_count": 117
        }
      ]
    },
    {
      "cell_type": "code",
      "metadata": {
        "id": "UkwWXOFfeK6A",
        "colab_type": "code",
        "colab": {}
      },
      "source": [
        "users_brands=users.copy()"
      ],
      "execution_count": 0,
      "outputs": []
    },
    {
      "cell_type": "code",
      "metadata": {
        "id": "M-cyOPeaIjLA",
        "colab_type": "code",
        "colab": {
          "base_uri": "https://localhost:8080/",
          "height": 300
        },
        "outputId": "620fdebf-eb0d-43a4-8b3c-b1e03a2debe0"
      },
      "source": [
        "#egine add h sthlh brand apo ton  pinaka devices\n",
        "users_brands['brands']=dev.brand\n",
        "users_brands.sample(5)"
      ],
      "execution_count": 233,
      "outputs": [
        {
          "output_type": "execute_result",
          "data": {
            "text/html": [
              "<div>\n",
              "<style scoped>\n",
              "    .dataframe tbody tr th:only-of-type {\n",
              "        vertical-align: middle;\n",
              "    }\n",
              "\n",
              "    .dataframe tbody tr th {\n",
              "        vertical-align: top;\n",
              "    }\n",
              "\n",
              "    .dataframe thead th {\n",
              "        text-align: right;\n",
              "    }\n",
              "</style>\n",
              "<table border=\"1\" class=\"dataframe\">\n",
              "  <thead>\n",
              "    <tr style=\"text-align: right;\">\n",
              "      <th></th>\n",
              "      <th>user_id</th>\n",
              "      <th>birth_year</th>\n",
              "      <th>country</th>\n",
              "      <th>city</th>\n",
              "      <th>created_date</th>\n",
              "      <th>user_settings_crypto_unlocked</th>\n",
              "      <th>plan</th>\n",
              "      <th>attributes_notifications_marketing_push</th>\n",
              "      <th>attributes_notifications_marketing_email</th>\n",
              "      <th>num_contacts</th>\n",
              "      <th>num_referrals</th>\n",
              "      <th>num_successful_referrals</th>\n",
              "      <th>brands</th>\n",
              "    </tr>\n",
              "  </thead>\n",
              "  <tbody>\n",
              "    <tr>\n",
              "      <th>6974</th>\n",
              "      <td>user_6974</td>\n",
              "      <td>1959</td>\n",
              "      <td>IE</td>\n",
              "      <td>Dublin 6</td>\n",
              "      <td>2018-11-05 06:54:55.903735</td>\n",
              "      <td>0</td>\n",
              "      <td>STANDARD</td>\n",
              "      <td>1.0</td>\n",
              "      <td>1.0</td>\n",
              "      <td>40</td>\n",
              "      <td>0</td>\n",
              "      <td>0</td>\n",
              "      <td>Android</td>\n",
              "    </tr>\n",
              "    <tr>\n",
              "      <th>4186</th>\n",
              "      <td>user_4186</td>\n",
              "      <td>1974</td>\n",
              "      <td>ES</td>\n",
              "      <td>Burlada</td>\n",
              "      <td>2018-03-05 16:03:04.700790</td>\n",
              "      <td>1</td>\n",
              "      <td>STANDARD</td>\n",
              "      <td>1.0</td>\n",
              "      <td>1.0</td>\n",
              "      <td>3</td>\n",
              "      <td>0</td>\n",
              "      <td>0</td>\n",
              "      <td>Android</td>\n",
              "    </tr>\n",
              "    <tr>\n",
              "      <th>15352</th>\n",
              "      <td>user_15352</td>\n",
              "      <td>1976</td>\n",
              "      <td>RO</td>\n",
              "      <td>Bucharest</td>\n",
              "      <td>2018-10-13 16:04:17.769995</td>\n",
              "      <td>0</td>\n",
              "      <td>STANDARD</td>\n",
              "      <td>NaN</td>\n",
              "      <td>NaN</td>\n",
              "      <td>8</td>\n",
              "      <td>0</td>\n",
              "      <td>0</td>\n",
              "      <td>Android</td>\n",
              "    </tr>\n",
              "    <tr>\n",
              "      <th>6337</th>\n",
              "      <td>user_6337</td>\n",
              "      <td>1985</td>\n",
              "      <td>HR</td>\n",
              "      <td>Zagreb</td>\n",
              "      <td>2018-12-03 08:32:34.281774</td>\n",
              "      <td>0</td>\n",
              "      <td>STANDARD</td>\n",
              "      <td>1.0</td>\n",
              "      <td>1.0</td>\n",
              "      <td>0</td>\n",
              "      <td>0</td>\n",
              "      <td>0</td>\n",
              "      <td>Apple</td>\n",
              "    </tr>\n",
              "    <tr>\n",
              "      <th>15516</th>\n",
              "      <td>user_15516</td>\n",
              "      <td>1978</td>\n",
              "      <td>FR</td>\n",
              "      <td>Orée-d'Anjou</td>\n",
              "      <td>2018-12-08 11:12:27.575367</td>\n",
              "      <td>1</td>\n",
              "      <td>STANDARD</td>\n",
              "      <td>1.0</td>\n",
              "      <td>1.0</td>\n",
              "      <td>2</td>\n",
              "      <td>0</td>\n",
              "      <td>0</td>\n",
              "      <td>Android</td>\n",
              "    </tr>\n",
              "  </tbody>\n",
              "</table>\n",
              "</div>"
            ],
            "text/plain": [
              "          user_id  birth_year  ... num_successful_referrals   brands\n",
              "6974    user_6974        1959  ...                        0  Android\n",
              "4186    user_4186        1974  ...                        0  Android\n",
              "15352  user_15352        1976  ...                        0  Android\n",
              "6337    user_6337        1985  ...                        0    Apple\n",
              "15516  user_15516        1978  ...                        0  Android\n",
              "\n",
              "[5 rows x 13 columns]"
            ]
          },
          "metadata": {
            "tags": []
          },
          "execution_count": 233
        }
      ]
    },
    {
      "cell_type": "markdown",
      "metadata": {
        "id": "4v1yRRX-4wfl",
        "colab_type": "text"
      },
      "source": [
        "Ο πινακας με τα devices ενσωματωθηκε στον πινακα των users,\n",
        "στον users τα nan στις στηλες attributes αντικατασταθηκαν με 0(σαν true false encoding) και τελος οι στηλες με τα referalls εγιναν drop μιας και εχουν μονο μηδενικα στοιχεια\n"
      ]
    },
    {
      "cell_type": "markdown",
      "metadata": {
        "id": "6NnxVTF0KWNk",
        "colab_type": "text"
      },
      "source": [
        "#Regarding transactions tables\n"
      ]
    },
    {
      "cell_type": "code",
      "metadata": {
        "id": "fxVU9uqrKaV2",
        "colab_type": "code",
        "colab": {}
      },
      "source": [
        "#trans.sample(5)"
      ],
      "execution_count": 0,
      "outputs": []
    },
    {
      "cell_type": "code",
      "metadata": {
        "id": "CuNxpo5xHtp3",
        "colab_type": "code",
        "outputId": "eede8dfd-ab7d-4519-828c-26b8b24e21c2",
        "colab": {
          "base_uri": "https://localhost:8080/",
          "height": 107
        }
      },
      "source": [
        "usd_per_user = pd.pivot_table(data=trans,aggfunc='mean', index='user_id',  values='amount_usd')\n",
        "\n",
        "usd_per_user.sample()"
      ],
      "execution_count": 121,
      "outputs": [
        {
          "output_type": "execute_result",
          "data": {
            "text/html": [
              "<div>\n",
              "<style scoped>\n",
              "    .dataframe tbody tr th:only-of-type {\n",
              "        vertical-align: middle;\n",
              "    }\n",
              "\n",
              "    .dataframe tbody tr th {\n",
              "        vertical-align: top;\n",
              "    }\n",
              "\n",
              "    .dataframe thead th {\n",
              "        text-align: right;\n",
              "    }\n",
              "</style>\n",
              "<table border=\"1\" class=\"dataframe\">\n",
              "  <thead>\n",
              "    <tr style=\"text-align: right;\">\n",
              "      <th></th>\n",
              "      <th>amount_usd</th>\n",
              "    </tr>\n",
              "    <tr>\n",
              "      <th>user_id</th>\n",
              "      <th></th>\n",
              "    </tr>\n",
              "  </thead>\n",
              "  <tbody>\n",
              "    <tr>\n",
              "      <th>user_11895</th>\n",
              "      <td>11.03375</td>\n",
              "    </tr>\n",
              "  </tbody>\n",
              "</table>\n",
              "</div>"
            ],
            "text/plain": [
              "            amount_usd\n",
              "user_id               \n",
              "user_11895    11.03375"
            ]
          },
          "metadata": {
            "tags": []
          },
          "execution_count": 121
        }
      ]
    },
    {
      "cell_type": "code",
      "metadata": {
        "id": "CgZBQpb9L8gP",
        "colab_type": "code",
        "colab": {}
      },
      "source": [
        "users_with_usd=pd.merge(users , usd_per_user, how='left', left_on='user_id', right_index=True)\n"
      ],
      "execution_count": 0,
      "outputs": []
    },
    {
      "cell_type": "code",
      "metadata": {
        "id": "H0mPPF0eKM8y",
        "colab_type": "code",
        "colab": {}
      },
      "source": [
        "#uus = pd.pivot_table(data=trans, aggfunc='mean', index='user_id', columns='transactions_type', values='amount_usd')\n",
        "#πινακας ανα user, transaction types και values(mean)\n"
      ],
      "execution_count": 0,
      "outputs": []
    },
    {
      "cell_type": "code",
      "metadata": {
        "id": "B80EizKuzW8h",
        "colab_type": "code",
        "outputId": "12dbcfd0-39ad-4e50-d841-c793a0931fe0",
        "colab": {
          "base_uri": "https://localhost:8080/",
          "height": 234
        }
      },
      "source": [
        "trans.isnull().any()#nan περιεχουν οι στηλες ea_"
      ],
      "execution_count": 124,
      "outputs": [
        {
          "output_type": "execute_result",
          "data": {
            "text/plain": [
              "transaction_id           False\n",
              "transactions_type        False\n",
              "transactions_currency    False\n",
              "amount_usd               False\n",
              "transactions_state       False\n",
              "ea_cardholderpresence     True\n",
              "ea_merchant_mcc           True\n",
              "ea_merchant_city          True\n",
              "ea_merchant_country       True\n",
              "direction                False\n",
              "user_id                  False\n",
              "created_date             False\n",
              "dtype: bool"
            ]
          },
          "metadata": {
            "tags": []
          },
          "execution_count": 124
        }
      ]
    },
    {
      "cell_type": "code",
      "metadata": {
        "id": "GgCa7sy_RMpl",
        "colab_type": "code",
        "colab": {}
      },
      "source": [
        "#trans['amount_usd'].value_counts(dropna=False)\n"
      ],
      "execution_count": 0,
      "outputs": []
    },
    {
      "cell_type": "code",
      "metadata": {
        "id": "pdMGIdI6ibS6",
        "colab_type": "code",
        "colab": {}
      },
      "source": [
        "#trans['ea_merchant_mcc'].value_counts(dropna=False)"
      ],
      "execution_count": 0,
      "outputs": []
    },
    {
      "cell_type": "code",
      "metadata": {
        "id": "ygFMhMtwidNT",
        "colab_type": "code",
        "colab": {}
      },
      "source": [
        "#trans['ea_merchant_city'].value_counts(dropna=False)#exei wrong values, νουμερα, links etc"
      ],
      "execution_count": 0,
      "outputs": []
    },
    {
      "cell_type": "code",
      "metadata": {
        "id": "9-n_Fq7YMXl5",
        "colab_type": "code",
        "outputId": "f22fda43-0510-4ecc-b7e3-691403ea35fa",
        "colab": {
          "base_uri": "https://localhost:8080/",
          "height": 100
        }
      },
      "source": [
        "trans['ea_cardholderpresence'].value_counts(dropna=False)\n",
        "\n"
      ],
      "execution_count": 128,
      "outputs": [
        {
          "output_type": "execute_result",
          "data": {
            "text/plain": [
              "FALSE      1012235\n",
              "NaN         933206\n",
              "TRUE        231311\n",
              "UNKNOWN       4274\n",
              "Name: ea_cardholderpresence, dtype: int64"
            ]
          },
          "metadata": {
            "tags": []
          },
          "execution_count": 128
        }
      ]
    },
    {
      "cell_type": "code",
      "metadata": {
        "id": "jNKtw8cmLTZd",
        "colab_type": "code",
        "colab": {}
      },
      "source": [
        "#trans['transactions_type'].value_counts(dropna=False)"
      ],
      "execution_count": 0,
      "outputs": []
    },
    {
      "cell_type": "code",
      "metadata": {
        "id": "hXETw-SPLkns",
        "colab_type": "code",
        "colab": {}
      },
      "source": [
        "#trans['transactions_currency'].value_counts(dropna=False)"
      ],
      "execution_count": 0,
      "outputs": []
    },
    {
      "cell_type": "code",
      "metadata": {
        "id": "UQBcWP4GL48t",
        "colab_type": "code",
        "colab": {}
      },
      "source": [
        "#trans['transactions_state'].value_counts()"
      ],
      "execution_count": 0,
      "outputs": []
    },
    {
      "cell_type": "code",
      "metadata": {
        "id": "jtXb_7RCMwS1",
        "colab_type": "code",
        "colab": {}
      },
      "source": [
        "#trans['amount_usd'].describe()\n"
      ],
      "execution_count": 0,
      "outputs": []
    },
    {
      "cell_type": "markdown",
      "metadata": {
        "id": "oNyoB2DA36UR",
        "colab_type": "text"
      },
      "source": [
        "#Table of amount of transactions per user\n"
      ]
    },
    {
      "cell_type": "code",
      "metadata": {
        "id": "cUVffzl1pQLC",
        "colab_type": "code",
        "colab": {
          "base_uri": "https://localhost:8080/",
          "height": 300
        },
        "outputId": "2fc95b89-7ae1-4df4-8d61-c35ce114f324"
      },
      "source": [
        "trans.sample(5)"
      ],
      "execution_count": 235,
      "outputs": [
        {
          "output_type": "execute_result",
          "data": {
            "text/html": [
              "<div>\n",
              "<style scoped>\n",
              "    .dataframe tbody tr th:only-of-type {\n",
              "        vertical-align: middle;\n",
              "    }\n",
              "\n",
              "    .dataframe tbody tr th {\n",
              "        vertical-align: top;\n",
              "    }\n",
              "\n",
              "    .dataframe thead th {\n",
              "        text-align: right;\n",
              "    }\n",
              "</style>\n",
              "<table border=\"1\" class=\"dataframe\">\n",
              "  <thead>\n",
              "    <tr style=\"text-align: right;\">\n",
              "      <th></th>\n",
              "      <th>transaction_id</th>\n",
              "      <th>transactions_type</th>\n",
              "      <th>transactions_currency</th>\n",
              "      <th>amount_usd</th>\n",
              "      <th>transactions_state</th>\n",
              "      <th>ea_cardholderpresence</th>\n",
              "      <th>ea_merchant_mcc</th>\n",
              "      <th>ea_merchant_city</th>\n",
              "      <th>ea_merchant_country</th>\n",
              "      <th>direction</th>\n",
              "      <th>user_id</th>\n",
              "      <th>created_date</th>\n",
              "    </tr>\n",
              "  </thead>\n",
              "  <tbody>\n",
              "    <tr>\n",
              "      <th>201082</th>\n",
              "      <td>transaction_201082</td>\n",
              "      <td>CARD_PAYMENT</td>\n",
              "      <td>RON</td>\n",
              "      <td>54.58</td>\n",
              "      <td>COMPLETED</td>\n",
              "      <td>FALSE</td>\n",
              "      <td>5541.0</td>\n",
              "      <td>Bucuresti</td>\n",
              "      <td>ROM</td>\n",
              "      <td>OUTBOUND</td>\n",
              "      <td>user_8883</td>\n",
              "      <td>2018-07-03 15:31:43.602800</td>\n",
              "    </tr>\n",
              "    <tr>\n",
              "      <th>398947</th>\n",
              "      <td>transaction_398947</td>\n",
              "      <td>TOPUP</td>\n",
              "      <td>PLN</td>\n",
              "      <td>79.53</td>\n",
              "      <td>COMPLETED</td>\n",
              "      <td>NaN</td>\n",
              "      <td>NaN</td>\n",
              "      <td>NaN</td>\n",
              "      <td>NaN</td>\n",
              "      <td>INBOUND</td>\n",
              "      <td>user_13356</td>\n",
              "      <td>2019-02-20 21:06:51.665206</td>\n",
              "    </tr>\n",
              "    <tr>\n",
              "      <th>562314</th>\n",
              "      <td>transaction_1362314</td>\n",
              "      <td>CARD_PAYMENT</td>\n",
              "      <td>EUR</td>\n",
              "      <td>0.89</td>\n",
              "      <td>COMPLETED</td>\n",
              "      <td>TRUE</td>\n",
              "      <td>7922.0</td>\n",
              "      <td>Sofia</td>\n",
              "      <td>BGR</td>\n",
              "      <td>OUTBOUND</td>\n",
              "      <td>user_2630</td>\n",
              "      <td>2019-03-18 08:19:06.801876</td>\n",
              "    </tr>\n",
              "    <tr>\n",
              "      <th>653722</th>\n",
              "      <td>transaction_653722</td>\n",
              "      <td>CARD_PAYMENT</td>\n",
              "      <td>EUR</td>\n",
              "      <td>5.60</td>\n",
              "      <td>COMPLETED</td>\n",
              "      <td>FALSE</td>\n",
              "      <td>5411.0</td>\n",
              "      <td>Paris</td>\n",
              "      <td>FRA</td>\n",
              "      <td>OUTBOUND</td>\n",
              "      <td>user_7414</td>\n",
              "      <td>2019-01-04 08:31:21.447025</td>\n",
              "    </tr>\n",
              "    <tr>\n",
              "      <th>140013</th>\n",
              "      <td>transaction_1640013</td>\n",
              "      <td>EXCHANGE</td>\n",
              "      <td>GBP</td>\n",
              "      <td>2.00</td>\n",
              "      <td>COMPLETED</td>\n",
              "      <td>NaN</td>\n",
              "      <td>NaN</td>\n",
              "      <td>NaN</td>\n",
              "      <td>NaN</td>\n",
              "      <td>OUTBOUND</td>\n",
              "      <td>user_12894</td>\n",
              "      <td>2018-10-23 11:06:05.937618</td>\n",
              "    </tr>\n",
              "  </tbody>\n",
              "</table>\n",
              "</div>"
            ],
            "text/plain": [
              "             transaction_id  ...                created_date\n",
              "201082   transaction_201082  ...  2018-07-03 15:31:43.602800\n",
              "398947   transaction_398947  ...  2019-02-20 21:06:51.665206\n",
              "562314  transaction_1362314  ...  2019-03-18 08:19:06.801876\n",
              "653722   transaction_653722  ...  2019-01-04 08:31:21.447025\n",
              "140013  transaction_1640013  ...  2018-10-23 11:06:05.937618\n",
              "\n",
              "[5 rows x 12 columns]"
            ]
          },
          "metadata": {
            "tags": []
          },
          "execution_count": 235
        }
      ]
    },
    {
      "cell_type": "code",
      "metadata": {
        "id": "9Py9ErXZt6_O",
        "colab_type": "code",
        "outputId": "2575a7a1-79aa-4530-e209-5f0099ca18c6",
        "colab": {
          "base_uri": "https://localhost:8080/",
          "height": 404
        }
      },
      "source": [
        "number_of_trans=pd.DataFrame(trans.user_id.value_counts())\n",
        "number_of_trans.rename(columns={'user_id':'amount_of_transactions'},inplace=True)\n",
        "number_of_trans.sort_index()"
      ],
      "execution_count": 133,
      "outputs": [
        {
          "output_type": "execute_result",
          "data": {
            "text/html": [
              "<div>\n",
              "<style scoped>\n",
              "    .dataframe tbody tr th:only-of-type {\n",
              "        vertical-align: middle;\n",
              "    }\n",
              "\n",
              "    .dataframe tbody tr th {\n",
              "        vertical-align: top;\n",
              "    }\n",
              "\n",
              "    .dataframe thead th {\n",
              "        text-align: right;\n",
              "    }\n",
              "</style>\n",
              "<table border=\"1\" class=\"dataframe\">\n",
              "  <thead>\n",
              "    <tr style=\"text-align: right;\">\n",
              "      <th></th>\n",
              "      <th>amount_of_transactions</th>\n",
              "    </tr>\n",
              "  </thead>\n",
              "  <tbody>\n",
              "    <tr>\n",
              "      <th>user_0</th>\n",
              "      <td>545</td>\n",
              "    </tr>\n",
              "    <tr>\n",
              "      <th>user_1</th>\n",
              "      <td>146</td>\n",
              "    </tr>\n",
              "    <tr>\n",
              "      <th>user_10</th>\n",
              "      <td>143</td>\n",
              "    </tr>\n",
              "    <tr>\n",
              "      <th>user_100</th>\n",
              "      <td>66</td>\n",
              "    </tr>\n",
              "    <tr>\n",
              "      <th>user_1000</th>\n",
              "      <td>47</td>\n",
              "    </tr>\n",
              "    <tr>\n",
              "      <th>...</th>\n",
              "      <td>...</td>\n",
              "    </tr>\n",
              "    <tr>\n",
              "      <th>user_9995</th>\n",
              "      <td>8</td>\n",
              "    </tr>\n",
              "    <tr>\n",
              "      <th>user_9996</th>\n",
              "      <td>37</td>\n",
              "    </tr>\n",
              "    <tr>\n",
              "      <th>user_9997</th>\n",
              "      <td>146</td>\n",
              "    </tr>\n",
              "    <tr>\n",
              "      <th>user_9998</th>\n",
              "      <td>36</td>\n",
              "    </tr>\n",
              "    <tr>\n",
              "      <th>user_9999</th>\n",
              "      <td>10</td>\n",
              "    </tr>\n",
              "  </tbody>\n",
              "</table>\n",
              "<p>15012 rows × 1 columns</p>\n",
              "</div>"
            ],
            "text/plain": [
              "           amount_of_transactions\n",
              "user_0                        545\n",
              "user_1                        146\n",
              "user_10                       143\n",
              "user_100                       66\n",
              "user_1000                      47\n",
              "...                           ...\n",
              "user_9995                       8\n",
              "user_9996                      37\n",
              "user_9997                     146\n",
              "user_9998                      36\n",
              "user_9999                      10\n",
              "\n",
              "[15012 rows x 1 columns]"
            ]
          },
          "metadata": {
            "tags": []
          },
          "execution_count": 133
        }
      ]
    },
    {
      "cell_type": "code",
      "metadata": {
        "id": "T-R22I3_xA96",
        "colab_type": "code",
        "colab": {}
      },
      "source": [
        "users_with_amount_of_trans=pd.merge(users_with_usd , number_of_trans, how='left', left_on='user_id', right_index=True)"
      ],
      "execution_count": 0,
      "outputs": []
    },
    {
      "cell_type": "code",
      "metadata": {
        "id": "qkocmkCJznHv",
        "colab_type": "code",
        "outputId": "26cc9c5b-5050-4e85-a7a4-0882f9d63047",
        "colab": {
          "base_uri": "https://localhost:8080/",
          "height": 300
        }
      },
      "source": [
        "users_with_amount_of_trans.sample(5)"
      ],
      "execution_count": 236,
      "outputs": [
        {
          "output_type": "execute_result",
          "data": {
            "text/html": [
              "<div>\n",
              "<style scoped>\n",
              "    .dataframe tbody tr th:only-of-type {\n",
              "        vertical-align: middle;\n",
              "    }\n",
              "\n",
              "    .dataframe tbody tr th {\n",
              "        vertical-align: top;\n",
              "    }\n",
              "\n",
              "    .dataframe thead th {\n",
              "        text-align: right;\n",
              "    }\n",
              "</style>\n",
              "<table border=\"1\" class=\"dataframe\">\n",
              "  <thead>\n",
              "    <tr style=\"text-align: right;\">\n",
              "      <th></th>\n",
              "      <th>user_id</th>\n",
              "      <th>birth_year</th>\n",
              "      <th>country</th>\n",
              "      <th>city</th>\n",
              "      <th>created_date</th>\n",
              "      <th>user_settings_crypto_unlocked</th>\n",
              "      <th>plan</th>\n",
              "      <th>attributes_notifications_marketing_push</th>\n",
              "      <th>attributes_notifications_marketing_email</th>\n",
              "      <th>num_contacts</th>\n",
              "      <th>num_referrals</th>\n",
              "      <th>num_successful_referrals</th>\n",
              "      <th>amount_usd</th>\n",
              "      <th>amount_of_transactions</th>\n",
              "    </tr>\n",
              "  </thead>\n",
              "  <tbody>\n",
              "    <tr>\n",
              "      <th>14758</th>\n",
              "      <td>user_14758</td>\n",
              "      <td>1992</td>\n",
              "      <td>IT</td>\n",
              "      <td>Gubbio</td>\n",
              "      <td>2018-07-12 14:28:15.303657</td>\n",
              "      <td>0</td>\n",
              "      <td>STANDARD</td>\n",
              "      <td>NaN</td>\n",
              "      <td>NaN</td>\n",
              "      <td>30</td>\n",
              "      <td>0</td>\n",
              "      <td>0</td>\n",
              "      <td>69.472500</td>\n",
              "      <td>48.0</td>\n",
              "    </tr>\n",
              "    <tr>\n",
              "      <th>8527</th>\n",
              "      <td>user_8527</td>\n",
              "      <td>1948</td>\n",
              "      <td>GB</td>\n",
              "      <td>Larne</td>\n",
              "      <td>2018-05-01 20:13:04.734558</td>\n",
              "      <td>0</td>\n",
              "      <td>STANDARD</td>\n",
              "      <td>1.0</td>\n",
              "      <td>1.0</td>\n",
              "      <td>0</td>\n",
              "      <td>0</td>\n",
              "      <td>0</td>\n",
              "      <td>205.762877</td>\n",
              "      <td>73.0</td>\n",
              "    </tr>\n",
              "    <tr>\n",
              "      <th>11165</th>\n",
              "      <td>user_11165</td>\n",
              "      <td>1983</td>\n",
              "      <td>RO</td>\n",
              "      <td>Iasi</td>\n",
              "      <td>2018-10-19 18:55:33.874287</td>\n",
              "      <td>0</td>\n",
              "      <td>STANDARD</td>\n",
              "      <td>0.0</td>\n",
              "      <td>0.0</td>\n",
              "      <td>0</td>\n",
              "      <td>0</td>\n",
              "      <td>0</td>\n",
              "      <td>9.831364</td>\n",
              "      <td>242.0</td>\n",
              "    </tr>\n",
              "    <tr>\n",
              "      <th>13066</th>\n",
              "      <td>user_13066</td>\n",
              "      <td>2000</td>\n",
              "      <td>GB</td>\n",
              "      <td>Birmingham</td>\n",
              "      <td>2018-12-30 21:29:51.820735</td>\n",
              "      <td>0</td>\n",
              "      <td>STANDARD</td>\n",
              "      <td>1.0</td>\n",
              "      <td>1.0</td>\n",
              "      <td>0</td>\n",
              "      <td>0</td>\n",
              "      <td>0</td>\n",
              "      <td>5.500000</td>\n",
              "      <td>2.0</td>\n",
              "    </tr>\n",
              "    <tr>\n",
              "      <th>82</th>\n",
              "      <td>user_82</td>\n",
              "      <td>1988</td>\n",
              "      <td>GB</td>\n",
              "      <td>London</td>\n",
              "      <td>2018-07-09 08:50:18.493705</td>\n",
              "      <td>0</td>\n",
              "      <td>STANDARD</td>\n",
              "      <td>1.0</td>\n",
              "      <td>1.0</td>\n",
              "      <td>9</td>\n",
              "      <td>0</td>\n",
              "      <td>0</td>\n",
              "      <td>83.183210</td>\n",
              "      <td>81.0</td>\n",
              "    </tr>\n",
              "  </tbody>\n",
              "</table>\n",
              "</div>"
            ],
            "text/plain": [
              "          user_id  birth_year  ...  amount_usd amount_of_transactions\n",
              "14758  user_14758        1992  ...   69.472500                   48.0\n",
              "8527    user_8527        1948  ...  205.762877                   73.0\n",
              "11165  user_11165        1983  ...    9.831364                  242.0\n",
              "13066  user_13066        2000  ...    5.500000                    2.0\n",
              "82        user_82        1988  ...   83.183210                   81.0\n",
              "\n",
              "[5 rows x 14 columns]"
            ]
          },
          "metadata": {
            "tags": []
          },
          "execution_count": 236
        }
      ]
    },
    {
      "cell_type": "code",
      "metadata": {
        "id": "HiaCJvmxqMP5",
        "colab_type": "code",
        "colab": {
          "base_uri": "https://localhost:8080/",
          "height": 702
        },
        "outputId": "7862fccc-722b-4bcc-b4f6-fd8927d1ba1d"
      },
      "source": [
        "users_with_amount_of_trans.country.value_counts()"
      ],
      "execution_count": 238,
      "outputs": [
        {
          "output_type": "execute_result",
          "data": {
            "text/plain": [
              "GB    5018\n",
              "PL    1834\n",
              "FR    1696\n",
              "IE     995\n",
              "RO     873\n",
              "ES     784\n",
              "LT     541\n",
              "PT     487\n",
              "MT     437\n",
              "DE     358\n",
              "CH     350\n",
              "CZ     287\n",
              "IT     241\n",
              "GR     182\n",
              "CY     154\n",
              "LV     133\n",
              "NL     132\n",
              "HU     125\n",
              "BE     113\n",
              "SE     104\n",
              "BG      78\n",
              "DK      77\n",
              "NO      75\n",
              "SI      71\n",
              "AT      68\n",
              "SK      65\n",
              "HR      49\n",
              "JE      45\n",
              "GI      35\n",
              "FI      32\n",
              "EE      30\n",
              "LU      21\n",
              "GG      14\n",
              "GP       9\n",
              "IM       7\n",
              "RE       7\n",
              "IS       6\n",
              "AU       4\n",
              "LI       4\n",
              "MQ       3\n",
              "Name: country, dtype: int64"
            ]
          },
          "metadata": {
            "tags": []
          },
          "execution_count": 238
        }
      ]
    },
    {
      "cell_type": "code",
      "metadata": {
        "id": "J9BfLkY1ztPK",
        "colab_type": "code",
        "outputId": "bb0fdb0f-fbf6-42f6-91ed-15e0d6f8a8f6",
        "colab": {
          "base_uri": "https://localhost:8080/",
          "height": 268
        }
      },
      "source": [
        "users_with_amount_of_trans.isnull().any()"
      ],
      "execution_count": 135,
      "outputs": [
        {
          "output_type": "execute_result",
          "data": {
            "text/plain": [
              "user_id                                     False\n",
              "birth_year                                  False\n",
              "country                                     False\n",
              "city                                        False\n",
              "created_date                                False\n",
              "user_settings_crypto_unlocked               False\n",
              "plan                                        False\n",
              "attributes_notifications_marketing_push      True\n",
              "attributes_notifications_marketing_email     True\n",
              "num_contacts                                False\n",
              "num_referrals                               False\n",
              "num_successful_referrals                    False\n",
              "amount_usd                                   True\n",
              "amount_of_transactions                       True\n",
              "dtype: bool"
            ]
          },
          "metadata": {
            "tags": []
          },
          "execution_count": 135
        }
      ]
    },
    {
      "cell_type": "code",
      "metadata": {
        "id": "gWntQ40w2ImT",
        "colab_type": "code",
        "outputId": "4cbed59f-26b8-49d3-eab6-4de258188e16",
        "colab": {
          "base_uri": "https://localhost:8080/",
          "height": 33
        }
      },
      "source": [
        "users_with_amount_of_trans['amount_of_transactions'].count()"
      ],
      "execution_count": 137,
      "outputs": [
        {
          "output_type": "execute_result",
          "data": {
            "text/plain": [
              "15012"
            ]
          },
          "metadata": {
            "tags": []
          },
          "execution_count": 137
        }
      ]
    },
    {
      "cell_type": "code",
      "metadata": {
        "id": "b6EmZvOZ3TOZ",
        "colab_type": "code",
        "colab": {}
      },
      "source": [
        "len(users_with_amount_of)"
      ],
      "execution_count": 0,
      "outputs": []
    },
    {
      "cell_type": "markdown",
      "metadata": {
        "id": "ixwlTYK-ZHB0",
        "colab_type": "text"
      },
      "source": [
        "Δεν εχουν ολοι οι users transactions, αρα μια μετρικη για το ποσο engaged ειναι θα μπορουσε να ειναι μια ποσοτητα transactions, οπως επισης και μια τιμη transactions"
      ]
    },
    {
      "cell_type": "markdown",
      "metadata": {
        "id": "_UEG5rHZ5dRQ",
        "colab_type": "text"
      },
      "source": [
        "#Regarding standard and paid plan features\n"
      ]
    },
    {
      "cell_type": "markdown",
      "metadata": {
        "id": "j_HS5ACsBKDx",
        "colab_type": "text"
      },
      "source": [
        "## plan column is groupped in \"standard\" and \"paid\"/encoded"
      ]
    },
    {
      "cell_type": "code",
      "metadata": {
        "id": "Lk9q5KN-5ygT",
        "colab_type": "code",
        "colab": {}
      },
      "source": [
        "uss4=users.copy()"
      ],
      "execution_count": 0,
      "outputs": []
    },
    {
      "cell_type": "code",
      "metadata": {
        "id": "Zljdtvm38H4j",
        "colab_type": "code",
        "colab": {}
      },
      "source": [
        "uss4.plan=uss4.plan.apply(lambda x: 'PAID' if x!=\"STANDARD\" else x)"
      ],
      "execution_count": 0,
      "outputs": []
    },
    {
      "cell_type": "code",
      "metadata": {
        "id": "xkeGB8wK9FmF",
        "colab_type": "code",
        "outputId": "055a6e55-2676-43bb-ff90-9f4da8131c7a",
        "colab": {
          "base_uri": "https://localhost:8080/",
          "height": 67
        }
      },
      "source": [
        "uss4.plan.value_counts(dropna=False)"
      ],
      "execution_count": 141,
      "outputs": [
        {
          "output_type": "execute_result",
          "data": {
            "text/plain": [
              "STANDARD    14394\n",
              "PAID         1150\n",
              "Name: plan, dtype: int64"
            ]
          },
          "metadata": {
            "tags": []
          },
          "execution_count": 141
        }
      ]
    },
    {
      "cell_type": "code",
      "metadata": {
        "id": "aAdI0m2p-v3d",
        "colab_type": "code",
        "colab": {
          "base_uri": "https://localhost:8080/",
          "height": 333
        },
        "outputId": "4de8573c-ccac-4323-dc98-96c500e660c4"
      },
      "source": [
        "uss4.plan = np.where(uss4.plan==\"PAID\", 1,0)\n",
        "uss4.sample(5)"
      ],
      "execution_count": 154,
      "outputs": [
        {
          "output_type": "stream",
          "text": [
            "/usr/local/lib/python3.6/dist-packages/pandas/core/ops/array_ops.py:253: FutureWarning: elementwise comparison failed; returning scalar instead, but in the future will perform elementwise comparison\n",
            "  res_values = method(rvalues)\n"
          ],
          "name": "stderr"
        },
        {
          "output_type": "execute_result",
          "data": {
            "text/html": [
              "<div>\n",
              "<style scoped>\n",
              "    .dataframe tbody tr th:only-of-type {\n",
              "        vertical-align: middle;\n",
              "    }\n",
              "\n",
              "    .dataframe tbody tr th {\n",
              "        vertical-align: top;\n",
              "    }\n",
              "\n",
              "    .dataframe thead th {\n",
              "        text-align: right;\n",
              "    }\n",
              "</style>\n",
              "<table border=\"1\" class=\"dataframe\">\n",
              "  <thead>\n",
              "    <tr style=\"text-align: right;\">\n",
              "      <th></th>\n",
              "      <th>user_id</th>\n",
              "      <th>birth_year</th>\n",
              "      <th>country</th>\n",
              "      <th>city</th>\n",
              "      <th>created_date</th>\n",
              "      <th>user_settings_crypto_unlocked</th>\n",
              "      <th>plan</th>\n",
              "      <th>attributes_notifications_marketing_push</th>\n",
              "      <th>attributes_notifications_marketing_email</th>\n",
              "      <th>num_contacts</th>\n",
              "      <th>num_referrals</th>\n",
              "      <th>num_successful_referrals</th>\n",
              "    </tr>\n",
              "  </thead>\n",
              "  <tbody>\n",
              "    <tr>\n",
              "      <th>14038</th>\n",
              "      <td>user_14038</td>\n",
              "      <td>1992</td>\n",
              "      <td>PL</td>\n",
              "      <td>Bojszowy</td>\n",
              "      <td>2018-03-05 01:19:32.059114</td>\n",
              "      <td>0</td>\n",
              "      <td>0</td>\n",
              "      <td>NaN</td>\n",
              "      <td>NaN</td>\n",
              "      <td>0</td>\n",
              "      <td>0</td>\n",
              "      <td>0</td>\n",
              "    </tr>\n",
              "    <tr>\n",
              "      <th>10860</th>\n",
              "      <td>user_10860</td>\n",
              "      <td>1995</td>\n",
              "      <td>GB</td>\n",
              "      <td>Bournemouth</td>\n",
              "      <td>2018-08-03 22:10:43.265210</td>\n",
              "      <td>0</td>\n",
              "      <td>0</td>\n",
              "      <td>0.0</td>\n",
              "      <td>1.0</td>\n",
              "      <td>10</td>\n",
              "      <td>0</td>\n",
              "      <td>0</td>\n",
              "    </tr>\n",
              "    <tr>\n",
              "      <th>382</th>\n",
              "      <td>user_382</td>\n",
              "      <td>1988</td>\n",
              "      <td>GB</td>\n",
              "      <td>Manchester</td>\n",
              "      <td>2018-12-01 09:39:49.086049</td>\n",
              "      <td>0</td>\n",
              "      <td>0</td>\n",
              "      <td>NaN</td>\n",
              "      <td>NaN</td>\n",
              "      <td>0</td>\n",
              "      <td>0</td>\n",
              "      <td>0</td>\n",
              "    </tr>\n",
              "    <tr>\n",
              "      <th>1105</th>\n",
              "      <td>user_1105</td>\n",
              "      <td>1991</td>\n",
              "      <td>GB</td>\n",
              "      <td>Newry</td>\n",
              "      <td>2018-07-31 04:04:11.345411</td>\n",
              "      <td>1</td>\n",
              "      <td>0</td>\n",
              "      <td>1.0</td>\n",
              "      <td>1.0</td>\n",
              "      <td>6</td>\n",
              "      <td>0</td>\n",
              "      <td>0</td>\n",
              "    </tr>\n",
              "    <tr>\n",
              "      <th>1387</th>\n",
              "      <td>user_1387</td>\n",
              "      <td>1991</td>\n",
              "      <td>FR</td>\n",
              "      <td>Argenteuil</td>\n",
              "      <td>2018-10-23 07:24:15.829773</td>\n",
              "      <td>0</td>\n",
              "      <td>0</td>\n",
              "      <td>1.0</td>\n",
              "      <td>1.0</td>\n",
              "      <td>9</td>\n",
              "      <td>0</td>\n",
              "      <td>0</td>\n",
              "    </tr>\n",
              "  </tbody>\n",
              "</table>\n",
              "</div>"
            ],
            "text/plain": [
              "          user_id  birth_year  ... num_referrals num_successful_referrals\n",
              "14038  user_14038        1992  ...             0                        0\n",
              "10860  user_10860        1995  ...             0                        0\n",
              "382      user_382        1988  ...             0                        0\n",
              "1105    user_1105        1991  ...             0                        0\n",
              "1387    user_1387        1991  ...             0                        0\n",
              "\n",
              "[5 rows x 12 columns]"
            ]
          },
          "metadata": {
            "tags": []
          },
          "execution_count": 154
        }
      ]
    },
    {
      "cell_type": "markdown",
      "metadata": {
        "id": "AcXPioUcBaqW",
        "colab_type": "text"
      },
      "source": [
        "##grouping aging categories by birthdate/encoded"
      ]
    },
    {
      "cell_type": "code",
      "metadata": {
        "id": "EEOdFJnxBk_1",
        "colab_type": "code",
        "colab": {}
      },
      "source": [
        "uss5=uss4.copy()"
      ],
      "execution_count": 0,
      "outputs": []
    },
    {
      "cell_type": "code",
      "metadata": {
        "id": "szqRLQnKCpyM",
        "colab_type": "code",
        "colab": {}
      },
      "source": [
        "uss5['age']=2020 - uss5['birth_year']"
      ],
      "execution_count": 0,
      "outputs": []
    },
    {
      "cell_type": "code",
      "metadata": {
        "id": "TuRNygC6D-V7",
        "colab_type": "code",
        "outputId": "9bb9581a-7866-4148-da01-e80e359d8aec",
        "colab": {
          "base_uri": "https://localhost:8080/",
          "height": 167
        }
      },
      "source": [
        "uss5.age.describe()"
      ],
      "execution_count": 157,
      "outputs": [
        {
          "output_type": "execute_result",
          "data": {
            "text/plain": [
              "count    15544.000000\n",
              "mean        36.333376\n",
              "std         11.369184\n",
              "min         19.000000\n",
              "25%         28.000000\n",
              "50%         34.000000\n",
              "75%         43.000000\n",
              "max         91.000000\n",
              "Name: age, dtype: float64"
            ]
          },
          "metadata": {
            "tags": []
          },
          "execution_count": 157
        }
      ]
    },
    {
      "cell_type": "code",
      "metadata": {
        "id": "6V5HHWKyDVWM",
        "colab_type": "code",
        "outputId": "b7df16da-1bf8-4837-f9ae-a9db2835d5a4",
        "colab": {
          "base_uri": "https://localhost:8080/",
          "height": 84
        }
      },
      "source": [
        "uss5['age_categories']= uss5.age.apply(lambda x: '18-29' if x<30  else ('30-39' if x<40  else '40+'))\n",
        "pd.value_counts(uss5['age_categories'])"
      ],
      "execution_count": 158,
      "outputs": [
        {
          "output_type": "execute_result",
          "data": {
            "text/plain": [
              "30-39    5602\n",
              "18-29    5044\n",
              "40+      4898\n",
              "Name: age_categories, dtype: int64"
            ]
          },
          "metadata": {
            "tags": []
          },
          "execution_count": 158
        }
      ]
    },
    {
      "cell_type": "code",
      "metadata": {
        "id": "xIDWseAnE3KH",
        "colab_type": "code",
        "colab": {
          "base_uri": "https://localhost:8080/",
          "height": 300
        },
        "outputId": "fee019c1-0835-461f-d980-f611aac3bfe6"
      },
      "source": [
        "uss5.sample(5)"
      ],
      "execution_count": 169,
      "outputs": [
        {
          "output_type": "execute_result",
          "data": {
            "text/html": [
              "<div>\n",
              "<style scoped>\n",
              "    .dataframe tbody tr th:only-of-type {\n",
              "        vertical-align: middle;\n",
              "    }\n",
              "\n",
              "    .dataframe tbody tr th {\n",
              "        vertical-align: top;\n",
              "    }\n",
              "\n",
              "    .dataframe thead th {\n",
              "        text-align: right;\n",
              "    }\n",
              "</style>\n",
              "<table border=\"1\" class=\"dataframe\">\n",
              "  <thead>\n",
              "    <tr style=\"text-align: right;\">\n",
              "      <th></th>\n",
              "      <th>user_id</th>\n",
              "      <th>birth_year</th>\n",
              "      <th>country</th>\n",
              "      <th>city</th>\n",
              "      <th>created_date</th>\n",
              "      <th>user_settings_crypto_unlocked</th>\n",
              "      <th>plan</th>\n",
              "      <th>attributes_notifications_marketing_push</th>\n",
              "      <th>attributes_notifications_marketing_email</th>\n",
              "      <th>num_contacts</th>\n",
              "      <th>num_referrals</th>\n",
              "      <th>num_successful_referrals</th>\n",
              "      <th>age</th>\n",
              "      <th>age_categories</th>\n",
              "    </tr>\n",
              "  </thead>\n",
              "  <tbody>\n",
              "    <tr>\n",
              "      <th>3354</th>\n",
              "      <td>user_3354</td>\n",
              "      <td>1961</td>\n",
              "      <td>PL</td>\n",
              "      <td>Świdwin</td>\n",
              "      <td>2018-03-30 20:21:14.089716</td>\n",
              "      <td>0</td>\n",
              "      <td>0</td>\n",
              "      <td>NaN</td>\n",
              "      <td>NaN</td>\n",
              "      <td>8</td>\n",
              "      <td>0</td>\n",
              "      <td>0</td>\n",
              "      <td>59</td>\n",
              "      <td>40+</td>\n",
              "    </tr>\n",
              "    <tr>\n",
              "      <th>13015</th>\n",
              "      <td>user_13015</td>\n",
              "      <td>1984</td>\n",
              "      <td>GB</td>\n",
              "      <td>Huntingdon</td>\n",
              "      <td>2018-07-09 01:40:41.976930</td>\n",
              "      <td>0</td>\n",
              "      <td>0</td>\n",
              "      <td>1.0</td>\n",
              "      <td>1.0</td>\n",
              "      <td>0</td>\n",
              "      <td>0</td>\n",
              "      <td>0</td>\n",
              "      <td>36</td>\n",
              "      <td>30-39</td>\n",
              "    </tr>\n",
              "    <tr>\n",
              "      <th>2087</th>\n",
              "      <td>user_2087</td>\n",
              "      <td>1977</td>\n",
              "      <td>LT</td>\n",
              "      <td>Klaipėda</td>\n",
              "      <td>2018-12-09 00:07:09.221424</td>\n",
              "      <td>0</td>\n",
              "      <td>0</td>\n",
              "      <td>1.0</td>\n",
              "      <td>1.0</td>\n",
              "      <td>0</td>\n",
              "      <td>0</td>\n",
              "      <td>0</td>\n",
              "      <td>43</td>\n",
              "      <td>40+</td>\n",
              "    </tr>\n",
              "    <tr>\n",
              "      <th>13343</th>\n",
              "      <td>user_13343</td>\n",
              "      <td>1995</td>\n",
              "      <td>LT</td>\n",
              "      <td>Marijampolės sav.</td>\n",
              "      <td>2018-06-01 11:17:49.363523</td>\n",
              "      <td>0</td>\n",
              "      <td>0</td>\n",
              "      <td>1.0</td>\n",
              "      <td>1.0</td>\n",
              "      <td>30</td>\n",
              "      <td>0</td>\n",
              "      <td>0</td>\n",
              "      <td>25</td>\n",
              "      <td>18-29</td>\n",
              "    </tr>\n",
              "    <tr>\n",
              "      <th>5864</th>\n",
              "      <td>user_5864</td>\n",
              "      <td>1985</td>\n",
              "      <td>PL</td>\n",
              "      <td>Rzeszów</td>\n",
              "      <td>2018-09-16 01:38:36.319524</td>\n",
              "      <td>0</td>\n",
              "      <td>0</td>\n",
              "      <td>1.0</td>\n",
              "      <td>1.0</td>\n",
              "      <td>69</td>\n",
              "      <td>0</td>\n",
              "      <td>0</td>\n",
              "      <td>35</td>\n",
              "      <td>30-39</td>\n",
              "    </tr>\n",
              "  </tbody>\n",
              "</table>\n",
              "</div>"
            ],
            "text/plain": [
              "          user_id  birth_year  ... age age_categories\n",
              "3354    user_3354        1961  ...  59            40+\n",
              "13015  user_13015        1984  ...  36          30-39\n",
              "2087    user_2087        1977  ...  43            40+\n",
              "13343  user_13343        1995  ...  25          18-29\n",
              "5864    user_5864        1985  ...  35          30-39\n",
              "\n",
              "[5 rows x 14 columns]"
            ]
          },
          "metadata": {
            "tags": []
          },
          "execution_count": 169
        }
      ]
    },
    {
      "cell_type": "code",
      "metadata": {
        "id": "8P_AwKt7DJ0G",
        "colab_type": "code",
        "colab": {}
      },
      "source": [
        "uss5.age_categories=uss5.age_categories.astype('category')\n"
      ],
      "execution_count": 0,
      "outputs": []
    },
    {
      "cell_type": "code",
      "metadata": {
        "id": "Nr8WlwxRDowF",
        "colab_type": "code",
        "colab": {
          "base_uri": "https://localhost:8080/",
          "height": 333
        },
        "outputId": "7b0d0ca6-0cd8-44f4-866a-f09c44073246"
      },
      "source": [
        "uss5['ages_cat'] = uss5.age_categories.cat.codes\n",
        "uss5.sample(5)"
      ],
      "execution_count": 174,
      "outputs": [
        {
          "output_type": "execute_result",
          "data": {
            "text/html": [
              "<div>\n",
              "<style scoped>\n",
              "    .dataframe tbody tr th:only-of-type {\n",
              "        vertical-align: middle;\n",
              "    }\n",
              "\n",
              "    .dataframe tbody tr th {\n",
              "        vertical-align: top;\n",
              "    }\n",
              "\n",
              "    .dataframe thead th {\n",
              "        text-align: right;\n",
              "    }\n",
              "</style>\n",
              "<table border=\"1\" class=\"dataframe\">\n",
              "  <thead>\n",
              "    <tr style=\"text-align: right;\">\n",
              "      <th></th>\n",
              "      <th>user_id</th>\n",
              "      <th>birth_year</th>\n",
              "      <th>country</th>\n",
              "      <th>city</th>\n",
              "      <th>created_date</th>\n",
              "      <th>user_settings_crypto_unlocked</th>\n",
              "      <th>plan</th>\n",
              "      <th>attributes_notifications_marketing_push</th>\n",
              "      <th>attributes_notifications_marketing_email</th>\n",
              "      <th>num_contacts</th>\n",
              "      <th>num_referrals</th>\n",
              "      <th>num_successful_referrals</th>\n",
              "      <th>age</th>\n",
              "      <th>age_categories</th>\n",
              "      <th>ages_cat</th>\n",
              "    </tr>\n",
              "  </thead>\n",
              "  <tbody>\n",
              "    <tr>\n",
              "      <th>4446</th>\n",
              "      <td>user_4446</td>\n",
              "      <td>1986</td>\n",
              "      <td>ES</td>\n",
              "      <td>Madrid</td>\n",
              "      <td>2018-03-03 14:25:28.863607</td>\n",
              "      <td>0</td>\n",
              "      <td>0</td>\n",
              "      <td>NaN</td>\n",
              "      <td>NaN</td>\n",
              "      <td>3</td>\n",
              "      <td>0</td>\n",
              "      <td>0</td>\n",
              "      <td>34</td>\n",
              "      <td>30-39</td>\n",
              "      <td>1</td>\n",
              "    </tr>\n",
              "    <tr>\n",
              "      <th>8824</th>\n",
              "      <td>user_8824</td>\n",
              "      <td>1973</td>\n",
              "      <td>GB</td>\n",
              "      <td>Glasgow</td>\n",
              "      <td>2018-10-26 15:31:19.859587</td>\n",
              "      <td>0</td>\n",
              "      <td>0</td>\n",
              "      <td>1.0</td>\n",
              "      <td>1.0</td>\n",
              "      <td>0</td>\n",
              "      <td>0</td>\n",
              "      <td>0</td>\n",
              "      <td>47</td>\n",
              "      <td>40+</td>\n",
              "      <td>2</td>\n",
              "    </tr>\n",
              "    <tr>\n",
              "      <th>4102</th>\n",
              "      <td>user_4102</td>\n",
              "      <td>1978</td>\n",
              "      <td>FR</td>\n",
              "      <td>La Chapelle Des Fougeretz</td>\n",
              "      <td>2018-03-29 11:59:20.593183</td>\n",
              "      <td>1</td>\n",
              "      <td>0</td>\n",
              "      <td>1.0</td>\n",
              "      <td>1.0</td>\n",
              "      <td>0</td>\n",
              "      <td>0</td>\n",
              "      <td>0</td>\n",
              "      <td>42</td>\n",
              "      <td>40+</td>\n",
              "      <td>2</td>\n",
              "    </tr>\n",
              "    <tr>\n",
              "      <th>11819</th>\n",
              "      <td>user_11819</td>\n",
              "      <td>1995</td>\n",
              "      <td>GB</td>\n",
              "      <td>Warrington</td>\n",
              "      <td>2018-01-30 20:30:22.807162</td>\n",
              "      <td>0</td>\n",
              "      <td>0</td>\n",
              "      <td>NaN</td>\n",
              "      <td>NaN</td>\n",
              "      <td>0</td>\n",
              "      <td>0</td>\n",
              "      <td>0</td>\n",
              "      <td>25</td>\n",
              "      <td>18-29</td>\n",
              "      <td>0</td>\n",
              "    </tr>\n",
              "    <tr>\n",
              "      <th>13717</th>\n",
              "      <td>user_13717</td>\n",
              "      <td>1991</td>\n",
              "      <td>LV</td>\n",
              "      <td>Riga</td>\n",
              "      <td>2018-12-19 16:59:25.768054</td>\n",
              "      <td>1</td>\n",
              "      <td>0</td>\n",
              "      <td>1.0</td>\n",
              "      <td>0.0</td>\n",
              "      <td>45</td>\n",
              "      <td>0</td>\n",
              "      <td>0</td>\n",
              "      <td>29</td>\n",
              "      <td>18-29</td>\n",
              "      <td>0</td>\n",
              "    </tr>\n",
              "  </tbody>\n",
              "</table>\n",
              "</div>"
            ],
            "text/plain": [
              "          user_id  birth_year country  ... age age_categories  ages_cat\n",
              "4446    user_4446        1986      ES  ...  34          30-39         1\n",
              "8824    user_8824        1973      GB  ...  47            40+         2\n",
              "4102    user_4102        1978      FR  ...  42            40+         2\n",
              "11819  user_11819        1995      GB  ...  25          18-29         0\n",
              "13717  user_13717        1991      LV  ...  29          18-29         0\n",
              "\n",
              "[5 rows x 15 columns]"
            ]
          },
          "metadata": {
            "tags": []
          },
          "execution_count": 174
        }
      ]
    },
    {
      "cell_type": "markdown",
      "metadata": {
        "id": "jmVGy9fPOeyX",
        "colab_type": "text"
      },
      "source": [
        "##notifications and users tables"
      ]
    },
    {
      "cell_type": "code",
      "metadata": {
        "id": "qKtSaxKsREvq",
        "colab_type": "code",
        "colab": {}
      },
      "source": [
        "uss10=uss5.copy()"
      ],
      "execution_count": 0,
      "outputs": []
    },
    {
      "cell_type": "code",
      "metadata": {
        "id": "XrOCD2a-To_C",
        "colab_type": "code",
        "colab": {
          "base_uri": "https://localhost:8080/",
          "height": 920
        },
        "outputId": "81415e2f-c576-4d46-9c8b-3d43425dda54"
      },
      "source": [
        "uss11=pd.merge(uss10, number_of_notif, how='left', left_on='user_id', right_index=True)\n",
        "uss11.amount_of_notifications.value_counts(dropna=False"
      ],
      "execution_count": 203,
      "outputs": [
        {
          "output_type": "execute_result",
          "data": {
            "text/plain": [
              "3.0      2027\n",
              "4.0      1829\n",
              "5.0      1711\n",
              "6.0      1651\n",
              "7.0      1597\n",
              "8.0      1255\n",
              "2.0      1038\n",
              "9.0       950\n",
              "10.0      699\n",
              "11.0      574\n",
              "1.0       544\n",
              "NaN       388\n",
              "12.0      371\n",
              "13.0      261\n",
              "14.0      176\n",
              "15.0      128\n",
              "16.0       82\n",
              "17.0       62\n",
              "18.0       37\n",
              "19.0       31\n",
              "22.0       19\n",
              "20.0       17\n",
              "21.0       11\n",
              "26.0        9\n",
              "24.0        8\n",
              "28.0        8\n",
              "23.0        6\n",
              "27.0        5\n",
              "25.0        5\n",
              "37.0        5\n",
              "32.0        4\n",
              "29.0        4\n",
              "51.0        3\n",
              "33.0        3\n",
              "40.0        3\n",
              "49.0        2\n",
              "35.0        2\n",
              "43.0        2\n",
              "30.0        2\n",
              "36.0        2\n",
              "52.0        1\n",
              "38.0        1\n",
              "39.0        1\n",
              "88.0        1\n",
              "129.0       1\n",
              "41.0        1\n",
              "177.0       1\n",
              "42.0        1\n",
              "31.0        1\n",
              "58.0        1\n",
              "48.0        1\n",
              "289.0       1\n",
              "47.0        1\n",
              "Name: amount_of_notifications, dtype: int64"
            ]
          },
          "metadata": {
            "tags": []
          },
          "execution_count": 203
        }
      ]
    },
    {
      "cell_type": "code",
      "metadata": {
        "id": "VLPmvUiQUaqo",
        "colab_type": "code",
        "colab": {}
      },
      "source": [
        "uss11.amount_of_notifications.fillna(value=0,inplace=True)"
      ],
      "execution_count": 0,
      "outputs": []
    },
    {
      "cell_type": "code",
      "metadata": {
        "id": "vrkEEsq4UwZT",
        "colab_type": "code",
        "colab": {
          "base_uri": "https://localhost:8080/",
          "height": 167
        },
        "outputId": "30728588-8b3e-4814-8162-c0d2eb01c574"
      },
      "source": [
        "uss11.amount_of_notifications.describe()"
      ],
      "execution_count": 205,
      "outputs": [
        {
          "output_type": "execute_result",
          "data": {
            "text/plain": [
              "count    15544.000000\n",
              "mean         6.285641\n",
              "std          4.999748\n",
              "min          0.000000\n",
              "25%          3.000000\n",
              "50%          6.000000\n",
              "75%          8.000000\n",
              "max        289.000000\n",
              "Name: amount_of_notifications, dtype: float64"
            ]
          },
          "metadata": {
            "tags": []
          },
          "execution_count": 205
        }
      ]
    },
    {
      "cell_type": "code",
      "metadata": {
        "id": "n_1FD2aARKOb",
        "colab_type": "code",
        "colab": {
          "base_uri": "https://localhost:8080/",
          "height": 300
        },
        "outputId": "078abcb2-9f19-4825-fd96-148053385391"
      },
      "source": [
        "uuss5withnull=uss5[uss5.isnull().any(axis=1)]\n",
        "uuss5withnull.sample(5)"
      ],
      "execution_count": 191,
      "outputs": [
        {
          "output_type": "execute_result",
          "data": {
            "text/html": [
              "<div>\n",
              "<style scoped>\n",
              "    .dataframe tbody tr th:only-of-type {\n",
              "        vertical-align: middle;\n",
              "    }\n",
              "\n",
              "    .dataframe tbody tr th {\n",
              "        vertical-align: top;\n",
              "    }\n",
              "\n",
              "    .dataframe thead th {\n",
              "        text-align: right;\n",
              "    }\n",
              "</style>\n",
              "<table border=\"1\" class=\"dataframe\">\n",
              "  <thead>\n",
              "    <tr style=\"text-align: right;\">\n",
              "      <th></th>\n",
              "      <th>user_id</th>\n",
              "      <th>birth_year</th>\n",
              "      <th>country</th>\n",
              "      <th>city</th>\n",
              "      <th>created_date</th>\n",
              "      <th>user_settings_crypto_unlocked</th>\n",
              "      <th>plan</th>\n",
              "      <th>attributes_notifications_marketing_push</th>\n",
              "      <th>attributes_notifications_marketing_email</th>\n",
              "      <th>num_contacts</th>\n",
              "      <th>num_referrals</th>\n",
              "      <th>num_successful_referrals</th>\n",
              "      <th>age</th>\n",
              "      <th>age_categories</th>\n",
              "      <th>ages_cat</th>\n",
              "      <th>amount_of_notifications</th>\n",
              "    </tr>\n",
              "  </thead>\n",
              "  <tbody>\n",
              "    <tr>\n",
              "      <th>13931</th>\n",
              "      <td>user_13931</td>\n",
              "      <td>1991</td>\n",
              "      <td>IE</td>\n",
              "      <td>Dublin</td>\n",
              "      <td>2018-10-12 05:28:58.880149</td>\n",
              "      <td>0</td>\n",
              "      <td>0</td>\n",
              "      <td>NaN</td>\n",
              "      <td>NaN</td>\n",
              "      <td>19</td>\n",
              "      <td>0</td>\n",
              "      <td>0</td>\n",
              "      <td>29</td>\n",
              "      <td>18-29</td>\n",
              "      <td>0</td>\n",
              "      <td>2.0</td>\n",
              "    </tr>\n",
              "    <tr>\n",
              "      <th>8431</th>\n",
              "      <td>user_8431</td>\n",
              "      <td>1999</td>\n",
              "      <td>GB</td>\n",
              "      <td>Midhurst</td>\n",
              "      <td>2018-02-02 20:54:42.601051</td>\n",
              "      <td>0</td>\n",
              "      <td>0</td>\n",
              "      <td>NaN</td>\n",
              "      <td>NaN</td>\n",
              "      <td>0</td>\n",
              "      <td>0</td>\n",
              "      <td>0</td>\n",
              "      <td>21</td>\n",
              "      <td>18-29</td>\n",
              "      <td>0</td>\n",
              "      <td>10.0</td>\n",
              "    </tr>\n",
              "    <tr>\n",
              "      <th>704</th>\n",
              "      <td>user_704</td>\n",
              "      <td>1969</td>\n",
              "      <td>GB</td>\n",
              "      <td>Bognor Regis</td>\n",
              "      <td>2018-10-08 05:09:40.295873</td>\n",
              "      <td>0</td>\n",
              "      <td>0</td>\n",
              "      <td>NaN</td>\n",
              "      <td>NaN</td>\n",
              "      <td>2</td>\n",
              "      <td>0</td>\n",
              "      <td>0</td>\n",
              "      <td>51</td>\n",
              "      <td>40+</td>\n",
              "      <td>2</td>\n",
              "      <td>8.0</td>\n",
              "    </tr>\n",
              "    <tr>\n",
              "      <th>6943</th>\n",
              "      <td>user_6943</td>\n",
              "      <td>1967</td>\n",
              "      <td>GB</td>\n",
              "      <td>Harrogate</td>\n",
              "      <td>2018-12-19 03:27:03.049087</td>\n",
              "      <td>0</td>\n",
              "      <td>0</td>\n",
              "      <td>NaN</td>\n",
              "      <td>NaN</td>\n",
              "      <td>1</td>\n",
              "      <td>0</td>\n",
              "      <td>0</td>\n",
              "      <td>53</td>\n",
              "      <td>40+</td>\n",
              "      <td>2</td>\n",
              "      <td>11.0</td>\n",
              "    </tr>\n",
              "    <tr>\n",
              "      <th>5801</th>\n",
              "      <td>user_5801</td>\n",
              "      <td>1986</td>\n",
              "      <td>PL</td>\n",
              "      <td>Kraków</td>\n",
              "      <td>2018-09-20 18:20:00.975023</td>\n",
              "      <td>0</td>\n",
              "      <td>0</td>\n",
              "      <td>NaN</td>\n",
              "      <td>NaN</td>\n",
              "      <td>14</td>\n",
              "      <td>0</td>\n",
              "      <td>0</td>\n",
              "      <td>34</td>\n",
              "      <td>30-39</td>\n",
              "      <td>1</td>\n",
              "      <td>4.0</td>\n",
              "    </tr>\n",
              "  </tbody>\n",
              "</table>\n",
              "</div>"
            ],
            "text/plain": [
              "          user_id  birth_year  ... ages_cat amount_of_notifications\n",
              "13931  user_13931        1991  ...        0                     2.0\n",
              "8431    user_8431        1999  ...        0                    10.0\n",
              "704      user_704        1969  ...        2                     8.0\n",
              "6943    user_6943        1967  ...        2                    11.0\n",
              "5801    user_5801        1986  ...        1                     4.0\n",
              "\n",
              "[5 rows x 16 columns]"
            ]
          },
          "metadata": {
            "tags": []
          },
          "execution_count": 191
        }
      ]
    },
    {
      "cell_type": "code",
      "metadata": {
        "id": "JCfYTkdOGCsU",
        "colab_type": "code",
        "colab": {
          "base_uri": "https://localhost:8080/",
          "height": 50
        },
        "outputId": "fd4e4e88-8314-44ee-dab4-8b1ce645c480"
      },
      "source": [
        "\n",
        "\n",
        "uss5withnull.plan.value_counts()\n"
      ],
      "execution_count": 181,
      "outputs": [
        {
          "output_type": "execute_result",
          "data": {
            "text/plain": [
              "0    5260\n",
              "Name: plan, dtype: int64"
            ]
          },
          "metadata": {
            "tags": []
          },
          "execution_count": 181
        }
      ]
    },
    {
      "cell_type": "code",
      "metadata": {
        "id": "bORpXQkFJN4y",
        "colab_type": "code",
        "colab": {
          "base_uri": "https://localhost:8080/",
          "height": 84
        },
        "outputId": "f5fd362b-2a82-4a2c-c924-8a88e7ef4612"
      },
      "source": [
        "uss5standard=uss5[uss5['plan']==0]\n",
        "uss5standard.attributes_notifications_marketing_push.value_counts(dropna=False)"
      ],
      "execution_count": 184,
      "outputs": [
        {
          "output_type": "execute_result",
          "data": {
            "text/plain": [
              "1.0    9752\n",
              "NaN    5260\n",
              "0.0     532\n",
              "Name: attributes_notifications_marketing_push, dtype: int64"
            ]
          },
          "metadata": {
            "tags": []
          },
          "execution_count": 184
        }
      ]
    },
    {
      "cell_type": "markdown",
      "metadata": {
        "id": "zki8-S0VR-p5",
        "colab_type": "text"
      },
      "source": [
        "##Vizualisation"
      ]
    },
    {
      "cell_type": "code",
      "metadata": {
        "id": "CFt99sGDQYv8",
        "colab_type": "code",
        "colab": {}
      },
      "source": [
        "uss6=pd.merge(uss5 , number_of_trans, how='left', left_on='user_id', right_index=True)\n",
        "uss6['brands']=dev.brand\n",
        "uss6.head(5)"
      ],
      "execution_count": 0,
      "outputs": []
    },
    {
      "cell_type": "code",
      "metadata": {
        "id": "OVil94jYLU4s",
        "colab_type": "code",
        "colab": {}
      },
      "source": [
        "sns.barplot(x='plan', y='amount_of_transactions', hue='age_categories' ,data=uss6 )\n",
        "#standard kai paid users"
      ],
      "execution_count": 0,
      "outputs": []
    },
    {
      "cell_type": "code",
      "metadata": {
        "id": "P1hFPz69NdIT",
        "colab_type": "code",
        "colab": {}
      },
      "source": [
        "uss7 = pd.merge(uss6 , usd_per_user, how='left', left_on='user_id', right_index=True)\n",
        "#users table με mean amount_usd, amount of transactions, categorized by age, age calculated, plan=standard or paid"
      ],
      "execution_count": 0,
      "outputs": []
    },
    {
      "cell_type": "code",
      "metadata": {
        "id": "oBfQ3cy_s6QV",
        "colab_type": "code",
        "colab": {}
      },
      "source": [
        "from __future__ import print_function\n",
        "from sklearn import datasets\n",
        "breast_cancer=datasets.load_breast_cancer()\n",
        "print(breast_cancer.keys())"
      ],
      "execution_count": 0,
      "outputs": []
    },
    {
      "cell_type": "code",
      "metadata": {
        "id": "8GqRbUsctpc7",
        "colab_type": "code",
        "colab": {}
      },
      "source": [
        "breast_cancer['feature_names'].shape\n"
      ],
      "execution_count": 0,
      "outputs": []
    },
    {
      "cell_type": "code",
      "metadata": {
        "id": "Pzq7J0h1tyqD",
        "colab_type": "code",
        "colab": {}
      },
      "source": [
        "trans.sample(5)"
      ],
      "execution_count": 0,
      "outputs": []
    },
    {
      "cell_type": "code",
      "metadata": {
        "id": "PWQBcE1huuVz",
        "colab_type": "code",
        "colab": {}
      },
      "source": [
        "print(trans.keys())"
      ],
      "execution_count": 0,
      "outputs": []
    },
    {
      "cell_type": "code",
      "metadata": {
        "id": "Fngo4wIzvKpK",
        "colab_type": "code",
        "colab": {}
      },
      "source": [
        "inbounds=trans[trans.direction == 'INBOUND']\n",
        "inbounds.sample(5)"
      ],
      "execution_count": 0,
      "outputs": []
    },
    {
      "cell_type": "code",
      "metadata": {
        "id": "zM-L_UgywHms",
        "colab_type": "code",
        "colab": {}
      },
      "source": [
        "inbounds.ea_merchant_mcc.value_counts(dropna=False)"
      ],
      "execution_count": 0,
      "outputs": []
    },
    {
      "cell_type": "code",
      "metadata": {
        "id": "gy6VaL5Z0l3U",
        "colab_type": "code",
        "colab": {}
      },
      "source": [
        "trans.ea_cardholderpresence.value_counts(dropna=False)"
      ],
      "execution_count": 0,
      "outputs": []
    },
    {
      "cell_type": "code",
      "metadata": {
        "id": "SGzvdnUp4aWo",
        "colab_type": "code",
        "colab": {}
      },
      "source": [
        "# encode categorical variable with custom m \n",
        "# another way this could be done would be through data.education.astype('category # this however would prevent us from choosing the mapping scheme\n",
        "uss7.sample(5)"
      ],
      "execution_count": 0,
      "outputs": []
    },
    {
      "cell_type": "code",
      "metadata": {
        "id": "fxORcqsM7pDX",
        "colab_type": "code",
        "colab": {}
      },
      "source": [
        ""
      ],
      "execution_count": 0,
      "outputs": []
    },
    {
      "cell_type": "code",
      "metadata": {
        "id": "f4JJpHtqUqMd",
        "colab_type": "code",
        "colab": {}
      },
      "source": [
        ""
      ],
      "execution_count": 0,
      "outputs": []
    }
  ]
}