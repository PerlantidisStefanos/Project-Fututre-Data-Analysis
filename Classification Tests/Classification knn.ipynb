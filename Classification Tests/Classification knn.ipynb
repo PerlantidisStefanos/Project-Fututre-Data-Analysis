{
 "cells": [
  {
   "cell_type": "code",
   "execution_count": 37,
   "metadata": {},
   "outputs": [],
   "source": [
    "import pandas as pd\n",
    "import numpy as np\n",
    "import matplotlib.pyplot as plt\n",
    "import seaborn as sns\n",
    "import matplotlib.pyplot as plt\n",
    "from sklearn.model_selection import train_test_split"
   ]
  },
  {
   "cell_type": "code",
   "execution_count": 38,
   "metadata": {},
   "outputs": [
    {
     "name": "stdout",
     "output_type": "stream",
     "text": [
      "Requirement already satisfied: imblearn in c:\\users\\user\\anaconda3\\lib\\site-packages (0.0)\n",
      "Requirement already satisfied: imbalanced-learn in c:\\users\\user\\anaconda3\\lib\\site-packages (from imblearn) (0.6.2)\n",
      "Requirement already satisfied: numpy>=1.11 in c:\\users\\user\\anaconda3\\lib\\site-packages (from imbalanced-learn->imblearn) (1.18.1)\n",
      "Requirement already satisfied: scikit-learn>=0.22 in c:\\users\\user\\anaconda3\\lib\\site-packages (from imbalanced-learn->imblearn) (0.22.1)\n",
      "Requirement already satisfied: scipy>=0.17 in c:\\users\\user\\anaconda3\\lib\\site-packages (from imbalanced-learn->imblearn) (1.4.1)\n",
      "Requirement already satisfied: joblib>=0.11 in c:\\users\\user\\anaconda3\\lib\\site-packages (from imbalanced-learn->imblearn) (0.14.1)\n",
      "Note: you may need to restart the kernel to use updated packages.\n"
     ]
    }
   ],
   "source": [
    "pip install imblearn"
   ]
  },
  {
   "cell_type": "code",
   "execution_count": 98,
   "metadata": {},
   "outputs": [],
   "source": [
    "from sklearn.preprocessing import StandardScaler\n",
    "sc = StandardScaler()\n",
    "from sklearn.model_selection import GridSearchCV\n",
    "from sklearn.ensemble import RandomForestClassifier\n",
    "from sklearn.feature_selection import VarianceThreshold\n",
    "var = VarianceThreshold()\n",
    "from imblearn.over_sampling import SMOTE\n",
    "from imblearn.pipeline import Pipeline\n",
    "sampler = SMOTE()\n",
    "rf = RandomForestClassifier()\n",
    "#Logistic Regression Classifier Confusion matrix\n",
    "from sklearn.metrics import confusion_matrix"
   ]
  },
  {
   "cell_type": "code",
   "execution_count": 40,
   "metadata": {},
   "outputs": [],
   "source": [
    "data_test= pd.read_csv('data_for_testing.csv', delimiter=\";\")\n",
    "data_from_users= pd.read_csv('data_from_users.csv', delimiter=\";\")\n",
    "users_featured= pd.read_csv('users_featured.csv', delimiter=\";\")"
   ]
  },
  {
   "cell_type": "code",
   "execution_count": 41,
   "metadata": {},
   "outputs": [
    {
     "data": {
      "text/plain": [
       "0    14394\n",
       "1     1150\n",
       "Name: plan, dtype: int64"
      ]
     },
     "execution_count": 41,
     "metadata": {},
     "output_type": "execute_result"
    }
   ],
   "source": [
    "from sklearn.model_selection import train_test_split\n",
    "\n",
    "X = data_test.drop(columns=['plan']).values\n",
    "X_columns = data_test.drop(columns=['plan']).columns\n",
    "y = data_test['plan'].values\n",
    "\n",
    "data_test.plan.value_counts()"
   ]
  },
  {
   "cell_type": "code",
   "execution_count": 42,
   "metadata": {},
   "outputs": [
    {
     "name": "stdout",
     "output_type": "stream",
     "text": [
      "(28788, 51)\n",
      "(28788,)\n"
     ]
    }
   ],
   "source": [
    "# transform the dataset\n",
    "oversample = SMOTE()\n",
    "X, y = oversample.fit_resample(X, y)\n",
    "print(X.shape)\n",
    "print(y.shape)"
   ]
  },
  {
   "cell_type": "code",
   "execution_count": 43,
   "metadata": {},
   "outputs": [
    {
     "data": {
      "text/plain": [
       "(5758, 51)"
      ]
     },
     "execution_count": 43,
     "metadata": {},
     "output_type": "execute_result"
    }
   ],
   "source": [
    "X_tr, X_ts, y_tr, y_ts = train_test_split(X, y, test_size=0.2, stratify=y)\n",
    "X_ts.shape"
   ]
  },
  {
   "cell_type": "code",
   "execution_count": 44,
   "metadata": {},
   "outputs": [
    {
     "data": {
      "text/plain": [
       "(5758,)"
      ]
     },
     "execution_count": 44,
     "metadata": {},
     "output_type": "execute_result"
    }
   ],
   "source": [
    "X_tr, X_ts, y_tr, y_ts = train_test_split(X, y, test_size=0.2, stratify=y)\n",
    "y_ts.shape"
   ]
  },
  {
   "cell_type": "markdown",
   "metadata": {},
   "source": [
    "Feature Selection"
   ]
  },
  {
   "cell_type": "code",
   "execution_count": 45,
   "metadata": {},
   "outputs": [
    {
     "data": {
      "text/plain": [
       "(28788, 51)"
      ]
     },
     "execution_count": 45,
     "metadata": {},
     "output_type": "execute_result"
    }
   ],
   "source": [
    "X.shape"
   ]
  },
  {
   "cell_type": "code",
   "execution_count": 46,
   "metadata": {},
   "outputs": [
    {
     "data": {
      "text/plain": [
       "(28788, 39)"
      ]
     },
     "execution_count": 46,
     "metadata": {},
     "output_type": "execute_result"
    }
   ],
   "source": [
    "from sklearn.svm import LinearSVC\n",
    "from sklearn.datasets import load_iris\n",
    "from sklearn.feature_selection import SelectFromModel\n",
    "lsvc = LinearSVC(C=0.01, penalty=\"l1\", dual=False).fit(X, y)\n",
    "model = SelectFromModel(lsvc, prefit=True)\n",
    "X_new = model.transform(X)\n",
    "X_new.shape"
   ]
  },
  {
   "cell_type": "code",
   "execution_count": 47,
   "metadata": {},
   "outputs": [
    {
     "data": {
      "text/plain": [
       "(5758, 39)"
      ]
     },
     "execution_count": 47,
     "metadata": {},
     "output_type": "execute_result"
    }
   ],
   "source": [
    "X_tr, X_ts, y_tr, y_ts = train_test_split(X_new, y, test_size=0.2, stratify=y)\n",
    "X_ts.shape"
   ]
  },
  {
   "cell_type": "markdown",
   "metadata": {},
   "source": [
    "Training Model"
   ]
  },
  {
   "cell_type": "code",
   "execution_count": 60,
   "metadata": {},
   "outputs": [],
   "source": [
    "from sklearn.neighbors import KNeighborsClassifier\n",
    "knn=KNeighborsClassifier()\n",
    "nca=NeighborhoodComponentsAnalysis()"
   ]
  },
  {
   "cell_type": "code",
   "execution_count": null,
   "metadata": {},
   "outputs": [],
   "source": [
    "knn=KNeighborsClassifier()\n",
    "knn.fit(X_tr, y_tr)\n",
    "knn_pred=knn.predict(X_ts)\n",
    "print(clf_knn.best_params_, '\\n')\n",
    "print('accuracy: {:.2f}%'.format(accuracy_score(y_ts, preds_knn)*100))\n",
    "\n",
    "print(classification_report(y_ts, preds_knn))\n",
    "confusion_matrix(y_ts,preds_knn)"
   ]
  },
  {
   "cell_type": "code",
   "execution_count": null,
   "metadata": {},
   "outputs": [],
   "source": [
    "from sklearn.metrics import classification_report , accuracy_score , precision_recall_fscore_support\n",
    "scores = []\n",
    "for k in range(1, 101): \n",
    "    knn = KNeighborsClassifier(n_neighbors=k)\n",
    "\n",
    "    knn.fit(X_tr, y_tr)\n",
    "\n",
    "    knn_preds = knn.predict(X_ts)\n",
    "    scores.append(accuracy_score(y_ts, knn_preds))\n",
    "\n",
    "print('accuracy: {:.2f}%'.format(accuracy_score(y_ts, knn_preds)*100))\n",
    "\n",
    "print(classification_report(y_ts, knn_preds))\n",
    "confusion_matrix(y_ts,knn_preds)"
   ]
  },
  {
   "cell_type": "code",
   "execution_count": 105,
   "metadata": {},
   "outputs": [],
   "source": [
    "from sklearn.model_selection import GridSearchCV\n",
    "\n",
    "grid_knn = { 'weights' : ['uniform', 'distance'],\n",
    "            'algorithm' : ['auto', 'ball_tree', 'kd_tree', 'brute'],\n",
    "            'n_neighbors' : [3, 5, 7, 9, 11, 13]}\n",
    "\n",
    "\n",
    "clf_grid_knn = GridSearchCV(knn, grid_knn, cv=2, scoring='accuracy')\n",
    "\n",
    "clf_grid_knn.fit(X_tr, y_tr)\n",
    "\n",
    "preds_knn= clf_grid_knn.predict(X_ts)"
   ]
  },
  {
   "cell_type": "code",
   "execution_count": 106,
   "metadata": {},
   "outputs": [
    {
     "name": "stdout",
     "output_type": "stream",
     "text": [
      "{'algorithm': 'auto', 'n_neighbors': 3, 'weights': 'distance'} \n",
      "\n",
      "accuracy: 88.69%\n",
      "              precision    recall  f1-score   support\n",
      "\n",
      "           0       0.94      0.82      0.88      2879\n",
      "           1       0.84      0.95      0.89      2879\n",
      "\n",
      "    accuracy                           0.89      5758\n",
      "   macro avg       0.89      0.89      0.89      5758\n",
      "weighted avg       0.89      0.89      0.89      5758\n",
      "\n"
     ]
    },
    {
     "data": {
      "text/plain": [
       "array([[2366,  513],\n",
       "       [ 138, 2741]], dtype=int64)"
      ]
     },
     "execution_count": 106,
     "metadata": {},
     "output_type": "execute_result"
    }
   ],
   "source": [
    "from sklearn.metrics import classification_report , accuracy_score , precision_recall_fscore_support\n",
    "accuracy_score(y_ts, preds_knn)\n",
    "print(clf_grid_knn.best_params_, '\\n')\n",
    "print('accuracy: {:.2f}%'.format(accuracy_score(y_ts, preds_knn)*100))\n",
    "\n",
    "print(classification_report(y_ts, preds_knn))\n",
    "confusion_matrix(y_ts,preds_knn)"
   ]
  },
  {
   "cell_type": "code",
   "execution_count": 116,
   "metadata": {},
   "outputs": [
    {
     "name": "stdout",
     "output_type": "stream",
     "text": [
      "{'algorithm': 'auto', 'weights': 'distance'} \n",
      "\n",
      "accuracy: 88.69%\n",
      "              precision    recall  f1-score   support\n",
      "\n",
      "           0       0.94      0.82      0.88      2879\n",
      "           1       0.84      0.95      0.89      2879\n",
      "\n",
      "    accuracy                           0.89      5758\n",
      "   macro avg       0.89      0.89      0.89      5758\n",
      "weighted avg       0.89      0.89      0.89      5758\n",
      "\n"
     ]
    },
    {
     "data": {
      "text/plain": [
       "array([[2366,  513],\n",
       "       [ 138, 2741]], dtype=int64)"
      ]
     },
     "execution_count": 116,
     "metadata": {},
     "output_type": "execute_result"
    }
   ],
   "source": [
    "knn2=KNeighborsClassifier(n_neighbors=3)\n",
    "from sklearn.model_selection import GridSearchCV\n",
    "\n",
    "grid_knn2 = { 'weights' :  ['distance'],\n",
    "            'algorithm' : ['auto'],\n",
    "            }\n",
    "\n",
    "\n",
    "clf_grid_knn2 = GridSearchCV(knn2, grid_knn2, cv=5, scoring='accuracy')\n",
    "\n",
    "clf_grid_knn2.fit(X_tr, y_tr)\n",
    "\n",
    "preds_knn2= clf_grid_knn2.predict(X_ts)\n",
    "\n",
    "from sklearn.metrics import classification_report , accuracy_score , precision_recall_fscore_support\n",
    "accuracy_score(y_ts, preds_knn2)\n",
    "print(clf_grid_knn2.best_params_, '\\n')\n",
    "print('accuracy: {:.2f}%'.format(accuracy_score(y_ts, preds_knn2)*100))\n",
    "\n",
    "print(classification_report(y_ts, preds_knn2))\n",
    "confusion_matrix(y_ts,preds_knn2)"
   ]
  },
  {
   "cell_type": "code",
   "execution_count": null,
   "metadata": {},
   "outputs": [],
   "source": []
  }
 ],
 "metadata": {
  "kernelspec": {
   "display_name": "Python 3",
   "language": "python",
   "name": "python3"
  },
  "language_info": {
   "codemirror_mode": {
    "name": "ipython",
    "version": 3
   },
   "file_extension": ".py",
   "mimetype": "text/x-python",
   "name": "python",
   "nbconvert_exporter": "python",
   "pygments_lexer": "ipython3",
   "version": "3.7.6"
  }
 },
 "nbformat": 4,
 "nbformat_minor": 4
}
