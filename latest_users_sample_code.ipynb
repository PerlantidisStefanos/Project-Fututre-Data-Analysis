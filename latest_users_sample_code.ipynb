{
 "cells": [
  {
   "cell_type": "code",
   "execution_count": 19,
   "metadata": {
    "colab": {},
    "colab_type": "code",
    "id": "gUcXv0RpmeBA"
   },
   "outputs": [],
   "source": [
    "import pandas as pd\n",
    "import numpy as np\n",
    "import matplotlib.pyplot as plt\n",
    "import seaborn as sns"
   ]
  },
  {
   "cell_type": "code",
   "execution_count": 20,
   "metadata": {
    "colab": {},
    "colab_type": "code",
    "id": "OlQChLaJmznk"
   },
   "outputs": [],
   "source": [
    "dev= pd.read_csv('devices.csv')\n",
    "tr1= pd.read_csv('transactions_1.csv')\n",
    "tr2= pd.read_csv('transactions_2.csv')\n",
    "tr3= pd.read_csv('transactions_3.csv')\n",
    "users = pd.read_csv('users.csv')\n",
    "notif = pd.read_csv('notifications.csv')\n",
    "trans= pd.concat([tr1, tr2, tr3])#all transactions in one dataframe"
   ]
  },
  {
   "cell_type": "markdown",
   "metadata": {
    "colab_type": "text",
    "id": "AtlGOtX516_7"
   },
   "source": [
    "#users table"
   ]
  },
  {
   "cell_type": "code",
   "execution_count": 21,
   "metadata": {
    "colab": {},
    "colab_type": "code",
    "id": "S-N_IWGZm3O4"
   },
   "outputs": [],
   "source": [
    "users['brands']=dev['brand']#h sthlh brands apo ta devices is added to users table\n",
    "#ginontai ta unknown stoixeia tyxaia Android, Apple\n",
    "import random\n",
    "def change_unknown_device(brand):\n",
    "  if  brand== 'Unknown':\n",
    "    return random.sample(['Android', 'Apple'], 1)[0]\n",
    "  else:\n",
    "    return brand\n",
    "users['brands']=users['brands'].apply(change_unknown_device)\n"
   ]
  },
  {
   "cell_type": "code",
   "execution_count": 22,
   "metadata": {
    "colab": {},
    "colab_type": "code",
    "id": "A_SESz-bnml0"
   },
   "outputs": [],
   "source": [
    "users['age']=2019 - users['birth_year']#sthlh age anti gia birth_year"
   ]
  },
  {
   "cell_type": "code",
   "execution_count": 23,
   "metadata": {
    "colab": {},
    "colab_type": "code",
    "id": "CriuvYYZnx9J"
   },
   "outputs": [],
   "source": [
    "users['plan']=users['plan'].apply(lambda x: 'PAID' if x!=\"STANDARD\" else x)#h sthlh pairnei pleon standard h paid stoixeia"
   ]
  },
  {
   "cell_type": "code",
   "execution_count": 24,
   "metadata": {},
   "outputs": [],
   "source": [
    "#handling dates in days\n",
    "users.created_date=pd.to_datetime(users.created_date)\n",
    "#users['today']=np.datetime64('2019-06-01')\n",
    "users['account_duration'] = (np.datetime64('2019-06-01') - users['created_date']).dt.days"
   ]
  },
  {
   "cell_type": "code",
   "execution_count": 25,
   "metadata": {
    "colab": {},
    "colab_type": "code",
    "id": "ty8l1G-l0uo0"
   },
   "outputs": [],
   "source": [
    "#users['month']=pd.DatetimeIndex(users['created_date']).month\n",
    "#users['year']=pd.DatetimeIndex(users['created_date']).year\n",
    "#users['duration']=users.apply(lambda x: 18-x['month'] if x['year']==2018 else 6-x['month'], axis=1)"
   ]
  },
  {
   "cell_type": "markdown",
   "metadata": {
    "colab_type": "text",
    "id": "DzWmDvim2AFh"
   },
   "source": [
    "#transactions table\n",
    "-------------------"
   ]
  },
  {
   "cell_type": "code",
   "execution_count": 26,
   "metadata": {
    "colab": {},
    "colab_type": "code",
    "id": "QBtpFLjc1KXD"
   },
   "outputs": [],
   "source": [
    "trans=trans[trans['transactions_state']=='COMPLETED']#kratame mono ta completed transactions"
   ]
  },
  {
   "cell_type": "code",
   "execution_count": 27,
   "metadata": {},
   "outputs": [
    {
     "name": "stderr",
     "output_type": "stream",
     "text": [
      "c:\\users\\thrash\\appdata\\local\\programs\\python\\python37\\lib\\site-packages\\ipykernel_launcher.py:4: SettingWithCopyWarning: \n",
      "A value is trying to be set on a copy of a slice from a DataFrame\n",
      "\n",
      "See the caveats in the documentation: https://pandas.pydata.org/pandas-docs/stable/user_guide/indexing.html#returning-a-view-versus-a-copy\n",
      "  after removing the cwd from sys.path.\n",
      "c:\\users\\thrash\\appdata\\local\\programs\\python\\python37\\lib\\site-packages\\ipykernel_launcher.py:5: SettingWithCopyWarning: \n",
      "A value is trying to be set on a copy of a slice from a DataFrame.\n",
      "Try using .loc[row_indexer,col_indexer] = value instead\n",
      "\n",
      "See the caveats in the documentation: https://pandas.pydata.org/pandas-docs/stable/user_guide/indexing.html#returning-a-view-versus-a-copy\n",
      "  \"\"\"\n",
      "c:\\users\\thrash\\appdata\\local\\programs\\python\\python37\\lib\\site-packages\\ipykernel_launcher.py:6: SettingWithCopyWarning: \n",
      "A value is trying to be set on a copy of a slice from a DataFrame.\n",
      "Try using .loc[row_indexer,col_indexer] = value instead\n",
      "\n",
      "See the caveats in the documentation: https://pandas.pydata.org/pandas-docs/stable/user_guide/indexing.html#returning-a-view-versus-a-copy\n",
      "  \n",
      "c:\\users\\thrash\\appdata\\local\\programs\\python\\python37\\lib\\site-packages\\pandas\\core\\frame.py:3997: SettingWithCopyWarning: \n",
      "A value is trying to be set on a copy of a slice from a DataFrame\n",
      "\n",
      "See the caveats in the documentation: https://pandas.pydata.org/pandas-docs/stable/user_guide/indexing.html#returning-a-view-versus-a-copy\n",
      "  errors=errors,\n"
     ]
    }
   ],
   "source": [
    "#tempo table me hmeromhnies twn transaction \n",
    "#Oi hmeromhnies ypologizontai se meres apo thn 1/6\n",
    "tempo=trans[['user_id','created_date']]\n",
    "tempo.sort_values(['user_id','created_date'],inplace=True)\n",
    "tempo['created_date']=pd.to_datetime(tempo['created_date'])\n",
    "tempo['days_from_transaction']=(np.datetime64('2019-06-01') - tempo['created_date']).dt.days\n",
    "tempo.drop(columns=['created_date'], inplace=True)\n"
   ]
  },
  {
   "cell_type": "code",
   "execution_count": 28,
   "metadata": {},
   "outputs": [
    {
     "data": {
      "text/html": [
       "<div>\n",
       "<style scoped>\n",
       "    .dataframe tbody tr th:only-of-type {\n",
       "        vertical-align: middle;\n",
       "    }\n",
       "\n",
       "    .dataframe tbody tr th {\n",
       "        vertical-align: top;\n",
       "    }\n",
       "\n",
       "    .dataframe thead th {\n",
       "        text-align: right;\n",
       "    }\n",
       "</style>\n",
       "<table border=\"1\" class=\"dataframe\">\n",
       "  <thead>\n",
       "    <tr style=\"text-align: right;\">\n",
       "      <th></th>\n",
       "      <th>unique_days_of_transactions</th>\n",
       "    </tr>\n",
       "    <tr>\n",
       "      <th>user_id</th>\n",
       "      <th></th>\n",
       "    </tr>\n",
       "  </thead>\n",
       "  <tbody>\n",
       "    <tr>\n",
       "      <th>user_0</th>\n",
       "      <td>160</td>\n",
       "    </tr>\n",
       "    <tr>\n",
       "      <th>user_1</th>\n",
       "      <td>69</td>\n",
       "    </tr>\n",
       "    <tr>\n",
       "      <th>user_10</th>\n",
       "      <td>59</td>\n",
       "    </tr>\n",
       "    <tr>\n",
       "      <th>user_100</th>\n",
       "      <td>25</td>\n",
       "    </tr>\n",
       "    <tr>\n",
       "      <th>user_1000</th>\n",
       "      <td>15</td>\n",
       "    </tr>\n",
       "  </tbody>\n",
       "</table>\n",
       "</div>"
      ],
      "text/plain": [
       "           unique_days_of_transactions\n",
       "user_id                               \n",
       "user_0                             160\n",
       "user_1                              69\n",
       "user_10                             59\n",
       "user_100                            25\n",
       "user_1000                           15"
      ]
     },
     "execution_count": 28,
     "metadata": {},
     "output_type": "execute_result"
    }
   ],
   "source": [
    "unique_days_of_trans.head(5)"
   ]
  },
  {
   "cell_type": "code",
   "execution_count": 29,
   "metadata": {},
   "outputs": [],
   "source": [
    "#uni table exei tis unique dates poy exei kanei ka8e user transaction\n",
    "uni = tempo.drop_duplicates([\"user_id\",\"days_from_transaction\"])\n"
   ]
  },
  {
   "cell_type": "code",
   "execution_count": 30,
   "metadata": {},
   "outputs": [],
   "source": [
    "#ypologizontai o mean tvn diaforwn kathe transaction, kai h max diafora transaction gia kathe user\n",
    "mean_period_within_trans=uni.groupby(['user_id']).agg(mean_period_within_transactions=('days_from_transaction', lambda x: x.diff(periods=-1).mean()))\n",
    "max_period_within_trans=uni.groupby(['user_id']).agg(max_period_within_transactions=('days_from_transaction', lambda x: x.diff(periods=-1).max()))\n",
    "       "
   ]
  },
  {
   "cell_type": "code",
   "execution_count": 31,
   "metadata": {},
   "outputs": [],
   "source": [
    "users=pd.merge(users , mean_period_within_trans, how='left', left_on='user_id', right_index=True)"
   ]
  },
  {
   "cell_type": "code",
   "execution_count": 32,
   "metadata": {},
   "outputs": [],
   "source": [
    "users=pd.merge(users , max_period_within_trans, how='left', left_on='user_id', right_index=True)"
   ]
  },
  {
   "cell_type": "code",
   "execution_count": 33,
   "metadata": {},
   "outputs": [],
   "source": [
    "#ypologizetai poses unique dates exei kanei transactions kathe user\n",
    "unique_days_of_trans=tempo.groupby(['user_id']).agg(unique_days_of_transactions=('days_from_transaction', 'nunique'))"
   ]
  },
  {
   "cell_type": "code",
   "execution_count": 34,
   "metadata": {},
   "outputs": [],
   "source": [
    "users=pd.merge(users , unique_days_of_trans, how='left', left_on='user_id', right_index=True)"
   ]
  },
  {
   "cell_type": "code",
   "execution_count": 35,
   "metadata": {},
   "outputs": [],
   "source": [
    "#ypolofizetai to std, var twn dates of transactions gia ka8e user\n",
    "std_var_trans=tempo.groupby('user_id').agg(std_of_transactions=('days_from_transaction','std'),var_of_transactions=('days_from_transaction','var'))\n"
   ]
  },
  {
   "cell_type": "code",
   "execution_count": 36,
   "metadata": {},
   "outputs": [],
   "source": [
    "users=pd.merge(users , std_var_trans, how='left', left_on='user_id', right_index=True)"
   ]
  },
  {
   "cell_type": "code",
   "execution_count": 37,
   "metadata": {
    "colab": {},
    "colab_type": "code",
    "id": "RH8zWu3x1KSL"
   },
   "outputs": [],
   "source": [
    "number_of_trans=pd.DataFrame(trans.user_id.value_counts())#amount of transactions per user\n",
    "number_of_trans.rename(columns={'user_id':'total_amount_of_transactions'},inplace=True)\n",
    "users=pd.merge(users , number_of_trans, how='left', left_on='user_id', right_index=True)#h sthlg amount_of_transactions is joined sto users"
   ]
  },
  {
   "cell_type": "code",
   "execution_count": 38,
   "metadata": {
    "colab": {},
    "colab_type": "code",
    "id": "lo53NR0T6aU4"
   },
   "outputs": [],
   "source": [
    "trans_out=trans[trans['direction']=='OUTBOUND']\n",
    "trans_in=trans[trans['direction']=='INBOUND']"
   ]
  },
  {
   "cell_type": "code",
   "execution_count": 39,
   "metadata": {
    "colab": {},
    "colab_type": "code",
    "id": "v6FDRoax6aYG"
   },
   "outputs": [],
   "source": [
    "usd_per_user_out = pd.pivot_table(data=trans_out,aggfunc=['count','min','max','mean','sum'], index='user_id',  values='amount_usd')\n",
    "usd_per_user_out.columns=['amount_of_transactions_out', 'min_usd_out', 'max_usd_out', 'mean_usd_out', 'sum_usd_out']\n",
    "users=pd.merge(users , usd_per_user_out, how='left', left_on='user_id', right_index=True)"
   ]
  },
  {
   "cell_type": "code",
   "execution_count": 40,
   "metadata": {
    "colab": {},
    "colab_type": "code",
    "id": "cny5PMZU6adl"
   },
   "outputs": [],
   "source": [
    "usd_per_user_in = pd.pivot_table(data=trans_in,aggfunc=['count','min','max','mean','sum'], index='user_id',  values='amount_usd')\n",
    "usd_per_user_in.columns=['amount_of_transactions_in', 'min_usd_in', 'max_usd_in', 'mean_usd_in', 'sum_usd_in']\n",
    "users=pd.merge(users , usd_per_user_in, how='left', left_on='user_id', right_index=True)"
   ]
  },
  {
   "cell_type": "code",
   "execution_count": 41,
   "metadata": {
    "colab": {
     "base_uri": "https://localhost:8080/",
     "height": 216
    },
    "colab_type": "code",
    "id": "cCU7gq2c-oUu",
    "outputId": "5f5e7148-fffb-4130-88bc-15a40facff06"
   },
   "outputs": [],
   "source": [
    "#pd.crosstab(trans.transactions_type, trans.ea_merchant_country)"
   ]
  },
  {
   "cell_type": "code",
   "execution_count": 42,
   "metadata": {
    "colab": {
     "base_uri": "https://localhost:8080/",
     "height": 166
    },
    "colab_type": "code",
    "id": "uDUsNidd_TWH",
    "outputId": "f596721d-c21d-4cc5-d5e3-5a15e0b51ebb"
   },
   "outputs": [],
   "source": [
    "#pd.crosstab(trans.transactions_type, trans.ea_cardholderpresence)"
   ]
  },
  {
   "cell_type": "code",
   "execution_count": 43,
   "metadata": {
    "colab": {},
    "colab_type": "code",
    "id": "HZ97SKf8A_xI"
   },
   "outputs": [],
   "source": [
    "trans_transactions_type_out = pd.crosstab(trans_out['user_id'], columns=trans_out['transactions_type'])\n",
    "trans_transactions_type_in = pd.crosstab(trans_in['user_id'], columns=trans_in['transactions_type'])\n",
    "trans_transactions_type_out.columns=['count_type_atm', 'count_type_card_payment','count_type_exchange','count_type_fee', 'count_type_tax', 'count_type_transfer_out']\n",
    "trans_transactions_type_in.columns=['count_type_card_refund', 'count_type_cashback','count_type_refund','count_type_topup','count_type_transfer_in']"
   ]
  },
  {
   "cell_type": "code",
   "execution_count": 44,
   "metadata": {
    "colab": {},
    "colab_type": "code",
    "id": "6J6tlPHDDbNA"
   },
   "outputs": [],
   "source": [
    "users=pd.merge(users , trans_transactions_type_out, how='left', left_on='user_id', right_index=True)"
   ]
  },
  {
   "cell_type": "code",
   "execution_count": 45,
   "metadata": {
    "colab": {},
    "colab_type": "code",
    "id": "ESdDbEKHCSCu"
   },
   "outputs": [],
   "source": [
    "users=pd.merge(users , trans_transactions_type_in, how='left', left_on='user_id', right_index=True)"
   ]
  },
  {
   "cell_type": "code",
   "execution_count": 46,
   "metadata": {
    "colab": {},
    "colab_type": "code",
    "id": "KDX8aZB-GXzb"
   },
   "outputs": [],
   "source": [
    "#trans['month']=pd.DatetimeIndex(trans['created_date']).month#created month and year as columns\n",
    "#trans['year']=pd.DatetimeIndex(trans['created_date']).year\n"
   ]
  },
  {
   "cell_type": "code",
   "execution_count": 47,
   "metadata": {
    "colab": {},
    "colab_type": "code",
    "id": "oRzgvQesIdKj"
   },
   "outputs": [],
   "source": [
    "trans_sorted=trans.sort_values(['created_date'],ascending=False)#trans is sorted, duplicates user_id entries are removed and remain only latest transactions \n",
    "lasttrans = trans_sorted.drop_duplicates('user_id').sort_index()\n",
    "lasttrans=lasttrans[['user_id','created_date']]"
   ]
  },
  {
   "cell_type": "code",
   "execution_count": 48,
   "metadata": {},
   "outputs": [],
   "source": [
    "#handling dates in days\n",
    "lasttrans['created_date']=pd.to_datetime(lasttrans['created_date'])\n",
    "#lasttrans['today']=np.datetime64('2019-06-01')\n",
    "lasttrans['last_transaction'] = (np.datetime64('2019-06-01') - lasttrans['created_date']).dt.days"
   ]
  },
  {
   "cell_type": "code",
   "execution_count": 49,
   "metadata": {
    "colab": {},
    "colab_type": "code",
    "id": "YddysZCuIwWW"
   },
   "outputs": [],
   "source": [
    "#lasttrans['month']=pd.DatetimeIndex(lasttrans['created_date']).month\n",
    "#lasttrans['year']=pd.DatetimeIndex(lasttrans['created_date']).year\n",
    "#lasttrans['months_from_last_transaction']=lasttrans.apply(lambda x: 17-x['month'] if x['year']==2018 else 5-x['month'], axis=1)"
   ]
  },
  {
   "cell_type": "code",
   "execution_count": 50,
   "metadata": {
    "colab": {},
    "colab_type": "code",
    "id": "bEXa4iuCK7Mm"
   },
   "outputs": [],
   "source": [
    "users=pd.merge(users , lasttrans, how='left', left_on='user_id', right_on='user_id')"
   ]
  },
  {
   "cell_type": "code",
   "execution_count": 51,
   "metadata": {
    "colab": {},
    "colab_type": "code",
    "id": "ZSdmbGTKLcTB"
   },
   "outputs": [],
   "source": [
    "trans_sorted_asc=trans.sort_values(['created_date'],ascending=True)#trans is sorted, duplicates user_id entries are removed and remain only latest transactions \n",
    "firsttrans = trans_sorted_asc.drop_duplicates('user_id').sort_index()\n",
    "firsttrans=firsttrans[['user_id','created_date']]"
   ]
  },
  {
   "cell_type": "code",
   "execution_count": 52,
   "metadata": {},
   "outputs": [],
   "source": [
    "#handling dates in days\n",
    "firsttrans['created_date']=pd.to_datetime(firsttrans['created_date'])\n",
    "#firsttrans['today']=np.datetime64('2019-06-01')\n",
    "firsttrans['first_transaction'] = (np.datetime64('2019-06-01')-firsttrans['created_date']).dt.days"
   ]
  },
  {
   "cell_type": "code",
   "execution_count": 53,
   "metadata": {
    "colab": {},
    "colab_type": "code",
    "id": "zNt_ttCrMq7o"
   },
   "outputs": [],
   "source": [
    "#lasttrans['month']=pd.DatetimeIndex(lasttrans['created_date']).month\n",
    "#lasttrans['year']=pd.DatetimeIndex(lasttrans['created_date']).year\n",
    "#lasttrans['months_from_first_transaction']=lasttrans.apply(lambda x: 18-x['month'] if x['year']==2018 else 6-x['month'], axis=1)"
   ]
  },
  {
   "cell_type": "code",
   "execution_count": 54,
   "metadata": {
    "colab": {},
    "colab_type": "code",
    "id": "KdL6UDuDNAcG"
   },
   "outputs": [],
   "source": [
    "users=pd.merge(users , firsttrans, how='left', left_on='user_id', right_on='user_id')"
   ]
  },
  {
   "cell_type": "code",
   "execution_count": 55,
   "metadata": {},
   "outputs": [
    {
     "data": {
      "text/html": [
       "<div>\n",
       "<style scoped>\n",
       "    .dataframe tbody tr th:only-of-type {\n",
       "        vertical-align: middle;\n",
       "    }\n",
       "\n",
       "    .dataframe tbody tr th {\n",
       "        vertical-align: top;\n",
       "    }\n",
       "\n",
       "    .dataframe thead th {\n",
       "        text-align: right;\n",
       "    }\n",
       "</style>\n",
       "<table border=\"1\" class=\"dataframe\">\n",
       "  <thead>\n",
       "    <tr style=\"text-align: right;\">\n",
       "      <th></th>\n",
       "      <th>user_id</th>\n",
       "      <th>birth_year</th>\n",
       "      <th>country</th>\n",
       "      <th>city</th>\n",
       "      <th>created_date_x</th>\n",
       "      <th>user_settings_crypto_unlocked</th>\n",
       "      <th>plan</th>\n",
       "      <th>attributes_notifications_marketing_push</th>\n",
       "      <th>attributes_notifications_marketing_email</th>\n",
       "      <th>num_contacts</th>\n",
       "      <th>...</th>\n",
       "      <th>count_type_transfer_out</th>\n",
       "      <th>count_type_card_refund</th>\n",
       "      <th>count_type_cashback</th>\n",
       "      <th>count_type_refund</th>\n",
       "      <th>count_type_topup</th>\n",
       "      <th>count_type_transfer_in</th>\n",
       "      <th>created_date_y</th>\n",
       "      <th>last_transaction</th>\n",
       "      <th>created_date</th>\n",
       "      <th>first_transaction</th>\n",
       "    </tr>\n",
       "  </thead>\n",
       "  <tbody>\n",
       "    <tr>\n",
       "      <th>12034</th>\n",
       "      <td>user_12034</td>\n",
       "      <td>1977</td>\n",
       "      <td>HU</td>\n",
       "      <td>Budapest</td>\n",
       "      <td>2018-04-19 18:49:27.079643</td>\n",
       "      <td>0</td>\n",
       "      <td>STANDARD</td>\n",
       "      <td>NaN</td>\n",
       "      <td>NaN</td>\n",
       "      <td>5</td>\n",
       "      <td>...</td>\n",
       "      <td>1.0</td>\n",
       "      <td>0.0</td>\n",
       "      <td>0.0</td>\n",
       "      <td>0.0</td>\n",
       "      <td>4.0</td>\n",
       "      <td>1.0</td>\n",
       "      <td>2019-05-12 07:32:33.284643</td>\n",
       "      <td>19.0</td>\n",
       "      <td>2018-04-19 18:56:08.235643</td>\n",
       "      <td>407.0</td>\n",
       "    </tr>\n",
       "    <tr>\n",
       "      <th>8497</th>\n",
       "      <td>user_8497</td>\n",
       "      <td>1986</td>\n",
       "      <td>GB</td>\n",
       "      <td>Putney, London</td>\n",
       "      <td>2018-05-15 20:26:06.328943</td>\n",
       "      <td>0</td>\n",
       "      <td>STANDARD</td>\n",
       "      <td>NaN</td>\n",
       "      <td>NaN</td>\n",
       "      <td>0</td>\n",
       "      <td>...</td>\n",
       "      <td>0.0</td>\n",
       "      <td>0.0</td>\n",
       "      <td>0.0</td>\n",
       "      <td>0.0</td>\n",
       "      <td>8.0</td>\n",
       "      <td>0.0</td>\n",
       "      <td>2019-03-25 23:24:06.400943</td>\n",
       "      <td>67.0</td>\n",
       "      <td>2018-05-16 00:27:47.895943</td>\n",
       "      <td>380.0</td>\n",
       "    </tr>\n",
       "    <tr>\n",
       "      <th>5080</th>\n",
       "      <td>user_5080</td>\n",
       "      <td>1982</td>\n",
       "      <td>CZ</td>\n",
       "      <td>Nenačovice</td>\n",
       "      <td>2018-05-27 05:41:42.928838</td>\n",
       "      <td>1</td>\n",
       "      <td>STANDARD</td>\n",
       "      <td>1.0</td>\n",
       "      <td>1.0</td>\n",
       "      <td>12</td>\n",
       "      <td>...</td>\n",
       "      <td>0.0</td>\n",
       "      <td>0.0</td>\n",
       "      <td>0.0</td>\n",
       "      <td>0.0</td>\n",
       "      <td>5.0</td>\n",
       "      <td>0.0</td>\n",
       "      <td>2019-04-08 09:23:21.446838</td>\n",
       "      <td>53.0</td>\n",
       "      <td>2018-08-04 10:09:00.265838</td>\n",
       "      <td>300.0</td>\n",
       "    </tr>\n",
       "    <tr>\n",
       "      <th>50</th>\n",
       "      <td>user_50</td>\n",
       "      <td>1987</td>\n",
       "      <td>BE</td>\n",
       "      <td>Soumagne</td>\n",
       "      <td>2018-03-05 17:17:40.162006</td>\n",
       "      <td>0</td>\n",
       "      <td>STANDARD</td>\n",
       "      <td>NaN</td>\n",
       "      <td>NaN</td>\n",
       "      <td>1</td>\n",
       "      <td>...</td>\n",
       "      <td>0.0</td>\n",
       "      <td>1.0</td>\n",
       "      <td>0.0</td>\n",
       "      <td>0.0</td>\n",
       "      <td>1.0</td>\n",
       "      <td>0.0</td>\n",
       "      <td>2018-12-20 12:30:12.970006</td>\n",
       "      <td>162.0</td>\n",
       "      <td>2018-03-09 14:16:13.212006</td>\n",
       "      <td>448.0</td>\n",
       "    </tr>\n",
       "  </tbody>\n",
       "</table>\n",
       "<p>4 rows × 46 columns</p>\n",
       "</div>"
      ],
      "text/plain": [
       "          user_id  birth_year country            city  \\\n",
       "12034  user_12034        1977      HU        Budapest   \n",
       "8497    user_8497        1986      GB  Putney, London   \n",
       "5080    user_5080        1982      CZ      Nenačovice   \n",
       "50        user_50        1987      BE        Soumagne   \n",
       "\n",
       "                  created_date_x  user_settings_crypto_unlocked      plan  \\\n",
       "12034 2018-04-19 18:49:27.079643                              0  STANDARD   \n",
       "8497  2018-05-15 20:26:06.328943                              0  STANDARD   \n",
       "5080  2018-05-27 05:41:42.928838                              1  STANDARD   \n",
       "50    2018-03-05 17:17:40.162006                              0  STANDARD   \n",
       "\n",
       "       attributes_notifications_marketing_push  \\\n",
       "12034                                      NaN   \n",
       "8497                                       NaN   \n",
       "5080                                       1.0   \n",
       "50                                         NaN   \n",
       "\n",
       "       attributes_notifications_marketing_email  num_contacts  ...  \\\n",
       "12034                                       NaN             5  ...   \n",
       "8497                                        NaN             0  ...   \n",
       "5080                                        1.0            12  ...   \n",
       "50                                          NaN             1  ...   \n",
       "\n",
       "       count_type_transfer_out  count_type_card_refund count_type_cashback  \\\n",
       "12034                      1.0                     0.0                 0.0   \n",
       "8497                       0.0                     0.0                 0.0   \n",
       "5080                       0.0                     0.0                 0.0   \n",
       "50                         0.0                     1.0                 0.0   \n",
       "\n",
       "       count_type_refund  count_type_topup  count_type_transfer_in  \\\n",
       "12034                0.0               4.0                     1.0   \n",
       "8497                 0.0               8.0                     0.0   \n",
       "5080                 0.0               5.0                     0.0   \n",
       "50                   0.0               1.0                     0.0   \n",
       "\n",
       "                  created_date_y  last_transaction               created_date  \\\n",
       "12034 2019-05-12 07:32:33.284643              19.0 2018-04-19 18:56:08.235643   \n",
       "8497  2019-03-25 23:24:06.400943              67.0 2018-05-16 00:27:47.895943   \n",
       "5080  2019-04-08 09:23:21.446838              53.0 2018-08-04 10:09:00.265838   \n",
       "50    2018-12-20 12:30:12.970006             162.0 2018-03-09 14:16:13.212006   \n",
       "\n",
       "       first_transaction  \n",
       "12034              407.0  \n",
       "8497               380.0  \n",
       "5080               300.0  \n",
       "50                 448.0  \n",
       "\n",
       "[4 rows x 46 columns]"
      ]
     },
     "execution_count": 55,
     "metadata": {},
     "output_type": "execute_result"
    }
   ],
   "source": [
    "users.sample(4)"
   ]
  },
  {
   "cell_type": "code",
   "execution_count": 56,
   "metadata": {},
   "outputs": [],
   "source": [
    "users['engagement_duration']=users['first_transaction'] - users['last_transaction'] + 1"
   ]
  },
  {
   "cell_type": "code",
   "execution_count": 57,
   "metadata": {},
   "outputs": [
    {
     "data": {
      "text/plain": [
       "Index(['user_id', 'birth_year', 'country', 'city', 'created_date_x',\n",
       "       'user_settings_crypto_unlocked', 'plan',\n",
       "       'attributes_notifications_marketing_push',\n",
       "       'attributes_notifications_marketing_email', 'num_contacts',\n",
       "       'num_referrals', 'num_successful_referrals', 'brands', 'age',\n",
       "       'account_duration', 'mean_period_within_transactions',\n",
       "       'max_period_within_transactions', 'unique_days_of_transactions',\n",
       "       'std_of_transactions', 'var_of_transactions',\n",
       "       'total_amount_of_transactions', 'amount_of_transactions_out',\n",
       "       'min_usd_out', 'max_usd_out', 'mean_usd_out', 'sum_usd_out',\n",
       "       'amount_of_transactions_in', 'min_usd_in', 'max_usd_in', 'mean_usd_in',\n",
       "       'sum_usd_in', 'count_type_atm', 'count_type_card_payment',\n",
       "       'count_type_exchange', 'count_type_fee', 'count_type_tax',\n",
       "       'count_type_transfer_out', 'count_type_card_refund',\n",
       "       'count_type_cashback', 'count_type_refund', 'count_type_topup',\n",
       "       'count_type_transfer_in', 'created_date_y', 'last_transaction',\n",
       "       'created_date', 'first_transaction', 'engagement_duration'],\n",
       "      dtype='object')"
      ]
     },
     "execution_count": 57,
     "metadata": {},
     "output_type": "execute_result"
    }
   ],
   "source": [
    "users.columns"
   ]
  },
  {
   "cell_type": "code",
   "execution_count": 58,
   "metadata": {},
   "outputs": [],
   "source": [
    "users['days_passed_for_first_transaction']= users['account_duration']- users['first_transaction'] "
   ]
  },
  {
   "cell_type": "code",
   "execution_count": 59,
   "metadata": {},
   "outputs": [
    {
     "data": {
      "text/html": [
       "<div>\n",
       "<style scoped>\n",
       "    .dataframe tbody tr th:only-of-type {\n",
       "        vertical-align: middle;\n",
       "    }\n",
       "\n",
       "    .dataframe tbody tr th {\n",
       "        vertical-align: top;\n",
       "    }\n",
       "\n",
       "    .dataframe thead th {\n",
       "        text-align: right;\n",
       "    }\n",
       "</style>\n",
       "<table border=\"1\" class=\"dataframe\">\n",
       "  <thead>\n",
       "    <tr style=\"text-align: right;\">\n",
       "      <th></th>\n",
       "      <th>user_id</th>\n",
       "      <th>birth_year</th>\n",
       "      <th>country</th>\n",
       "      <th>city</th>\n",
       "      <th>created_date_x</th>\n",
       "      <th>user_settings_crypto_unlocked</th>\n",
       "      <th>plan</th>\n",
       "      <th>attributes_notifications_marketing_push</th>\n",
       "      <th>attributes_notifications_marketing_email</th>\n",
       "      <th>num_contacts</th>\n",
       "      <th>...</th>\n",
       "      <th>count_type_cashback</th>\n",
       "      <th>count_type_refund</th>\n",
       "      <th>count_type_topup</th>\n",
       "      <th>count_type_transfer_in</th>\n",
       "      <th>created_date_y</th>\n",
       "      <th>last_transaction</th>\n",
       "      <th>created_date</th>\n",
       "      <th>first_transaction</th>\n",
       "      <th>engagement_duration</th>\n",
       "      <th>days_passed_for_first_transaction</th>\n",
       "    </tr>\n",
       "  </thead>\n",
       "  <tbody>\n",
       "    <tr>\n",
       "      <th>5571</th>\n",
       "      <td>user_5571</td>\n",
       "      <td>1995</td>\n",
       "      <td>GB</td>\n",
       "      <td>Coatbridge</td>\n",
       "      <td>2018-12-17 22:53:40.682116</td>\n",
       "      <td>0</td>\n",
       "      <td>STANDARD</td>\n",
       "      <td>NaN</td>\n",
       "      <td>NaN</td>\n",
       "      <td>0</td>\n",
       "      <td>...</td>\n",
       "      <td>0.0</td>\n",
       "      <td>0.0</td>\n",
       "      <td>2.0</td>\n",
       "      <td>0.0</td>\n",
       "      <td>2019-01-10 21:50:45.603116</td>\n",
       "      <td>141.0</td>\n",
       "      <td>2018-12-17 22:57:28.861116</td>\n",
       "      <td>165.0</td>\n",
       "      <td>25.0</td>\n",
       "      <td>0.0</td>\n",
       "    </tr>\n",
       "  </tbody>\n",
       "</table>\n",
       "<p>1 rows × 48 columns</p>\n",
       "</div>"
      ],
      "text/plain": [
       "        user_id  birth_year country        city             created_date_x  \\\n",
       "5571  user_5571        1995      GB  Coatbridge 2018-12-17 22:53:40.682116   \n",
       "\n",
       "      user_settings_crypto_unlocked      plan  \\\n",
       "5571                              0  STANDARD   \n",
       "\n",
       "      attributes_notifications_marketing_push  \\\n",
       "5571                                      NaN   \n",
       "\n",
       "      attributes_notifications_marketing_email  num_contacts  ...  \\\n",
       "5571                                       NaN             0  ...   \n",
       "\n",
       "      count_type_cashback  count_type_refund count_type_topup  \\\n",
       "5571                  0.0                0.0              2.0   \n",
       "\n",
       "      count_type_transfer_in             created_date_y  last_transaction  \\\n",
       "5571                     0.0 2019-01-10 21:50:45.603116             141.0   \n",
       "\n",
       "                   created_date  first_transaction  engagement_duration  \\\n",
       "5571 2018-12-17 22:57:28.861116              165.0                 25.0   \n",
       "\n",
       "      days_passed_for_first_transaction  \n",
       "5571                                0.0  \n",
       "\n",
       "[1 rows x 48 columns]"
      ]
     },
     "execution_count": 59,
     "metadata": {},
     "output_type": "execute_result"
    }
   ],
   "source": [
    "users.sample()"
   ]
  },
  {
   "cell_type": "code",
   "execution_count": 60,
   "metadata": {
    "colab": {},
    "colab_type": "code",
    "id": "QkuYiRlONULR"
   },
   "outputs": [],
   "source": [
    "users['transactions_frequency']=users['total_amount_of_transactions'] / users['engagement_duration']"
   ]
  },
  {
   "cell_type": "markdown",
   "metadata": {
    "colab_type": "text",
    "id": "9AWCqrVPa8GU"
   },
   "source": [
    "#Notifications\n",
    "________________________________________________________\n"
   ]
  },
  {
   "cell_type": "code",
   "execution_count": 61,
   "metadata": {
    "colab": {},
    "colab_type": "code",
    "id": "ZqRNx5YCbiN7"
   },
   "outputs": [],
   "source": [
    "notif_sent=notif[notif['status']=='SENT']\n"
   ]
  },
  {
   "cell_type": "code",
   "execution_count": 62,
   "metadata": {
    "colab": {},
    "colab_type": "code",
    "id": "GsHE0AJZOrtx"
   },
   "outputs": [],
   "source": [
    "amount_notif_sent=pd.crosstab(notif_sent['user_id'], columns=[notif_sent['channel'],notif_sent['reason']])\n",
    "amount_notif_sent.columns=['_'.join(col).lower() for col in amount_notif_sent.columns.values]"
   ]
  },
  {
   "cell_type": "code",
   "execution_count": 63,
   "metadata": {
    "colab": {},
    "colab_type": "code",
    "id": "1OD9pGGKdltu"
   },
   "outputs": [],
   "source": [
    "users=pd.merge(users, amount_notif_sent, how='left', left_on='user_id', right_index=True)\n"
   ]
  },
  {
   "cell_type": "markdown",
   "metadata": {
    "colab_type": "text",
    "id": "2NK2EKmiDcsA"
   },
   "source": [
    "###notifications table analysis under process"
   ]
  },
  {
   "cell_type": "code",
   "execution_count": 64,
   "metadata": {
    "colab": {},
    "colab_type": "code",
    "id": "ta5rT6ikVVjV"
   },
   "outputs": [],
   "source": [
    "#pd.crosstab(notif['reason'], columns=notif['status'])"
   ]
  },
  {
   "cell_type": "code",
   "execution_count": 65,
   "metadata": {
    "colab": {},
    "colab_type": "code",
    "id": "5p3fqQl7PmFJ"
   },
   "outputs": [],
   "source": [
    "#pd.crosstab(notif['user_id'], columns=[notif['channel'], notif['status'], notif['reason']]).head(5)"
   ]
  },
  {
   "cell_type": "code",
   "execution_count": 66,
   "metadata": {
    "colab": {},
    "colab_type": "code",
    "id": "n8nFZ6iYQZiI"
   },
   "outputs": [],
   "source": [
    "#notif[notif['user_id']=='user_5734'].sort_values('created_date')#Z"
   ]
  },
  {
   "cell_type": "code",
   "execution_count": 67,
   "metadata": {
    "colab": {},
    "colab_type": "code",
    "id": "TOVYUQYMSYDk"
   },
   "outputs": [],
   "source": [
    "#users[users['user_id']=='user_12544']"
   ]
  },
  {
   "cell_type": "code",
   "execution_count": 68,
   "metadata": {
    "colab": {},
    "colab_type": "code",
    "id": "kuRtFgOTYGV3"
   },
   "outputs": [],
   "source": [
    "#=pd.crosstab(notif['user_id'], columns= notif['reason'])\n",
    "#tepm2.sample(5)"
   ]
  },
  {
   "cell_type": "code",
   "execution_count": 69,
   "metadata": {
    "colab": {},
    "colab_type": "code",
    "id": "Ratn6xrtSpNK"
   },
   "outputs": [],
   "source": [
    "#=pd.merge(users, tepm2, left_on='user_id', right_index=True )"
   ]
  },
  {
   "cell_type": "code",
   "execution_count": 70,
   "metadata": {
    "colab": {},
    "colab_type": "code",
    "id": "tA2MXu6aYfFU"
   },
   "outputs": [],
   "source": [
    "#=temp[['plan','BLACK_FRIDAY','BLUE_TUESDAY','ENGAGEMENT_SPLIT_BILL_RESTAURANT','ENGAGEMENT_SPLIT_BILL_RESTAURANT','INVEST_IN_GOLD','JOINING_ANNIVERSARY','LOST_CARD_ORDER','MADE_MONEY_REQUEST_NOT_SPLIT_BILL','METAL_RESERVE_PLAN','NO_INITIAL_CARD_ORDER','NO_INITIAL_CARD_USE','ONBOARDING_TIPS_ACTIVATED_USERS','PROMO','PROMO_CARD_ORDER','REENGAGEMENT_ACTIVE_FUNDS','SILVER_ENGAGEMENT_FEES_SAVED','SILVER_ENGAGEMENT_INACTIVE_CARD','WELCOME_BACK']]"
   ]
  },
  {
   "cell_type": "code",
   "execution_count": 71,
   "metadata": {
    "colab": {},
    "colab_type": "code",
    "id": "ei6TiyNYYq72"
   },
   "outputs": [],
   "source": [
    "#temp[temp['plan']=='PAID'].sample(50)"
   ]
  },
  {
   "cell_type": "markdown",
   "metadata": {
    "colab_type": "text",
    "id": "GClFsA0ODpWm"
   },
   "source": [
    "#Dropping and encoding users table"
   ]
  },
  {
   "cell_type": "code",
   "execution_count": 72,
   "metadata": {
    "colab": {},
    "colab_type": "code",
    "id": "QKnB-_evDv5T"
   },
   "outputs": [],
   "source": [
    "#dropping columns we don't need\n",
    "data=users.drop(columns=['user_id','birth_year','city','created_date_x','attributes_notifications_marketing_push','attributes_notifications_marketing_email','num_referrals','num_successful_referrals','created_date_y','created_date'])\n",
    "\n",
    "\n",
    "#'year_x','month_x','month_y','year_y','month','year'"
   ]
  },
  {
   "cell_type": "code",
   "execution_count": 73,
   "metadata": {},
   "outputs": [
    {
     "data": {
      "text/plain": [
       "Index(['country', 'user_settings_crypto_unlocked', 'plan', 'num_contacts',\n",
       "       'brands', 'age', 'account_duration', 'mean_period_within_transactions',\n",
       "       'max_period_within_transactions', 'unique_days_of_transactions',\n",
       "       'std_of_transactions', 'var_of_transactions',\n",
       "       'total_amount_of_transactions', 'amount_of_transactions_out',\n",
       "       'min_usd_out', 'max_usd_out', 'mean_usd_out', 'sum_usd_out',\n",
       "       'amount_of_transactions_in', 'min_usd_in', 'max_usd_in', 'mean_usd_in',\n",
       "       'sum_usd_in', 'count_type_atm', 'count_type_card_payment',\n",
       "       'count_type_exchange', 'count_type_fee', 'count_type_tax',\n",
       "       'count_type_transfer_out', 'count_type_card_refund',\n",
       "       'count_type_cashback', 'count_type_refund', 'count_type_topup',\n",
       "       'count_type_transfer_in', 'last_transaction', 'first_transaction',\n",
       "       'engagement_duration', 'days_passed_for_first_transaction',\n",
       "       'transactions_frequency', 'email_engagement_split_bill_restaurant',\n",
       "       'email_invest_in_gold', 'email_lost_card_order',\n",
       "       'email_made_money_request_not_split_bill',\n",
       "       'email_no_initial_card_order', 'email_no_initial_card_use',\n",
       "       'email_onboarding_tips_activated_users', 'email_promo',\n",
       "       'email_promo_card_order', 'email_welcome_back', 'push_black_friday',\n",
       "       'push_blue_tuesday', 'push_joining_anniversary', 'push_lost_card_order',\n",
       "       'push_promo', 'push_reengagement_active_funds',\n",
       "       'push_silver_engagement_fees_saved',\n",
       "       'push_silver_engagement_inactive_card', 'sms_metal_reserve_plan',\n",
       "       'sms_reengagement_active_funds'],\n",
       "      dtype='object')"
      ]
     },
     "execution_count": 73,
     "metadata": {},
     "output_type": "execute_result"
    }
   ],
   "source": [
    "data.columns"
   ]
  },
  {
   "cell_type": "code",
   "execution_count": 74,
   "metadata": {
    "colab": {},
    "colab_type": "code",
    "id": "03jrhab6OjM2"
   },
   "outputs": [],
   "source": [
    "data.isnull().sum()# ta nan tha ginoyn 0, afoy einai eite counts eite sum klp,kai \n",
    "datatest=data.fillna(0)#dhmioyrgeitai o datatest gia xrhsh se modela"
   ]
  },
  {
   "cell_type": "code",
   "execution_count": 75,
   "metadata": {
    "colab": {},
    "colab_type": "code",
    "id": "G42ElKbEafjn"
   },
   "outputs": [],
   "source": [
    "#column plan  encoding sto dataset\n",
    "plan_dict = {'STANDARD': 0, 'PAID': 1}\n",
    "datatest['plan'] = datatest.plan.map(plan_dict)\n",
    "\n"
   ]
  },
  {
   "cell_type": "code",
   "execution_count": 76,
   "metadata": {
    "colab": {},
    "colab_type": "code",
    "id": "bPII3HfG2XYC"
   },
   "outputs": [],
   "source": [
    "datatest.drop('country', axis=1, inplace=True)\n",
    "#gia thn wra petaw ta countries mexri na doyme pws ua ta xeiristoume"
   ]
  },
  {
   "cell_type": "code",
   "execution_count": 77,
   "metadata": {
    "colab": {},
    "colab_type": "code",
    "id": "3AQIhbT0uGIC"
   },
   "outputs": [],
   "source": [
    "#column brands encoding sto dataset\n",
    "datatest=pd.get_dummies(datatest)"
   ]
  },
  {
   "cell_type": "code",
   "execution_count": 78,
   "metadata": {
    "colab": {},
    "colab_type": "code",
    "id": "ct2tAst32yHs"
   },
   "outputs": [],
   "source": [
    "#dhmioyrgoyntai oi pinakes pou exw anevasei\n",
    "datatest.to_csv('latest_for_testing.csv',index=False, sep=';')\n",
    "data.to_csv('latest_from_users.csv',index=False, sep=';')\n",
    "users.to_csv('latest_users_feat.csv',index=False, sep=';')"
   ]
  },
  {
   "cell_type": "code",
   "execution_count": 79,
   "metadata": {
    "colab": {},
    "colab_type": "code",
    "id": "OSKRTTdh2yD6"
   },
   "outputs": [
    {
     "data": {
      "text/html": [
       "<div>\n",
       "<style scoped>\n",
       "    .dataframe tbody tr th:only-of-type {\n",
       "        vertical-align: middle;\n",
       "    }\n",
       "\n",
       "    .dataframe tbody tr th {\n",
       "        vertical-align: top;\n",
       "    }\n",
       "\n",
       "    .dataframe thead th {\n",
       "        text-align: right;\n",
       "    }\n",
       "</style>\n",
       "<table border=\"1\" class=\"dataframe\">\n",
       "  <thead>\n",
       "    <tr style=\"text-align: right;\">\n",
       "      <th></th>\n",
       "      <th>user_settings_crypto_unlocked</th>\n",
       "      <th>plan</th>\n",
       "      <th>num_contacts</th>\n",
       "      <th>age</th>\n",
       "      <th>account_duration</th>\n",
       "      <th>mean_period_within_transactions</th>\n",
       "      <th>max_period_within_transactions</th>\n",
       "      <th>unique_days_of_transactions</th>\n",
       "      <th>std_of_transactions</th>\n",
       "      <th>var_of_transactions</th>\n",
       "      <th>...</th>\n",
       "      <th>push_joining_anniversary</th>\n",
       "      <th>push_lost_card_order</th>\n",
       "      <th>push_promo</th>\n",
       "      <th>push_reengagement_active_funds</th>\n",
       "      <th>push_silver_engagement_fees_saved</th>\n",
       "      <th>push_silver_engagement_inactive_card</th>\n",
       "      <th>sms_metal_reserve_plan</th>\n",
       "      <th>sms_reengagement_active_funds</th>\n",
       "      <th>brands_Android</th>\n",
       "      <th>brands_Apple</th>\n",
       "    </tr>\n",
       "  </thead>\n",
       "  <tbody>\n",
       "  </tbody>\n",
       "</table>\n",
       "<p>0 rows × 59 columns</p>\n",
       "</div>"
      ],
      "text/plain": [
       "Empty DataFrame\n",
       "Columns: [user_settings_crypto_unlocked, plan, num_contacts, age, account_duration, mean_period_within_transactions, max_period_within_transactions, unique_days_of_transactions, std_of_transactions, var_of_transactions, total_amount_of_transactions, amount_of_transactions_out, min_usd_out, max_usd_out, mean_usd_out, sum_usd_out, amount_of_transactions_in, min_usd_in, max_usd_in, mean_usd_in, sum_usd_in, count_type_atm, count_type_card_payment, count_type_exchange, count_type_fee, count_type_tax, count_type_transfer_out, count_type_card_refund, count_type_cashback, count_type_refund, count_type_topup, count_type_transfer_in, last_transaction, first_transaction, engagement_duration, days_passed_for_first_transaction, transactions_frequency, email_engagement_split_bill_restaurant, email_invest_in_gold, email_lost_card_order, email_made_money_request_not_split_bill, email_no_initial_card_order, email_no_initial_card_use, email_onboarding_tips_activated_users, email_promo, email_promo_card_order, email_welcome_back, push_black_friday, push_blue_tuesday, push_joining_anniversary, push_lost_card_order, push_promo, push_reengagement_active_funds, push_silver_engagement_fees_saved, push_silver_engagement_inactive_card, sms_metal_reserve_plan, sms_reengagement_active_funds, brands_Android, brands_Apple]\n",
       "Index: []\n",
       "\n",
       "[0 rows x 59 columns]"
      ]
     },
     "execution_count": 79,
     "metadata": {},
     "output_type": "execute_result"
    }
   ],
   "source": [
    "datatest[datatest['transactions_frequency']==np.inf]"
   ]
  },
  {
   "cell_type": "code",
   "execution_count": 81,
   "metadata": {},
   "outputs": [
    {
     "data": {
      "text/html": [
       "<div>\n",
       "<style scoped>\n",
       "    .dataframe tbody tr th:only-of-type {\n",
       "        vertical-align: middle;\n",
       "    }\n",
       "\n",
       "    .dataframe tbody tr th {\n",
       "        vertical-align: top;\n",
       "    }\n",
       "\n",
       "    .dataframe thead th {\n",
       "        text-align: right;\n",
       "    }\n",
       "</style>\n",
       "<table border=\"1\" class=\"dataframe\">\n",
       "  <thead>\n",
       "    <tr style=\"text-align: right;\">\n",
       "      <th></th>\n",
       "      <th>user_settings_crypto_unlocked</th>\n",
       "      <th>plan</th>\n",
       "      <th>num_contacts</th>\n",
       "      <th>age</th>\n",
       "      <th>account_duration</th>\n",
       "      <th>mean_period_within_transactions</th>\n",
       "      <th>max_period_within_transactions</th>\n",
       "      <th>unique_days_of_transactions</th>\n",
       "      <th>std_of_transactions</th>\n",
       "      <th>var_of_transactions</th>\n",
       "      <th>...</th>\n",
       "      <th>push_joining_anniversary</th>\n",
       "      <th>push_lost_card_order</th>\n",
       "      <th>push_promo</th>\n",
       "      <th>push_reengagement_active_funds</th>\n",
       "      <th>push_silver_engagement_fees_saved</th>\n",
       "      <th>push_silver_engagement_inactive_card</th>\n",
       "      <th>sms_metal_reserve_plan</th>\n",
       "      <th>sms_reengagement_active_funds</th>\n",
       "      <th>brands_Android</th>\n",
       "      <th>brands_Apple</th>\n",
       "    </tr>\n",
       "  </thead>\n",
       "  <tbody>\n",
       "    <tr>\n",
       "      <th>0</th>\n",
       "      <td>0</td>\n",
       "      <td>0</td>\n",
       "      <td>3</td>\n",
       "      <td>27</td>\n",
       "      <td>263</td>\n",
       "      <td>1.522013</td>\n",
       "      <td>18.0</td>\n",
       "      <td>160.0</td>\n",
       "      <td>64.059353</td>\n",
       "      <td>4103.600767</td>\n",
       "      <td>...</td>\n",
       "      <td>0.0</td>\n",
       "      <td>0.0</td>\n",
       "      <td>0.0</td>\n",
       "      <td>1.0</td>\n",
       "      <td>0.0</td>\n",
       "      <td>0.0</td>\n",
       "      <td>0.0</td>\n",
       "      <td>0.0</td>\n",
       "      <td>0</td>\n",
       "      <td>1</td>\n",
       "    </tr>\n",
       "    <tr>\n",
       "      <th>1</th>\n",
       "      <td>1</td>\n",
       "      <td>0</td>\n",
       "      <td>75</td>\n",
       "      <td>34</td>\n",
       "      <td>505</td>\n",
       "      <td>6.676471</td>\n",
       "      <td>79.0</td>\n",
       "      <td>69.0</td>\n",
       "      <td>104.200464</td>\n",
       "      <td>10857.736728</td>\n",
       "      <td>...</td>\n",
       "      <td>1.0</td>\n",
       "      <td>0.0</td>\n",
       "      <td>1.0</td>\n",
       "      <td>3.0</td>\n",
       "      <td>0.0</td>\n",
       "      <td>0.0</td>\n",
       "      <td>0.0</td>\n",
       "      <td>0.0</td>\n",
       "      <td>0</td>\n",
       "      <td>1</td>\n",
       "    </tr>\n",
       "    <tr>\n",
       "      <th>2</th>\n",
       "      <td>0</td>\n",
       "      <td>0</td>\n",
       "      <td>71</td>\n",
       "      <td>23</td>\n",
       "      <td>183</td>\n",
       "      <td>2.238095</td>\n",
       "      <td>24.0</td>\n",
       "      <td>64.0</td>\n",
       "      <td>25.899183</td>\n",
       "      <td>670.767664</td>\n",
       "      <td>...</td>\n",
       "      <td>0.0</td>\n",
       "      <td>1.0</td>\n",
       "      <td>1.0</td>\n",
       "      <td>1.0</td>\n",
       "      <td>0.0</td>\n",
       "      <td>0.0</td>\n",
       "      <td>0.0</td>\n",
       "      <td>0.0</td>\n",
       "      <td>0</td>\n",
       "      <td>1</td>\n",
       "    </tr>\n",
       "    <tr>\n",
       "      <th>3</th>\n",
       "      <td>0</td>\n",
       "      <td>0</td>\n",
       "      <td>219</td>\n",
       "      <td>38</td>\n",
       "      <td>468</td>\n",
       "      <td>5.544304</td>\n",
       "      <td>104.0</td>\n",
       "      <td>80.0</td>\n",
       "      <td>104.476260</td>\n",
       "      <td>10915.289003</td>\n",
       "      <td>...</td>\n",
       "      <td>1.0</td>\n",
       "      <td>0.0</td>\n",
       "      <td>0.0</td>\n",
       "      <td>5.0</td>\n",
       "      <td>0.0</td>\n",
       "      <td>0.0</td>\n",
       "      <td>0.0</td>\n",
       "      <td>0.0</td>\n",
       "      <td>0</td>\n",
       "      <td>1</td>\n",
       "    </tr>\n",
       "    <tr>\n",
       "      <th>4</th>\n",
       "      <td>0</td>\n",
       "      <td>0</td>\n",
       "      <td>0</td>\n",
       "      <td>27</td>\n",
       "      <td>508</td>\n",
       "      <td>9.484848</td>\n",
       "      <td>71.0</td>\n",
       "      <td>34.0</td>\n",
       "      <td>66.093345</td>\n",
       "      <td>4368.330204</td>\n",
       "      <td>...</td>\n",
       "      <td>0.0</td>\n",
       "      <td>0.0</td>\n",
       "      <td>1.0</td>\n",
       "      <td>3.0</td>\n",
       "      <td>0.0</td>\n",
       "      <td>0.0</td>\n",
       "      <td>0.0</td>\n",
       "      <td>0.0</td>\n",
       "      <td>0</td>\n",
       "      <td>1</td>\n",
       "    </tr>\n",
       "  </tbody>\n",
       "</table>\n",
       "<p>5 rows × 59 columns</p>\n",
       "</div>"
      ],
      "text/plain": [
       "   user_settings_crypto_unlocked  plan  num_contacts  age  account_duration  \\\n",
       "0                              0     0             3   27               263   \n",
       "1                              1     0            75   34               505   \n",
       "2                              0     0            71   23               183   \n",
       "3                              0     0           219   38               468   \n",
       "4                              0     0             0   27               508   \n",
       "\n",
       "   mean_period_within_transactions  max_period_within_transactions  \\\n",
       "0                         1.522013                            18.0   \n",
       "1                         6.676471                            79.0   \n",
       "2                         2.238095                            24.0   \n",
       "3                         5.544304                           104.0   \n",
       "4                         9.484848                            71.0   \n",
       "\n",
       "   unique_days_of_transactions  std_of_transactions  var_of_transactions  ...  \\\n",
       "0                        160.0            64.059353          4103.600767  ...   \n",
       "1                         69.0           104.200464         10857.736728  ...   \n",
       "2                         64.0            25.899183           670.767664  ...   \n",
       "3                         80.0           104.476260         10915.289003  ...   \n",
       "4                         34.0            66.093345          4368.330204  ...   \n",
       "\n",
       "   push_joining_anniversary  push_lost_card_order  push_promo  \\\n",
       "0                       0.0                   0.0         0.0   \n",
       "1                       1.0                   0.0         1.0   \n",
       "2                       0.0                   1.0         1.0   \n",
       "3                       1.0                   0.0         0.0   \n",
       "4                       0.0                   0.0         1.0   \n",
       "\n",
       "   push_reengagement_active_funds  push_silver_engagement_fees_saved  \\\n",
       "0                             1.0                                0.0   \n",
       "1                             3.0                                0.0   \n",
       "2                             1.0                                0.0   \n",
       "3                             5.0                                0.0   \n",
       "4                             3.0                                0.0   \n",
       "\n",
       "   push_silver_engagement_inactive_card  sms_metal_reserve_plan  \\\n",
       "0                                   0.0                     0.0   \n",
       "1                                   0.0                     0.0   \n",
       "2                                   0.0                     0.0   \n",
       "3                                   0.0                     0.0   \n",
       "4                                   0.0                     0.0   \n",
       "\n",
       "   sms_reengagement_active_funds  brands_Android  brands_Apple  \n",
       "0                            0.0               0             1  \n",
       "1                            0.0               0             1  \n",
       "2                            0.0               0             1  \n",
       "3                            0.0               0             1  \n",
       "4                            0.0               0             1  \n",
       "\n",
       "[5 rows x 59 columns]"
      ]
     },
     "execution_count": 81,
     "metadata": {},
     "output_type": "execute_result"
    }
   ],
   "source": [
    "datatest.head()"
   ]
  },
  {
   "cell_type": "code",
   "execution_count": 80,
   "metadata": {
    "colab": {},
    "colab_type": "code",
    "id": "0-VfLZxqhETk"
   },
   "outputs": [],
   "source": [
    "#dhmioyrgia X, y pinakwn gia na etoimasia toy train_test_split\n",
    "#X = us_1_en.drop(columns=['plan']).values\n",
    "#X_columns = us_1_en.drop(columns=['plan']).columns\n",
    "#y = us_1_en['plan'].values"
   ]
  }
 ],
 "metadata": {
  "colab": {
   "collapsed_sections": [
    "2NK2EKmiDcsA"
   ],
   "name": "Users_first_sample.ipynb",
   "provenance": []
  },
  "kernelspec": {
   "display_name": "Python 3",
   "language": "python",
   "name": "python3"
  },
  "language_info": {
   "codemirror_mode": {
    "name": "ipython",
    "version": 3
   },
   "file_extension": ".py",
   "mimetype": "text/x-python",
   "name": "python",
   "nbconvert_exporter": "python",
   "pygments_lexer": "ipython3",
   "version": "3.7.7"
  }
 },
 "nbformat": 4,
 "nbformat_minor": 1
}
