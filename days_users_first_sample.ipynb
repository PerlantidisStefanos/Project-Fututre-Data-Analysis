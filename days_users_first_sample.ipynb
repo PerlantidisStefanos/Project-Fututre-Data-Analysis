{
 "cells": [
  {
   "cell_type": "code",
   "execution_count": 53,
   "metadata": {
    "colab": {},
    "colab_type": "code",
    "id": "gUcXv0RpmeBA"
   },
   "outputs": [],
   "source": [
    "import pandas as pd\n",
    "import numpy as np\n",
    "import matplotlib.pyplot as plt\n",
    "import seaborn as sns"
   ]
  },
  {
   "cell_type": "code",
   "execution_count": 54,
   "metadata": {
    "colab": {},
    "colab_type": "code",
    "id": "OlQChLaJmznk"
   },
   "outputs": [],
   "source": [
    "dev= pd.read_csv('devices.csv')\n",
    "tr1= pd.read_csv('transactions_1.csv')\n",
    "tr2= pd.read_csv('transactions_2.csv')\n",
    "tr3= pd.read_csv('transactions_3.csv')\n",
    "users = pd.read_csv('users.csv')\n",
    "notif = pd.read_csv('notifications.csv')\n",
    "trans= pd.concat([tr1, tr2, tr3])#all transactions in one dataframe"
   ]
  },
  {
   "cell_type": "markdown",
   "metadata": {
    "colab_type": "text",
    "id": "AtlGOtX516_7"
   },
   "source": [
    "#users table"
   ]
  },
  {
   "cell_type": "code",
   "execution_count": 55,
   "metadata": {
    "colab": {},
    "colab_type": "code",
    "id": "S-N_IWGZm3O4"
   },
   "outputs": [],
   "source": [
    "users['brands']=dev['brand']#h sthlh brands apo ta devices is added to users table\n",
    "#ginontai ta unknown stoixeia tyxaia Android, Apple\n",
    "import random\n",
    "def change_unknown_device(brand):\n",
    "  if  brand== 'Unknown':\n",
    "    return random.sample(['Android', 'Apple'], 1)[0]\n",
    "  else:\n",
    "    return brand\n",
    "users['brands']=users['brands'].apply(change_unknown_device)\n"
   ]
  },
  {
   "cell_type": "code",
   "execution_count": 56,
   "metadata": {
    "colab": {},
    "colab_type": "code",
    "id": "A_SESz-bnml0"
   },
   "outputs": [],
   "source": [
    "users['age']=2019 - users['birth_year']#sthlh age anti gia birth_year"
   ]
  },
  {
   "cell_type": "code",
   "execution_count": 57,
   "metadata": {
    "colab": {},
    "colab_type": "code",
    "id": "CriuvYYZnx9J"
   },
   "outputs": [],
   "source": [
    "users['plan']=users['plan'].apply(lambda x: 'PAID' if x!=\"STANDARD\" else x)#h sthlh pairnei pleon standard h paid stoixeia"
   ]
  },
  {
   "cell_type": "code",
   "execution_count": 58,
   "metadata": {},
   "outputs": [],
   "source": [
    "#handling dates in days\n",
    "users.created_date=pd.to_datetime(users.created_date)\n",
    "#users['today']=np.datetime64('2019-06-01')\n",
    "users['accound_duration'] = (np.datetime64('2019-06-01') - users['created_date']).dt.days"
   ]
  },
  {
   "cell_type": "code",
   "execution_count": 59,
   "metadata": {
    "colab": {},
    "colab_type": "code",
    "id": "ty8l1G-l0uo0"
   },
   "outputs": [],
   "source": [
    "#users['month']=pd.DatetimeIndex(users['created_date']).month\n",
    "#users['year']=pd.DatetimeIndex(users['created_date']).year\n",
    "#users['duration']=users.apply(lambda x: 18-x['month'] if x['year']==2018 else 6-x['month'], axis=1)"
   ]
  },
  {
   "cell_type": "markdown",
   "metadata": {
    "colab_type": "text",
    "id": "DzWmDvim2AFh"
   },
   "source": [
    "#transactions table\n",
    "-------------------"
   ]
  },
  {
   "cell_type": "code",
   "execution_count": 60,
   "metadata": {
    "colab": {},
    "colab_type": "code",
    "id": "QBtpFLjc1KXD"
   },
   "outputs": [],
   "source": [
    "trans=trans[trans['transactions_state']=='COMPLETED']#kratame mono ta completed transactions"
   ]
  },
  {
   "cell_type": "code",
   "execution_count": 61,
   "metadata": {
    "colab": {},
    "colab_type": "code",
    "id": "RH8zWu3x1KSL"
   },
   "outputs": [],
   "source": [
    "number_of_trans=pd.DataFrame(trans.user_id.value_counts())#amount of transactions per user\n",
    "number_of_trans.rename(columns={'user_id':'total_amount_of_transactions'},inplace=True)\n",
    "users=pd.merge(users , number_of_trans, how='left', left_on='user_id', right_index=True)#h sthlg amount_of_transactions is joined sto users"
   ]
  },
  {
   "cell_type": "code",
   "execution_count": 62,
   "metadata": {
    "colab": {},
    "colab_type": "code",
    "id": "lo53NR0T6aU4"
   },
   "outputs": [],
   "source": [
    "trans_out=trans[trans['direction']=='OUTBOUND']\n",
    "trans_in=trans[trans['direction']=='INBOUND']"
   ]
  },
  {
   "cell_type": "code",
   "execution_count": 63,
   "metadata": {
    "colab": {},
    "colab_type": "code",
    "id": "v6FDRoax6aYG"
   },
   "outputs": [],
   "source": [
    "usd_per_user_out = pd.pivot_table(data=trans_out,aggfunc=['count','min','max','mean','sum'], index='user_id',  values='amount_usd')\n",
    "usd_per_user_out.columns=['amount_of_transactions_out', 'min_usd_out', 'max_usd_out', 'mean_usd_out', 'sum_usd_out']\n",
    "users=pd.merge(users , usd_per_user_out, how='left', left_on='user_id', right_index=True)"
   ]
  },
  {
   "cell_type": "code",
   "execution_count": 64,
   "metadata": {
    "colab": {},
    "colab_type": "code",
    "id": "cny5PMZU6adl"
   },
   "outputs": [],
   "source": [
    "usd_per_user_in = pd.pivot_table(data=trans_in,aggfunc=['count','min','max','mean','sum'], index='user_id',  values='amount_usd')\n",
    "usd_per_user_in.columns=['amount_of_transactions_in', 'min_usd_in', 'max_usd_in', 'mean_usd_in', 'sum_usd_in']\n",
    "users=pd.merge(users , usd_per_user_in, how='left', left_on='user_id', right_index=True)"
   ]
  },
  {
   "cell_type": "code",
   "execution_count": 65,
   "metadata": {
    "colab": {
     "base_uri": "https://localhost:8080/",
     "height": 216
    },
    "colab_type": "code",
    "id": "cCU7gq2c-oUu",
    "outputId": "5f5e7148-fffb-4130-88bc-15a40facff06"
   },
   "outputs": [],
   "source": [
    "#pd.crosstab(trans.transactions_type, trans.ea_merchant_country)"
   ]
  },
  {
   "cell_type": "code",
   "execution_count": 66,
   "metadata": {
    "colab": {
     "base_uri": "https://localhost:8080/",
     "height": 166
    },
    "colab_type": "code",
    "id": "uDUsNidd_TWH",
    "outputId": "f596721d-c21d-4cc5-d5e3-5a15e0b51ebb"
   },
   "outputs": [],
   "source": [
    "#pd.crosstab(trans.transactions_type, trans.ea_cardholderpresence)"
   ]
  },
  {
   "cell_type": "code",
   "execution_count": 67,
   "metadata": {
    "colab": {},
    "colab_type": "code",
    "id": "HZ97SKf8A_xI"
   },
   "outputs": [],
   "source": [
    "trans_transactions_type_out = pd.crosstab(trans_out['user_id'], columns=trans_out['transactions_type'])\n",
    "trans_transactions_type_in = pd.crosstab(trans_in['user_id'], columns=trans_in['transactions_type'])\n",
    "trans_transactions_type_out.columns=['count_type_atm', 'count_type_card_payment','count_type_exchange','count_type_fee', 'count_type_tax', 'count_type_transfer_out']\n",
    "trans_transactions_type_in.columns=['count_type_card_refund', 'count_type_cashback','count_type_refund','count_type_topup','count_type_transfer_in']"
   ]
  },
  {
   "cell_type": "code",
   "execution_count": 68,
   "metadata": {
    "colab": {},
    "colab_type": "code",
    "id": "6J6tlPHDDbNA"
   },
   "outputs": [],
   "source": [
    "users=pd.merge(users , trans_transactions_type_out, how='left', left_on='user_id', right_index=True)"
   ]
  },
  {
   "cell_type": "code",
   "execution_count": 69,
   "metadata": {
    "colab": {},
    "colab_type": "code",
    "id": "ESdDbEKHCSCu"
   },
   "outputs": [],
   "source": [
    "users=pd.merge(users , trans_transactions_type_in, how='left', left_on='user_id', right_index=True)"
   ]
  },
  {
   "cell_type": "code",
   "execution_count": 70,
   "metadata": {
    "colab": {},
    "colab_type": "code",
    "id": "KDX8aZB-GXzb"
   },
   "outputs": [],
   "source": [
    "#trans['month']=pd.DatetimeIndex(trans['created_date']).month#created month and year as columns\n",
    "#trans['year']=pd.DatetimeIndex(trans['created_date']).year\n"
   ]
  },
  {
   "cell_type": "code",
   "execution_count": 71,
   "metadata": {
    "colab": {},
    "colab_type": "code",
    "id": "oRzgvQesIdKj"
   },
   "outputs": [],
   "source": [
    "trans_sorted=trans.sort_values(['created_date'],ascending=False)#trans is sorted, duplicates user_id entries are removed and remain only latest transactions \n",
    "lasttrans = trans_sorted.drop_duplicates('user_id').sort_index()\n",
    "lasttrans=lasttrans[['user_id','created_date']]"
   ]
  },
  {
   "cell_type": "code",
   "execution_count": 72,
   "metadata": {},
   "outputs": [],
   "source": [
    "#handling dates in days\n",
    "lasttrans['created_date']=pd.to_datetime(lasttrans['created_date'])\n",
    "#lasttrans['today']=np.datetime64('2019-06-01')\n",
    "lasttrans['last_transaction'] = (np.datetime64('2019-06-01') - lasttrans['created_date']).dt.days"
   ]
  },
  {
   "cell_type": "code",
   "execution_count": 73,
   "metadata": {
    "colab": {},
    "colab_type": "code",
    "id": "YddysZCuIwWW"
   },
   "outputs": [],
   "source": [
    "#lasttrans['month']=pd.DatetimeIndex(lasttrans['created_date']).month\n",
    "#lasttrans['year']=pd.DatetimeIndex(lasttrans['created_date']).year\n",
    "#lasttrans['months_from_last_transaction']=lasttrans.apply(lambda x: 17-x['month'] if x['year']==2018 else 5-x['month'], axis=1)"
   ]
  },
  {
   "cell_type": "code",
   "execution_count": 74,
   "metadata": {
    "colab": {},
    "colab_type": "code",
    "id": "bEXa4iuCK7Mm"
   },
   "outputs": [],
   "source": [
    "users=pd.merge(users , lasttrans, how='left', left_on='user_id', right_on='user_id')"
   ]
  },
  {
   "cell_type": "code",
   "execution_count": 75,
   "metadata": {
    "colab": {},
    "colab_type": "code",
    "id": "ZSdmbGTKLcTB"
   },
   "outputs": [],
   "source": [
    "trans_sorted_asc=trans.sort_values(['created_date'],ascending=True)#trans is sorted, duplicates user_id entries are removed and remain only latest transactions \n",
    "firsttrans = trans_sorted_asc.drop_duplicates('user_id').sort_index()\n",
    "firsttrans=firsttrans[['user_id','created_date']]"
   ]
  },
  {
   "cell_type": "code",
   "execution_count": 76,
   "metadata": {},
   "outputs": [],
   "source": [
    "#handling dates in days\n",
    "firsttrans['created_date']=pd.to_datetime(firsttrans['created_date'])\n",
    "#firsttrans['today']=np.datetime64('2019-06-01')\n",
    "firsttrans['first_transaction'] = (np.datetime64('2019-06-01')-firsttrans['created_date']).dt.days"
   ]
  },
  {
   "cell_type": "code",
   "execution_count": 77,
   "metadata": {
    "colab": {},
    "colab_type": "code",
    "id": "zNt_ttCrMq7o"
   },
   "outputs": [],
   "source": [
    "#lasttrans['month']=pd.DatetimeIndex(lasttrans['created_date']).month\n",
    "#lasttrans['year']=pd.DatetimeIndex(lasttrans['created_date']).year\n",
    "#lasttrans['months_from_first_transaction']=lasttrans.apply(lambda x: 18-x['month'] if x['year']==2018 else 6-x['month'], axis=1)"
   ]
  },
  {
   "cell_type": "code",
   "execution_count": 78,
   "metadata": {
    "colab": {},
    "colab_type": "code",
    "id": "KdL6UDuDNAcG"
   },
   "outputs": [],
   "source": [
    "users=pd.merge(users , firsttrans, how='left', left_on='user_id', right_on='user_id')"
   ]
  },
  {
   "cell_type": "code",
   "execution_count": 79,
   "metadata": {},
   "outputs": [
    {
     "data": {
      "text/html": [
       "<div>\n",
       "<style scoped>\n",
       "    .dataframe tbody tr th:only-of-type {\n",
       "        vertical-align: middle;\n",
       "    }\n",
       "\n",
       "    .dataframe tbody tr th {\n",
       "        vertical-align: top;\n",
       "    }\n",
       "\n",
       "    .dataframe thead th {\n",
       "        text-align: right;\n",
       "    }\n",
       "</style>\n",
       "<table border=\"1\" class=\"dataframe\">\n",
       "  <thead>\n",
       "    <tr style=\"text-align: right;\">\n",
       "      <th></th>\n",
       "      <th>user_id</th>\n",
       "      <th>birth_year</th>\n",
       "      <th>country</th>\n",
       "      <th>city</th>\n",
       "      <th>created_date_x</th>\n",
       "      <th>user_settings_crypto_unlocked</th>\n",
       "      <th>plan</th>\n",
       "      <th>attributes_notifications_marketing_push</th>\n",
       "      <th>attributes_notifications_marketing_email</th>\n",
       "      <th>num_contacts</th>\n",
       "      <th>...</th>\n",
       "      <th>count_type_transfer_out</th>\n",
       "      <th>count_type_card_refund</th>\n",
       "      <th>count_type_cashback</th>\n",
       "      <th>count_type_refund</th>\n",
       "      <th>count_type_topup</th>\n",
       "      <th>count_type_transfer_in</th>\n",
       "      <th>created_date_y</th>\n",
       "      <th>last_transaction</th>\n",
       "      <th>created_date</th>\n",
       "      <th>first_transaction</th>\n",
       "    </tr>\n",
       "  </thead>\n",
       "  <tbody>\n",
       "    <tr>\n",
       "      <th>11710</th>\n",
       "      <td>user_11710</td>\n",
       "      <td>1974</td>\n",
       "      <td>GB</td>\n",
       "      <td>Linlithgow</td>\n",
       "      <td>2018-09-21 23:08:50.564972</td>\n",
       "      <td>0</td>\n",
       "      <td>STANDARD</td>\n",
       "      <td>1.0</td>\n",
       "      <td>1.0</td>\n",
       "      <td>19</td>\n",
       "      <td>...</td>\n",
       "      <td>NaN</td>\n",
       "      <td>0.0</td>\n",
       "      <td>0.0</td>\n",
       "      <td>0.0</td>\n",
       "      <td>1.0</td>\n",
       "      <td>0.0</td>\n",
       "      <td>2018-09-21 23:14:56.100972</td>\n",
       "      <td>252.0</td>\n",
       "      <td>2018-09-21 23:14:56.100972</td>\n",
       "      <td>252.0</td>\n",
       "    </tr>\n",
       "    <tr>\n",
       "      <th>7281</th>\n",
       "      <td>user_7281</td>\n",
       "      <td>1999</td>\n",
       "      <td>CZ</td>\n",
       "      <td>České Meziříčí</td>\n",
       "      <td>2018-08-31 18:26:47.995709</td>\n",
       "      <td>1</td>\n",
       "      <td>STANDARD</td>\n",
       "      <td>1.0</td>\n",
       "      <td>0.0</td>\n",
       "      <td>3</td>\n",
       "      <td>...</td>\n",
       "      <td>NaN</td>\n",
       "      <td>NaN</td>\n",
       "      <td>NaN</td>\n",
       "      <td>NaN</td>\n",
       "      <td>NaN</td>\n",
       "      <td>NaN</td>\n",
       "      <td>NaT</td>\n",
       "      <td>NaN</td>\n",
       "      <td>NaT</td>\n",
       "      <td>NaN</td>\n",
       "    </tr>\n",
       "    <tr>\n",
       "      <th>4772</th>\n",
       "      <td>user_4772</td>\n",
       "      <td>1999</td>\n",
       "      <td>IE</td>\n",
       "      <td>Mountmellick</td>\n",
       "      <td>2018-08-25 10:56:08.124710</td>\n",
       "      <td>0</td>\n",
       "      <td>STANDARD</td>\n",
       "      <td>1.0</td>\n",
       "      <td>1.0</td>\n",
       "      <td>0</td>\n",
       "      <td>...</td>\n",
       "      <td>8.0</td>\n",
       "      <td>0.0</td>\n",
       "      <td>0.0</td>\n",
       "      <td>0.0</td>\n",
       "      <td>0.0</td>\n",
       "      <td>4.0</td>\n",
       "      <td>2019-03-26 07:27:40.520710</td>\n",
       "      <td>66.0</td>\n",
       "      <td>2018-09-12 02:56:40.637710</td>\n",
       "      <td>261.0</td>\n",
       "    </tr>\n",
       "    <tr>\n",
       "      <th>4237</th>\n",
       "      <td>user_4237</td>\n",
       "      <td>1995</td>\n",
       "      <td>RO</td>\n",
       "      <td>Galati</td>\n",
       "      <td>2018-10-18 18:16:32.747989</td>\n",
       "      <td>0</td>\n",
       "      <td>STANDARD</td>\n",
       "      <td>NaN</td>\n",
       "      <td>NaN</td>\n",
       "      <td>43</td>\n",
       "      <td>...</td>\n",
       "      <td>10.0</td>\n",
       "      <td>1.0</td>\n",
       "      <td>0.0</td>\n",
       "      <td>0.0</td>\n",
       "      <td>4.0</td>\n",
       "      <td>7.0</td>\n",
       "      <td>2019-05-11 20:07:35.542989</td>\n",
       "      <td>20.0</td>\n",
       "      <td>2018-10-18 18:22:54.794989</td>\n",
       "      <td>225.0</td>\n",
       "    </tr>\n",
       "  </tbody>\n",
       "</table>\n",
       "<p>4 rows × 41 columns</p>\n",
       "</div>"
      ],
      "text/plain": [
       "          user_id  birth_year country            city  \\\n",
       "11710  user_11710        1974      GB      Linlithgow   \n",
       "7281    user_7281        1999      CZ  České Meziříčí   \n",
       "4772    user_4772        1999      IE    Mountmellick   \n",
       "4237    user_4237        1995      RO          Galati   \n",
       "\n",
       "                  created_date_x  user_settings_crypto_unlocked      plan  \\\n",
       "11710 2018-09-21 23:08:50.564972                              0  STANDARD   \n",
       "7281  2018-08-31 18:26:47.995709                              1  STANDARD   \n",
       "4772  2018-08-25 10:56:08.124710                              0  STANDARD   \n",
       "4237  2018-10-18 18:16:32.747989                              0  STANDARD   \n",
       "\n",
       "       attributes_notifications_marketing_push  \\\n",
       "11710                                      1.0   \n",
       "7281                                       1.0   \n",
       "4772                                       1.0   \n",
       "4237                                       NaN   \n",
       "\n",
       "       attributes_notifications_marketing_email  num_contacts  ...  \\\n",
       "11710                                       1.0            19  ...   \n",
       "7281                                        0.0             3  ...   \n",
       "4772                                        1.0             0  ...   \n",
       "4237                                        NaN            43  ...   \n",
       "\n",
       "       count_type_transfer_out  count_type_card_refund count_type_cashback  \\\n",
       "11710                      NaN                     0.0                 0.0   \n",
       "7281                       NaN                     NaN                 NaN   \n",
       "4772                       8.0                     0.0                 0.0   \n",
       "4237                      10.0                     1.0                 0.0   \n",
       "\n",
       "       count_type_refund  count_type_topup  count_type_transfer_in  \\\n",
       "11710                0.0               1.0                     0.0   \n",
       "7281                 NaN               NaN                     NaN   \n",
       "4772                 0.0               0.0                     4.0   \n",
       "4237                 0.0               4.0                     7.0   \n",
       "\n",
       "                  created_date_y  last_transaction               created_date  \\\n",
       "11710 2018-09-21 23:14:56.100972             252.0 2018-09-21 23:14:56.100972   \n",
       "7281                         NaT               NaN                        NaT   \n",
       "4772  2019-03-26 07:27:40.520710              66.0 2018-09-12 02:56:40.637710   \n",
       "4237  2019-05-11 20:07:35.542989              20.0 2018-10-18 18:22:54.794989   \n",
       "\n",
       "       first_transaction  \n",
       "11710              252.0  \n",
       "7281                 NaN  \n",
       "4772               261.0  \n",
       "4237               225.0  \n",
       "\n",
       "[4 rows x 41 columns]"
      ]
     },
     "execution_count": 79,
     "metadata": {},
     "output_type": "execute_result"
    }
   ],
   "source": [
    "users.sample(4)"
   ]
  },
  {
   "cell_type": "code",
   "execution_count": 80,
   "metadata": {},
   "outputs": [],
   "source": [
    "users['engagement_duration']=users['first_transaction'] - users['last_transaction'] + 1"
   ]
  },
  {
   "cell_type": "code",
   "execution_count": 81,
   "metadata": {},
   "outputs": [
    {
     "data": {
      "text/plain": [
       "Index(['user_id', 'birth_year', 'country', 'city', 'created_date_x',\n",
       "       'user_settings_crypto_unlocked', 'plan',\n",
       "       'attributes_notifications_marketing_push',\n",
       "       'attributes_notifications_marketing_email', 'num_contacts',\n",
       "       'num_referrals', 'num_successful_referrals', 'brands', 'age',\n",
       "       'accound_duration', 'total_amount_of_transactions',\n",
       "       'amount_of_transactions_out', 'min_usd_out', 'max_usd_out',\n",
       "       'mean_usd_out', 'sum_usd_out', 'amount_of_transactions_in',\n",
       "       'min_usd_in', 'max_usd_in', 'mean_usd_in', 'sum_usd_in',\n",
       "       'count_type_atm', 'count_type_card_payment', 'count_type_exchange',\n",
       "       'count_type_fee', 'count_type_tax', 'count_type_transfer_out',\n",
       "       'count_type_card_refund', 'count_type_cashback', 'count_type_refund',\n",
       "       'count_type_topup', 'count_type_transfer_in', 'created_date_y',\n",
       "       'last_transaction', 'created_date', 'first_transaction',\n",
       "       'engagement_duration'],\n",
       "      dtype='object')"
      ]
     },
     "execution_count": 81,
     "metadata": {},
     "output_type": "execute_result"
    }
   ],
   "source": [
    "users.columns"
   ]
  },
  {
   "cell_type": "code",
   "execution_count": 82,
   "metadata": {},
   "outputs": [],
   "source": [
    "users['days_passed_for_first_transaction']= users['accound_duration']- users['first_transaction'] "
   ]
  },
  {
   "cell_type": "code",
   "execution_count": 83,
   "metadata": {},
   "outputs": [
    {
     "data": {
      "text/html": [
       "<div>\n",
       "<style scoped>\n",
       "    .dataframe tbody tr th:only-of-type {\n",
       "        vertical-align: middle;\n",
       "    }\n",
       "\n",
       "    .dataframe tbody tr th {\n",
       "        vertical-align: top;\n",
       "    }\n",
       "\n",
       "    .dataframe thead th {\n",
       "        text-align: right;\n",
       "    }\n",
       "</style>\n",
       "<table border=\"1\" class=\"dataframe\">\n",
       "  <thead>\n",
       "    <tr style=\"text-align: right;\">\n",
       "      <th></th>\n",
       "      <th>user_id</th>\n",
       "      <th>birth_year</th>\n",
       "      <th>country</th>\n",
       "      <th>city</th>\n",
       "      <th>created_date_x</th>\n",
       "      <th>user_settings_crypto_unlocked</th>\n",
       "      <th>plan</th>\n",
       "      <th>attributes_notifications_marketing_push</th>\n",
       "      <th>attributes_notifications_marketing_email</th>\n",
       "      <th>num_contacts</th>\n",
       "      <th>...</th>\n",
       "      <th>count_type_cashback</th>\n",
       "      <th>count_type_refund</th>\n",
       "      <th>count_type_topup</th>\n",
       "      <th>count_type_transfer_in</th>\n",
       "      <th>created_date_y</th>\n",
       "      <th>last_transaction</th>\n",
       "      <th>created_date</th>\n",
       "      <th>first_transaction</th>\n",
       "      <th>engagement_duration</th>\n",
       "      <th>days_passed_for_first_transaction</th>\n",
       "    </tr>\n",
       "  </thead>\n",
       "  <tbody>\n",
       "    <tr>\n",
       "      <th>14917</th>\n",
       "      <td>user_14917</td>\n",
       "      <td>1982</td>\n",
       "      <td>IE</td>\n",
       "      <td>Arklow</td>\n",
       "      <td>2018-08-27 13:20:35.629112</td>\n",
       "      <td>0</td>\n",
       "      <td>STANDARD</td>\n",
       "      <td>1.0</td>\n",
       "      <td>1.0</td>\n",
       "      <td>134</td>\n",
       "      <td>...</td>\n",
       "      <td>NaN</td>\n",
       "      <td>NaN</td>\n",
       "      <td>NaN</td>\n",
       "      <td>NaN</td>\n",
       "      <td>2019-03-26 07:20:34.375112</td>\n",
       "      <td>66.0</td>\n",
       "      <td>2019-03-04 11:05:57.443112</td>\n",
       "      <td>88.0</td>\n",
       "      <td>23.0</td>\n",
       "      <td>189.0</td>\n",
       "    </tr>\n",
       "  </tbody>\n",
       "</table>\n",
       "<p>1 rows × 43 columns</p>\n",
       "</div>"
      ],
      "text/plain": [
       "          user_id  birth_year country    city             created_date_x  \\\n",
       "14917  user_14917        1982      IE  Arklow 2018-08-27 13:20:35.629112   \n",
       "\n",
       "       user_settings_crypto_unlocked      plan  \\\n",
       "14917                              0  STANDARD   \n",
       "\n",
       "       attributes_notifications_marketing_push  \\\n",
       "14917                                      1.0   \n",
       "\n",
       "       attributes_notifications_marketing_email  num_contacts  ...  \\\n",
       "14917                                       1.0           134  ...   \n",
       "\n",
       "       count_type_cashback  count_type_refund count_type_topup  \\\n",
       "14917                  NaN                NaN              NaN   \n",
       "\n",
       "       count_type_transfer_in             created_date_y  last_transaction  \\\n",
       "14917                     NaN 2019-03-26 07:20:34.375112              66.0   \n",
       "\n",
       "                    created_date  first_transaction  engagement_duration  \\\n",
       "14917 2019-03-04 11:05:57.443112               88.0                 23.0   \n",
       "\n",
       "       days_passed_for_first_transaction  \n",
       "14917                              189.0  \n",
       "\n",
       "[1 rows x 43 columns]"
      ]
     },
     "execution_count": 83,
     "metadata": {},
     "output_type": "execute_result"
    }
   ],
   "source": [
    "users.sample()"
   ]
  },
  {
   "cell_type": "code",
   "execution_count": 84,
   "metadata": {
    "colab": {},
    "colab_type": "code",
    "id": "QkuYiRlONULR"
   },
   "outputs": [],
   "source": [
    "users['transactions_frequency']=users['total_amount_of_transactions'] / users['engagement_duration']"
   ]
  },
  {
   "cell_type": "markdown",
   "metadata": {
    "colab_type": "text",
    "id": "9AWCqrVPa8GU"
   },
   "source": [
    "#Notifications\n",
    "________________________________________________________\n"
   ]
  },
  {
   "cell_type": "code",
   "execution_count": 85,
   "metadata": {
    "colab": {},
    "colab_type": "code",
    "id": "ZqRNx5YCbiN7"
   },
   "outputs": [],
   "source": [
    "notif_sent=notif[notif['status']=='SENT']\n"
   ]
  },
  {
   "cell_type": "code",
   "execution_count": 86,
   "metadata": {
    "colab": {},
    "colab_type": "code",
    "id": "GsHE0AJZOrtx"
   },
   "outputs": [],
   "source": [
    "amount_notif_sent=pd.crosstab(notif_sent['user_id'], columns=[notif_sent['channel'],notif_sent['reason']])\n",
    "amount_notif_sent.columns=['_'.join(col).lower() for col in amount_notif_sent.columns.values]"
   ]
  },
  {
   "cell_type": "code",
   "execution_count": 87,
   "metadata": {
    "colab": {},
    "colab_type": "code",
    "id": "1OD9pGGKdltu"
   },
   "outputs": [],
   "source": [
    "users=pd.merge(users, amount_notif_sent, how='left', left_on='user_id', right_index=True)\n"
   ]
  },
  {
   "cell_type": "markdown",
   "metadata": {
    "colab_type": "text",
    "id": "2NK2EKmiDcsA"
   },
   "source": [
    "###notifications table analysis under process"
   ]
  },
  {
   "cell_type": "code",
   "execution_count": 88,
   "metadata": {
    "colab": {},
    "colab_type": "code",
    "id": "ta5rT6ikVVjV"
   },
   "outputs": [],
   "source": [
    "#pd.crosstab(notif['reason'], columns=notif['status'])"
   ]
  },
  {
   "cell_type": "code",
   "execution_count": 89,
   "metadata": {
    "colab": {},
    "colab_type": "code",
    "id": "5p3fqQl7PmFJ"
   },
   "outputs": [],
   "source": [
    "#pd.crosstab(notif['user_id'], columns=[notif['channel'], notif['status'], notif['reason']]).head(5)"
   ]
  },
  {
   "cell_type": "code",
   "execution_count": 90,
   "metadata": {
    "colab": {},
    "colab_type": "code",
    "id": "n8nFZ6iYQZiI"
   },
   "outputs": [],
   "source": [
    "#notif[notif['user_id']=='user_5734'].sort_values('created_date')#Z"
   ]
  },
  {
   "cell_type": "code",
   "execution_count": 91,
   "metadata": {
    "colab": {},
    "colab_type": "code",
    "id": "TOVYUQYMSYDk"
   },
   "outputs": [],
   "source": [
    "#users[users['user_id']=='user_12544']"
   ]
  },
  {
   "cell_type": "code",
   "execution_count": 92,
   "metadata": {
    "colab": {},
    "colab_type": "code",
    "id": "kuRtFgOTYGV3"
   },
   "outputs": [],
   "source": [
    "#=pd.crosstab(notif['user_id'], columns= notif['reason'])\n",
    "#tepm2.sample(5)"
   ]
  },
  {
   "cell_type": "code",
   "execution_count": 93,
   "metadata": {
    "colab": {},
    "colab_type": "code",
    "id": "Ratn6xrtSpNK"
   },
   "outputs": [],
   "source": [
    "#=pd.merge(users, tepm2, left_on='user_id', right_index=True )"
   ]
  },
  {
   "cell_type": "code",
   "execution_count": 94,
   "metadata": {
    "colab": {},
    "colab_type": "code",
    "id": "tA2MXu6aYfFU"
   },
   "outputs": [],
   "source": [
    "#=temp[['plan','BLACK_FRIDAY','BLUE_TUESDAY','ENGAGEMENT_SPLIT_BILL_RESTAURANT','ENGAGEMENT_SPLIT_BILL_RESTAURANT','INVEST_IN_GOLD','JOINING_ANNIVERSARY','LOST_CARD_ORDER','MADE_MONEY_REQUEST_NOT_SPLIT_BILL','METAL_RESERVE_PLAN','NO_INITIAL_CARD_ORDER','NO_INITIAL_CARD_USE','ONBOARDING_TIPS_ACTIVATED_USERS','PROMO','PROMO_CARD_ORDER','REENGAGEMENT_ACTIVE_FUNDS','SILVER_ENGAGEMENT_FEES_SAVED','SILVER_ENGAGEMENT_INACTIVE_CARD','WELCOME_BACK']]"
   ]
  },
  {
   "cell_type": "code",
   "execution_count": 95,
   "metadata": {
    "colab": {},
    "colab_type": "code",
    "id": "ei6TiyNYYq72"
   },
   "outputs": [],
   "source": [
    "#temp[temp['plan']=='PAID'].sample(50)"
   ]
  },
  {
   "cell_type": "code",
   "execution_count": null,
   "metadata": {
    "colab": {},
    "colab_type": "code",
    "id": "vfWWEV7PZuyw"
   },
   "outputs": [],
   "source": []
  },
  {
   "cell_type": "markdown",
   "metadata": {
    "colab_type": "text",
    "id": "GClFsA0ODpWm"
   },
   "source": [
    "#Dropping and encoding users table"
   ]
  },
  {
   "cell_type": "code",
   "execution_count": 96,
   "metadata": {
    "colab": {},
    "colab_type": "code",
    "id": "QKnB-_evDv5T"
   },
   "outputs": [],
   "source": [
    "#dropping columns we don't need\n",
    "data=users.drop(columns=['user_id','birth_year','city','created_date_x','attributes_notifications_marketing_push','attributes_notifications_marketing_email','num_referrals','num_successful_referrals','created_date_y','created_date'])\n",
    "\n",
    "\n",
    "#'year_x','month_x','month_y','year_y','month','year'"
   ]
  },
  {
   "cell_type": "code",
   "execution_count": 97,
   "metadata": {},
   "outputs": [
    {
     "data": {
      "text/plain": [
       "Index(['country', 'user_settings_crypto_unlocked', 'plan', 'num_contacts',\n",
       "       'brands', 'age', 'accound_duration', 'total_amount_of_transactions',\n",
       "       'amount_of_transactions_out', 'min_usd_out', 'max_usd_out',\n",
       "       'mean_usd_out', 'sum_usd_out', 'amount_of_transactions_in',\n",
       "       'min_usd_in', 'max_usd_in', 'mean_usd_in', 'sum_usd_in',\n",
       "       'count_type_atm', 'count_type_card_payment', 'count_type_exchange',\n",
       "       'count_type_fee', 'count_type_tax', 'count_type_transfer_out',\n",
       "       'count_type_card_refund', 'count_type_cashback', 'count_type_refund',\n",
       "       'count_type_topup', 'count_type_transfer_in', 'last_transaction',\n",
       "       'first_transaction', 'engagement_duration',\n",
       "       'days_passed_for_first_transaction', 'transactions_frequency',\n",
       "       'email_engagement_split_bill_restaurant', 'email_invest_in_gold',\n",
       "       'email_lost_card_order', 'email_made_money_request_not_split_bill',\n",
       "       'email_no_initial_card_order', 'email_no_initial_card_use',\n",
       "       'email_onboarding_tips_activated_users', 'email_promo',\n",
       "       'email_promo_card_order', 'email_welcome_back', 'push_black_friday',\n",
       "       'push_blue_tuesday', 'push_joining_anniversary', 'push_lost_card_order',\n",
       "       'push_promo', 'push_reengagement_active_funds',\n",
       "       'push_silver_engagement_fees_saved',\n",
       "       'push_silver_engagement_inactive_card', 'sms_metal_reserve_plan',\n",
       "       'sms_reengagement_active_funds'],\n",
       "      dtype='object')"
      ]
     },
     "execution_count": 97,
     "metadata": {},
     "output_type": "execute_result"
    }
   ],
   "source": [
    "data.columns"
   ]
  },
  {
   "cell_type": "code",
   "execution_count": 98,
   "metadata": {
    "colab": {},
    "colab_type": "code",
    "id": "03jrhab6OjM2"
   },
   "outputs": [],
   "source": [
    "data.isnull().sum()# ta nan tha ginoyn 0, afoy einai eite counts eite sum klp,kai \n",
    "datatest=data.fillna(0)#dhmioyrgeitai o datatest gia xrhsh se modela"
   ]
  },
  {
   "cell_type": "code",
   "execution_count": 99,
   "metadata": {
    "colab": {},
    "colab_type": "code",
    "id": "G42ElKbEafjn"
   },
   "outputs": [],
   "source": [
    "#column plan  encoding sto dataset\n",
    "plan_dict = {'STANDARD': 0, 'PAID': 1}\n",
    "datatest['plan'] = datatest.plan.map(plan_dict)\n",
    "\n"
   ]
  },
  {
   "cell_type": "code",
   "execution_count": 100,
   "metadata": {
    "colab": {},
    "colab_type": "code",
    "id": "bPII3HfG2XYC"
   },
   "outputs": [],
   "source": [
    "datatest.drop('country', axis=1, inplace=True)\n",
    "#gia thn wra petaw ta countries mexri na doyme pws ua ta xeiristoume"
   ]
  },
  {
   "cell_type": "code",
   "execution_count": 101,
   "metadata": {
    "colab": {},
    "colab_type": "code",
    "id": "3AQIhbT0uGIC"
   },
   "outputs": [],
   "source": [
    "#column brands encoding sto dataset\n",
    "datatest=pd.get_dummies(datatest)"
   ]
  },
  {
   "cell_type": "code",
   "execution_count": 105,
   "metadata": {
    "colab": {},
    "colab_type": "code",
    "id": "ct2tAst32yHs"
   },
   "outputs": [],
   "source": [
    "#dhmioyrgoyntai oi pinakes pou exw anevasei\n",
    "datatest.to_csv('days_for_testing.csv',index=False, sep=';')\n",
    "data.to_csv('days_from_users.csv',index=False, sep=';')\n",
    "users.to_csv('days_users_feat.csv',index=False, sep=';')"
   ]
  },
  {
   "cell_type": "code",
   "execution_count": 103,
   "metadata": {
    "colab": {},
    "colab_type": "code",
    "id": "OSKRTTdh2yD6"
   },
   "outputs": [
    {
     "data": {
      "text/html": [
       "<div>\n",
       "<style scoped>\n",
       "    .dataframe tbody tr th:only-of-type {\n",
       "        vertical-align: middle;\n",
       "    }\n",
       "\n",
       "    .dataframe tbody tr th {\n",
       "        vertical-align: top;\n",
       "    }\n",
       "\n",
       "    .dataframe thead th {\n",
       "        text-align: right;\n",
       "    }\n",
       "</style>\n",
       "<table border=\"1\" class=\"dataframe\">\n",
       "  <thead>\n",
       "    <tr style=\"text-align: right;\">\n",
       "      <th></th>\n",
       "      <th>user_settings_crypto_unlocked</th>\n",
       "      <th>plan</th>\n",
       "      <th>num_contacts</th>\n",
       "      <th>age</th>\n",
       "      <th>accound_duration</th>\n",
       "      <th>total_amount_of_transactions</th>\n",
       "      <th>amount_of_transactions_out</th>\n",
       "      <th>min_usd_out</th>\n",
       "      <th>max_usd_out</th>\n",
       "      <th>mean_usd_out</th>\n",
       "      <th>...</th>\n",
       "      <th>push_joining_anniversary</th>\n",
       "      <th>push_lost_card_order</th>\n",
       "      <th>push_promo</th>\n",
       "      <th>push_reengagement_active_funds</th>\n",
       "      <th>push_silver_engagement_fees_saved</th>\n",
       "      <th>push_silver_engagement_inactive_card</th>\n",
       "      <th>sms_metal_reserve_plan</th>\n",
       "      <th>sms_reengagement_active_funds</th>\n",
       "      <th>brands_Android</th>\n",
       "      <th>brands_Apple</th>\n",
       "    </tr>\n",
       "  </thead>\n",
       "  <tbody>\n",
       "  </tbody>\n",
       "</table>\n",
       "<p>0 rows × 54 columns</p>\n",
       "</div>"
      ],
      "text/plain": [
       "Empty DataFrame\n",
       "Columns: [user_settings_crypto_unlocked, plan, num_contacts, age, accound_duration, total_amount_of_transactions, amount_of_transactions_out, min_usd_out, max_usd_out, mean_usd_out, sum_usd_out, amount_of_transactions_in, min_usd_in, max_usd_in, mean_usd_in, sum_usd_in, count_type_atm, count_type_card_payment, count_type_exchange, count_type_fee, count_type_tax, count_type_transfer_out, count_type_card_refund, count_type_cashback, count_type_refund, count_type_topup, count_type_transfer_in, last_transaction, first_transaction, engagement_duration, days_passed_for_first_transaction, transactions_frequency, email_engagement_split_bill_restaurant, email_invest_in_gold, email_lost_card_order, email_made_money_request_not_split_bill, email_no_initial_card_order, email_no_initial_card_use, email_onboarding_tips_activated_users, email_promo, email_promo_card_order, email_welcome_back, push_black_friday, push_blue_tuesday, push_joining_anniversary, push_lost_card_order, push_promo, push_reengagement_active_funds, push_silver_engagement_fees_saved, push_silver_engagement_inactive_card, sms_metal_reserve_plan, sms_reengagement_active_funds, brands_Android, brands_Apple]\n",
       "Index: []\n",
       "\n",
       "[0 rows x 54 columns]"
      ]
     },
     "execution_count": 103,
     "metadata": {},
     "output_type": "execute_result"
    }
   ],
   "source": [
    "datatest[datatest['transactions_frequency']==np.inf]"
   ]
  },
  {
   "cell_type": "code",
   "execution_count": null,
   "metadata": {
    "colab": {},
    "colab_type": "code",
    "id": "-W0pcCF02x9_"
   },
   "outputs": [],
   "source": []
  },
  {
   "cell_type": "code",
   "execution_count": null,
   "metadata": {
    "colab": {},
    "colab_type": "code",
    "id": "SaHBLsXd2x5M"
   },
   "outputs": [],
   "source": []
  },
  {
   "cell_type": "code",
   "execution_count": 104,
   "metadata": {
    "colab": {},
    "colab_type": "code",
    "id": "0-VfLZxqhETk"
   },
   "outputs": [],
   "source": [
    "#dhmioyrgia X, y pinakwn gia na etoimasia toy train_test_split\n",
    "#X = us_1_en.drop(columns=['plan']).values\n",
    "#X_columns = us_1_en.drop(columns=['plan']).columns\n",
    "#y = us_1_en['plan'].values"
   ]
  }
 ],
 "metadata": {
  "colab": {
   "collapsed_sections": [
    "2NK2EKmiDcsA"
   ],
   "name": "Users_first_sample.ipynb",
   "provenance": []
  },
  "kernelspec": {
   "display_name": "Python 3",
   "language": "python",
   "name": "python3"
  },
  "language_info": {
   "codemirror_mode": {
    "name": "ipython",
    "version": 3
   },
   "file_extension": ".py",
   "mimetype": "text/x-python",
   "name": "python",
   "nbconvert_exporter": "python",
   "pygments_lexer": "ipython3",
   "version": "3.7.7"
  }
 },
 "nbformat": 4,
 "nbformat_minor": 1
}
